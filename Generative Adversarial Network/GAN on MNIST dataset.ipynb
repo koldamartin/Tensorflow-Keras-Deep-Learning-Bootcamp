{
 "cells":[
  {
   "cell_type":"code",
   "source":[
    "import numpy as np\n",
    "import pandas as pd\n",
    "import matplotlib.pyplot as plt"
   ],
   "execution_count":115,
   "outputs":[
    
   ],
   "metadata":{
    "datalore":{
     "node_id":"Ps6vPAPzfcNgBGkagSl3hp",
     "type":"CODE",
     "hide_input_from_viewers":true,
     "hide_output_from_viewers":true
    }
   }
  },
  {
   "cell_type":"code",
   "source":[
    "from tensorflow.keras.datasets import mnist"
   ],
   "execution_count":116,
   "outputs":[
    
   ],
   "metadata":{
    "datalore":{
     "node_id":"ua6EJ3ngtEzzsrQDZTgEBX",
     "type":"CODE",
     "hide_input_from_viewers":true,
     "hide_output_from_viewers":true
    }
   }
  },
  {
   "cell_type":"markdown",
   "source":[
    "# Loading Data"
   ],
   "attachments":{
    
   },
   "metadata":{
    "datalore":{
     "node_id":"lXDxWHxplpzSfJOw09AMrd",
     "type":"MD",
     "hide_input_from_viewers":true,
     "hide_output_from_viewers":true
    }
   }
  },
  {
   "cell_type":"code",
   "source":[
    "(X_train, y_train), (X_test, y_test) = mnist.load_data()"
   ],
   "execution_count":117,
   "outputs":[
    
   ],
   "metadata":{
    "datalore":{
     "node_id":"hkwxS2dVN5Z6anIj59A3gs",
     "type":"CODE",
     "hide_input_from_viewers":true,
     "hide_output_from_viewers":true
    }
   }
  },
  {
   "cell_type":"code",
   "source":[
    "plt.imshow(X_train[1])\n",
    "plt.show()"
   ],
   "execution_count":118,
   "outputs":[
    {
     "data":{
      "text\/plain":[
       "<Figure size 432x288 with 1 Axes>"
      ]
     },
     "metadata":{
      
     },
     "output_type":"display_data"
    }
   ],
   "metadata":{
    "datalore":{
     "node_id":"ClAjTZ7AOaUqHnCbdSJ9P8",
     "type":"CODE",
     "hide_input_from_viewers":true,
     "hide_output_from_viewers":true
    }
   }
  },
  {
   "cell_type":"code",
   "source":[
    "y_train[1]"
   ],
   "execution_count":119,
   "outputs":[
    {
     "data":{
      "text\/plain":[
       "0"
      ]
     },
     "metadata":{
      
     },
     "output_type":"display_data"
    }
   ],
   "metadata":{
    "datalore":{
     "node_id":"JgTLrdXicixGUabA9B0Bbf",
     "type":"CODE",
     "hide_input_from_viewers":true,
     "hide_output_from_viewers":true
    }
   }
  },
  {
   "cell_type":"code",
   "source":[
    "only_zeroes = X_train[y_train==0]\n",
    "only_zeroes.shape"
   ],
   "execution_count":120,
   "outputs":[
    {
     "data":{
      "text\/plain":[
       "(5923, 28, 28)"
      ]
     },
     "metadata":{
      
     },
     "output_type":"display_data"
    }
   ],
   "metadata":{
    "datalore":{
     "node_id":"GlucZtSEvGaAN6RsJG3Kyt",
     "type":"CODE",
     "hide_input_from_viewers":true,
     "hide_output_from_viewers":true
    }
   }
  },
  {
   "cell_type":"code",
   "source":[
    "X_train.shape"
   ],
   "execution_count":121,
   "outputs":[
    {
     "data":{
      "text\/plain":[
       "(60000, 28, 28)"
      ]
     },
     "metadata":{
      
     },
     "output_type":"display_data"
    }
   ],
   "metadata":{
    "datalore":{
     "node_id":"0JfQnkfrgzO9Erc9nFcb22",
     "type":"CODE",
     "hide_input_from_viewers":true,
     "hide_output_from_viewers":true
    }
   }
  },
  {
   "cell_type":"code",
   "source":[
    "print(plt.imshow(only_zeroes[14]))"
   ],
   "execution_count":122,
   "outputs":[
    {
     "name":"stdout",
     "text":[
      "AxesImage(size=(28, 28))\n"
     ],
     "output_type":"stream"
    },
    {
     "data":{
      "text\/plain":[
       "<Figure size 432x288 with 1 Axes>"
      ]
     },
     "metadata":{
      
     },
     "output_type":"display_data"
    }
   ],
   "metadata":{
    "datalore":{
     "node_id":"9YSVaJpBZTijqKlT7KApxI",
     "type":"CODE",
     "hide_input_from_viewers":true,
     "hide_output_from_viewers":true
    }
   }
  },
  {
   "cell_type":"markdown",
   "source":[
    "# Creating the Model"
   ],
   "attachments":{
    
   },
   "metadata":{
    "datalore":{
     "node_id":"3DRnEAtsNjinkZioN6dJIJ",
     "type":"MD",
     "hide_input_from_viewers":true,
     "hide_output_from_viewers":true
    }
   }
  },
  {
   "cell_type":"code",
   "source":[
    "import tensorflow as tf\n",
    "from tensorflow.keras.layers import Dense, Reshape, Flatten\n",
    "from tensorflow.keras.models import Sequential"
   ],
   "execution_count":123,
   "outputs":[
    
   ],
   "metadata":{
    "datalore":{
     "node_id":"GDG9TcKkqfRu5UfocjM1il",
     "type":"CODE",
     "hide_input_from_viewers":true,
     "hide_output_from_viewers":true
    }
   }
  },
  {
   "cell_type":"code",
   "source":[
    "# Creating discriminator, it tells what is real and what is fake (binary classifier)\n",
    "\n",
    "discriminator = Sequential()\n",
    "discriminator.add(Flatten(input_shape=[28,28]))\n",
    "discriminator.add(Dense(150,activation='relu'))\n",
    "discriminator.add(Dense(100,activation='relu'))\n",
    "# Final output layer\n",
    "discriminator.add(Dense(1,activation='sigmoid'))\n",
    "\n",
    "discriminator.compile(loss='binary_crossentropy', optimizer='adam')"
   ],
   "execution_count":124,
   "outputs":[
    
   ],
   "metadata":{
    "datalore":{
     "node_id":"LtLURNlgn3jM3xZPTABmlh",
     "type":"CODE",
     "hide_input_from_viewers":true,
     "hide_output_from_viewers":true
    }
   }
  },
  {
   "cell_type":"code",
   "source":[
    "# Creating Generator (similar to decoder)\n",
    "codings_size = 100 # Should be lot less than original dataset, in this case it is 28x28=784\n",
    "\n",
    "generator = Sequential()\n",
    "generator.add(Dense(100, activation='relu', input_shape=[codings_size]))\n",
    "generator.add(Dense(150, activation='relu'))\n",
    "generator.add(Dense(784, activation='relu'))\n",
    "generator.add(Reshape([28,28]))\n",
    "\n",
    "# generator is not compiled, because it is trained through full GAN model"
   ],
   "execution_count":125,
   "outputs":[
    
   ],
   "metadata":{
    "datalore":{
     "node_id":"2ew4maZhqxGlfnn8IcZLso",
     "type":"CODE",
     "hide_input_from_viewers":true,
     "hide_output_from_viewers":true
    }
   }
  },
  {
   "cell_type":"code",
   "source":[
    "GAN = Sequential([generator,discriminator])"
   ],
   "execution_count":126,
   "outputs":[
    
   ],
   "metadata":{
    "datalore":{
     "node_id":"Xhh4X8wW2BNWjg7T8KSVvp",
     "type":"CODE",
     "hide_input_from_viewers":true,
     "hide_output_from_viewers":true
    }
   }
  },
  {
   "cell_type":"code",
   "source":[
    "discriminator.trainable=False # In the second phase it must not be trained"
   ],
   "execution_count":127,
   "outputs":[
    
   ],
   "metadata":{
    "datalore":{
     "node_id":"Y32eWXKjGYpOCEx6aFiqnJ",
     "type":"CODE",
     "hide_input_from_viewers":true,
     "hide_output_from_viewers":true
    }
   }
  },
  {
   "cell_type":"code",
   "source":[
    "GAN.compile(loss='binary_crossentropy', optimizer='adam')"
   ],
   "execution_count":128,
   "outputs":[
    
   ],
   "metadata":{
    "datalore":{
     "node_id":"zNoxMH06zLx40yfwJwJfTY",
     "type":"CODE",
     "hide_input_from_viewers":true,
     "hide_output_from_viewers":true
    }
   }
  },
  {
   "cell_type":"markdown",
   "source":[
    "# Training the model"
   ],
   "attachments":{
    
   },
   "metadata":{
    "datalore":{
     "node_id":"1wNwEeTlwR6Ac1ujODEyVx",
     "type":"MD",
     "hide_input_from_viewers":true,
     "hide_output_from_viewers":true
    }
   }
  },
  {
   "cell_type":"code",
   "source":[
    "batch_size = 32 # smaller number means longer training time"
   ],
   "execution_count":129,
   "outputs":[
    
   ],
   "metadata":{
    "datalore":{
     "node_id":"w0LRzbbhSTIC6F28lUuhmf",
     "type":"CODE",
     "hide_input_from_viewers":true,
     "hide_output_from_viewers":true
    }
   }
  },
  {
   "cell_type":"code",
   "source":[
    "my_data = only_zeroes\n",
    "my_data.shape"
   ],
   "execution_count":130,
   "outputs":[
    {
     "data":{
      "text\/plain":[
       "(5923, 28, 28)"
      ]
     },
     "metadata":{
      
     },
     "output_type":"display_data"
    }
   ],
   "metadata":{
    "datalore":{
     "node_id":"U3iGClPqqIwFbaWm0TetPY",
     "type":"CODE",
     "hide_input_from_viewers":true,
     "hide_output_from_viewers":true
    }
   }
  },
  {
   "cell_type":"code",
   "source":[
    "#This is the number of batches that we have\n",
    "5923\/32"
   ],
   "execution_count":131,
   "outputs":[
    {
     "data":{
      "text\/plain":[
       "185.09375"
      ]
     },
     "metadata":{
      
     },
     "output_type":"display_data"
    }
   ],
   "metadata":{
    "datalore":{
     "node_id":"zmJpkRtAKnKRa3QogvYT9B",
     "type":"CODE",
     "hide_input_from_viewers":true,
     "hide_output_from_viewers":true
    }
   }
  },
  {
   "cell_type":"code",
   "source":[
    "dataset = tf.data.Dataset.from_tensor_slices(my_data).shuffle(buffer_size=1000)"
   ],
   "execution_count":132,
   "outputs":[
    
   ],
   "metadata":{
    "datalore":{
     "node_id":"94tSb2R5lDXMQWNascPoiP",
     "type":"CODE",
     "hide_input_from_viewers":true,
     "hide_output_from_viewers":true
    }
   }
  },
  {
   "cell_type":"code",
   "source":[
    "dataset = dataset.batch(batch_size, drop_remainder=True).prefetch(1)\n",
    "# drop remainder drops the batches that were not divisible by batch_size"
   ],
   "execution_count":133,
   "outputs":[
    
   ],
   "metadata":{
    "datalore":{
     "node_id":"ZVvmhZsvkilsmf942tUpJ5",
     "type":"CODE",
     "hide_input_from_viewers":true,
     "hide_output_from_viewers":true
    }
   }
  },
  {
   "cell_type":"code",
   "source":[
    "epochs=1"
   ],
   "execution_count":134,
   "outputs":[
    
   ],
   "metadata":{
    "datalore":{
     "node_id":"y9IXXq3QK93rVD5dXWhsnX",
     "type":"CODE",
     "hide_input_from_viewers":true,
     "hide_output_from_viewers":true
    }
   }
  },
  {
   "cell_type":"code",
   "source":[
    "GAN.layers[0].summary() # [0] is a generator model"
   ],
   "execution_count":135,
   "outputs":[
    {
     "name":"stdout",
     "text":[
      "Model: \"sequential_6\"\n",
      "_________________________________________________________________\n",
      " Layer (type)                Output Shape              Param #   \n",
      "=================================================================\n",
      " dense_12 (Dense)            (None, 100)               10100     \n",
      "                                                                 \n",
      " dense_13 (Dense)            (None, 150)               15150     \n",
      "                                                                 \n",
      " dense_14 (Dense)            (None, 784)               118384    \n",
      "                                                                 \n",
      " reshape_1 (Reshape)         (None, 28, 28)            0         \n",
      "                                                                 \n",
      "=================================================================\n",
      "Total params: 143,634\n",
      "Trainable params: 143,634\n",
      "Non-trainable params: 0\n",
      "_________________________________________________________________\n"
     ],
     "output_type":"stream"
    }
   ],
   "metadata":{
    "datalore":{
     "node_id":"eyRWWRJ6Y8u8g2Xm6qzv2H",
     "type":"CODE",
     "hide_input_from_viewers":true,
     "hide_output_from_viewers":true
    }
   }
  },
  {
   "cell_type":"code",
   "source":[
    "GAN.layers[1].summary() # [1] is a discriminator model"
   ],
   "execution_count":136,
   "outputs":[
    {
     "name":"stdout",
     "text":[
      "Model: \"sequential_5\"\n",
      "_________________________________________________________________\n",
      " Layer (type)                Output Shape              Param #   \n",
      "=================================================================\n",
      " flatten_2 (Flatten)         (None, 784)               0         \n",
      "                                                                 \n",
      " dense_9 (Dense)             (None, 150)               117750    \n",
      "                                                                 \n",
      " dense_10 (Dense)            (None, 100)               15100     \n",
      "                                                                 \n",
      " dense_11 (Dense)            (None, 1)                 101       \n",
      "                                                                 \n",
      "=================================================================\n",
      "Total params: 132,951\n",
      "Trainable params: 0\n",
      "Non-trainable params: 132,951\n",
      "_________________________________________________________________\n"
     ],
     "output_type":"stream"
    }
   ],
   "metadata":{
    "datalore":{
     "node_id":"29mJSThouN6ADUIgogPXuf",
     "type":"CODE",
     "hide_input_from_viewers":true,
     "hide_output_from_viewers":true
    }
   }
  },
  {
   "cell_type":"code",
   "source":[
    "generator, discriminator = GAN.layers"
   ],
   "execution_count":137,
   "outputs":[
    
   ],
   "metadata":{
    "datalore":{
     "node_id":"U6BkXe50BvaE1nxp2lbOi4",
     "type":"CODE",
     "hide_input_from_viewers":true,
     "hide_output_from_viewers":true
    }
   }
  },
  {
   "cell_type":"code",
   "source":[
    "for epoch in range(epochs): # i is the number of batches\n",
    "    print(f\"Currenty on Epoch{epoch+1}\")\n",
    "    i=0\n",
    "\n",
    "    for X_batch in dataset:\n",
    "        i = i+1\n",
    "\n",
    "        if i%100 == 0:\n",
    "            print(f\"\\t Currently on batch number {i} of {len(my_data)\/\/batch_size}\")\n",
    "\n",
    "        # DISCRIMINATOR TRAINING PHASE\n",
    "        noise = tf.random.normal(shape=[batch_size, codings_size])\n",
    "        gen_images = generator(noise)\n",
    "        X_fake_vs_real = tf.concat([gen_images, tf.dtypes.cast(X_batch,tf.float32)], axis=0)\n",
    "        y1 = tf.constant([[0.0]]*batch_size + [[1.0]]*batch_size)\n",
    "        discriminator.trainable = True\n",
    "        discriminator.train_on_batch(X_fake_vs_real, y1)\n",
    "\n",
    "        # GENERATOR TRAINING PHASE\n",
    "        noise = tf.random.normal(shape=[batch_size, codings_size])\n",
    "        y2 = tf.constant([[1.0]]*batch_size) # we want the generator to believe that all images are real\n",
    "        discriminator.trainable=False\n",
    "        GAN.train_on_batch(noise, y2)"
   ],
   "execution_count":138,
   "outputs":[
    {
     "name":"stdout",
     "text":[
      "Currenty on Epoch1\n",
      "\t Currently on batch number 100 of 185\n"
     ],
     "output_type":"stream"
    }
   ],
   "metadata":{
    "datalore":{
     "node_id":"dL5C3OaedchEDL6H88Lsdw",
     "type":"CODE",
     "hide_input_from_viewers":true,
     "hide_output_from_viewers":true
    }
   }
  },
  {
   "cell_type":"code",
   "source":[
    "noise = tf.random.normal(shape=[10, codings_size])"
   ],
   "execution_count":141,
   "outputs":[
    
   ],
   "metadata":{
    "datalore":{
     "node_id":"cBloilDfux5BYHdUgks8O8",
     "type":"CODE",
     "hide_input_from_viewers":true,
     "hide_output_from_viewers":true
    }
   }
  },
  {
   "cell_type":"code",
   "source":[
    "noise.shape"
   ],
   "execution_count":142,
   "outputs":[
    {
     "data":{
      "text\/plain":[
       "TensorShape([10, 100])"
      ]
     },
     "metadata":{
      
     },
     "output_type":"display_data"
    }
   ],
   "metadata":{
    "datalore":{
     "node_id":"hCcLhuFszDaFY9jeuSjPNQ",
     "type":"CODE",
     "hide_input_from_viewers":true,
     "hide_output_from_viewers":true
    }
   }
  },
  {
   "cell_type":"code",
   "source":[
    "plt.imshow(noise)"
   ],
   "execution_count":143,
   "outputs":[
    {
     "data":{
      "text\/plain":[
       "<matplotlib.image.AxesImage at 0x7f3954bdcbb0>"
      ]
     },
     "metadata":{
      
     },
     "output_type":"display_data"
    },
    {
     "data":{
      "text\/plain":[
       "<Figure size 432x288 with 1 Axes>"
      ]
     },
     "metadata":{
      
     },
     "output_type":"display_data"
    }
   ],
   "metadata":{
    "datalore":{
     "node_id":"ddTLnoUB2HV8AzxBJbFVOz",
     "type":"CODE",
     "hide_input_from_viewers":true,
     "hide_output_from_viewers":true
    }
   }
  },
  {
   "cell_type":"code",
   "source":[
    "images = generator(noise)"
   ],
   "execution_count":144,
   "outputs":[
    
   ],
   "metadata":{
    "datalore":{
     "node_id":"aIc8yO30XF3LKqGS0aiodQ",
     "type":"CODE",
     "hide_input_from_viewers":true,
     "hide_output_from_viewers":true
    }
   }
  },
  {
   "cell_type":"code",
   "source":[
    "images.shape"
   ],
   "execution_count":145,
   "outputs":[
    {
     "data":{
      "text\/plain":[
       "TensorShape([10, 28, 28])"
      ]
     },
     "metadata":{
      
     },
     "output_type":"display_data"
    }
   ],
   "metadata":{
    "datalore":{
     "node_id":"ctUiYUwO0hDmZ0VOzcvhlQ",
     "type":"CODE",
     "hide_input_from_viewers":true,
     "hide_output_from_viewers":true
    }
   }
  },
  {
   "cell_type":"code",
   "source":[
    "plt.imshow(images[0])"
   ],
   "execution_count":147,
   "outputs":[
    {
     "data":{
      "text\/plain":[
       "<matplotlib.image.AxesImage at 0x7f39ad53d550>"
      ]
     },
     "metadata":{
      
     },
     "output_type":"display_data"
    },
    {
     "data":{
      "text\/plain":[
       "<Figure size 432x288 with 1 Axes>"
      ]
     },
     "metadata":{
      
     },
     "output_type":"display_data"
    }
   ],
   "metadata":{
    "datalore":{
     "node_id":"uTmcmeYxZcKmKT3tB6ER9X",
     "type":"CODE",
     "hide_input_from_viewers":true,
     "hide_output_from_viewers":true
    }
   }
  }
 ],
 "metadata":{
  "kernelspec":{
   "display_name":"Python",
   "language":"python",
   "name":"python"
  },
  "datalore":{
   "computation_mode":"JUPYTER",
   "package_manager":"pip",
   "base_environment":"default",
   "packages":[
    
   ],
   "report_row_ids":[
    
   ],
   "version":3
  }
 },
 "nbformat":4,
 "nbformat_minor":4
}