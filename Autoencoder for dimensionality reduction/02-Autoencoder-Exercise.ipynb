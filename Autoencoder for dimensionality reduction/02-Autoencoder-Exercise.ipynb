{
 "cells":[
  {
   "cell_type":"markdown",
   "source":[
    "___\n",
    "\n",
    "<a href='http:\/\/www.pieriandata.com'><img src='..\/Pierian_Data_Logo.png'\/><\/a>\n",
    "___\n",
    "<center><em>Copyright Pierian Data<\/em><\/center>\n",
    "<center><em>For more information, visit us at <a href='http:\/\/www.pieriandata.com'>www.pieriandata.com<\/a><\/em><\/center>\n",
    "\n",
    "# Autoencoder Exercise"
   ],
   "attachments":{
    
   },
   "metadata":{
    "datalore":{
     "node_id":"HNPJXWbsRiezFkYIFA3J2G",
     "type":"MD",
     "hide_input_from_viewers":false,
     "hide_output_from_viewers":false,
     "report_properties":{
      "rowId":"5xv4WPZOJaUsFRz9J1ABXP"
     }
    }
   }
  },
  {
   "cell_type":"markdown",
   "source":[
    "## Complete the Tasks Below\n",
    "\n",
    "**TASK: Run the imports below**"
   ],
   "attachments":{
    
   },
   "metadata":{
    "datalore":{
     "node_id":"wwPxH4nYPtugM3470M4YjR",
     "type":"MD",
     "hide_input_from_viewers":false,
     "hide_output_from_viewers":false,
     "report_properties":{
      "rowId":"pAX2JyKq9lUDeA3t2gGrh2"
     }
    }
   }
  },
  {
   "cell_type":"code",
   "source":[
    "import pandas as pd\n",
    "import seaborn as sns\n",
    "import matplotlib.pyplot as plt"
   ],
   "execution_count":453,
   "outputs":[
    
   ],
   "metadata":{
    "datalore":{
     "node_id":"W0n4Q0yVM2VApP2zcwSgGJ",
     "type":"CODE",
     "hide_input_from_viewers":false,
     "hide_output_from_viewers":false,
     "report_properties":{
      "rowId":"gpnt93D6JdzKiMOTrq2813"
     }
    }
   }
  },
  {
   "cell_type":"markdown",
   "source":[
    "## The Data\n",
    "\n",
    " In the table is the average consumption of 17 types of food in grams per person per week for every country in the UK.\n",
    "\n",
    "The table shows some interesting variations across different food types, but overall differences aren't so notable. \n",
    "\n",
    "**TASK: Run the import line below to read in the data**"
   ],
   "attachments":{
    
   },
   "metadata":{
    "datalore":{
     "node_id":"LKlAaQgwSfjxd5QCzhrnDl",
     "type":"MD",
     "hide_input_from_viewers":false,
     "hide_output_from_viewers":false,
     "report_properties":{
      "rowId":"aMEKOIVKLz9oMtuX0A7z0e"
     }
    }
   }
  },
  {
   "cell_type":"code",
   "source":[
    "df = pd.read_csv('UK_foods.csv',index_col='Unnamed: 0')"
   ],
   "execution_count":454,
   "outputs":[
    
   ],
   "metadata":{
    "datalore":{
     "node_id":"3NvJenTUBW8oaTNPwpMaDc",
     "type":"CODE",
     "hide_input_from_viewers":false,
     "hide_output_from_viewers":false,
     "report_properties":{
      "rowId":"1ZoFIauYVH3cAyeQc6giRX"
     }
    }
   }
  },
  {
   "cell_type":"markdown",
   "source":[
    "**TASK: Display the DataFrame**"
   ],
   "attachments":{
    
   },
   "metadata":{
    "datalore":{
     "node_id":"FnEygLYx1WlZHOP3F5tfSi",
     "type":"MD",
     "hide_input_from_viewers":false,
     "hide_output_from_viewers":false,
     "report_properties":{
      "rowId":"pwDbB7PTuOVBUpuKH1RyzM"
     }
    }
   }
  },
  {
   "cell_type":"code",
   "source":[
    "df"
   ],
   "execution_count":455,
   "outputs":[
    {
     "data":{
      "text\/html":[
       "<div>\n",
       "<style scoped>\n",
       "    .dataframe tbody tr th:only-of-type {\n",
       "        vertical-align: middle;\n",
       "    }\n",
       "\n",
       "    .dataframe tbody tr th {\n",
       "        vertical-align: top;\n",
       "    }\n",
       "\n",
       "    .dataframe thead th {\n",
       "        text-align: right;\n",
       "    }\n",
       "<\/style>\n",
       "<table border=\"1\" class=\"dataframe\">\n",
       "  <thead>\n",
       "    <tr style=\"text-align: right;\">\n",
       "      <th><\/th>\n",
       "      <th>England<\/th>\n",
       "      <th>Wales<\/th>\n",
       "      <th>Scotland<\/th>\n",
       "      <th>N.Ireland<\/th>\n",
       "    <\/tr>\n",
       "  <\/thead>\n",
       "  <tbody>\n",
       "    <tr>\n",
       "      <th>Cheese<\/th>\n",
       "      <td>105<\/td>\n",
       "      <td>103<\/td>\n",
       "      <td>103<\/td>\n",
       "      <td>66<\/td>\n",
       "    <\/tr>\n",
       "    <tr>\n",
       "      <th>Carcass_meat<\/th>\n",
       "      <td>245<\/td>\n",
       "      <td>227<\/td>\n",
       "      <td>242<\/td>\n",
       "      <td>267<\/td>\n",
       "    <\/tr>\n",
       "    <tr>\n",
       "      <th>Other_meat<\/th>\n",
       "      <td>685<\/td>\n",
       "      <td>803<\/td>\n",
       "      <td>750<\/td>\n",
       "      <td>586<\/td>\n",
       "    <\/tr>\n",
       "    <tr>\n",
       "      <th>Fish<\/th>\n",
       "      <td>147<\/td>\n",
       "      <td>160<\/td>\n",
       "      <td>122<\/td>\n",
       "      <td>93<\/td>\n",
       "    <\/tr>\n",
       "    <tr>\n",
       "      <th>Fats_and_oils<\/th>\n",
       "      <td>193<\/td>\n",
       "      <td>235<\/td>\n",
       "      <td>184<\/td>\n",
       "      <td>209<\/td>\n",
       "    <\/tr>\n",
       "    <tr>\n",
       "      <th>Sugars<\/th>\n",
       "      <td>156<\/td>\n",
       "      <td>175<\/td>\n",
       "      <td>147<\/td>\n",
       "      <td>139<\/td>\n",
       "    <\/tr>\n",
       "    <tr>\n",
       "      <th>Fresh_potatoes<\/th>\n",
       "      <td>720<\/td>\n",
       "      <td>874<\/td>\n",
       "      <td>566<\/td>\n",
       "      <td>1033<\/td>\n",
       "    <\/tr>\n",
       "    <tr>\n",
       "      <th>Fresh_Veg<\/th>\n",
       "      <td>253<\/td>\n",
       "      <td>265<\/td>\n",
       "      <td>171<\/td>\n",
       "      <td>143<\/td>\n",
       "    <\/tr>\n",
       "    <tr>\n",
       "      <th>Other_Veg<\/th>\n",
       "      <td>488<\/td>\n",
       "      <td>570<\/td>\n",
       "      <td>418<\/td>\n",
       "      <td>355<\/td>\n",
       "    <\/tr>\n",
       "    <tr>\n",
       "      <th>Processed_potatoes<\/th>\n",
       "      <td>198<\/td>\n",
       "      <td>203<\/td>\n",
       "      <td>220<\/td>\n",
       "      <td>187<\/td>\n",
       "    <\/tr>\n",
       "    <tr>\n",
       "      <th>Processed_Veg<\/th>\n",
       "      <td>360<\/td>\n",
       "      <td>365<\/td>\n",
       "      <td>337<\/td>\n",
       "      <td>334<\/td>\n",
       "    <\/tr>\n",
       "    <tr>\n",
       "      <th>Fresh_fruit<\/th>\n",
       "      <td>1102<\/td>\n",
       "      <td>1137<\/td>\n",
       "      <td>957<\/td>\n",
       "      <td>674<\/td>\n",
       "    <\/tr>\n",
       "    <tr>\n",
       "      <th>Cereals<\/th>\n",
       "      <td>1472<\/td>\n",
       "      <td>1582<\/td>\n",
       "      <td>1462<\/td>\n",
       "      <td>1494<\/td>\n",
       "    <\/tr>\n",
       "    <tr>\n",
       "      <th>Beverages<\/th>\n",
       "      <td>57<\/td>\n",
       "      <td>73<\/td>\n",
       "      <td>53<\/td>\n",
       "      <td>47<\/td>\n",
       "    <\/tr>\n",
       "    <tr>\n",
       "      <th>Soft_drinks<\/th>\n",
       "      <td>1374<\/td>\n",
       "      <td>1256<\/td>\n",
       "      <td>1572<\/td>\n",
       "      <td>1506<\/td>\n",
       "    <\/tr>\n",
       "    <tr>\n",
       "      <th>Alcoholic_drinks<\/th>\n",
       "      <td>375<\/td>\n",
       "      <td>475<\/td>\n",
       "      <td>458<\/td>\n",
       "      <td>135<\/td>\n",
       "    <\/tr>\n",
       "    <tr>\n",
       "      <th>Confectionery<\/th>\n",
       "      <td>54<\/td>\n",
       "      <td>64<\/td>\n",
       "      <td>62<\/td>\n",
       "      <td>41<\/td>\n",
       "    <\/tr>\n",
       "  <\/tbody>\n",
       "<\/table>\n",
       "<\/div>"
      ]
     },
     "metadata":{
      
     },
     "output_type":"display_data"
    }
   ],
   "metadata":{
    "datalore":{
     "node_id":"8TAVakHHlVVsUhFPZrjEiC",
     "type":"CODE",
     "hide_input_from_viewers":false,
     "hide_output_from_viewers":false,
     "report_properties":{
      "rowId":"vpiYabkbNUspcNKHFE5oQi"
     }
    }
   }
  },
  {
   "cell_type":"markdown",
   "source":[
    "**TASK: Transpose the DataFrame so that the columns are now the index.**"
   ],
   "attachments":{
    
   },
   "metadata":{
    "datalore":{
     "node_id":"Wbu9FPyYNKL0q8ZWUM9bCa",
     "type":"MD",
     "hide_input_from_viewers":false,
     "hide_output_from_viewers":false,
     "report_properties":{
      "rowId":"8lMzUwS7JlTM0b9lCuHtfE"
     }
    }
   }
  },
  {
   "cell_type":"code",
   "source":[
    "df.transpose()"
   ],
   "execution_count":456,
   "outputs":[
    {
     "data":{
      "text\/html":[
       "<div>\n",
       "<style scoped>\n",
       "    .dataframe tbody tr th:only-of-type {\n",
       "        vertical-align: middle;\n",
       "    }\n",
       "\n",
       "    .dataframe tbody tr th {\n",
       "        vertical-align: top;\n",
       "    }\n",
       "\n",
       "    .dataframe thead th {\n",
       "        text-align: right;\n",
       "    }\n",
       "<\/style>\n",
       "<table border=\"1\" class=\"dataframe\">\n",
       "  <thead>\n",
       "    <tr style=\"text-align: right;\">\n",
       "      <th><\/th>\n",
       "      <th>Cheese<\/th>\n",
       "      <th>Carcass_meat<\/th>\n",
       "      <th>Other_meat<\/th>\n",
       "      <th>Fish<\/th>\n",
       "      <th>Fats_and_oils<\/th>\n",
       "      <th>Sugars<\/th>\n",
       "      <th>Fresh_potatoes<\/th>\n",
       "      <th>Fresh_Veg<\/th>\n",
       "      <th>Other_Veg<\/th>\n",
       "      <th>Processed_potatoes<\/th>\n",
       "      <th>Processed_Veg<\/th>\n",
       "      <th>Fresh_fruit<\/th>\n",
       "      <th>Cereals<\/th>\n",
       "      <th>Beverages<\/th>\n",
       "      <th>Soft_drinks<\/th>\n",
       "      <th>Alcoholic_drinks<\/th>\n",
       "      <th>Confectionery<\/th>\n",
       "    <\/tr>\n",
       "  <\/thead>\n",
       "  <tbody>\n",
       "    <tr>\n",
       "      <th>England<\/th>\n",
       "      <td>105<\/td>\n",
       "      <td>245<\/td>\n",
       "      <td>685<\/td>\n",
       "      <td>147<\/td>\n",
       "      <td>193<\/td>\n",
       "      <td>156<\/td>\n",
       "      <td>720<\/td>\n",
       "      <td>253<\/td>\n",
       "      <td>488<\/td>\n",
       "      <td>198<\/td>\n",
       "      <td>360<\/td>\n",
       "      <td>1102<\/td>\n",
       "      <td>1472<\/td>\n",
       "      <td>57<\/td>\n",
       "      <td>1374<\/td>\n",
       "      <td>375<\/td>\n",
       "      <td>54<\/td>\n",
       "    <\/tr>\n",
       "    <tr>\n",
       "      <th>Wales<\/th>\n",
       "      <td>103<\/td>\n",
       "      <td>227<\/td>\n",
       "      <td>803<\/td>\n",
       "      <td>160<\/td>\n",
       "      <td>235<\/td>\n",
       "      <td>175<\/td>\n",
       "      <td>874<\/td>\n",
       "      <td>265<\/td>\n",
       "      <td>570<\/td>\n",
       "      <td>203<\/td>\n",
       "      <td>365<\/td>\n",
       "      <td>1137<\/td>\n",
       "      <td>1582<\/td>\n",
       "      <td>73<\/td>\n",
       "      <td>1256<\/td>\n",
       "      <td>475<\/td>\n",
       "      <td>64<\/td>\n",
       "    <\/tr>\n",
       "    <tr>\n",
       "      <th>Scotland<\/th>\n",
       "      <td>103<\/td>\n",
       "      <td>242<\/td>\n",
       "      <td>750<\/td>\n",
       "      <td>122<\/td>\n",
       "      <td>184<\/td>\n",
       "      <td>147<\/td>\n",
       "      <td>566<\/td>\n",
       "      <td>171<\/td>\n",
       "      <td>418<\/td>\n",
       "      <td>220<\/td>\n",
       "      <td>337<\/td>\n",
       "      <td>957<\/td>\n",
       "      <td>1462<\/td>\n",
       "      <td>53<\/td>\n",
       "      <td>1572<\/td>\n",
       "      <td>458<\/td>\n",
       "      <td>62<\/td>\n",
       "    <\/tr>\n",
       "    <tr>\n",
       "      <th>N.Ireland<\/th>\n",
       "      <td>66<\/td>\n",
       "      <td>267<\/td>\n",
       "      <td>586<\/td>\n",
       "      <td>93<\/td>\n",
       "      <td>209<\/td>\n",
       "      <td>139<\/td>\n",
       "      <td>1033<\/td>\n",
       "      <td>143<\/td>\n",
       "      <td>355<\/td>\n",
       "      <td>187<\/td>\n",
       "      <td>334<\/td>\n",
       "      <td>674<\/td>\n",
       "      <td>1494<\/td>\n",
       "      <td>47<\/td>\n",
       "      <td>1506<\/td>\n",
       "      <td>135<\/td>\n",
       "      <td>41<\/td>\n",
       "    <\/tr>\n",
       "  <\/tbody>\n",
       "<\/table>\n",
       "<\/div>"
      ]
     },
     "metadata":{
      
     },
     "output_type":"display_data"
    }
   ],
   "metadata":{
    "datalore":{
     "node_id":"y09DnTGMHUilSCGlWNOV8K",
     "type":"CODE",
     "hide_input_from_viewers":false,
     "hide_output_from_viewers":false,
     "report_properties":{
      "rowId":"h9RcM42YNMzNjzmFZNxuFP"
     }
    }
   }
  },
  {
   "cell_type":"markdown",
   "source":[
    "**TASK: Create a heatmap from the DataFrame. Does any country really stand out as different than the others? It should be tricky to tell just from the image. Do any two countries appear to be very similar?**"
   ],
   "attachments":{
    
   },
   "metadata":{
    "datalore":{
     "node_id":"DIYq0GdJdEAwQG8E7n7HUe",
     "type":"MD",
     "hide_input_from_viewers":false,
     "hide_output_from_viewers":false,
     "report_properties":{
      "rowId":"huywmjBRjIpwwF1kcKcpEb"
     }
    }
   }
  },
  {
   "cell_type":"code",
   "source":[
    "plt.figure(figsize=(10,8))\n",
    "sns.heatmap(df)"
   ],
   "execution_count":457,
   "outputs":[
    {
     "data":{
      "text\/plain":[
       "<Axes: >"
      ]
     },
     "metadata":{
      
     },
     "output_type":"display_data"
    },
    {
     "data":{
      "image\/png":"[encoded data removed]"
     },
     "metadata":{
      "image\/png":{
       
      }
     },
     "output_type":"display_data"
    }
   ],
   "metadata":{
    "datalore":{
     "node_id":"46HNy1YD7qT389lcx04P1a",
     "type":"CODE",
     "hide_input_from_viewers":false,
     "hide_output_from_viewers":false,
     "report_properties":{
      "rowId":"2Asy3FXULSS6b8sd4k6eY2"
     }
    }
   }
  },
  {
   "cell_type":"markdown",
   "source":[
    "**TASK: Run the imports necessary to build an autoencoder. Our goal will be to reduce the dimensions from 17 --> 2 and see if any countries stand out as very different.**"
   ],
   "attachments":{
    
   },
   "metadata":{
    "datalore":{
     "node_id":"ki1eoxIy2tvixMW51BMAdL",
     "type":"MD",
     "hide_input_from_viewers":false,
     "hide_output_from_viewers":false,
     "report_properties":{
      "rowId":"BiAOW8IP4WwzfcXIrwTNjs"
     }
    }
   }
  },
  {
   "cell_type":"code",
   "source":[
    "from keras.layers import Dense, Input\n",
    "from keras import Sequential\n",
    "import keras"
   ],
   "execution_count":458,
   "outputs":[
    
   ],
   "metadata":{
    "datalore":{
     "node_id":"qn4oU8CN8mpt3ce51LpQfi",
     "type":"CODE",
     "hide_input_from_viewers":true,
     "hide_output_from_viewers":true
    }
   }
  },
  {
   "cell_type":"markdown",
   "source":[
    "**TASK: Create an encoder. In the solutions we built one that went 17 --> 8 --> 4 --> 2**"
   ],
   "attachments":{
    
   },
   "metadata":{
    "datalore":{
     "node_id":"0dOM2rvrJr0Vgm3cjCdO2J",
     "type":"MD",
     "hide_input_from_viewers":false,
     "hide_output_from_viewers":false,
     "report_properties":{
      "rowId":"FaHqlNTmj3PJZSzTVkgMCd"
     }
    }
   }
  },
  {
   "cell_type":"code",
   "source":[
    "# Create encoder model\n",
    "encoder = Sequential()\n",
    "\n",
    "encoder.add(Dense(8, activation='relu', input_shape=[17]))\n",
    "encoder.add(Dense(4, activation='relu', input_shape=[8]))\n",
    "encoder.add(Dense(2, activation='relu', input_shape=[4]))\n"
   ],
   "execution_count":459,
   "outputs":[
    
   ],
   "metadata":{
    "datalore":{
     "node_id":"gUfWUYqxBpSfeGdtRtGIdU",
     "type":"CODE",
     "hide_input_from_viewers":false,
     "hide_output_from_viewers":false,
     "report_properties":{
      "rowId":"sj0oCn9m4WdKvTAtyJzm2n"
     }
    }
   }
  },
  {
   "cell_type":"code",
   "source":[
    
   ],
   "execution_count":0,
   "outputs":[
    
   ],
   "metadata":{
    "datalore":{
     "node_id":"NCeAErA3Vf5q8Mut2lr6i5",
     "type":"CODE",
     "hide_input_from_viewers":true,
     "hide_output_from_viewers":true
    }
   }
  },
  {
   "cell_type":"markdown",
   "source":[
    "**TASK: Create a decoder. In the solutions we built one that went 2-->4-->8-->17**"
   ],
   "attachments":{
    
   },
   "metadata":{
    "datalore":{
     "node_id":"lIOp9APd5zOEjuCsqbHLO8",
     "type":"MD",
     "hide_input_from_viewers":false,
     "hide_output_from_viewers":false,
     "report_properties":{
      "rowId":"Fkll7Um2xZjiOaXgGq2Uja"
     }
    }
   }
  },
  {
   "cell_type":"code",
   "source":[
    "decoder = Sequential()\n",
    "\n",
    "decoder.add(Dense(4, activation='relu', input_shape=[2]))\n",
    "decoder.add(Dense(8, activation='relu', input_shape=[4]))\n",
    "decoder.add(Dense(17, activation='relu', input_shape=[8]))"
   ],
   "execution_count":460,
   "outputs":[
    
   ],
   "metadata":{
    "datalore":{
     "node_id":"ra2mC4k9KJw76mlZgkWQnL",
     "type":"CODE",
     "hide_input_from_viewers":false,
     "hide_output_from_viewers":false,
     "report_properties":{
      "rowId":"6OEh42TdZjt95xZlWiQOHA"
     }
    }
   }
  },
  {
   "cell_type":"code",
   "source":[
    "from keras.optimizers import SGD"
   ],
   "execution_count":461,
   "outputs":[
    
   ],
   "metadata":{
    "datalore":{
     "node_id":"0m8DcbR8eib8IfLmz3fkFt",
     "type":"CODE",
     "hide_input_from_viewers":true,
     "hide_output_from_viewers":true
    }
   }
  },
  {
   "cell_type":"markdown",
   "source":[
    "**TASK: Combine the encoder and decoder to be an autoencoder and compile the model.**"
   ],
   "attachments":{
    
   },
   "metadata":{
    "datalore":{
     "node_id":"RchscwKgNEcyjBDLMiWo6v",
     "type":"MD",
     "hide_input_from_viewers":false,
     "hide_output_from_viewers":false,
     "report_properties":{
      "rowId":"JuaioMtnxWyA7axGNVwR9D"
     }
    }
   }
  },
  {
   "cell_type":"code",
   "source":[
    "#autoencoder = keras.Model(input_layer, decoder(encoder(input_layer)), name='autoencoder')\n",
    "autoencoder = Sequential([encoder, decoder])\n",
    "\n",
    "\n",
    "autoencoder.compile(loss='mse', optimizer=SGD(learning_rate=1.5))"
   ],
   "execution_count":462,
   "outputs":[
    
   ],
   "metadata":{
    "datalore":{
     "node_id":"ygplVDhix2FJe0yz5vP3k6",
     "type":"CODE",
     "hide_input_from_viewers":false,
     "hide_output_from_viewers":false,
     "report_properties":{
      "rowId":"5Owuxc65sLn0ddlHZVojgb"
     }
    }
   }
  },
  {
   "cell_type":"code",
   "source":[
    
   ],
   "execution_count":0,
   "outputs":[
    
   ],
   "metadata":{
    "datalore":{
     "node_id":"DTxrMeWBoPC71LuL2Rr0ZO",
     "type":"CODE",
     "hide_input_from_viewers":true,
     "hide_output_from_viewers":true
    }
   }
  },
  {
   "cell_type":"markdown",
   "source":[
    "**TASK: Create a MinMaxScaler to scale the data. Make sure to transpose the data, since we really have 17 feature columns and only 4 rows (one per country).**"
   ],
   "attachments":{
    
   },
   "metadata":{
    "datalore":{
     "node_id":"eHBTLCR7I4MKaY4yS5o4SG",
     "type":"MD",
     "hide_input_from_viewers":false,
     "hide_output_from_viewers":false,
     "report_properties":{
      "rowId":"9de2J8mDhkBHBGw2pNtl7N"
     }
    }
   }
  },
  {
   "cell_type":"code",
   "source":[
    "df = df.transpose()"
   ],
   "execution_count":463,
   "outputs":[
    
   ],
   "metadata":{
    "datalore":{
     "node_id":"v4nPdrGC1Byw2mbzbzmQcl",
     "type":"CODE",
     "hide_input_from_viewers":false,
     "hide_output_from_viewers":false,
     "report_properties":{
      "rowId":"Fq2E6lZ3lhaG2cMPnNEr7M"
     }
    }
   }
  },
  {
   "cell_type":"code",
   "source":[
    "from sklearn.preprocessing import MinMaxScaler\n",
    "scaler = MinMaxScaler()"
   ],
   "execution_count":464,
   "outputs":[
    
   ],
   "metadata":{
    "datalore":{
     "node_id":"T5P7wokdWRrrREsMMASFi0",
     "type":"CODE",
     "hide_input_from_viewers":true,
     "hide_output_from_viewers":true
    }
   }
  },
  {
   "cell_type":"code",
   "source":[
    "df_scaled = scaler.fit_transform(df.values,df.values)\n",
    "df_scaled"
   ],
   "execution_count":465,
   "outputs":[
    {
     "data":{
      "text\/html":[
       "<pre>array([[1.        , 0.45      , 0.4562212 , 0.80597015, 0.17647059,\n",
       "        0.47222222, 0.32976445, 0.90163934, 0.61860465, 0.33333333,\n",
       "        0.83870968, 0.92440605, 0.08333333, 0.38461538, 0.37341772,\n",
       "        0.70588235, 0.56521739],\n",
       "       [0.94871795, 0.        , 1.        , 1.        , 1.        ,\n",
       "        1.        , 0.65952891, 1.        , 1.        , 0.48484848,\n",
       "        1.        , 1.        , 1.        , 1.        , 0.        ,\n",
       "        1.        , 1.        ],\n",
       "       [0.94871795, 0.375     , 0.75576037, 0.43283582, 0.        ,\n",
       "        0.22222222, 0.        , 0.2295082 , 0.29302326, 1.        ,\n",
       "        0.09677419, 0.6112311 , 0.        , 0.23076923, 1.        ,\n",
       "        0.95      , 0.91304348],\n",
       "       [0.        , 1.        , 0.        , 0.        , 0.49019608,\n",
       "        0.        , 1.        , 0.        , 0.        , 0.        ,\n",
       "        0.        , 0.        , 0.26666667, 0.        , 0.79113924,\n",
       "        0.        , 0.        ]])<\/pre>"
      ]
     },
     "metadata":{
      
     },
     "output_type":"display_data"
    }
   ],
   "metadata":{
    "datalore":{
     "node_id":"gaifZjX8nrccUBEqMcCsbB",
     "type":"CODE",
     "hide_input_from_viewers":true,
     "hide_output_from_viewers":true
    }
   }
  },
  {
   "cell_type":"code",
   "source":[
    "# NOTE the shape should be 17 columns by 4 rows."
   ],
   "execution_count":466,
   "outputs":[
    
   ],
   "metadata":{
    "datalore":{
     "node_id":"1pThV447MTEmhU4ekuzdpo",
     "type":"CODE",
     "hide_input_from_viewers":false,
     "hide_output_from_viewers":false,
     "report_properties":{
      "rowId":"nmV2EuZUzXLufncMpAUl9q"
     }
    }
   }
  },
  {
   "cell_type":"markdown",
   "source":[
    "**TASK: Fit the autoencoder to the scaled data for 15 epochs.**"
   ],
   "attachments":{
    
   },
   "metadata":{
    "datalore":{
     "node_id":"0DoiRBJWyanRe53i2I2sLA",
     "type":"MD",
     "hide_input_from_viewers":false,
     "hide_output_from_viewers":false,
     "report_properties":{
      "rowId":"WhlinuMKhmiO4G5w7JjFED"
     }
    }
   }
  },
  {
   "cell_type":"code",
   "source":[
    "autoencoder.fit(df_scaled, df_scaled, epochs=15)"
   ],
   "execution_count":467,
   "outputs":[
    {
     "name":"stdout",
     "text":[
      "Epoch 1\/15\n",
      "\r1\/1 [==============================] - ETA: 0s - loss: 0.4125\b\b\b\b\b\b\b\b\b\b\b\b\b\b\b\b\b\b\b\b\b\b\b\b\b\b\b\b\b\b\b\b\b\b\b\b\b\b\b\b\b\b\b\b\b\b\b\b\b\b\b\b\b\b\b\b\b\b\b\b\b\r1\/1 [==============================] - 0s 425ms\/step - loss: 0.4125\n",
      "Epoch 2\/15\n",
      "\r1\/1 [==============================] - ETA: 0s - loss: 0.3360\b\b\b\b\b\b\b\b\b\b\b\b\b\b\b\b\b\b\b\b\b\b\b\b\b\b\b\b\b\b\b\b\b\b\b\b\b\b\b\b\b\b\b\b\b\b\b\b\b\b\b\b\b\b\b\b\b\b\b\b\b\r1\/1 [==============================] - 0s 4ms\/step - loss: 0.3360\n",
      "Epoch 3\/15\n",
      "\r1\/1 [==============================] - ETA: 0s - loss: 0.2921\b\b\b\b\b\b\b\b\b\b\b\b\b\b\b\b\b\b\b\b\b\b\b\b\b\b\b\b\b\b\b\b\b\b\b\b\b\b\b\b\b\b\b\b\b\b\b\b\b\b\b\b\b\b\b\b\b\b\b\b\b\r1\/1 [==============================] - 0s 3ms\/step - loss: 0.2921\n",
      "Epoch 4\/15\n",
      "\r1\/1 [==============================] - ETA: 0s - loss: 0.2721\b\b\b\b\b\b\b\b\b\b\b\b\b\b\b\b\b\b\b\b\b\b\b\b\b\b\b\b\b\b\b\b\b\b\b\b\b\b\b\b\b\b\b\b\b\b\b\b\b\b\b\b\b\b\b\b\b\b\b\b\b\r1\/1 [==============================] - 0s 10ms\/step - loss: 0.2721\n",
      "Epoch 5\/15\n",
      "\r1\/1 [==============================] - ETA: 0s - loss: 0.2646\b\b\b\b\b\b\b\b\b\b\b\b\b\b\b\b\b\b\b\b\b\b\b\b\b\b\b\b\b\b\b\b\b\b\b\b\b\b\b\b\b\b\b\b\b\b\b\b\b\b\b\b\b\b\b\b\b\b\b\b\b\r1\/1 [==============================] - 0s 4ms\/step - loss: 0.2646\n",
      "Epoch 6\/15\n",
      "\r1\/1 [==============================] - ETA: 0s - loss: 0.2609\b\b\b\b\b\b\b\b\b\b\b\b\b\b\b\b\b\b\b\b\b\b\b\b\b\b\b\b\b\b\b\b\b\b\b\b\b\b\b\b\b\b\b\b\b\b\b\b\b\b\b\b\b\b\b\b\b\b\b\b\b\r1\/1 [==============================] - 0s 3ms\/step - loss: 0.2609\n",
      "Epoch 7\/15\n",
      "\r1\/1 [==============================] - ETA: 0s - loss: 0.2588\b\b\b\b\b\b\b\b\b\b\b\b\b\b\b\b\b\b\b\b\b\b\b\b\b\b\b\b\b\b\b\b\b\b\b\b\b\b\b\b\b\b\b\b\b\b\b\b\b\b\b\b\b\b\b\b\b\b\b\b\b\r1\/1 [==============================] - 0s 3ms\/step - loss: 0.2588\n",
      "Epoch 8\/15\n",
      "\r1\/1 [==============================] - ETA: 0s - loss: 0.2583\b\b\b\b\b\b\b\b\b\b\b\b\b\b\b\b\b\b\b\b\b\b\b\b\b\b\b\b\b\b\b\b\b\b\b\b\b\b\b\b\b\b\b\b\b\b\b\b\b\b\b\b\b\b\b\b\b\b\b\b\b\r1\/1 [==============================] - 0s 4ms\/step - loss: 0.2583\n",
      "Epoch 9\/15\n",
      "\r1\/1 [==============================] - ETA: 0s - loss: 0.2643\b\b\b\b\b\b\b\b\b\b\b\b\b\b\b\b\b\b\b\b\b\b\b\b\b\b\b\b\b\b\b\b\b\b\b\b\b\b\b\b\b\b\b\b\b\b\b\b\b\b\b\b\b\b\b\b\b\b\b\b\b\r1\/1 [==============================] - 0s 4ms\/step - loss: 0.2643\n",
      "Epoch 10\/15\n",
      "\r1\/1 [==============================] - ETA: 0s - loss: 0.2739\b\b\b\b\b\b\b\b\b\b\b\b\b\b\b\b\b\b\b\b\b\b\b\b\b\b\b\b\b\b\b\b\b\b\b\b\b\b\b\b\b\b\b\b\b\b\b\b\b\b\b\b\b\b\b\b\b\b\b\b\b\r1\/1 [==============================] - 0s 4ms\/step - loss: 0.2739\n",
      "Epoch 11\/15\n",
      "\r1\/1 [==============================] - ETA: 0s - loss: 0.3305\b\b\b\b\b\b\b\b\b\b\b\b\b\b\b\b\b\b\b\b\b\b\b\b\b\b\b\b\b\b\b\b\b\b\b\b\b\b\b\b\b\b\b\b\b\b\b\b\b\b\b\b\b\b\b\b\b\b\b\b\b\r1\/1 [==============================] - 0s 4ms\/step - loss: 0.3305\n",
      "Epoch 12\/15\n",
      "\r1\/1 [==============================] - ETA: 0s - loss: 0.2543\b\b\b\b\b\b\b\b\b\b\b\b\b\b\b\b\b\b\b\b\b\b\b\b\b\b\b\b\b\b\b\b\b\b\b\b\b\b\b\b\b\b\b\b\b\b\b\b\b\b\b\b\b\b\b\b\b\b\b\b\b\r1\/1 [==============================] - 0s 4ms\/step - loss: 0.2543\n",
      "Epoch 13\/15\n",
      "\r1\/1 [==============================] - ETA: 0s - loss: 0.2522\b\b\b\b\b\b\b\b\b\b\b\b\b\b\b\b\b\b\b\b\b\b\b\b\b\b\b\b\b\b\b\b\b\b\b\b\b\b\b\b\b\b\b\b\b\b\b\b\b\b\b\b\b\b\b\b\b\b\b\b\b\r1\/1 [==============================] - 0s 4ms\/step - loss: 0.2522\n",
      "Epoch 14\/15\n",
      "\r1\/1 [==============================] - ETA: 0s - loss: 0.2515\b\b\b\b\b\b\b\b\b\b\b\b\b\b\b\b\b\b\b\b\b\b\b\b\b\b\b\b\b\b\b\b\b\b\b\b\b\b\b\b\b\b\b\b\b\b\b\b\b\b\b\b\b\b\b\b\b\b\b\b\b\r1\/1 [==============================] - 0s 4ms\/step - loss: 0.2515\n",
      "Epoch 15\/15\n",
      "\r1\/1 [==============================] - ETA: 0s - loss: 0.2512\b\b\b\b\b\b\b\b\b\b\b\b\b\b\b\b\b\b\b\b\b\b\b\b\b\b\b\b\b\b\b\b\b\b\b\b\b\b\b\b\b\b\b\b\b\b\b\b\b\b\b\b\b\b\b\b\b\b\b\b\b\r1\/1 [==============================] - 0s 3ms\/step - loss: 0.2512\n"
     ],
     "output_type":"stream"
    },
    {
     "data":{
      "text\/plain":[
       "<keras.callbacks.History at 0x7f287e6166a0>"
      ]
     },
     "metadata":{
      
     },
     "output_type":"display_data"
    }
   ],
   "metadata":{
    "datalore":{
     "node_id":"WpGRJXmbOMRVLGQYUFf0fJ",
     "type":"CODE",
     "hide_input_from_viewers":false,
     "hide_output_from_viewers":false,
     "report_properties":{
      "rowId":"aFRqGyXDjZVUJPS22aJWCJ"
     }
    }
   }
  },
  {
   "cell_type":"code",
   "source":[
    
   ],
   "execution_count":0,
   "outputs":[
    
   ],
   "metadata":{
    "datalore":{
     "node_id":"AZFGxrwgx8RlloSfOo9n6P",
     "type":"CODE",
     "hide_input_from_viewers":false,
     "hide_output_from_viewers":false,
     "report_properties":{
      "rowId":"mjtKp3mtRWpos9FcVYmTYE"
     }
    }
   }
  },
  {
   "cell_type":"markdown",
   "source":[
    "**TASK: Run the scaled data through only the encoder and predict the reduced dimensionalty output. Note: You will most likely get different results than us due to random initialiations.**"
   ],
   "attachments":{
    
   },
   "metadata":{
    "datalore":{
     "node_id":"hThskVuvp7dg1LFR5OyFJJ",
     "type":"MD",
     "hide_input_from_viewers":false,
     "hide_output_from_viewers":false,
     "report_properties":{
      "rowId":"Hwkou7SFfkpoXPQ7rfxu0v"
     }
    }
   }
  },
  {
   "cell_type":"code",
   "source":[
    "encoded_2dim = encoder.predict(df_scaled)"
   ],
   "execution_count":468,
   "outputs":[
    {
     "name":"stdout",
     "text":[
      "\r1\/1 [==============================] - ETA: 0s\b\b\b\b\b\b\b\b\b\b\b\b\b\b\b\b\b\b\b\b\b\b\b\b\b\b\b\b\b\b\b\b\b\b\b\b\b\b\b\b\b\b\b\b\b\b\r1\/1 [==============================] - 0s 64ms\/step\n"
     ],
     "output_type":"stream"
    }
   ],
   "metadata":{
    "datalore":{
     "node_id":"hNnQxb59AQ1lc3zOKOYQ5m",
     "type":"CODE",
     "hide_input_from_viewers":false,
     "hide_output_from_viewers":false,
     "report_properties":{
      "rowId":"q7Slv6NQ3Z8wIhPTQdC1Nn"
     }
    }
   }
  },
  {
   "cell_type":"code",
   "source":[
    "encoded_2dim"
   ],
   "execution_count":469,
   "outputs":[
    {
     "data":{
      "text\/html":[
       "<pre>array([[0.888326  , 0.66820776],\n",
       "       [1.3108449 , 0.9263606 ],\n",
       "       [0.83614904, 0.5685326 ],\n",
       "       [0.04914123, 0.        ]], dtype=float32)<\/pre>"
      ]
     },
     "metadata":{
      
     },
     "output_type":"display_data"
    }
   ],
   "metadata":{
    "datalore":{
     "node_id":"obbdBWcy5uUtLzKZVHlBWP",
     "type":"CODE",
     "hide_input_from_viewers":true,
     "hide_output_from_viewers":true
    }
   }
  },
  {
   "cell_type":"code",
   "source":[
    
   ],
   "execution_count":0,
   "outputs":[
    
   ],
   "metadata":{
    "datalore":{
     "node_id":"3QEUD7Pg5IFFJ5kSg4xDbu",
     "type":"CODE",
     "hide_input_from_viewers":false,
     "hide_output_from_viewers":false,
     "report_properties":{
      "rowId":"WSQ7Ma0cX4FW3AzPs20fed"
     }
    }
   }
  },
  {
   "cell_type":"markdown",
   "source":[
    "**TASK: Join the encoded 2 dimensional data with the original countries index. Triple check the index order to make sure its joined correctly. There are many ways to do this with pandas.**"
   ],
   "attachments":{
    
   },
   "metadata":{
    "datalore":{
     "node_id":"6limHOqTbhDGqaWelf8vJ0",
     "type":"MD",
     "hide_input_from_viewers":false,
     "hide_output_from_viewers":false,
     "report_properties":{
      "rowId":"p61EydLtRvLM4VZlCjF8ee"
     }
    }
   }
  },
  {
   "cell_type":"code",
   "source":[
    "# Join the encoded_2dim with the index names of df.transpose() \n",
    "# Convert encoded_2dim to DataFrame\n",
    "encoded_df = pd.DataFrame(data=encoded_2dim, index=df.index, columns=['C1','C2'])\n",
    "\n",
    "\n",
    "encoded_df"
   ],
   "execution_count":470,
   "outputs":[
    {
     "data":{
      "text\/html":[
       "<div>\n",
       "<style scoped>\n",
       "    .dataframe tbody tr th:only-of-type {\n",
       "        vertical-align: middle;\n",
       "    }\n",
       "\n",
       "    .dataframe tbody tr th {\n",
       "        vertical-align: top;\n",
       "    }\n",
       "\n",
       "    .dataframe thead th {\n",
       "        text-align: right;\n",
       "    }\n",
       "<\/style>\n",
       "<table border=\"1\" class=\"dataframe\">\n",
       "  <thead>\n",
       "    <tr style=\"text-align: right;\">\n",
       "      <th><\/th>\n",
       "      <th>C1<\/th>\n",
       "      <th>C2<\/th>\n",
       "    <\/tr>\n",
       "  <\/thead>\n",
       "  <tbody>\n",
       "    <tr>\n",
       "      <th>England<\/th>\n",
       "      <td>0.888326<\/td>\n",
       "      <td>0.668208<\/td>\n",
       "    <\/tr>\n",
       "    <tr>\n",
       "      <th>Wales<\/th>\n",
       "      <td>1.310845<\/td>\n",
       "      <td>0.926361<\/td>\n",
       "    <\/tr>\n",
       "    <tr>\n",
       "      <th>Scotland<\/th>\n",
       "      <td>0.836149<\/td>\n",
       "      <td>0.568533<\/td>\n",
       "    <\/tr>\n",
       "    <tr>\n",
       "      <th>N.Ireland<\/th>\n",
       "      <td>0.049141<\/td>\n",
       "      <td>0.000000<\/td>\n",
       "    <\/tr>\n",
       "  <\/tbody>\n",
       "<\/table>\n",
       "<\/div>"
      ]
     },
     "metadata":{
      
     },
     "output_type":"display_data"
    }
   ],
   "metadata":{
    "datalore":{
     "node_id":"EwPqZ5Vw4gIBHuIUcVZDXt",
     "type":"CODE",
     "hide_input_from_viewers":true,
     "hide_output_from_viewers":true
    }
   }
  },
  {
   "cell_type":"code",
   "source":[
    
   ],
   "execution_count":0,
   "outputs":[
    
   ],
   "metadata":{
    "datalore":{
     "node_id":"mWEFfvk8zvS5izAP5HTk7T",
     "type":"CODE",
     "hide_input_from_viewers":false,
     "hide_output_from_viewers":false,
     "report_properties":{
      "rowId":"NsJqpjjR0sEluX4QQlMQ37"
     }
    }
   }
  },
  {
   "cell_type":"code",
   "source":[
    "# give the columns in encoded_df names 'C1' and 'C2' \n",
    "## Task: Rename the columns in encoded_df from '0' and '1' to 'C1' and 'C2'\n",
    "\n",
    "column_names = {0: 'C1', 1: 'C2'}\n",
    "encoded_df.rename(columns = column_names, inplace = True)\n",
    "encoded_df"
   ],
   "execution_count":471,
   "outputs":[
    {
     "data":{
      "text\/html":[
       "<div>\n",
       "<style scoped>\n",
       "    .dataframe tbody tr th:only-of-type {\n",
       "        vertical-align: middle;\n",
       "    }\n",
       "\n",
       "    .dataframe tbody tr th {\n",
       "        vertical-align: top;\n",
       "    }\n",
       "\n",
       "    .dataframe thead th {\n",
       "        text-align: right;\n",
       "    }\n",
       "<\/style>\n",
       "<table border=\"1\" class=\"dataframe\">\n",
       "  <thead>\n",
       "    <tr style=\"text-align: right;\">\n",
       "      <th><\/th>\n",
       "      <th>C1<\/th>\n",
       "      <th>C2<\/th>\n",
       "    <\/tr>\n",
       "  <\/thead>\n",
       "  <tbody>\n",
       "    <tr>\n",
       "      <th>England<\/th>\n",
       "      <td>0.888326<\/td>\n",
       "      <td>0.668208<\/td>\n",
       "    <\/tr>\n",
       "    <tr>\n",
       "      <th>Wales<\/th>\n",
       "      <td>1.310845<\/td>\n",
       "      <td>0.926361<\/td>\n",
       "    <\/tr>\n",
       "    <tr>\n",
       "      <th>Scotland<\/th>\n",
       "      <td>0.836149<\/td>\n",
       "      <td>0.568533<\/td>\n",
       "    <\/tr>\n",
       "    <tr>\n",
       "      <th>N.Ireland<\/th>\n",
       "      <td>0.049141<\/td>\n",
       "      <td>0.000000<\/td>\n",
       "    <\/tr>\n",
       "  <\/tbody>\n",
       "<\/table>\n",
       "<\/div>"
      ]
     },
     "metadata":{
      
     },
     "output_type":"display_data"
    }
   ],
   "metadata":{
    "datalore":{
     "node_id":"dmj2YO8tZdxfnq1qgo80OL",
     "type":"CODE",
     "hide_input_from_viewers":true,
     "hide_output_from_viewers":true
    }
   }
  },
  {
   "cell_type":"code",
   "source":[
    
   ],
   "execution_count":0,
   "outputs":[
    
   ],
   "metadata":{
    "datalore":{
     "node_id":"ANTdq1fYhrvbSLnbqJ8d2n",
     "type":"CODE",
     "hide_input_from_viewers":true,
     "hide_output_from_viewers":true
    }
   }
  },
  {
   "cell_type":"code",
   "source":[
    
   ],
   "execution_count":0,
   "outputs":[
    
   ],
   "metadata":{
    "datalore":{
     "node_id":"WT5NFrzySjb5lFV4pC1CVm",
     "type":"CODE",
     "hide_input_from_viewers":false,
     "hide_output_from_viewers":false,
     "report_properties":{
      "rowId":"PfIIEadPII81bSIXYctkDX"
     }
    }
   }
  },
  {
   "cell_type":"markdown",
   "source":[
    "**TASK: Now plot out these results in a scatterplot, labeled by their respective country. You should see N. Ireland further away from the other points (but not necessarily to the left or the right, could be centered further away from the others).**"
   ],
   "attachments":{
    
   },
   "metadata":{
    "datalore":{
     "node_id":"m4z5ci5m5CjmpyoojpgjfC",
     "type":"MD",
     "hide_input_from_viewers":false,
     "hide_output_from_viewers":false,
     "report_properties":{
      "rowId":"RNNT7xqcfl3o6PFKFAnXvQ"
     }
    }
   }
  },
  {
   "cell_type":"code",
   "source":[
    "# repair code \n",
    "# Plotting scatterplot\n",
    "sns.scatterplot(data=encoded_df, x='C1', y='C2', hue=encoded_df.index)"
   ],
   "execution_count":472,
   "outputs":[
    {
     "data":{
      "text\/plain":[
       "<Axes: xlabel='C1', ylabel='C2'>"
      ]
     },
     "metadata":{
      
     },
     "output_type":"display_data"
    },
    {
     "data":{
      "image\/png":"[encoded data removed]"
     },
     "metadata":{
      "image\/png":{
       
      }
     },
     "output_type":"display_data"
    }
   ],
   "metadata":{
    "datalore":{
     "node_id":"ZXyKBiyxHbuUNqxLvWZtC9",
     "type":"CODE",
     "hide_input_from_viewers":true,
     "hide_output_from_viewers":true
    }
   }
  },
  {
   "cell_type":"code",
   "source":[
    
   ],
   "execution_count":0,
   "outputs":[
    
   ],
   "metadata":{
    "datalore":{
     "node_id":"lxqtxfCf2jCfNojVqtDFHQ",
     "type":"CODE",
     "hide_input_from_viewers":false,
     "hide_output_from_viewers":false,
     "report_properties":{
      "rowId":"be51gKiW8PWGdK86l2n2Th"
     }
    }
   }
  },
  {
   "cell_type":"markdown",
   "source":[
    " Once we go back and look at the data in the table, this makes sense: the Northern Irish eat way more grams of fresh potatoes and way fewer of fresh fruits, cheese, fish and alcoholic drinks. It's a good sign that structure we've visualized reflects a big fact of real-world geography: Northern Ireland is the only of the four countries not on the island of Great Britain. (If you're confused about the differences among England, the UK and Great Britain, see: this [video](https:\/\/www.youtube.com\/watch?v=rNu8XDBSn10).)"
   ],
   "attachments":{
    
   },
   "metadata":{
    "datalore":{
     "node_id":"jDemyKhEELZfub4Wx3mlQS",
     "type":"MD",
     "hide_input_from_viewers":false,
     "hide_output_from_viewers":false,
     "report_properties":{
      "rowId":"uTR82Ll59LYLpNb23Lj3Kt"
     }
    }
   }
  }
 ],
 "metadata":{
  "kernelspec":{
   "display_name":"Python",
   "language":"python",
   "name":"python"
  },
  "datalore":{
   "computation_mode":"JUPYTER",
   "package_manager":"pip",
   "base_environment":"default",
   "packages":[
    
   ],
   "report_row_ids":[
    "5xv4WPZOJaUsFRz9J1ABXP",
    "pAX2JyKq9lUDeA3t2gGrh2",
    "gpnt93D6JdzKiMOTrq2813",
    "aMEKOIVKLz9oMtuX0A7z0e",
    "1ZoFIauYVH3cAyeQc6giRX",
    "pwDbB7PTuOVBUpuKH1RyzM",
    "vpiYabkbNUspcNKHFE5oQi",
    "PlTI4HLx13os2h0I2ZhF76",
    "8lMzUwS7JlTM0b9lCuHtfE",
    "h9RcM42YNMzNjzmFZNxuFP",
    "URJuXIz9As2paK0us93viR",
    "huywmjBRjIpwwF1kcKcpEb",
    "2Asy3FXULSS6b8sd4k6eY2",
    "SPdSxraClptPmqWx30HePm",
    "BiAOW8IP4WwzfcXIrwTNjs",
    "4yBNv447A1UymsVMaqRKq2",
    "FaHqlNTmj3PJZSzTVkgMCd",
    "sj0oCn9m4WdKvTAtyJzm2n",
    "Fkll7Um2xZjiOaXgGq2Uja",
    "6OEh42TdZjt95xZlWiQOHA",
    "JuaioMtnxWyA7axGNVwR9D",
    "5Owuxc65sLn0ddlHZVojgb",
    "9de2J8mDhkBHBGw2pNtl7N",
    "Fq2E6lZ3lhaG2cMPnNEr7M",
    "nmV2EuZUzXLufncMpAUl9q",
    "WhlinuMKhmiO4G5w7JjFED",
    "aFRqGyXDjZVUJPS22aJWCJ",
    "mjtKp3mtRWpos9FcVYmTYE",
    "Hwkou7SFfkpoXPQ7rfxu0v",
    "q7Slv6NQ3Z8wIhPTQdC1Nn",
    "WSQ7Ma0cX4FW3AzPs20fed",
    "p61EydLtRvLM4VZlCjF8ee",
    "hXdxewrqfmxJuoHcqmEJpE",
    "NsJqpjjR0sEluX4QQlMQ37",
    "PfIIEadPII81bSIXYctkDX",
    "RNNT7xqcfl3o6PFKFAnXvQ",
    "RkK5vqzVaHmLNOdraeCSYo",
    "be51gKiW8PWGdK86l2n2Th",
    "uTR82Ll59LYLpNb23Lj3Kt"
   ],
   "version":3
  }
 },
 "nbformat":4,
 "nbformat_minor":4
}