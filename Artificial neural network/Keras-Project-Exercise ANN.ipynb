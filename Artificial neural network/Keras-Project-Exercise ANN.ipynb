{
 "cells":[
  {
   "cell_type":"markdown",
   "source":[
    "<a href=\"https:\/\/www.pieriandata.com\"><img src=\"..\/Pierian_Data_Logo.PNG\"><\/a>\n",
    "<strong><center>Copyright by Pierian Data Inc.<\/center><\/strong> \n",
    "<strong><center>Created by Jose Marcial Portilla.<\/center><\/strong>"
   ],
   "attachments":{
    
   },
   "metadata":{
    "datalore":{
     "node_id":"0f2EBsGj4CCd5R7owyexo5",
     "type":"MD",
     "hide_input_from_viewers":false,
     "hide_output_from_viewers":false,
     "report_properties":{
      "rowId":"qTY5tUKDlr18I5Db74HkSh"
     }
    }
   }
  },
  {
   "cell_type":"markdown",
   "source":[
    "# Keras API Project Exercise\n",
    "\n",
    "## The Data\n",
    "\n",
    "We will be using a subset of the LendingClub DataSet obtained from Kaggle: https:\/\/www.kaggle.com\/wordsforthewise\/lending-club\n",
    "\n",
    "## NOTE: Do not download the full zip from the link! We provide a special version of this file that has some extra feature engineering for you to do. You won't be able to follow along with the original file!\n",
    "\n",
    "LendingClub is a US peer-to-peer lending company, headquartered in San Francisco, California.[3] It was the first peer-to-peer lender to register its offerings as securities with the Securities and Exchange Commission (SEC), and to offer loan trading on a secondary market. LendingClub is the world's largest peer-to-peer lending platform.\n",
    "\n",
    "### Our Goal\n",
    "\n",
    "Given historical data on loans given out with information on whether or not the borrower defaulted (charge-off), can we build a model thatcan predict wether or nor a borrower will pay back their loan? This way in the future when we get a new potential customer we can assess whether or not they are likely to pay back the loan. Keep in mind classification metrics when evaluating the performance of your model!\n",
    "\n",
    "The \"loan_status\" column contains our label.\n",
    "\n",
    "### Data Overview"
   ],
   "attachments":{
    
   },
   "metadata":{
    "datalore":{
     "node_id":"snJPWRrnSle16CPxq5PRrO",
     "type":"MD",
     "hide_input_from_viewers":false,
     "hide_output_from_viewers":false,
     "report_properties":{
      "rowId":"9NDuJiLQ2zLJFeNjALM0t0"
     }
    }
   }
  },
  {
   "cell_type":"markdown",
   "source":[
    "----\n",
    "-----\n",
    "There are many LendingClub data sets on Kaggle. Here is the information on this particular data set:\n",
    "\n",
    "<table border=\"1\" class=\"dataframe\">\n",
    "  <thead>\n",
    "    <tr style=\"text-align: right;\">\n",
    "      <th><\/th>\n",
    "      <th>LoanStatNew<\/th>\n",
    "      <th>Description<\/th>\n",
    "    <\/tr>\n",
    "  <\/thead>\n",
    "  <tbody>\n",
    "    <tr>\n",
    "      <th>0<\/th>\n",
    "      <td>loan_amnt<\/td>\n",
    "      <td>The listed amount of the loan applied for by the borrower. If at some point in time, the credit department reduces the loan amount, then it will be reflected in this value.<\/td>\n",
    "    <\/tr>\n",
    "    <tr>\n",
    "      <th>1<\/th>\n",
    "      <td>term<\/td>\n",
    "      <td>The number of payments on the loan. Values are in months and can be either 36 or 60.<\/td>\n",
    "    <\/tr>\n",
    "    <tr>\n",
    "      <th>2<\/th>\n",
    "      <td>int_rate<\/td>\n",
    "      <td>Interest Rate on the loan<\/td>\n",
    "    <\/tr>\n",
    "    <tr>\n",
    "      <th>3<\/th>\n",
    "      <td>installment<\/td>\n",
    "      <td>The monthly payment owed by the borrower if the loan originates.<\/td>\n",
    "    <\/tr>\n",
    "    <tr>\n",
    "      <th>4<\/th>\n",
    "      <td>grade<\/td>\n",
    "      <td>LC assigned loan grade<\/td>\n",
    "    <\/tr>\n",
    "    <tr>\n",
    "      <th>5<\/th>\n",
    "      <td>sub_grade<\/td>\n",
    "      <td>LC assigned loan subgrade<\/td>\n",
    "    <\/tr>\n",
    "    <tr>\n",
    "      <th>6<\/th>\n",
    "      <td>emp_title<\/td>\n",
    "      <td>The job title supplied by the Borrower when applying for the loan.*<\/td>\n",
    "    <\/tr>\n",
    "    <tr>\n",
    "      <th>7<\/th>\n",
    "      <td>emp_length<\/td>\n",
    "      <td>Employment length in years. Possible values are between 0 and 10 where 0 means less than one year and 10 means ten or more years.<\/td>\n",
    "    <\/tr>\n",
    "    <tr>\n",
    "      <th>8<\/th>\n",
    "      <td>home_ownership<\/td>\n",
    "      <td>The home ownership status provided by the borrower during registration or obtained from the credit report. Our values are: RENT, OWN, MORTGAGE, OTHER<\/td>\n",
    "    <\/tr>\n",
    "    <tr>\n",
    "      <th>9<\/th>\n",
    "      <td>annual_inc<\/td>\n",
    "      <td>The self-reported annual income provided by the borrower during registration.<\/td>\n",
    "    <\/tr>\n",
    "    <tr>\n",
    "      <th>10<\/th>\n",
    "      <td>verification_status<\/td>\n",
    "      <td>Indicates if income was verified by LC, not verified, or if the income source was verified<\/td>\n",
    "    <\/tr>\n",
    "    <tr>\n",
    "      <th>11<\/th>\n",
    "      <td>issue_d<\/td>\n",
    "      <td>The month which the loan was funded<\/td>\n",
    "    <\/tr>\n",
    "    <tr>\n",
    "      <th>12<\/th>\n",
    "      <td>loan_status<\/td>\n",
    "      <td>Current status of the loan<\/td>\n",
    "    <\/tr>\n",
    "    <tr>\n",
    "      <th>13<\/th>\n",
    "      <td>purpose<\/td>\n",
    "      <td>A category provided by the borrower for the loan request.<\/td>\n",
    "    <\/tr>\n",
    "    <tr>\n",
    "      <th>14<\/th>\n",
    "      <td>title<\/td>\n",
    "      <td>The loan title provided by the borrower<\/td>\n",
    "    <\/tr>\n",
    "    <tr>\n",
    "      <th>15<\/th>\n",
    "      <td>zip_code<\/td>\n",
    "      <td>The first 3 numbers of the zip code provided by the borrower in the loan application.<\/td>\n",
    "    <\/tr>\n",
    "    <tr>\n",
    "      <th>16<\/th>\n",
    "      <td>addr_state<\/td>\n",
    "      <td>The state provided by the borrower in the loan application<\/td>\n",
    "    <\/tr>\n",
    "    <tr>\n",
    "      <th>17<\/th>\n",
    "      <td>dti<\/td>\n",
    "      <td>A ratio calculated using the borrower’s total monthly debt payments on the total debt obligations, excluding mortgage and the requested LC loan, divided by the borrower’s self-reported monthly income.<\/td>\n",
    "    <\/tr>\n",
    "    <tr>\n",
    "      <th>18<\/th>\n",
    "      <td>earliest_cr_line<\/td>\n",
    "      <td>The month the borrower's earliest reported credit line was opened<\/td>\n",
    "    <\/tr>\n",
    "    <tr>\n",
    "      <th>19<\/th>\n",
    "      <td>open_acc<\/td>\n",
    "      <td>The number of open credit lines in the borrower's credit file.<\/td>\n",
    "    <\/tr>\n",
    "    <tr>\n",
    "      <th>20<\/th>\n",
    "      <td>pub_rec<\/td>\n",
    "      <td>Number of derogatory public records<\/td>\n",
    "    <\/tr>\n",
    "    <tr>\n",
    "      <th>21<\/th>\n",
    "      <td>revol_bal<\/td>\n",
    "      <td>Total credit revolving balance<\/td>\n",
    "    <\/tr>\n",
    "    <tr>\n",
    "      <th>22<\/th>\n",
    "      <td>revol_util<\/td>\n",
    "      <td>Revolving line utilization rate, or the amount of credit the borrower is using relative to all available revolving credit.<\/td>\n",
    "    <\/tr>\n",
    "    <tr>\n",
    "      <th>23<\/th>\n",
    "      <td>total_acc<\/td>\n",
    "      <td>The total number of credit lines currently in the borrower's credit file<\/td>\n",
    "    <\/tr>\n",
    "    <tr>\n",
    "      <th>24<\/th>\n",
    "      <td>initial_list_status<\/td>\n",
    "      <td>The initial listing status of the loan. Possible values are – W, F<\/td>\n",
    "    <\/tr>\n",
    "    <tr>\n",
    "      <th>25<\/th>\n",
    "      <td>application_type<\/td>\n",
    "      <td>Indicates whether the loan is an individual application or a joint application with two co-borrowers<\/td>\n",
    "    <\/tr>\n",
    "    <tr>\n",
    "      <th>26<\/th>\n",
    "      <td>mort_acc<\/td>\n",
    "      <td>Number of mortgage accounts.<\/td>\n",
    "    <\/tr>\n",
    "    <tr>\n",
    "      <th>27<\/th>\n",
    "      <td>pub_rec_bankruptcies<\/td>\n",
    "      <td>Number of public record bankruptcies<\/td>\n",
    "    <\/tr>\n",
    "  <\/tbody>\n",
    "<\/table>\n",
    "\n",
    "---\n",
    "----"
   ],
   "attachments":{
    
   },
   "metadata":{
    "datalore":{
     "node_id":"tzoBs4Zj3g8Fxq35tMdO7u",
     "type":"MD",
     "hide_input_from_viewers":false,
     "hide_output_from_viewers":false,
     "report_properties":{
      "rowId":"PyriTMDwr6rXis3Od0PQVF"
     }
    }
   }
  },
  {
   "cell_type":"markdown",
   "source":[
    "## Starter Code\n",
    "\n",
    "#### Note: We also provide feature information on the data as a .csv file for easy lookup throughout the notebook:"
   ],
   "attachments":{
    
   },
   "metadata":{
    "datalore":{
     "node_id":"OeE0mBS1neDqd9q9M2jgw2",
     "type":"MD",
     "hide_input_from_viewers":false,
     "hide_output_from_viewers":false,
     "report_properties":{
      "rowId":"QRKJjzsYPMK2YjsP9M9Mde"
     }
    }
   }
  },
  {
   "cell_type":"code",
   "source":[
    "import pandas as pd"
   ],
   "execution_count":2,
   "outputs":[
    
   ],
   "metadata":{
    "datalore":{
     "node_id":"o5HsJJLbwhtfX5p6T1x2mD",
     "type":"CODE",
     "hide_input_from_viewers":false,
     "hide_output_from_viewers":false,
     "report_properties":{
      "rowId":"ScVjBQcPT9TwTiWIWf9E2X"
     }
    }
   }
  },
  {
   "cell_type":"code",
   "source":[
    "data_info = pd.read_csv('lending_club_info.csv',index_col='LoanStatNew')"
   ],
   "execution_count":3,
   "outputs":[
    
   ],
   "metadata":{
    "datalore":{
     "node_id":"H1sxEmqkVASLY25RJtBY8u",
     "type":"CODE",
     "hide_input_from_viewers":false,
     "hide_output_from_viewers":false,
     "report_properties":{
      "rowId":"kI7Jx5KLI4hcydlBRYDCT2"
     }
    }
   }
  },
  {
   "cell_type":"code",
   "source":[
    "print(data_info.loc['revol_util']['Description'])"
   ],
   "execution_count":4,
   "outputs":[
    {
     "name":"stdout",
     "text":[
      "Revolving line utilization rate, or the amount of credit the borrower is using relative to all available revolving credit.\n"
     ],
     "output_type":"stream"
    }
   ],
   "metadata":{
    "datalore":{
     "node_id":"nhuWt0i7vm57uEG0Yj9uWK",
     "type":"CODE",
     "hide_input_from_viewers":false,
     "hide_output_from_viewers":false,
     "report_properties":{
      "rowId":"r7TWxZ6FY04F0hTA4mxouN"
     }
    }
   }
  },
  {
   "cell_type":"code",
   "source":[
    "def feat_info(col_name):\n",
    "    print(data_info.loc[col_name]['Description'])"
   ],
   "execution_count":5,
   "outputs":[
    
   ],
   "metadata":{
    "datalore":{
     "node_id":"oHoJJp8ZNuzjzdI8TlsShn",
     "type":"CODE",
     "hide_input_from_viewers":false,
     "hide_output_from_viewers":false,
     "report_properties":{
      "rowId":"KOJsheX9adRQuHeVsUn7b9"
     }
    }
   }
  },
  {
   "cell_type":"code",
   "source":[
    "feat_info('mort_acc')"
   ],
   "execution_count":6,
   "outputs":[
    {
     "name":"stdout",
     "text":[
      "Number of mortgage accounts.\n"
     ],
     "output_type":"stream"
    }
   ],
   "metadata":{
    "datalore":{
     "node_id":"19H5gBqP6ZtMzr9ZHWkdYh",
     "type":"CODE",
     "hide_input_from_viewers":false,
     "hide_output_from_viewers":false,
     "report_properties":{
      "rowId":"0q93mzA5TMhBcY1sEVmTq7"
     }
    }
   }
  },
  {
   "cell_type":"markdown",
   "source":[
    "## Loading the data and other imports"
   ],
   "attachments":{
    
   },
   "metadata":{
    "datalore":{
     "node_id":"lxE80O92KvOPXWsdEpqvEv",
     "type":"MD",
     "hide_input_from_viewers":false,
     "hide_output_from_viewers":false,
     "report_properties":{
      "rowId":"vyBjPEdT6bMDueOsceXkAK"
     }
    }
   }
  },
  {
   "cell_type":"code",
   "source":[
    "import pandas as pd\n",
    "import numpy as np\n",
    "import matplotlib.pyplot as plt\n",
    "import seaborn as sns\n",
    "\n",
    "# might be needed depending on your version of Jupyter\n",
    "%matplotlib inline"
   ],
   "execution_count":7,
   "outputs":[
    
   ],
   "metadata":{
    "datalore":{
     "node_id":"29yGaWb1OPRhk9pa0OfO3L",
     "type":"CODE",
     "hide_input_from_viewers":false,
     "hide_output_from_viewers":false,
     "report_properties":{
      "rowId":"xCy1QgAw94o7e9jVLGX35l"
     }
    }
   }
  },
  {
   "cell_type":"code",
   "source":[
    "df = pd.read_csv('lending_club_loan_two.csv')\n",
    "df.head(5)"
   ],
   "execution_count":8,
   "outputs":[
    {
     "data":{
      "text\/html":[
       "<div>\n",
       "<style scoped>\n",
       "    .dataframe tbody tr th:only-of-type {\n",
       "        vertical-align: middle;\n",
       "    }\n",
       "\n",
       "    .dataframe tbody tr th {\n",
       "        vertical-align: top;\n",
       "    }\n",
       "\n",
       "    .dataframe thead th {\n",
       "        text-align: right;\n",
       "    }\n",
       "<\/style>\n",
       "<table border=\"1\" class=\"dataframe\">\n",
       "  <thead>\n",
       "    <tr style=\"text-align: right;\">\n",
       "      <th><\/th>\n",
       "      <th>loan_amnt<\/th>\n",
       "      <th>term<\/th>\n",
       "      <th>int_rate<\/th>\n",
       "      <th>installment<\/th>\n",
       "      <th>grade<\/th>\n",
       "      <th>sub_grade<\/th>\n",
       "      <th>emp_title<\/th>\n",
       "      <th>emp_length<\/th>\n",
       "      <th>home_ownership<\/th>\n",
       "      <th>annual_inc<\/th>\n",
       "      <th>...<\/th>\n",
       "      <th>open_acc<\/th>\n",
       "      <th>pub_rec<\/th>\n",
       "      <th>revol_bal<\/th>\n",
       "      <th>revol_util<\/th>\n",
       "      <th>total_acc<\/th>\n",
       "      <th>initial_list_status<\/th>\n",
       "      <th>application_type<\/th>\n",
       "      <th>mort_acc<\/th>\n",
       "      <th>pub_rec_bankruptcies<\/th>\n",
       "      <th>address<\/th>\n",
       "    <\/tr>\n",
       "  <\/thead>\n",
       "  <tbody>\n",
       "    <tr>\n",
       "      <th>0<\/th>\n",
       "      <td>10000.0<\/td>\n",
       "      <td>36 months<\/td>\n",
       "      <td>11.44<\/td>\n",
       "      <td>329.48<\/td>\n",
       "      <td>B<\/td>\n",
       "      <td>B4<\/td>\n",
       "      <td>Marketing<\/td>\n",
       "      <td>10+ years<\/td>\n",
       "      <td>RENT<\/td>\n",
       "      <td>117000.0<\/td>\n",
       "      <td>...<\/td>\n",
       "      <td>16.0<\/td>\n",
       "      <td>0.0<\/td>\n",
       "      <td>36369.0<\/td>\n",
       "      <td>41.8<\/td>\n",
       "      <td>25.0<\/td>\n",
       "      <td>w<\/td>\n",
       "      <td>INDIVIDUAL<\/td>\n",
       "      <td>0.0<\/td>\n",
       "      <td>0.0<\/td>\n",
       "      <td>0174 Michelle Gateway\\r\\nMendozaberg, OK 22690<\/td>\n",
       "    <\/tr>\n",
       "    <tr>\n",
       "      <th>1<\/th>\n",
       "      <td>8000.0<\/td>\n",
       "      <td>36 months<\/td>\n",
       "      <td>11.99<\/td>\n",
       "      <td>265.68<\/td>\n",
       "      <td>B<\/td>\n",
       "      <td>B5<\/td>\n",
       "      <td>Credit analyst<\/td>\n",
       "      <td>4 years<\/td>\n",
       "      <td>MORTGAGE<\/td>\n",
       "      <td>65000.0<\/td>\n",
       "      <td>...<\/td>\n",
       "      <td>17.0<\/td>\n",
       "      <td>0.0<\/td>\n",
       "      <td>20131.0<\/td>\n",
       "      <td>53.3<\/td>\n",
       "      <td>27.0<\/td>\n",
       "      <td>f<\/td>\n",
       "      <td>INDIVIDUAL<\/td>\n",
       "      <td>3.0<\/td>\n",
       "      <td>0.0<\/td>\n",
       "      <td>1076 Carney Fort Apt. 347\\r\\nLoganmouth, SD 05113<\/td>\n",
       "    <\/tr>\n",
       "    <tr>\n",
       "      <th>2<\/th>\n",
       "      <td>15600.0<\/td>\n",
       "      <td>36 months<\/td>\n",
       "      <td>10.49<\/td>\n",
       "      <td>506.97<\/td>\n",
       "      <td>B<\/td>\n",
       "      <td>B3<\/td>\n",
       "      <td>Statistician<\/td>\n",
       "      <td>&lt; 1 year<\/td>\n",
       "      <td>RENT<\/td>\n",
       "      <td>43057.0<\/td>\n",
       "      <td>...<\/td>\n",
       "      <td>13.0<\/td>\n",
       "      <td>0.0<\/td>\n",
       "      <td>11987.0<\/td>\n",
       "      <td>92.2<\/td>\n",
       "      <td>26.0<\/td>\n",
       "      <td>f<\/td>\n",
       "      <td>INDIVIDUAL<\/td>\n",
       "      <td>0.0<\/td>\n",
       "      <td>0.0<\/td>\n",
       "      <td>87025 Mark Dale Apt. 269\\r\\nNew Sabrina, WV 05113<\/td>\n",
       "    <\/tr>\n",
       "    <tr>\n",
       "      <th>3<\/th>\n",
       "      <td>7200.0<\/td>\n",
       "      <td>36 months<\/td>\n",
       "      <td>6.49<\/td>\n",
       "      <td>220.65<\/td>\n",
       "      <td>A<\/td>\n",
       "      <td>A2<\/td>\n",
       "      <td>Client Advocate<\/td>\n",
       "      <td>6 years<\/td>\n",
       "      <td>RENT<\/td>\n",
       "      <td>54000.0<\/td>\n",
       "      <td>...<\/td>\n",
       "      <td>6.0<\/td>\n",
       "      <td>0.0<\/td>\n",
       "      <td>5472.0<\/td>\n",
       "      <td>21.5<\/td>\n",
       "      <td>13.0<\/td>\n",
       "      <td>f<\/td>\n",
       "      <td>INDIVIDUAL<\/td>\n",
       "      <td>0.0<\/td>\n",
       "      <td>0.0<\/td>\n",
       "      <td>823 Reid Ford\\r\\nDelacruzside, MA 00813<\/td>\n",
       "    <\/tr>\n",
       "    <tr>\n",
       "      <th>4<\/th>\n",
       "      <td>24375.0<\/td>\n",
       "      <td>60 months<\/td>\n",
       "      <td>17.27<\/td>\n",
       "      <td>609.33<\/td>\n",
       "      <td>C<\/td>\n",
       "      <td>C5<\/td>\n",
       "      <td>Destiny Management Inc.<\/td>\n",
       "      <td>9 years<\/td>\n",
       "      <td>MORTGAGE<\/td>\n",
       "      <td>55000.0<\/td>\n",
       "      <td>...<\/td>\n",
       "      <td>13.0<\/td>\n",
       "      <td>0.0<\/td>\n",
       "      <td>24584.0<\/td>\n",
       "      <td>69.8<\/td>\n",
       "      <td>43.0<\/td>\n",
       "      <td>f<\/td>\n",
       "      <td>INDIVIDUAL<\/td>\n",
       "      <td>1.0<\/td>\n",
       "      <td>0.0<\/td>\n",
       "      <td>679 Luna Roads\\r\\nGreggshire, VA 11650<\/td>\n",
       "    <\/tr>\n",
       "  <\/tbody>\n",
       "<\/table>\n",
       "<p>5 rows × 27 columns<\/p>\n",
       "<\/div>"
      ]
     },
     "metadata":{
      
     },
     "output_type":"display_data"
    }
   ],
   "metadata":{
    "datalore":{
     "node_id":"nrEvEfOrVjVWMdMpI8dorS",
     "type":"CODE",
     "hide_input_from_viewers":false,
     "hide_output_from_viewers":false,
     "report_properties":{
      "rowId":"SyVb9WZyQqC91NjZqFjrug"
     }
    }
   }
  },
  {
   "cell_type":"code",
   "source":[
    "df.info()"
   ],
   "execution_count":9,
   "outputs":[
    {
     "name":"stdout",
     "text":[
      "<class 'pandas.core.frame.DataFrame'>\n",
      "RangeIndex: 396030 entries, 0 to 396029\n",
      "Data columns (total 27 columns):\n",
      " #   Column                Non-Null Count   Dtype  \n",
      "---  ------                --------------   -----  \n",
      " 0   loan_amnt             396030 non-null  float64\n",
      " 1   term                  396030 non-null  object \n",
      " 2   int_rate              396030 non-null  float64\n",
      " 3   installment           396030 non-null  float64\n",
      " 4   grade                 396030 non-null  object \n",
      " 5   sub_grade             396030 non-null  object \n",
      " 6   emp_title             373103 non-null  object \n",
      " 7   emp_length            377729 non-null  object \n",
      " 8   home_ownership        396030 non-null  object \n",
      " 9   annual_inc            396030 non-null  float64\n",
      " 10  verification_status   396030 non-null  object \n",
      " 11  issue_d               396030 non-null  object \n",
      " 12  loan_status           396030 non-null  object \n",
      " 13  purpose               396030 non-null  object \n",
      " 14  title                 394275 non-null  object \n",
      " 15  dti                   396030 non-null  float64\n",
      " 16  earliest_cr_line      396030 non-null  object \n",
      " 17  open_acc              396030 non-null  float64\n",
      " 18  pub_rec               396030 non-null  float64\n",
      " 19  revol_bal             396030 non-null  float64\n",
      " 20  revol_util            395754 non-null  float64\n",
      " 21  total_acc             396030 non-null  float64\n",
      " 22  initial_list_status   396030 non-null  object \n",
      " 23  application_type      396030 non-null  object \n",
      " 24  mort_acc              358235 non-null  float64\n",
      " 25  pub_rec_bankruptcies  395495 non-null  float64\n",
      " 26  address               396030 non-null  object \n",
      "dtypes: float64(12), object(15)\n",
      "memory usage: 81.6+ MB\n"
     ],
     "output_type":"stream"
    }
   ],
   "metadata":{
    "datalore":{
     "node_id":"YoNVSWWglAczk9Su1W3pDX",
     "type":"CODE",
     "hide_input_from_viewers":false,
     "hide_output_from_viewers":false,
     "report_properties":{
      "rowId":"azEfGTyX2F4MGweFVgtFBj"
     }
    }
   }
  },
  {
   "cell_type":"markdown",
   "source":[
    "# Project Tasks\n",
    "\n",
    "**Complete the tasks below! Keep in mind is usually more than one way to complete the task! Enjoy**\n",
    "\n",
    "-----\n",
    "------\n",
    "\n",
    "# Section 1: Exploratory Data Analysis\n",
    "\n",
    "**OVERALL GOAL: Get an understanding for which variables are important, view summary statistics, and visualize the data**\n",
    "\n",
    "\n",
    "----"
   ],
   "attachments":{
    
   },
   "metadata":{
    "datalore":{
     "node_id":"jGh3VRCnWRiA2HO8u2YDDd",
     "type":"MD",
     "hide_input_from_viewers":false,
     "hide_output_from_viewers":false,
     "report_properties":{
      "rowId":"rG3IZkWz1kmy4c0mX644Jp"
     }
    }
   }
  },
  {
   "cell_type":"markdown",
   "source":[
    "**TASK: Since we will be attempting to predict loan_status, create a countplot as shown below.**"
   ],
   "attachments":{
    
   },
   "metadata":{
    "datalore":{
     "node_id":"93dcQp9jt7ey6s2o449Jx0",
     "type":"MD",
     "hide_input_from_viewers":false,
     "hide_output_from_viewers":false,
     "report_properties":{
      "rowId":"snmKxIRsd3d6RC7D1QHt0n"
     }
    }
   }
  },
  {
   "cell_type":"code",
   "source":[
    "sns.countplot(data=df, x='loan_status')"
   ],
   "execution_count":10,
   "outputs":[
    {
     "data":{
      "text\/plain":[
       "<Axes: xlabel='loan_status', ylabel='count'>"
      ]
     },
     "metadata":{
      
     },
     "output_type":"display_data"
    },
    {
     "data":{
      "image\/png":"[encoded data removed]"
     },
     "metadata":{
      "image\/png":{
       
      }
     },
     "output_type":"display_data"
    }
   ],
   "metadata":{
    "datalore":{
     "node_id":"htBreLB0wjPL1BqmTTgF10",
     "type":"CODE",
     "hide_input_from_viewers":false,
     "hide_output_from_viewers":false,
     "report_properties":{
      "rowId":"OiOT56jmJSjlE2EN7S7yub"
     }
    }
   }
  },
  {
   "cell_type":"markdown",
   "source":[
    "**TASK: Create a histogram of the loan_amnt column.**"
   ],
   "attachments":{
    
   },
   "metadata":{
    "datalore":{
     "node_id":"6TpEO9FeHzKa9mu7u7H1o8",
     "type":"MD",
     "hide_input_from_viewers":false,
     "hide_output_from_viewers":false,
     "report_properties":{
      "rowId":"yeq8ipGRn1EF2sG6ZlZ25A"
     }
    }
   }
  },
  {
   "cell_type":"code",
   "source":[
    "sns.histplot(data=df, x='loan_amnt', bins=40, element='step')"
   ],
   "execution_count":11,
   "outputs":[
    {
     "data":{
      "text\/plain":[
       "<Axes: xlabel='loan_amnt', ylabel='Count'>"
      ]
     },
     "metadata":{
      
     },
     "output_type":"display_data"
    },
    {
     "data":{
      "image\/png":"[encoded data removed]"
     },
     "metadata":{
      "image\/png":{
       
      }
     },
     "output_type":"display_data"
    }
   ],
   "metadata":{
    "datalore":{
     "node_id":"0NUahwTOOHk71cjaznbohV",
     "type":"CODE",
     "hide_input_from_viewers":false,
     "hide_output_from_viewers":false,
     "report_properties":{
      "rowId":"IMgnPVefH3MOaduEeP8iI8"
     }
    }
   }
  },
  {
   "cell_type":"markdown",
   "source":[
    "**TASK: Let's explore correlation between the continuous feature variables. Calculate the correlation between all continuous numeric variables using .corr() method.**"
   ],
   "attachments":{
    
   },
   "metadata":{
    "datalore":{
     "node_id":"mdt58KglyOAwvFx77pMsIE",
     "type":"MD",
     "hide_input_from_viewers":false,
     "hide_output_from_viewers":false,
     "report_properties":{
      "rowId":"NLKF5qh8fKFvikObQeqN23"
     }
    }
   }
  },
  {
   "cell_type":"code",
   "source":[
    "df.corr(numeric_only=True)"
   ],
   "execution_count":12,
   "outputs":[
    {
     "data":{
      "text\/html":[
       "<div>\n",
       "<style scoped>\n",
       "    .dataframe tbody tr th:only-of-type {\n",
       "        vertical-align: middle;\n",
       "    }\n",
       "\n",
       "    .dataframe tbody tr th {\n",
       "        vertical-align: top;\n",
       "    }\n",
       "\n",
       "    .dataframe thead th {\n",
       "        text-align: right;\n",
       "    }\n",
       "<\/style>\n",
       "<table border=\"1\" class=\"dataframe\">\n",
       "  <thead>\n",
       "    <tr style=\"text-align: right;\">\n",
       "      <th><\/th>\n",
       "      <th>loan_amnt<\/th>\n",
       "      <th>int_rate<\/th>\n",
       "      <th>installment<\/th>\n",
       "      <th>annual_inc<\/th>\n",
       "      <th>dti<\/th>\n",
       "      <th>open_acc<\/th>\n",
       "      <th>pub_rec<\/th>\n",
       "      <th>revol_bal<\/th>\n",
       "      <th>revol_util<\/th>\n",
       "      <th>total_acc<\/th>\n",
       "      <th>mort_acc<\/th>\n",
       "      <th>pub_rec_bankruptcies<\/th>\n",
       "    <\/tr>\n",
       "  <\/thead>\n",
       "  <tbody>\n",
       "    <tr>\n",
       "      <th>loan_amnt<\/th>\n",
       "      <td>1.000000<\/td>\n",
       "      <td>0.168921<\/td>\n",
       "      <td>0.953929<\/td>\n",
       "      <td>0.336887<\/td>\n",
       "      <td>0.016636<\/td>\n",
       "      <td>0.198556<\/td>\n",
       "      <td>-0.077779<\/td>\n",
       "      <td>0.328320<\/td>\n",
       "      <td>0.099911<\/td>\n",
       "      <td>0.223886<\/td>\n",
       "      <td>0.222315<\/td>\n",
       "      <td>-0.106539<\/td>\n",
       "    <\/tr>\n",
       "    <tr>\n",
       "      <th>int_rate<\/th>\n",
       "      <td>0.168921<\/td>\n",
       "      <td>1.000000<\/td>\n",
       "      <td>0.162758<\/td>\n",
       "      <td>-0.056771<\/td>\n",
       "      <td>0.079038<\/td>\n",
       "      <td>0.011649<\/td>\n",
       "      <td>0.060986<\/td>\n",
       "      <td>-0.011280<\/td>\n",
       "      <td>0.293659<\/td>\n",
       "      <td>-0.036404<\/td>\n",
       "      <td>-0.082583<\/td>\n",
       "      <td>0.057450<\/td>\n",
       "    <\/tr>\n",
       "    <tr>\n",
       "      <th>installment<\/th>\n",
       "      <td>0.953929<\/td>\n",
       "      <td>0.162758<\/td>\n",
       "      <td>1.000000<\/td>\n",
       "      <td>0.330381<\/td>\n",
       "      <td>0.015786<\/td>\n",
       "      <td>0.188973<\/td>\n",
       "      <td>-0.067892<\/td>\n",
       "      <td>0.316455<\/td>\n",
       "      <td>0.123915<\/td>\n",
       "      <td>0.202430<\/td>\n",
       "      <td>0.193694<\/td>\n",
       "      <td>-0.098628<\/td>\n",
       "    <\/tr>\n",
       "    <tr>\n",
       "      <th>annual_inc<\/th>\n",
       "      <td>0.336887<\/td>\n",
       "      <td>-0.056771<\/td>\n",
       "      <td>0.330381<\/td>\n",
       "      <td>1.000000<\/td>\n",
       "      <td>-0.081685<\/td>\n",
       "      <td>0.136150<\/td>\n",
       "      <td>-0.013720<\/td>\n",
       "      <td>0.299773<\/td>\n",
       "      <td>0.027871<\/td>\n",
       "      <td>0.193023<\/td>\n",
       "      <td>0.236320<\/td>\n",
       "      <td>-0.050162<\/td>\n",
       "    <\/tr>\n",
       "    <tr>\n",
       "      <th>dti<\/th>\n",
       "      <td>0.016636<\/td>\n",
       "      <td>0.079038<\/td>\n",
       "      <td>0.015786<\/td>\n",
       "      <td>-0.081685<\/td>\n",
       "      <td>1.000000<\/td>\n",
       "      <td>0.136181<\/td>\n",
       "      <td>-0.017639<\/td>\n",
       "      <td>0.063571<\/td>\n",
       "      <td>0.088375<\/td>\n",
       "      <td>0.102128<\/td>\n",
       "      <td>-0.025439<\/td>\n",
       "      <td>-0.014558<\/td>\n",
       "    <\/tr>\n",
       "    <tr>\n",
       "      <th>open_acc<\/th>\n",
       "      <td>0.198556<\/td>\n",
       "      <td>0.011649<\/td>\n",
       "      <td>0.188973<\/td>\n",
       "      <td>0.136150<\/td>\n",
       "      <td>0.136181<\/td>\n",
       "      <td>1.000000<\/td>\n",
       "      <td>-0.018392<\/td>\n",
       "      <td>0.221192<\/td>\n",
       "      <td>-0.131420<\/td>\n",
       "      <td>0.680728<\/td>\n",
       "      <td>0.109205<\/td>\n",
       "      <td>-0.027732<\/td>\n",
       "    <\/tr>\n",
       "    <tr>\n",
       "      <th>pub_rec<\/th>\n",
       "      <td>-0.077779<\/td>\n",
       "      <td>0.060986<\/td>\n",
       "      <td>-0.067892<\/td>\n",
       "      <td>-0.013720<\/td>\n",
       "      <td>-0.017639<\/td>\n",
       "      <td>-0.018392<\/td>\n",
       "      <td>1.000000<\/td>\n",
       "      <td>-0.101664<\/td>\n",
       "      <td>-0.075910<\/td>\n",
       "      <td>0.019723<\/td>\n",
       "      <td>0.011552<\/td>\n",
       "      <td>0.699408<\/td>\n",
       "    <\/tr>\n",
       "    <tr>\n",
       "      <th>revol_bal<\/th>\n",
       "      <td>0.328320<\/td>\n",
       "      <td>-0.011280<\/td>\n",
       "      <td>0.316455<\/td>\n",
       "      <td>0.299773<\/td>\n",
       "      <td>0.063571<\/td>\n",
       "      <td>0.221192<\/td>\n",
       "      <td>-0.101664<\/td>\n",
       "      <td>1.000000<\/td>\n",
       "      <td>0.226346<\/td>\n",
       "      <td>0.191616<\/td>\n",
       "      <td>0.194925<\/td>\n",
       "      <td>-0.124532<\/td>\n",
       "    <\/tr>\n",
       "    <tr>\n",
       "      <th>revol_util<\/th>\n",
       "      <td>0.099911<\/td>\n",
       "      <td>0.293659<\/td>\n",
       "      <td>0.123915<\/td>\n",
       "      <td>0.027871<\/td>\n",
       "      <td>0.088375<\/td>\n",
       "      <td>-0.131420<\/td>\n",
       "      <td>-0.075910<\/td>\n",
       "      <td>0.226346<\/td>\n",
       "      <td>1.000000<\/td>\n",
       "      <td>-0.104273<\/td>\n",
       "      <td>0.007514<\/td>\n",
       "      <td>-0.086751<\/td>\n",
       "    <\/tr>\n",
       "    <tr>\n",
       "      <th>total_acc<\/th>\n",
       "      <td>0.223886<\/td>\n",
       "      <td>-0.036404<\/td>\n",
       "      <td>0.202430<\/td>\n",
       "      <td>0.193023<\/td>\n",
       "      <td>0.102128<\/td>\n",
       "      <td>0.680728<\/td>\n",
       "      <td>0.019723<\/td>\n",
       "      <td>0.191616<\/td>\n",
       "      <td>-0.104273<\/td>\n",
       "      <td>1.000000<\/td>\n",
       "      <td>0.381072<\/td>\n",
       "      <td>0.042035<\/td>\n",
       "    <\/tr>\n",
       "    <tr>\n",
       "      <th>mort_acc<\/th>\n",
       "      <td>0.222315<\/td>\n",
       "      <td>-0.082583<\/td>\n",
       "      <td>0.193694<\/td>\n",
       "      <td>0.236320<\/td>\n",
       "      <td>-0.025439<\/td>\n",
       "      <td>0.109205<\/td>\n",
       "      <td>0.011552<\/td>\n",
       "      <td>0.194925<\/td>\n",
       "      <td>0.007514<\/td>\n",
       "      <td>0.381072<\/td>\n",
       "      <td>1.000000<\/td>\n",
       "      <td>0.027239<\/td>\n",
       "    <\/tr>\n",
       "    <tr>\n",
       "      <th>pub_rec_bankruptcies<\/th>\n",
       "      <td>-0.106539<\/td>\n",
       "      <td>0.057450<\/td>\n",
       "      <td>-0.098628<\/td>\n",
       "      <td>-0.050162<\/td>\n",
       "      <td>-0.014558<\/td>\n",
       "      <td>-0.027732<\/td>\n",
       "      <td>0.699408<\/td>\n",
       "      <td>-0.124532<\/td>\n",
       "      <td>-0.086751<\/td>\n",
       "      <td>0.042035<\/td>\n",
       "      <td>0.027239<\/td>\n",
       "      <td>1.000000<\/td>\n",
       "    <\/tr>\n",
       "  <\/tbody>\n",
       "<\/table>\n",
       "<\/div>"
      ]
     },
     "metadata":{
      
     },
     "output_type":"display_data"
    }
   ],
   "metadata":{
    "datalore":{
     "node_id":"k3UHJR74tc9BhBCmTEf7kU",
     "type":"CODE",
     "hide_input_from_viewers":false,
     "hide_output_from_viewers":false,
     "report_properties":{
      "rowId":"lgddx74NBpbXCCESvqRHJe"
     }
    }
   }
  },
  {
   "cell_type":"markdown",
   "source":[
    "**TASK: Visualize this using a heatmap. Depending on your version of matplotlib, you may need to manually adjust the heatmap.**\n",
    "\n",
    "* [Heatmap info](https:\/\/seaborn.pydata.org\/generated\/seaborn.heatmap.html#seaborn.heatmap)\n",
    "* [Help with resizing](https:\/\/stackoverflow.com\/questions\/56942670\/matplotlib-seaborn-first-and-last-row-cut-in-half-of-heatmap-plot)"
   ],
   "attachments":{
    
   },
   "metadata":{
    "datalore":{
     "node_id":"Z1ek2kcrUHGeUfcNyRjckv",
     "type":"MD",
     "hide_input_from_viewers":false,
     "hide_output_from_viewers":false,
     "report_properties":{
      "rowId":"UC896hNC5oIvq3H6DpkQcQ"
     }
    }
   }
  },
  {
   "cell_type":"code",
   "source":[
    "plt.figure(figsize=(7,7))\n",
    "sns.heatmap(data=df.corr(numeric_only=True), cmap='viridis', annot=True,annot_kws={'size':8}, fmt='.1f')"
   ],
   "execution_count":13,
   "outputs":[
    {
     "data":{
      "text\/plain":[
       "<Axes: >"
      ]
     },
     "metadata":{
      
     },
     "output_type":"display_data"
    },
    {
     "data":{
      "image\/png":"[encoded data removed]"
     },
     "metadata":{
      "image\/png":{
       
      }
     },
     "output_type":"display_data"
    }
   ],
   "metadata":{
    "datalore":{
     "node_id":"jV0IAfxdcPwfb4dfBtAz4d",
     "type":"CODE",
     "hide_input_from_viewers":false,
     "hide_output_from_viewers":false,
     "report_properties":{
      "rowId":"rPdAzXqSjUSxpAnoJ2QTfw"
     }
    }
   }
  },
  {
   "cell_type":"markdown",
   "source":[
    "**TASK: You should have noticed almost perfect correlation with the \"installment\" feature. Explore this feature further. Print out their descriptions and perform a scatterplot between them. Does this relationship make sense to you? Do you think there is duplicate information here?**"
   ],
   "attachments":{
    
   },
   "metadata":{
    "datalore":{
     "node_id":"I9qgaWZpXLIzg772sCsm3C",
     "type":"MD",
     "hide_input_from_viewers":false,
     "hide_output_from_viewers":false,
     "report_properties":{
      "rowId":"UrOMk4nIJmEs7xpztBDt1m"
     }
    }
   }
  },
  {
   "cell_type":"code",
   "source":[
    "feat_info('installment')"
   ],
   "execution_count":14,
   "outputs":[
    {
     "name":"stdout",
     "text":[
      "The monthly payment owed by the borrower if the loan originates.\n"
     ],
     "output_type":"stream"
    }
   ],
   "metadata":{
    "datalore":{
     "node_id":"7JjOppwsP9zrVs5t3nslID",
     "type":"CODE",
     "hide_input_from_viewers":false,
     "hide_output_from_viewers":false,
     "report_properties":{
      "rowId":"Oa3Pe7yuhEQrWcMAtZs5X6"
     }
    }
   }
  },
  {
   "cell_type":"code",
   "source":[
    "feat_info('loan_amnt')"
   ],
   "execution_count":15,
   "outputs":[
    {
     "name":"stdout",
     "text":[
      "The listed amount of the loan applied for by the borrower. If at some point in time, the credit department reduces the loan amount, then it will be reflected in this value.\n"
     ],
     "output_type":"stream"
    }
   ],
   "metadata":{
    "datalore":{
     "node_id":"PYAGfDRsBD9WpoIVsCSjw7",
     "type":"CODE",
     "hide_input_from_viewers":true,
     "hide_output_from_viewers":true
    }
   }
  },
  {
   "cell_type":"code",
   "source":[
    "sns.scatterplot(data=df, x='installment', y='loan_amnt')"
   ],
   "execution_count":16,
   "outputs":[
    {
     "data":{
      "text\/plain":[
       "<Axes: xlabel='installment', ylabel='loan_amnt'>"
      ]
     },
     "metadata":{
      
     },
     "output_type":"display_data"
    },
    {
     "data":{
      "image\/png":"[encoded data removed]"
     },
     "metadata":{
      "image\/png":{
       
      }
     },
     "output_type":"display_data"
    }
   ],
   "metadata":{
    "datalore":{
     "node_id":"48wpbyEWytDinH5ytElF3e",
     "type":"CODE",
     "hide_input_from_viewers":true,
     "hide_output_from_viewers":true
    }
   }
  },
  {
   "cell_type":"markdown",
   "source":[
    "**TASK: Create a boxplot showing the relationship between the loan_status and the Loan Amount.**"
   ],
   "attachments":{
    
   },
   "metadata":{
    "datalore":{
     "node_id":"FF0pDjqW3b0JZdhKcLUvb1",
     "type":"MD",
     "hide_input_from_viewers":false,
     "hide_output_from_viewers":false,
     "report_properties":{
      "rowId":"6nMJQMTBSO7xbMJhpfAEsg"
     }
    }
   }
  },
  {
   "cell_type":"code",
   "source":[
    "sns.boxplot(data=df, x='loan_status', y='loan_amnt')"
   ],
   "execution_count":17,
   "outputs":[
    {
     "data":{
      "text\/plain":[
       "<Axes: xlabel='loan_status', ylabel='loan_amnt'>"
      ]
     },
     "metadata":{
      
     },
     "output_type":"display_data"
    },
    {
     "data":{
      "image\/png":"[encoded data removed]"
     },
     "metadata":{
      "image\/png":{
       
      }
     },
     "output_type":"display_data"
    }
   ],
   "metadata":{
    "datalore":{
     "node_id":"eU4M2KiGFRZKlpiQhIN6sF",
     "type":"CODE",
     "hide_input_from_viewers":false,
     "hide_output_from_viewers":false,
     "report_properties":{
      "rowId":"EO9TnV3GTR20yXrJIjt3mF"
     }
    }
   }
  },
  {
   "cell_type":"markdown",
   "source":[
    "**TASK: Calculate the summary statistics for the loan amount, grouped by the loan_status.**"
   ],
   "attachments":{
    
   },
   "metadata":{
    "datalore":{
     "node_id":"d5lLj3p98ugF9yZNm2APfs",
     "type":"MD",
     "hide_input_from_viewers":false,
     "hide_output_from_viewers":false,
     "report_properties":{
      "rowId":"JRIrg98yWIREmaAGSSUmyg"
     }
    }
   }
  },
  {
   "cell_type":"code",
   "source":[
    "df.groupby('loan_status')['loan_amnt'].describe()"
   ],
   "execution_count":18,
   "outputs":[
    {
     "data":{
      "text\/html":[
       "<div>\n",
       "<style scoped>\n",
       "    .dataframe tbody tr th:only-of-type {\n",
       "        vertical-align: middle;\n",
       "    }\n",
       "\n",
       "    .dataframe tbody tr th {\n",
       "        vertical-align: top;\n",
       "    }\n",
       "\n",
       "    .dataframe thead th {\n",
       "        text-align: right;\n",
       "    }\n",
       "<\/style>\n",
       "<table border=\"1\" class=\"dataframe\">\n",
       "  <thead>\n",
       "    <tr style=\"text-align: right;\">\n",
       "      <th><\/th>\n",
       "      <th>count<\/th>\n",
       "      <th>mean<\/th>\n",
       "      <th>std<\/th>\n",
       "      <th>min<\/th>\n",
       "      <th>25%<\/th>\n",
       "      <th>50%<\/th>\n",
       "      <th>75%<\/th>\n",
       "      <th>max<\/th>\n",
       "    <\/tr>\n",
       "    <tr>\n",
       "      <th>loan_status<\/th>\n",
       "      <th><\/th>\n",
       "      <th><\/th>\n",
       "      <th><\/th>\n",
       "      <th><\/th>\n",
       "      <th><\/th>\n",
       "      <th><\/th>\n",
       "      <th><\/th>\n",
       "      <th><\/th>\n",
       "    <\/tr>\n",
       "  <\/thead>\n",
       "  <tbody>\n",
       "    <tr>\n",
       "      <th>Charged Off<\/th>\n",
       "      <td>77673.0<\/td>\n",
       "      <td>15126.300967<\/td>\n",
       "      <td>8505.090557<\/td>\n",
       "      <td>1000.0<\/td>\n",
       "      <td>8525.0<\/td>\n",
       "      <td>14000.0<\/td>\n",
       "      <td>20000.0<\/td>\n",
       "      <td>40000.0<\/td>\n",
       "    <\/tr>\n",
       "    <tr>\n",
       "      <th>Fully Paid<\/th>\n",
       "      <td>318357.0<\/td>\n",
       "      <td>13866.878771<\/td>\n",
       "      <td>8302.319699<\/td>\n",
       "      <td>500.0<\/td>\n",
       "      <td>7500.0<\/td>\n",
       "      <td>12000.0<\/td>\n",
       "      <td>19225.0<\/td>\n",
       "      <td>40000.0<\/td>\n",
       "    <\/tr>\n",
       "  <\/tbody>\n",
       "<\/table>\n",
       "<\/div>"
      ]
     },
     "metadata":{
      
     },
     "output_type":"display_data"
    }
   ],
   "metadata":{
    "datalore":{
     "node_id":"VbyJujwP9fTSHSaG3ifNFi",
     "type":"CODE",
     "hide_input_from_viewers":true,
     "hide_output_from_viewers":true
    }
   }
  },
  {
   "cell_type":"markdown",
   "source":[
    "**TASK: Let's explore the Grade and SubGrade columns that LendingClub attributes to the loans. What are the unique possible grades and subgrades?**"
   ],
   "attachments":{
    
   },
   "metadata":{
    "datalore":{
     "node_id":"GxJkIsQIVgY2Hkzby3pKSg",
     "type":"MD",
     "hide_input_from_viewers":false,
     "hide_output_from_viewers":false,
     "report_properties":{
      "rowId":"CQYHAXiSUMFU8BzrVBkfRB"
     }
    }
   }
  },
  {
   "cell_type":"code",
   "source":[
    "df['grade'].unique().tolist()"
   ],
   "execution_count":19,
   "outputs":[
    {
     "data":{
      "text\/plain":[
       "['B', 'A', 'C', 'E', 'D', 'F', 'G']"
      ]
     },
     "metadata":{
      
     },
     "output_type":"display_data"
    }
   ],
   "metadata":{
    "datalore":{
     "node_id":"mdRZXlD9gSyadGGcSznl7j",
     "type":"CODE",
     "hide_input_from_viewers":false,
     "hide_output_from_viewers":false,
     "report_properties":{
      "rowId":"YrrWGBQSRSrvMEntEp43Ls"
     }
    }
   }
  },
  {
   "cell_type":"code",
   "source":[
    "\n",
    "sub_grade_oredered = np.sort(df['sub_grade'].unique()).tolist()\n",
    "sub_grade_oredered"
   ],
   "execution_count":20,
   "outputs":[
    {
     "data":{
      "text\/plain":[
       "['A1',\n",
       " 'A2',\n",
       " 'A3',\n",
       " 'A4',\n",
       " 'A5',\n",
       " 'B1',\n",
       " 'B2',\n",
       " 'B3',\n",
       " 'B4',\n",
       " 'B5',\n",
       " 'C1',\n",
       " 'C2',\n",
       " 'C3',\n",
       " 'C4',\n",
       " 'C5',\n",
       " 'D1',\n",
       " 'D2',\n",
       " 'D3',\n",
       " 'D4',\n",
       " 'D5',\n",
       " 'E1',\n",
       " 'E2',\n",
       " 'E3',\n",
       " 'E4',\n",
       " 'E5',\n",
       " 'F1',\n",
       " 'F2',\n",
       " 'F3',\n",
       " 'F4',\n",
       " 'F5',\n",
       " 'G1',\n",
       " 'G2',\n",
       " 'G3',\n",
       " 'G4',\n",
       " 'G5']"
      ]
     },
     "metadata":{
      
     },
     "output_type":"display_data"
    }
   ],
   "metadata":{
    "datalore":{
     "node_id":"Y2lmoXcM7uabzGz7pOGpcI",
     "type":"CODE",
     "hide_input_from_viewers":true,
     "hide_output_from_viewers":true
    }
   }
  },
  {
   "cell_type":"markdown",
   "source":[
    "**TASK: Create a countplot per grade. Set the hue to the loan_status label.**"
   ],
   "attachments":{
    
   },
   "metadata":{
    "datalore":{
     "node_id":"TaRSxWmge0yJKXIhozxncz",
     "type":"MD",
     "hide_input_from_viewers":false,
     "hide_output_from_viewers":false,
     "report_properties":{
      "rowId":"1K6GOCq79LNlk2f9uFaZC6"
     }
    }
   }
  },
  {
   "cell_type":"code",
   "source":[
    "sns.countplot(data=df, x='grade', hue='loan_status', order=['A','B','C','D','E','F','G'])"
   ],
   "execution_count":21,
   "outputs":[
    {
     "data":{
      "text\/plain":[
       "<Axes: xlabel='grade', ylabel='count'>"
      ]
     },
     "metadata":{
      
     },
     "output_type":"display_data"
    },
    {
     "data":{
      "image\/png":"[encoded data removed]"
     },
     "metadata":{
      "image\/png":{
       
      }
     },
     "output_type":"display_data"
    }
   ],
   "metadata":{
    "datalore":{
     "node_id":"wHgrFkZ9UFRDjpiVeviyo1",
     "type":"CODE",
     "hide_input_from_viewers":false,
     "hide_output_from_viewers":false,
     "report_properties":{
      "rowId":"WoiiaCAz2I8GE5EUib1NZt"
     }
    }
   }
  },
  {
   "cell_type":"markdown",
   "source":[
    "**TASK: Display a count plot per subgrade. You may need to resize for this plot and [reorder](https:\/\/seaborn.pydata.org\/generated\/seaborn.countplot.html#seaborn.countplot) the x axis. Feel free to edit the color palette. Explore both all loans made per subgrade as well being separated based on the loan_status. After creating this plot, go ahead and create a similar plot, but set hue=\"loan_status\"**"
   ],
   "attachments":{
    
   },
   "metadata":{
    "datalore":{
     "node_id":"Q5owBuBLIFLwjDykNV3sxn",
     "type":"MD",
     "hide_input_from_viewers":false,
     "hide_output_from_viewers":false,
     "report_properties":{
      "rowId":"nRRKm7gFshubvdCe9e1LFY"
     }
    }
   }
  },
  {
   "cell_type":"code",
   "source":[
    "sns.countplot(data=df, x='sub_grade', palette=\"blend:blue,red\", order=sub_grade_oredered)\n",
    "plt.xticks(rotation=90);"
   ],
   "execution_count":22,
   "outputs":[
    {
     "data":{
      "image\/png":"[encoded data removed]"
     },
     "metadata":{
      "image\/png":{
       
      }
     },
     "output_type":"display_data"
    }
   ],
   "metadata":{
    "datalore":{
     "node_id":"Ndb9Dk8k1SDwstn1f3Mj14",
     "type":"CODE",
     "hide_input_from_viewers":true,
     "hide_output_from_viewers":true
    }
   }
  },
  {
   "cell_type":"code",
   "source":[
    "sns.countplot(data=df, x='sub_grade', hue='loan_status', order=sub_grade_oredered)\n",
    "plt.xticks(rotation=90);"
   ],
   "execution_count":23,
   "outputs":[
    {
     "data":{
      "image\/png":"[encoded data removed]"
     },
     "metadata":{
      "image\/png":{
       
      }
     },
     "output_type":"display_data"
    }
   ],
   "metadata":{
    "datalore":{
     "node_id":"IES9VXuBbmjObzGTkqOyL1",
     "type":"CODE",
     "hide_input_from_viewers":false,
     "hide_output_from_viewers":false,
     "report_properties":{
      "rowId":"a966C5kdUJbOBcKI38JexW"
     }
    }
   }
  },
  {
   "cell_type":"markdown",
   "source":[
    "**TASK: It looks like F and G subgrades don't get paid back that often. Isloate those and recreate the countplot just for those subgrades.**"
   ],
   "attachments":{
    
   },
   "metadata":{
    "datalore":{
     "node_id":"J3RD6V1q8vwfIHADtXA9RV",
     "type":"MD",
     "hide_input_from_viewers":false,
     "hide_output_from_viewers":false,
     "report_properties":{
      "rowId":"n3OiLiu9PAX06g35pyoiCP"
     }
    }
   }
  },
  {
   "cell_type":"code",
   "source":[
    "\n",
    "df_subgrade = df[df['grade'].isin(['F', 'G'])] # select only 'F' and 'G' grades\n",
    "subgrade_fg_reordered = np.sort(df_subgrade['sub_grade'].unique()).tolist() #reorder subgrades\n",
    "\n",
    "sns.countplot(data=df_subgrade, x='sub_grade', hue='loan_status', order = subgrade_fg_reordered)\n",
    "plt.xticks(rotation=90);"
   ],
   "execution_count":24,
   "outputs":[
    {
     "data":{
      "image\/png":"[encoded data removed]"
     },
     "metadata":{
      "image\/png":{
       
      }
     },
     "output_type":"display_data"
    }
   ],
   "metadata":{
    "datalore":{
     "node_id":"0DNGikoUax6q4MiKRDPgDZ",
     "type":"CODE",
     "hide_input_from_viewers":true,
     "hide_output_from_viewers":true
    }
   }
  },
  {
   "cell_type":"markdown",
   "source":[
    "**TASK: Create a new column called 'loan_repaid' which will contain a 1 if the loan status was \"Fully Paid\" and a 0 if it was \"Charged Off\".**"
   ],
   "attachments":{
    
   },
   "metadata":{
    "datalore":{
     "node_id":"qL4TvFl3UdW0dLzOpqUQGQ",
     "type":"MD",
     "hide_input_from_viewers":false,
     "hide_output_from_viewers":false,
     "report_properties":{
      "rowId":"V6HT13HBVuhXovaebeuBzd"
     }
    }
   }
  },
  {
   "cell_type":"code",
   "source":[
    "df['loan_status'].unique()"
   ],
   "execution_count":25,
   "outputs":[
    {
     "data":{
      "text\/html":[
       "<pre>array(['Fully Paid', 'Charged Off'], dtype=object)<\/pre>"
      ]
     },
     "metadata":{
      
     },
     "output_type":"display_data"
    }
   ],
   "metadata":{
    "datalore":{
     "node_id":"zsQ9Hq58cndVpDfNIvdu5k",
     "type":"CODE",
     "hide_input_from_viewers":false,
     "hide_output_from_viewers":false,
     "report_properties":{
      "rowId":"YUUYm5W4zuyuODncWyqJep"
     }
    }
   }
  },
  {
   "cell_type":"code",
   "source":[
    "loan_repaid_map = {'Fully Paid': 1, 'Charged Off': 0}\n",
    "df['loan_repaid'] = df['loan_status'].map(loan_repaid_map)\n",
    "df[['loan_repaid', 'loan_status']]"
   ],
   "execution_count":26,
   "outputs":[
    {
     "data":{
      "text\/html":[
       "<div>\n",
       "<style scoped>\n",
       "    .dataframe tbody tr th:only-of-type {\n",
       "        vertical-align: middle;\n",
       "    }\n",
       "\n",
       "    .dataframe tbody tr th {\n",
       "        vertical-align: top;\n",
       "    }\n",
       "\n",
       "    .dataframe thead th {\n",
       "        text-align: right;\n",
       "    }\n",
       "<\/style>\n",
       "<table border=\"1\" class=\"dataframe\">\n",
       "  <thead>\n",
       "    <tr style=\"text-align: right;\">\n",
       "      <th><\/th>\n",
       "      <th>loan_repaid<\/th>\n",
       "      <th>loan_status<\/th>\n",
       "    <\/tr>\n",
       "  <\/thead>\n",
       "  <tbody>\n",
       "    <tr>\n",
       "      <th>0<\/th>\n",
       "      <td>1<\/td>\n",
       "      <td>Fully Paid<\/td>\n",
       "    <\/tr>\n",
       "    <tr>\n",
       "      <th>1<\/th>\n",
       "      <td>1<\/td>\n",
       "      <td>Fully Paid<\/td>\n",
       "    <\/tr>\n",
       "    <tr>\n",
       "      <th>2<\/th>\n",
       "      <td>1<\/td>\n",
       "      <td>Fully Paid<\/td>\n",
       "    <\/tr>\n",
       "    <tr>\n",
       "      <th>3<\/th>\n",
       "      <td>1<\/td>\n",
       "      <td>Fully Paid<\/td>\n",
       "    <\/tr>\n",
       "    <tr>\n",
       "      <th>4<\/th>\n",
       "      <td>0<\/td>\n",
       "      <td>Charged Off<\/td>\n",
       "    <\/tr>\n",
       "    <tr>\n",
       "      <th>...<\/th>\n",
       "      <td>...<\/td>\n",
       "      <td>...<\/td>\n",
       "    <\/tr>\n",
       "    <tr>\n",
       "      <th>396025<\/th>\n",
       "      <td>1<\/td>\n",
       "      <td>Fully Paid<\/td>\n",
       "    <\/tr>\n",
       "    <tr>\n",
       "      <th>396026<\/th>\n",
       "      <td>1<\/td>\n",
       "      <td>Fully Paid<\/td>\n",
       "    <\/tr>\n",
       "    <tr>\n",
       "      <th>396027<\/th>\n",
       "      <td>1<\/td>\n",
       "      <td>Fully Paid<\/td>\n",
       "    <\/tr>\n",
       "    <tr>\n",
       "      <th>396028<\/th>\n",
       "      <td>1<\/td>\n",
       "      <td>Fully Paid<\/td>\n",
       "    <\/tr>\n",
       "    <tr>\n",
       "      <th>396029<\/th>\n",
       "      <td>1<\/td>\n",
       "      <td>Fully Paid<\/td>\n",
       "    <\/tr>\n",
       "  <\/tbody>\n",
       "<\/table>\n",
       "<p>396030 rows × 2 columns<\/p>\n",
       "<\/div>"
      ]
     },
     "metadata":{
      
     },
     "output_type":"display_data"
    }
   ],
   "metadata":{
    "datalore":{
     "node_id":"Xvk9ZTmSqpZVjyzmknmVcc",
     "type":"CODE",
     "hide_input_from_viewers":true,
     "hide_output_from_viewers":true
    }
   }
  },
  {
   "cell_type":"markdown",
   "source":[
    "**CHALLENGE TASK: (Note this is hard, but can be done in one line!) Create a bar plot showing the correlation of the numeric features to the new loan_repaid column. [Helpful Link](https:\/\/pandas.pydata.org\/pandas-docs\/stable\/reference\/api\/pandas.DataFrame.plot.bar.html)**"
   ],
   "attachments":{
    
   },
   "metadata":{
    "datalore":{
     "node_id":"AlBpiaUwavo7PZIotHe5jJ",
     "type":"MD",
     "hide_input_from_viewers":false,
     "hide_output_from_viewers":false,
     "report_properties":{
      "rowId":"MJuMSaAKNEm8W1qBqzPPAI"
     }
    }
   }
  },
  {
   "cell_type":"code",
   "source":[
    "df_corr = df.corr(numeric_only=True)['loan_repaid'].sort_values().drop('loan_repaid').plot(kind='bar')"
   ],
   "execution_count":27,
   "outputs":[
    {
     "data":{
      "image\/png":"[encoded data removed]"
     },
     "metadata":{
      "image\/png":{
       
      }
     },
     "output_type":"display_data"
    }
   ],
   "metadata":{
    "datalore":{
     "node_id":"8UBNDtciXlxFKq2gAe6gOJ",
     "type":"CODE",
     "hide_input_from_viewers":true,
     "hide_output_from_viewers":true
    }
   }
  },
  {
   "cell_type":"markdown",
   "source":[
    "---\n",
    "---\n",
    "# Section 2: Data PreProcessing\n",
    "\n",
    "**Section Goals: Remove or fill any missing data. Remove unnecessary or repetitive features. Convert categorical string features to dummy variables.**\n"
   ],
   "attachments":{
    
   },
   "metadata":{
    "datalore":{
     "node_id":"nBphfJLtyFUB0BA8xtL0we",
     "type":"MD",
     "hide_input_from_viewers":false,
     "hide_output_from_viewers":false,
     "report_properties":{
      "rowId":"ZflI3UXnnrauKgZXpjzaZJ"
     }
    }
   }
  },
  {
   "cell_type":"markdown",
   "source":[
    "# Missing Data\n",
    "\n",
    "**Let's explore this missing data columns. We use a variety of factors to decide whether or not they would be useful, to see if we should keep, discard, or fill in the missing data.**"
   ],
   "attachments":{
    
   },
   "metadata":{
    "datalore":{
     "node_id":"V8elUHcyRM83JaIkzHysdt",
     "type":"MD",
     "hide_input_from_viewers":false,
     "hide_output_from_viewers":false,
     "report_properties":{
      "rowId":"UUU9mrPzTWeMgTdOu64wfh"
     }
    }
   }
  },
  {
   "cell_type":"markdown",
   "source":[
    "**TASK: What is the length of the dataframe?**"
   ],
   "attachments":{
    
   },
   "metadata":{
    "datalore":{
     "node_id":"nf4VvDR5diPAAuJ74wsyQ6",
     "type":"MD",
     "hide_input_from_viewers":false,
     "hide_output_from_viewers":false,
     "report_properties":{
      "rowId":"j62dA3RPNJdHx6jXQuCAHn"
     }
    }
   }
  },
  {
   "cell_type":"code",
   "source":[
    "len(df)"
   ],
   "execution_count":28,
   "outputs":[
    {
     "data":{
      "text\/plain":[
       "396030"
      ]
     },
     "metadata":{
      
     },
     "output_type":"display_data"
    }
   ],
   "metadata":{
    "datalore":{
     "node_id":"pPXPz6mGRWekAs6N9O5qfW",
     "type":"CODE",
     "hide_input_from_viewers":false,
     "hide_output_from_viewers":false,
     "report_properties":{
      "rowId":"LpfeP5oPNyq9tqmfdwnBoB"
     }
    }
   }
  },
  {
   "cell_type":"markdown",
   "source":[
    "**TASK: Create a Series that displays the total count of missing values per column.**"
   ],
   "attachments":{
    
   },
   "metadata":{
    "datalore":{
     "node_id":"ELwzFjeX0zXYxVEYnIxHDU",
     "type":"MD",
     "hide_input_from_viewers":false,
     "hide_output_from_viewers":false,
     "report_properties":{
      "rowId":"IeW8qtVYPpnOi0OHLwprz0"
     }
    }
   }
  },
  {
   "cell_type":"code",
   "source":[
    "df.isnull().sum()"
   ],
   "execution_count":29,
   "outputs":[
    {
     "data":{
      "text\/html":[
       "<pre>loan_amnt                   0\n",
       "term                        0\n",
       "int_rate                    0\n",
       "installment                 0\n",
       "grade                       0\n",
       "sub_grade                   0\n",
       "emp_title               22927\n",
       "emp_length              18301\n",
       "home_ownership              0\n",
       "annual_inc                  0\n",
       "verification_status         0\n",
       "issue_d                     0\n",
       "loan_status                 0\n",
       "purpose                     0\n",
       "title                    1755\n",
       "dti                         0\n",
       "earliest_cr_line            0\n",
       "open_acc                    0\n",
       "pub_rec                     0\n",
       "revol_bal                   0\n",
       "revol_util                276\n",
       "total_acc                   0\n",
       "initial_list_status         0\n",
       "application_type            0\n",
       "mort_acc                37795\n",
       "pub_rec_bankruptcies      535\n",
       "address                     0\n",
       "loan_repaid                 0\n",
       "dtype: int64<\/pre>"
      ]
     },
     "metadata":{
      
     },
     "output_type":"display_data"
    }
   ],
   "metadata":{
    "datalore":{
     "node_id":"cFDbjKEuROgiqGE0WMQCC0",
     "type":"CODE",
     "hide_input_from_viewers":false,
     "hide_output_from_viewers":false,
     "report_properties":{
      "rowId":"wHcRm1caoHgl9sQlGAw7Bx"
     }
    }
   }
  },
  {
   "cell_type":"markdown",
   "source":[
    "**TASK: Convert this Series to be in term of percentage of the total DataFrame**"
   ],
   "attachments":{
    
   },
   "metadata":{
    "datalore":{
     "node_id":"P4LcK2tCkNU8JEKpqtBXj6",
     "type":"MD",
     "hide_input_from_viewers":false,
     "hide_output_from_viewers":false,
     "report_properties":{
      "rowId":"0UHeHTuYmfizdk4Q0amWyv"
     }
    }
   }
  },
  {
   "cell_type":"code",
   "source":[
    "null_series_percentage = (df.isnull().sum() \/ len(df)) * 100\n",
    "null_series_percentage"
   ],
   "execution_count":30,
   "outputs":[
    {
     "data":{
      "text\/html":[
       "<pre>loan_amnt               0.000000\n",
       "term                    0.000000\n",
       "int_rate                0.000000\n",
       "installment             0.000000\n",
       "grade                   0.000000\n",
       "sub_grade               0.000000\n",
       "emp_title               5.789208\n",
       "emp_length              4.621115\n",
       "home_ownership          0.000000\n",
       "annual_inc              0.000000\n",
       "verification_status     0.000000\n",
       "issue_d                 0.000000\n",
       "loan_status             0.000000\n",
       "purpose                 0.000000\n",
       "title                   0.443148\n",
       "dti                     0.000000\n",
       "earliest_cr_line        0.000000\n",
       "open_acc                0.000000\n",
       "pub_rec                 0.000000\n",
       "revol_bal               0.000000\n",
       "revol_util              0.069692\n",
       "total_acc               0.000000\n",
       "initial_list_status     0.000000\n",
       "application_type        0.000000\n",
       "mort_acc                9.543469\n",
       "pub_rec_bankruptcies    0.135091\n",
       "address                 0.000000\n",
       "loan_repaid             0.000000\n",
       "dtype: float64<\/pre>"
      ]
     },
     "metadata":{
      
     },
     "output_type":"display_data"
    }
   ],
   "metadata":{
    "datalore":{
     "node_id":"Lo0noRBoR7uVE8MNcGDL5B",
     "type":"CODE",
     "hide_input_from_viewers":true,
     "hide_output_from_viewers":true
    }
   }
  },
  {
   "cell_type":"markdown",
   "source":[
    "**TASK: Let's examine emp_title and emp_length to see whether it will be okay to drop them. Print out their feature information using the feat_info() function from the top of this notebook.**"
   ],
   "attachments":{
    
   },
   "metadata":{
    "datalore":{
     "node_id":"ZRBRus62FSejuHe7vzVKA9",
     "type":"MD",
     "hide_input_from_viewers":false,
     "hide_output_from_viewers":false,
     "report_properties":{
      "rowId":"VOlDhfZ2Slrnb0NpVs639E"
     }
    }
   }
  },
  {
   "cell_type":"code",
   "source":[
    "feat_info('emp_title')\n",
    "feat_info('emp_length')"
   ],
   "execution_count":31,
   "outputs":[
    {
     "name":"stdout",
     "text":[
      "The job title supplied by the Borrower when applying for the loan.*\n",
      "Employment length in years. Possible values are between 0 and 10 where 0 means less than one year and 10 means ten or more years. \n"
     ],
     "output_type":"stream"
    }
   ],
   "metadata":{
    "datalore":{
     "node_id":"0o5IqWXKd70PfQrWMxR9Ro",
     "type":"CODE",
     "hide_input_from_viewers":false,
     "hide_output_from_viewers":false,
     "report_properties":{
      "rowId":"4sHINhsWKZY1YEhntLwr5v"
     }
    }
   }
  },
  {
   "cell_type":"markdown",
   "source":[
    "**TASK: How many unique employment job titles are there?**"
   ],
   "attachments":{
    
   },
   "metadata":{
    "datalore":{
     "node_id":"ivqbNFIyzKjVJr7Ps0ho1a",
     "type":"MD",
     "hide_input_from_viewers":false,
     "hide_output_from_viewers":false,
     "report_properties":{
      "rowId":"kixyQpbcAmNZ7zzaTrySTq"
     }
    }
   }
  },
  {
   "cell_type":"code",
   "source":[
    "len(df['emp_title'].unique())"
   ],
   "execution_count":32,
   "outputs":[
    {
     "data":{
      "text\/plain":[
       "173106"
      ]
     },
     "metadata":{
      
     },
     "output_type":"display_data"
    }
   ],
   "metadata":{
    "datalore":{
     "node_id":"NmGFFevGltcVvnio17CAfY",
     "type":"CODE",
     "hide_input_from_viewers":true,
     "hide_output_from_viewers":true
    }
   }
  },
  {
   "cell_type":"code",
   "source":[
    "df['emp_title'].value_counts()"
   ],
   "execution_count":33,
   "outputs":[
    {
     "data":{
      "text\/html":[
       "<pre>Teacher                    4389\n",
       "Manager                    4250\n",
       "Registered Nurse           1856\n",
       "RN                         1846\n",
       "Supervisor                 1830\n",
       "                           ... \n",
       "Postman                       1\n",
       "McCarthy & Holthus, LLC       1\n",
       "jp flooring                   1\n",
       "Histology Technologist        1\n",
       "Gracon Services, Inc          1\n",
       "Name: emp_title, Length: 173105, dtype: int64<\/pre>"
      ]
     },
     "metadata":{
      
     },
     "output_type":"display_data"
    }
   ],
   "metadata":{
    "datalore":{
     "node_id":"czyyALBypatF1Q14wse9XE",
     "type":"CODE",
     "hide_input_from_viewers":true,
     "hide_output_from_viewers":true
    }
   }
  },
  {
   "cell_type":"markdown",
   "source":[
    "**TASK: Realistically there are too many unique job titles to try to convert this to a dummy variable feature. Let's remove that emp_title column.**"
   ],
   "attachments":{
    
   },
   "metadata":{
    "datalore":{
     "node_id":"DbmHzWInk31pLTqW9r5npa",
     "type":"MD",
     "hide_input_from_viewers":false,
     "hide_output_from_viewers":false,
     "report_properties":{
      "rowId":"2S1z2TQao9cwfPJqsfcMn0"
     }
    }
   }
  },
  {
   "cell_type":"code",
   "source":[
    "df = df.drop('emp_title', axis=1)\n",
    "df.head()"
   ],
   "execution_count":34,
   "outputs":[
    {
     "data":{
      "text\/html":[
       "<div>\n",
       "<style scoped>\n",
       "    .dataframe tbody tr th:only-of-type {\n",
       "        vertical-align: middle;\n",
       "    }\n",
       "\n",
       "    .dataframe tbody tr th {\n",
       "        vertical-align: top;\n",
       "    }\n",
       "\n",
       "    .dataframe thead th {\n",
       "        text-align: right;\n",
       "    }\n",
       "<\/style>\n",
       "<table border=\"1\" class=\"dataframe\">\n",
       "  <thead>\n",
       "    <tr style=\"text-align: right;\">\n",
       "      <th><\/th>\n",
       "      <th>loan_amnt<\/th>\n",
       "      <th>term<\/th>\n",
       "      <th>int_rate<\/th>\n",
       "      <th>installment<\/th>\n",
       "      <th>grade<\/th>\n",
       "      <th>sub_grade<\/th>\n",
       "      <th>emp_length<\/th>\n",
       "      <th>home_ownership<\/th>\n",
       "      <th>annual_inc<\/th>\n",
       "      <th>verification_status<\/th>\n",
       "      <th>...<\/th>\n",
       "      <th>pub_rec<\/th>\n",
       "      <th>revol_bal<\/th>\n",
       "      <th>revol_util<\/th>\n",
       "      <th>total_acc<\/th>\n",
       "      <th>initial_list_status<\/th>\n",
       "      <th>application_type<\/th>\n",
       "      <th>mort_acc<\/th>\n",
       "      <th>pub_rec_bankruptcies<\/th>\n",
       "      <th>address<\/th>\n",
       "      <th>loan_repaid<\/th>\n",
       "    <\/tr>\n",
       "  <\/thead>\n",
       "  <tbody>\n",
       "    <tr>\n",
       "      <th>0<\/th>\n",
       "      <td>10000.0<\/td>\n",
       "      <td>36 months<\/td>\n",
       "      <td>11.44<\/td>\n",
       "      <td>329.48<\/td>\n",
       "      <td>B<\/td>\n",
       "      <td>B4<\/td>\n",
       "      <td>10+ years<\/td>\n",
       "      <td>RENT<\/td>\n",
       "      <td>117000.0<\/td>\n",
       "      <td>Not Verified<\/td>\n",
       "      <td>...<\/td>\n",
       "      <td>0.0<\/td>\n",
       "      <td>36369.0<\/td>\n",
       "      <td>41.8<\/td>\n",
       "      <td>25.0<\/td>\n",
       "      <td>w<\/td>\n",
       "      <td>INDIVIDUAL<\/td>\n",
       "      <td>0.0<\/td>\n",
       "      <td>0.0<\/td>\n",
       "      <td>0174 Michelle Gateway\\r\\nMendozaberg, OK 22690<\/td>\n",
       "      <td>1<\/td>\n",
       "    <\/tr>\n",
       "    <tr>\n",
       "      <th>1<\/th>\n",
       "      <td>8000.0<\/td>\n",
       "      <td>36 months<\/td>\n",
       "      <td>11.99<\/td>\n",
       "      <td>265.68<\/td>\n",
       "      <td>B<\/td>\n",
       "      <td>B5<\/td>\n",
       "      <td>4 years<\/td>\n",
       "      <td>MORTGAGE<\/td>\n",
       "      <td>65000.0<\/td>\n",
       "      <td>Not Verified<\/td>\n",
       "      <td>...<\/td>\n",
       "      <td>0.0<\/td>\n",
       "      <td>20131.0<\/td>\n",
       "      <td>53.3<\/td>\n",
       "      <td>27.0<\/td>\n",
       "      <td>f<\/td>\n",
       "      <td>INDIVIDUAL<\/td>\n",
       "      <td>3.0<\/td>\n",
       "      <td>0.0<\/td>\n",
       "      <td>1076 Carney Fort Apt. 347\\r\\nLoganmouth, SD 05113<\/td>\n",
       "      <td>1<\/td>\n",
       "    <\/tr>\n",
       "    <tr>\n",
       "      <th>2<\/th>\n",
       "      <td>15600.0<\/td>\n",
       "      <td>36 months<\/td>\n",
       "      <td>10.49<\/td>\n",
       "      <td>506.97<\/td>\n",
       "      <td>B<\/td>\n",
       "      <td>B3<\/td>\n",
       "      <td>&lt; 1 year<\/td>\n",
       "      <td>RENT<\/td>\n",
       "      <td>43057.0<\/td>\n",
       "      <td>Source Verified<\/td>\n",
       "      <td>...<\/td>\n",
       "      <td>0.0<\/td>\n",
       "      <td>11987.0<\/td>\n",
       "      <td>92.2<\/td>\n",
       "      <td>26.0<\/td>\n",
       "      <td>f<\/td>\n",
       "      <td>INDIVIDUAL<\/td>\n",
       "      <td>0.0<\/td>\n",
       "      <td>0.0<\/td>\n",
       "      <td>87025 Mark Dale Apt. 269\\r\\nNew Sabrina, WV 05113<\/td>\n",
       "      <td>1<\/td>\n",
       "    <\/tr>\n",
       "    <tr>\n",
       "      <th>3<\/th>\n",
       "      <td>7200.0<\/td>\n",
       "      <td>36 months<\/td>\n",
       "      <td>6.49<\/td>\n",
       "      <td>220.65<\/td>\n",
       "      <td>A<\/td>\n",
       "      <td>A2<\/td>\n",
       "      <td>6 years<\/td>\n",
       "      <td>RENT<\/td>\n",
       "      <td>54000.0<\/td>\n",
       "      <td>Not Verified<\/td>\n",
       "      <td>...<\/td>\n",
       "      <td>0.0<\/td>\n",
       "      <td>5472.0<\/td>\n",
       "      <td>21.5<\/td>\n",
       "      <td>13.0<\/td>\n",
       "      <td>f<\/td>\n",
       "      <td>INDIVIDUAL<\/td>\n",
       "      <td>0.0<\/td>\n",
       "      <td>0.0<\/td>\n",
       "      <td>823 Reid Ford\\r\\nDelacruzside, MA 00813<\/td>\n",
       "      <td>1<\/td>\n",
       "    <\/tr>\n",
       "    <tr>\n",
       "      <th>4<\/th>\n",
       "      <td>24375.0<\/td>\n",
       "      <td>60 months<\/td>\n",
       "      <td>17.27<\/td>\n",
       "      <td>609.33<\/td>\n",
       "      <td>C<\/td>\n",
       "      <td>C5<\/td>\n",
       "      <td>9 years<\/td>\n",
       "      <td>MORTGAGE<\/td>\n",
       "      <td>55000.0<\/td>\n",
       "      <td>Verified<\/td>\n",
       "      <td>...<\/td>\n",
       "      <td>0.0<\/td>\n",
       "      <td>24584.0<\/td>\n",
       "      <td>69.8<\/td>\n",
       "      <td>43.0<\/td>\n",
       "      <td>f<\/td>\n",
       "      <td>INDIVIDUAL<\/td>\n",
       "      <td>1.0<\/td>\n",
       "      <td>0.0<\/td>\n",
       "      <td>679 Luna Roads\\r\\nGreggshire, VA 11650<\/td>\n",
       "      <td>0<\/td>\n",
       "    <\/tr>\n",
       "  <\/tbody>\n",
       "<\/table>\n",
       "<p>5 rows × 27 columns<\/p>\n",
       "<\/div>"
      ]
     },
     "metadata":{
      
     },
     "output_type":"display_data"
    }
   ],
   "metadata":{
    "datalore":{
     "node_id":"f1nb0T8qvwbyFHBXTxDUL8",
     "type":"CODE",
     "hide_input_from_viewers":true,
     "hide_output_from_viewers":true
    }
   }
  },
  {
   "cell_type":"markdown",
   "source":[
    "**TASK: Create a count plot of the emp_length feature column. Challenge: Sort the order of the values.**"
   ],
   "attachments":{
    
   },
   "metadata":{
    "datalore":{
     "node_id":"olRofWK2ittBC5G0hsB3O3",
     "type":"MD",
     "hide_input_from_viewers":false,
     "hide_output_from_viewers":false,
     "report_properties":{
      "rowId":"7P1xTsb1M6Hh1qE2FvfF6s"
     }
    }
   }
  },
  {
   "cell_type":"code",
   "source":[
    "years_orderer = np.sort(df['emp_length'].dropna().unique()).tolist()\n",
    "years_orderer"
   ],
   "execution_count":35,
   "outputs":[
    {
     "data":{
      "text\/plain":[
       "['1 year',\n",
       " '10+ years',\n",
       " '2 years',\n",
       " '3 years',\n",
       " '4 years',\n",
       " '5 years',\n",
       " '6 years',\n",
       " '7 years',\n",
       " '8 years',\n",
       " '9 years',\n",
       " '< 1 year']"
      ]
     },
     "metadata":{
      
     },
     "output_type":"display_data"
    }
   ],
   "metadata":{
    "datalore":{
     "node_id":"YvT5yvgFH1vuY2ScqpkSVJ",
     "type":"CODE",
     "hide_input_from_viewers":false,
     "hide_output_from_viewers":false,
     "report_properties":{
      "rowId":"E7x4xSYW9eV8rHIlRNCKsb"
     }
    }
   }
  },
  {
   "cell_type":"code",
   "source":[
    "sns.countplot(df, x='emp_length',order=years_orderer)\n",
    "plt.xticks(rotation=45);"
   ],
   "execution_count":36,
   "outputs":[
    {
     "data":{
      "image\/png":"[encoded data removed]"
     },
     "metadata":{
      "image\/png":{
       
      }
     },
     "output_type":"display_data"
    }
   ],
   "metadata":{
    "datalore":{
     "node_id":"gYCGxzqExQW7SqozobFsbQ",
     "type":"CODE",
     "hide_input_from_viewers":true,
     "hide_output_from_viewers":true
    }
   }
  },
  {
   "cell_type":"markdown",
   "source":[
    "**TASK: Plot out the countplot with a hue separating Fully Paid vs Charged Off**"
   ],
   "attachments":{
    
   },
   "metadata":{
    "datalore":{
     "node_id":"ydow3QafOkPjeAOWQwujgs",
     "type":"MD",
     "hide_input_from_viewers":false,
     "hide_output_from_viewers":false,
     "report_properties":{
      "rowId":"qQLuGTuRnXxMHMZ9wJbtyQ"
     }
    }
   }
  },
  {
   "cell_type":"code",
   "source":[
    "plt.figure(figsize=(9,4))\n",
    "sns.countplot(data=df, x='emp_length', hue='loan_status', order=years_orderer)"
   ],
   "execution_count":37,
   "outputs":[
    {
     "data":{
      "text\/plain":[
       "<Axes: xlabel='emp_length', ylabel='count'>"
      ]
     },
     "metadata":{
      
     },
     "output_type":"display_data"
    },
    {
     "data":{
      "image\/png":"[encoded data removed]"
     },
     "metadata":{
      "image\/png":{
       
      }
     },
     "output_type":"display_data"
    }
   ],
   "metadata":{
    "datalore":{
     "node_id":"gg5GNrxOhpvMe7GP8mRUgV",
     "type":"CODE",
     "hide_input_from_viewers":false,
     "hide_output_from_viewers":false,
     "report_properties":{
      "rowId":"tDnJRVpHl3pYFQrALk8tM6"
     }
    }
   }
  },
  {
   "cell_type":"markdown",
   "source":[
    "**CHALLENGE TASK: This still doesn't really inform us if there is a strong relationship between employment length and being charged off, what we want is the percentage of charge offs per category. Essentially informing us what percent of people per employment category didn't pay back their loan. There are a multitude of ways to create this Series. Once you've created it, see if visualize it with a [bar plot](https:\/\/pandas.pydata.org\/pandas-docs\/version\/0.23.4\/generated\/pandas.DataFrame.plot.html). This may be tricky, refer to solutions if you get stuck on creating this Series.**"
   ],
   "attachments":{
    
   },
   "metadata":{
    "datalore":{
     "node_id":"A4SCRp4MhSWRl1sGt3Mo5g",
     "type":"MD",
     "hide_input_from_viewers":false,
     "hide_output_from_viewers":false,
     "report_properties":{
      "rowId":"EFboWlA7OQ16H8IIXApusW"
     }
    }
   }
  },
  {
   "cell_type":"code",
   "source":[
    "# Create a dataframe with percentage of loans not paid ('Charged Off') for each employment length\n",
    "charged_off_percentages = 1 - df.groupby('emp_length')['loan_repaid'].mean()\n",
    "\n",
    "# Plot the results\n",
    "charged_off_percentages.plot(kind='bar')\n",
    "plt.title('Percentage of Loans Not Paid by Employment Length')\n",
    "plt.xlabel('Employment Length')\n",
    "plt.ylabel('Percentage of Loans Not Paid')"
   ],
   "execution_count":38,
   "outputs":[
    {
     "data":{
      "text\/plain":[
       "Text(0, 0.5, 'Percentage of Loans Not Paid')"
      ]
     },
     "metadata":{
      
     },
     "output_type":"display_data"
    },
    {
     "data":{
      "image\/png":"[encoded data removed]"
     },
     "metadata":{
      "image\/png":{
       
      }
     },
     "output_type":"display_data"
    }
   ],
   "metadata":{
    "datalore":{
     "node_id":"zCgdhy5kZVEfPvsO6KfYN6",
     "type":"CODE",
     "hide_input_from_viewers":true,
     "hide_output_from_viewers":true
    }
   }
  },
  {
   "cell_type":"code",
   "source":[
    "# Alternative calculation of percentage\n",
    "# Filter out the rows where loan_status is 'Charged Off'\n",
    "df_charged_off = df[df['loan_status'] == 'Charged Off']\n",
    "\n",
    "# Group by employment_length and count the number of charged off loans\n",
    "df_charged_off_count = df_charged_off.groupby('emp_length')['loan_status'].count()\n",
    "\n",
    "# Group by employment_length and count the total number of loans\n",
    "df_total_count = df.groupby('emp_length')['loan_status'].count()\n",
    "\n",
    "# Calculate the percentage of charged off loans by dividing the two counts\n",
    "df_percentage = df_charged_off_count \/ df_total_count * 100\n",
    "\n",
    "# Print the result\n",
    "print(df_percentage)"
   ],
   "execution_count":39,
   "outputs":[
    {
     "name":"stdout",
     "text":[
      "emp_length\n",
      "1 year       19.913453\n",
      "10+ years    18.418610\n",
      "2 years      19.326206\n",
      "3 years      19.523133\n",
      "4 years      19.238477\n",
      "5 years      19.218721\n",
      "6 years      18.919438\n",
      "7 years      19.477400\n",
      "8 years      19.976002\n",
      "9 years      20.047016\n",
      "< 1 year     20.687155\n",
      "Name: loan_status, dtype: float64\n"
     ],
     "output_type":"stream"
    }
   ],
   "metadata":{
    "datalore":{
     "node_id":"9gmUoeHPFh15wxxviPk1TS",
     "type":"CODE",
     "hide_input_from_viewers":true,
     "hide_output_from_viewers":true
    }
   }
  },
  {
   "cell_type":"markdown",
   "source":[
    "**TASK: Charge off rates are extremely similar across all employment lengths. Go ahead and drop the emp_length column.**"
   ],
   "attachments":{
    
   },
   "metadata":{
    "datalore":{
     "node_id":"Dy95aZbqfi5ymclrDg1Vi9",
     "type":"MD",
     "hide_input_from_viewers":false,
     "hide_output_from_viewers":false,
     "report_properties":{
      "rowId":"EQKPWbvmnk1p1ykGhzbDkz"
     }
    }
   }
  },
  {
   "cell_type":"code",
   "source":[
    "df = df.drop('emp_length', axis=1)\n",
    "df.head()"
   ],
   "execution_count":40,
   "outputs":[
    {
     "data":{
      "text\/html":[
       "<div>\n",
       "<style scoped>\n",
       "    .dataframe tbody tr th:only-of-type {\n",
       "        vertical-align: middle;\n",
       "    }\n",
       "\n",
       "    .dataframe tbody tr th {\n",
       "        vertical-align: top;\n",
       "    }\n",
       "\n",
       "    .dataframe thead th {\n",
       "        text-align: right;\n",
       "    }\n",
       "<\/style>\n",
       "<table border=\"1\" class=\"dataframe\">\n",
       "  <thead>\n",
       "    <tr style=\"text-align: right;\">\n",
       "      <th><\/th>\n",
       "      <th>loan_amnt<\/th>\n",
       "      <th>term<\/th>\n",
       "      <th>int_rate<\/th>\n",
       "      <th>installment<\/th>\n",
       "      <th>grade<\/th>\n",
       "      <th>sub_grade<\/th>\n",
       "      <th>home_ownership<\/th>\n",
       "      <th>annual_inc<\/th>\n",
       "      <th>verification_status<\/th>\n",
       "      <th>issue_d<\/th>\n",
       "      <th>...<\/th>\n",
       "      <th>pub_rec<\/th>\n",
       "      <th>revol_bal<\/th>\n",
       "      <th>revol_util<\/th>\n",
       "      <th>total_acc<\/th>\n",
       "      <th>initial_list_status<\/th>\n",
       "      <th>application_type<\/th>\n",
       "      <th>mort_acc<\/th>\n",
       "      <th>pub_rec_bankruptcies<\/th>\n",
       "      <th>address<\/th>\n",
       "      <th>loan_repaid<\/th>\n",
       "    <\/tr>\n",
       "  <\/thead>\n",
       "  <tbody>\n",
       "    <tr>\n",
       "      <th>0<\/th>\n",
       "      <td>10000.0<\/td>\n",
       "      <td>36 months<\/td>\n",
       "      <td>11.44<\/td>\n",
       "      <td>329.48<\/td>\n",
       "      <td>B<\/td>\n",
       "      <td>B4<\/td>\n",
       "      <td>RENT<\/td>\n",
       "      <td>117000.0<\/td>\n",
       "      <td>Not Verified<\/td>\n",
       "      <td>Jan-2015<\/td>\n",
       "      <td>...<\/td>\n",
       "      <td>0.0<\/td>\n",
       "      <td>36369.0<\/td>\n",
       "      <td>41.8<\/td>\n",
       "      <td>25.0<\/td>\n",
       "      <td>w<\/td>\n",
       "      <td>INDIVIDUAL<\/td>\n",
       "      <td>0.0<\/td>\n",
       "      <td>0.0<\/td>\n",
       "      <td>0174 Michelle Gateway\\r\\nMendozaberg, OK 22690<\/td>\n",
       "      <td>1<\/td>\n",
       "    <\/tr>\n",
       "    <tr>\n",
       "      <th>1<\/th>\n",
       "      <td>8000.0<\/td>\n",
       "      <td>36 months<\/td>\n",
       "      <td>11.99<\/td>\n",
       "      <td>265.68<\/td>\n",
       "      <td>B<\/td>\n",
       "      <td>B5<\/td>\n",
       "      <td>MORTGAGE<\/td>\n",
       "      <td>65000.0<\/td>\n",
       "      <td>Not Verified<\/td>\n",
       "      <td>Jan-2015<\/td>\n",
       "      <td>...<\/td>\n",
       "      <td>0.0<\/td>\n",
       "      <td>20131.0<\/td>\n",
       "      <td>53.3<\/td>\n",
       "      <td>27.0<\/td>\n",
       "      <td>f<\/td>\n",
       "      <td>INDIVIDUAL<\/td>\n",
       "      <td>3.0<\/td>\n",
       "      <td>0.0<\/td>\n",
       "      <td>1076 Carney Fort Apt. 347\\r\\nLoganmouth, SD 05113<\/td>\n",
       "      <td>1<\/td>\n",
       "    <\/tr>\n",
       "    <tr>\n",
       "      <th>2<\/th>\n",
       "      <td>15600.0<\/td>\n",
       "      <td>36 months<\/td>\n",
       "      <td>10.49<\/td>\n",
       "      <td>506.97<\/td>\n",
       "      <td>B<\/td>\n",
       "      <td>B3<\/td>\n",
       "      <td>RENT<\/td>\n",
       "      <td>43057.0<\/td>\n",
       "      <td>Source Verified<\/td>\n",
       "      <td>Jan-2015<\/td>\n",
       "      <td>...<\/td>\n",
       "      <td>0.0<\/td>\n",
       "      <td>11987.0<\/td>\n",
       "      <td>92.2<\/td>\n",
       "      <td>26.0<\/td>\n",
       "      <td>f<\/td>\n",
       "      <td>INDIVIDUAL<\/td>\n",
       "      <td>0.0<\/td>\n",
       "      <td>0.0<\/td>\n",
       "      <td>87025 Mark Dale Apt. 269\\r\\nNew Sabrina, WV 05113<\/td>\n",
       "      <td>1<\/td>\n",
       "    <\/tr>\n",
       "    <tr>\n",
       "      <th>3<\/th>\n",
       "      <td>7200.0<\/td>\n",
       "      <td>36 months<\/td>\n",
       "      <td>6.49<\/td>\n",
       "      <td>220.65<\/td>\n",
       "      <td>A<\/td>\n",
       "      <td>A2<\/td>\n",
       "      <td>RENT<\/td>\n",
       "      <td>54000.0<\/td>\n",
       "      <td>Not Verified<\/td>\n",
       "      <td>Nov-2014<\/td>\n",
       "      <td>...<\/td>\n",
       "      <td>0.0<\/td>\n",
       "      <td>5472.0<\/td>\n",
       "      <td>21.5<\/td>\n",
       "      <td>13.0<\/td>\n",
       "      <td>f<\/td>\n",
       "      <td>INDIVIDUAL<\/td>\n",
       "      <td>0.0<\/td>\n",
       "      <td>0.0<\/td>\n",
       "      <td>823 Reid Ford\\r\\nDelacruzside, MA 00813<\/td>\n",
       "      <td>1<\/td>\n",
       "    <\/tr>\n",
       "    <tr>\n",
       "      <th>4<\/th>\n",
       "      <td>24375.0<\/td>\n",
       "      <td>60 months<\/td>\n",
       "      <td>17.27<\/td>\n",
       "      <td>609.33<\/td>\n",
       "      <td>C<\/td>\n",
       "      <td>C5<\/td>\n",
       "      <td>MORTGAGE<\/td>\n",
       "      <td>55000.0<\/td>\n",
       "      <td>Verified<\/td>\n",
       "      <td>Apr-2013<\/td>\n",
       "      <td>...<\/td>\n",
       "      <td>0.0<\/td>\n",
       "      <td>24584.0<\/td>\n",
       "      <td>69.8<\/td>\n",
       "      <td>43.0<\/td>\n",
       "      <td>f<\/td>\n",
       "      <td>INDIVIDUAL<\/td>\n",
       "      <td>1.0<\/td>\n",
       "      <td>0.0<\/td>\n",
       "      <td>679 Luna Roads\\r\\nGreggshire, VA 11650<\/td>\n",
       "      <td>0<\/td>\n",
       "    <\/tr>\n",
       "  <\/tbody>\n",
       "<\/table>\n",
       "<p>5 rows × 26 columns<\/p>\n",
       "<\/div>"
      ]
     },
     "metadata":{
      
     },
     "output_type":"display_data"
    }
   ],
   "metadata":{
    "datalore":{
     "node_id":"Sw2NVsgAxXjvX9Redu2nPo",
     "type":"CODE",
     "hide_input_from_viewers":false,
     "hide_output_from_viewers":false,
     "report_properties":{
      "rowId":"qCU6dOfpOCemCmn6z4PVm7"
     }
    }
   }
  },
  {
   "cell_type":"markdown",
   "source":[
    "**TASK: Revisit the DataFrame to see what feature columns still have missing data.**"
   ],
   "attachments":{
    
   },
   "metadata":{
    "datalore":{
     "node_id":"JUhUhThtFsT6VhEKzqdbAM",
     "type":"MD",
     "hide_input_from_viewers":false,
     "hide_output_from_viewers":false,
     "report_properties":{
      "rowId":"iNlr322SFtna7zNrZqWDIM"
     }
    }
   }
  },
  {
   "cell_type":"code",
   "source":[
    "df.isnull().sum()"
   ],
   "execution_count":41,
   "outputs":[
    {
     "data":{
      "text\/html":[
       "<pre>loan_amnt                   0\n",
       "term                        0\n",
       "int_rate                    0\n",
       "installment                 0\n",
       "grade                       0\n",
       "sub_grade                   0\n",
       "home_ownership              0\n",
       "annual_inc                  0\n",
       "verification_status         0\n",
       "issue_d                     0\n",
       "loan_status                 0\n",
       "purpose                     0\n",
       "title                    1755\n",
       "dti                         0\n",
       "earliest_cr_line            0\n",
       "open_acc                    0\n",
       "pub_rec                     0\n",
       "revol_bal                   0\n",
       "revol_util                276\n",
       "total_acc                   0\n",
       "initial_list_status         0\n",
       "application_type            0\n",
       "mort_acc                37795\n",
       "pub_rec_bankruptcies      535\n",
       "address                     0\n",
       "loan_repaid                 0\n",
       "dtype: int64<\/pre>"
      ]
     },
     "metadata":{
      
     },
     "output_type":"display_data"
    }
   ],
   "metadata":{
    "datalore":{
     "node_id":"LR9JsfqTvjhtecMCHwIyXP",
     "type":"CODE",
     "hide_input_from_viewers":true,
     "hide_output_from_viewers":true
    }
   }
  },
  {
   "cell_type":"markdown",
   "source":[
    "**TASK: Review the title column vs the purpose column. Is this repeated information?**"
   ],
   "attachments":{
    
   },
   "metadata":{
    "datalore":{
     "node_id":"wqkk6DaixqX7MO6KmJUQlh",
     "type":"MD",
     "hide_input_from_viewers":false,
     "hide_output_from_viewers":false,
     "report_properties":{
      "rowId":"yGiMbNRu0yPcaC76eD3smN"
     }
    }
   }
  },
  {
   "cell_type":"code",
   "source":[
    "df['purpose'].unique()"
   ],
   "execution_count":42,
   "outputs":[
    {
     "data":{
      "text\/html":[
       "<pre>array(['vacation', 'debt_consolidation', 'credit_card',\n",
       "       'home_improvement', 'small_business', 'major_purchase', 'other',\n",
       "       'medical', 'wedding', 'car', 'moving', 'house', 'educational',\n",
       "       'renewable_energy'], dtype=object)<\/pre>"
      ]
     },
     "metadata":{
      
     },
     "output_type":"display_data"
    }
   ],
   "metadata":{
    "datalore":{
     "node_id":"93Cgyl2zPucfAOcWkPDbGJ",
     "type":"CODE",
     "hide_input_from_viewers":false,
     "hide_output_from_viewers":false,
     "report_properties":{
      "rowId":"mkZhAJLhrNvquuRvAJtGj2"
     }
    }
   }
  },
  {
   "cell_type":"code",
   "source":[
    "df['title'].head(10)"
   ],
   "execution_count":43,
   "outputs":[
    {
     "data":{
      "text\/html":[
       "<pre>0                   Vacation\n",
       "1         Debt consolidation\n",
       "2    Credit card refinancing\n",
       "3    Credit card refinancing\n",
       "4      Credit Card Refinance\n",
       "5         Debt consolidation\n",
       "6           Home improvement\n",
       "7       No More Credit Cards\n",
       "8         Debt consolidation\n",
       "9         Debt Consolidation\n",
       "Name: title, dtype: object<\/pre>"
      ]
     },
     "metadata":{
      
     },
     "output_type":"display_data"
    }
   ],
   "metadata":{
    "datalore":{
     "node_id":"HE74EX32RbZmpYostAUCcx",
     "type":"CODE",
     "hide_input_from_viewers":false,
     "hide_output_from_viewers":false,
     "report_properties":{
      "rowId":"PW06x1MPzYL1AvybITA5eE"
     }
    }
   }
  },
  {
   "cell_type":"markdown",
   "source":[
    "**TASK: The title column is simply a string subcategory\/description of the purpose column. Go ahead and drop the title column.**"
   ],
   "attachments":{
    
   },
   "metadata":{
    "datalore":{
     "node_id":"GlPXxzwHhb4HV3hjcaMHoa",
     "type":"MD",
     "hide_input_from_viewers":false,
     "hide_output_from_viewers":false,
     "report_properties":{
      "rowId":"aDZIzrkVKqp3BjwIp7JAcj"
     }
    }
   }
  },
  {
   "cell_type":"code",
   "source":[
    "df = df.drop('title', axis=1)\n",
    "df.head()"
   ],
   "execution_count":44,
   "outputs":[
    {
     "data":{
      "text\/html":[
       "<div>\n",
       "<style scoped>\n",
       "    .dataframe tbody tr th:only-of-type {\n",
       "        vertical-align: middle;\n",
       "    }\n",
       "\n",
       "    .dataframe tbody tr th {\n",
       "        vertical-align: top;\n",
       "    }\n",
       "\n",
       "    .dataframe thead th {\n",
       "        text-align: right;\n",
       "    }\n",
       "<\/style>\n",
       "<table border=\"1\" class=\"dataframe\">\n",
       "  <thead>\n",
       "    <tr style=\"text-align: right;\">\n",
       "      <th><\/th>\n",
       "      <th>loan_amnt<\/th>\n",
       "      <th>term<\/th>\n",
       "      <th>int_rate<\/th>\n",
       "      <th>installment<\/th>\n",
       "      <th>grade<\/th>\n",
       "      <th>sub_grade<\/th>\n",
       "      <th>home_ownership<\/th>\n",
       "      <th>annual_inc<\/th>\n",
       "      <th>verification_status<\/th>\n",
       "      <th>issue_d<\/th>\n",
       "      <th>...<\/th>\n",
       "      <th>pub_rec<\/th>\n",
       "      <th>revol_bal<\/th>\n",
       "      <th>revol_util<\/th>\n",
       "      <th>total_acc<\/th>\n",
       "      <th>initial_list_status<\/th>\n",
       "      <th>application_type<\/th>\n",
       "      <th>mort_acc<\/th>\n",
       "      <th>pub_rec_bankruptcies<\/th>\n",
       "      <th>address<\/th>\n",
       "      <th>loan_repaid<\/th>\n",
       "    <\/tr>\n",
       "  <\/thead>\n",
       "  <tbody>\n",
       "    <tr>\n",
       "      <th>0<\/th>\n",
       "      <td>10000.0<\/td>\n",
       "      <td>36 months<\/td>\n",
       "      <td>11.44<\/td>\n",
       "      <td>329.48<\/td>\n",
       "      <td>B<\/td>\n",
       "      <td>B4<\/td>\n",
       "      <td>RENT<\/td>\n",
       "      <td>117000.0<\/td>\n",
       "      <td>Not Verified<\/td>\n",
       "      <td>Jan-2015<\/td>\n",
       "      <td>...<\/td>\n",
       "      <td>0.0<\/td>\n",
       "      <td>36369.0<\/td>\n",
       "      <td>41.8<\/td>\n",
       "      <td>25.0<\/td>\n",
       "      <td>w<\/td>\n",
       "      <td>INDIVIDUAL<\/td>\n",
       "      <td>0.0<\/td>\n",
       "      <td>0.0<\/td>\n",
       "      <td>0174 Michelle Gateway\\r\\nMendozaberg, OK 22690<\/td>\n",
       "      <td>1<\/td>\n",
       "    <\/tr>\n",
       "    <tr>\n",
       "      <th>1<\/th>\n",
       "      <td>8000.0<\/td>\n",
       "      <td>36 months<\/td>\n",
       "      <td>11.99<\/td>\n",
       "      <td>265.68<\/td>\n",
       "      <td>B<\/td>\n",
       "      <td>B5<\/td>\n",
       "      <td>MORTGAGE<\/td>\n",
       "      <td>65000.0<\/td>\n",
       "      <td>Not Verified<\/td>\n",
       "      <td>Jan-2015<\/td>\n",
       "      <td>...<\/td>\n",
       "      <td>0.0<\/td>\n",
       "      <td>20131.0<\/td>\n",
       "      <td>53.3<\/td>\n",
       "      <td>27.0<\/td>\n",
       "      <td>f<\/td>\n",
       "      <td>INDIVIDUAL<\/td>\n",
       "      <td>3.0<\/td>\n",
       "      <td>0.0<\/td>\n",
       "      <td>1076 Carney Fort Apt. 347\\r\\nLoganmouth, SD 05113<\/td>\n",
       "      <td>1<\/td>\n",
       "    <\/tr>\n",
       "    <tr>\n",
       "      <th>2<\/th>\n",
       "      <td>15600.0<\/td>\n",
       "      <td>36 months<\/td>\n",
       "      <td>10.49<\/td>\n",
       "      <td>506.97<\/td>\n",
       "      <td>B<\/td>\n",
       "      <td>B3<\/td>\n",
       "      <td>RENT<\/td>\n",
       "      <td>43057.0<\/td>\n",
       "      <td>Source Verified<\/td>\n",
       "      <td>Jan-2015<\/td>\n",
       "      <td>...<\/td>\n",
       "      <td>0.0<\/td>\n",
       "      <td>11987.0<\/td>\n",
       "      <td>92.2<\/td>\n",
       "      <td>26.0<\/td>\n",
       "      <td>f<\/td>\n",
       "      <td>INDIVIDUAL<\/td>\n",
       "      <td>0.0<\/td>\n",
       "      <td>0.0<\/td>\n",
       "      <td>87025 Mark Dale Apt. 269\\r\\nNew Sabrina, WV 05113<\/td>\n",
       "      <td>1<\/td>\n",
       "    <\/tr>\n",
       "    <tr>\n",
       "      <th>3<\/th>\n",
       "      <td>7200.0<\/td>\n",
       "      <td>36 months<\/td>\n",
       "      <td>6.49<\/td>\n",
       "      <td>220.65<\/td>\n",
       "      <td>A<\/td>\n",
       "      <td>A2<\/td>\n",
       "      <td>RENT<\/td>\n",
       "      <td>54000.0<\/td>\n",
       "      <td>Not Verified<\/td>\n",
       "      <td>Nov-2014<\/td>\n",
       "      <td>...<\/td>\n",
       "      <td>0.0<\/td>\n",
       "      <td>5472.0<\/td>\n",
       "      <td>21.5<\/td>\n",
       "      <td>13.0<\/td>\n",
       "      <td>f<\/td>\n",
       "      <td>INDIVIDUAL<\/td>\n",
       "      <td>0.0<\/td>\n",
       "      <td>0.0<\/td>\n",
       "      <td>823 Reid Ford\\r\\nDelacruzside, MA 00813<\/td>\n",
       "      <td>1<\/td>\n",
       "    <\/tr>\n",
       "    <tr>\n",
       "      <th>4<\/th>\n",
       "      <td>24375.0<\/td>\n",
       "      <td>60 months<\/td>\n",
       "      <td>17.27<\/td>\n",
       "      <td>609.33<\/td>\n",
       "      <td>C<\/td>\n",
       "      <td>C5<\/td>\n",
       "      <td>MORTGAGE<\/td>\n",
       "      <td>55000.0<\/td>\n",
       "      <td>Verified<\/td>\n",
       "      <td>Apr-2013<\/td>\n",
       "      <td>...<\/td>\n",
       "      <td>0.0<\/td>\n",
       "      <td>24584.0<\/td>\n",
       "      <td>69.8<\/td>\n",
       "      <td>43.0<\/td>\n",
       "      <td>f<\/td>\n",
       "      <td>INDIVIDUAL<\/td>\n",
       "      <td>1.0<\/td>\n",
       "      <td>0.0<\/td>\n",
       "      <td>679 Luna Roads\\r\\nGreggshire, VA 11650<\/td>\n",
       "      <td>0<\/td>\n",
       "    <\/tr>\n",
       "  <\/tbody>\n",
       "<\/table>\n",
       "<p>5 rows × 25 columns<\/p>\n",
       "<\/div>"
      ]
     },
     "metadata":{
      
     },
     "output_type":"display_data"
    }
   ],
   "metadata":{
    "datalore":{
     "node_id":"am7DAgShyr1IsEVyvWsED7",
     "type":"CODE",
     "hide_input_from_viewers":false,
     "hide_output_from_viewers":false,
     "report_properties":{
      "rowId":"4FzVgY6CWq5rfHHKRsNGOG"
     }
    }
   }
  },
  {
   "cell_type":"markdown",
   "source":[
    "---\n",
    "**NOTE: This is one of the hardest parts of the project! Refer to the solutions video if you need guidance, feel free to fill or drop the missing values of the mort_acc however you see fit! Here we're going with a very specific approach.**\n",
    "\n",
    "\n",
    "---\n",
    "**TASK: Find out what the mort_acc feature represents**"
   ],
   "attachments":{
    
   },
   "metadata":{
    "datalore":{
     "node_id":"FvOccukGl8drWWm3UP9Hrr",
     "type":"MD",
     "hide_input_from_viewers":false,
     "hide_output_from_viewers":false,
     "report_properties":{
      "rowId":"VEiCXeIdxWTgpCGQz5BDv5"
     }
    }
   }
  },
  {
   "cell_type":"code",
   "source":[
    "feat_info('mort_acc')"
   ],
   "execution_count":45,
   "outputs":[
    {
     "name":"stdout",
     "text":[
      "Number of mortgage accounts.\n"
     ],
     "output_type":"stream"
    }
   ],
   "metadata":{
    "datalore":{
     "node_id":"IpNWiQGE45aIZeUPU0mlkn",
     "type":"CODE",
     "hide_input_from_viewers":false,
     "hide_output_from_viewers":false,
     "report_properties":{
      "rowId":"6YS6N82z2iX4asO6BIQ1WR"
     }
    }
   }
  },
  {
   "cell_type":"markdown",
   "source":[
    "**TASK: Create a value_counts of the mort_acc column.**"
   ],
   "attachments":{
    
   },
   "metadata":{
    "datalore":{
     "node_id":"qNdxnCBmrAG1gUBarR6zSG",
     "type":"MD",
     "hide_input_from_viewers":false,
     "hide_output_from_viewers":false,
     "report_properties":{
      "rowId":"Zv2BDdKhOAqUMIU8n2baxu"
     }
    }
   }
  },
  {
   "cell_type":"code",
   "source":[
    "df['mort_acc'].value_counts()"
   ],
   "execution_count":46,
   "outputs":[
    {
     "data":{
      "text\/html":[
       "<pre>0.0     139777\n",
       "1.0      60416\n",
       "2.0      49948\n",
       "3.0      38049\n",
       "4.0      27887\n",
       "5.0      18194\n",
       "6.0      11069\n",
       "7.0       6052\n",
       "8.0       3121\n",
       "9.0       1656\n",
       "10.0       865\n",
       "11.0       479\n",
       "12.0       264\n",
       "13.0       146\n",
       "14.0       107\n",
       "15.0        61\n",
       "16.0        37\n",
       "17.0        22\n",
       "18.0        18\n",
       "19.0        15\n",
       "20.0        13\n",
       "24.0        10\n",
       "22.0         7\n",
       "21.0         4\n",
       "25.0         4\n",
       "27.0         3\n",
       "32.0         2\n",
       "31.0         2\n",
       "23.0         2\n",
       "26.0         2\n",
       "28.0         1\n",
       "30.0         1\n",
       "34.0         1\n",
       "Name: mort_acc, dtype: int64<\/pre>"
      ]
     },
     "metadata":{
      
     },
     "output_type":"display_data"
    }
   ],
   "metadata":{
    "datalore":{
     "node_id":"jiNJ1SD9FOm60gTLZ1Xt3Z",
     "type":"CODE",
     "hide_input_from_viewers":false,
     "hide_output_from_viewers":false,
     "report_properties":{
      "rowId":"2WspSVC04ApjmOBcSB8ldd"
     }
    }
   }
  },
  {
   "cell_type":"markdown",
   "source":[
    "**TASK: There are many ways we could deal with this missing data. We could attempt to build a simple model to fill it in, such as a linear model, we could just fill it in based on the mean of the other columns, or you could even bin the columns into categories and then set NaN as its own category. There is no 100% correct approach! Let's review the other columsn to see which most highly correlates to mort_acc**"
   ],
   "attachments":{
    
   },
   "metadata":{
    "datalore":{
     "node_id":"1SmoE8SRaGntYRDHJLg8bF",
     "type":"MD",
     "hide_input_from_viewers":false,
     "hide_output_from_viewers":false,
     "report_properties":{
      "rowId":"IkiEe3hi55E0RB6gmEoEWV"
     }
    }
   }
  },
  {
   "cell_type":"code",
   "source":[
    "df.corr(numeric_only=True)['mort_acc'].sort_values().drop('mort_acc').plot(kind='bar')"
   ],
   "execution_count":47,
   "outputs":[
    {
     "data":{
      "text\/plain":[
       "<Axes: >"
      ]
     },
     "metadata":{
      
     },
     "output_type":"display_data"
    },
    {
     "data":{
      "image\/png":"[encoded data removed]"
     },
     "metadata":{
      "image\/png":{
       
      }
     },
     "output_type":"display_data"
    }
   ],
   "metadata":{
    "datalore":{
     "node_id":"4RC41mRKtVyYnTrosdKEOk",
     "type":"CODE",
     "hide_input_from_viewers":true,
     "hide_output_from_viewers":true
    }
   }
  },
  {
   "cell_type":"markdown",
   "source":[
    "**TASK: Looks like the total_acc feature correlates with the mort_acc , this makes sense! Let's try this fillna() approach. We will group the dataframe by the total_acc and calculate the mean value for the mort_acc per total_acc entry. To get the result below:**"
   ],
   "attachments":{
    
   },
   "metadata":{
    "datalore":{
     "node_id":"llTDZl7pQngLoXz2eTAIKP",
     "type":"MD",
     "hide_input_from_viewers":false,
     "hide_output_from_viewers":false,
     "report_properties":{
      "rowId":"ScP1buOJUAgd7IkW7LVr2z"
     }
    }
   }
  },
  {
   "cell_type":"code",
   "source":[
    "values_to_be_filled = df.groupby('total_acc')['mort_acc'].mean()\n",
    "values_to_be_filled"
   ],
   "execution_count":48,
   "outputs":[
    {
     "data":{
      "text\/html":[
       "<pre>total_acc\n",
       "2.0      0.000000\n",
       "3.0      0.052023\n",
       "4.0      0.066743\n",
       "5.0      0.103289\n",
       "6.0      0.151293\n",
       "           ...   \n",
       "124.0    1.000000\n",
       "129.0    1.000000\n",
       "135.0    3.000000\n",
       "150.0    2.000000\n",
       "151.0    0.000000\n",
       "Name: mort_acc, Length: 118, dtype: float64<\/pre>"
      ]
     },
     "metadata":{
      
     },
     "output_type":"display_data"
    }
   ],
   "metadata":{
    "datalore":{
     "node_id":"i3oiqUA0Tk8G8Q1jITOBVu",
     "type":"CODE",
     "hide_input_from_viewers":true,
     "hide_output_from_viewers":true
    }
   }
  },
  {
   "cell_type":"markdown",
   "source":[
    "**CHALLENGE TASK: Let's fill in the missing mort_acc values based on their total_acc value. If the mort_acc is missing, then we will fill in that missing value with the mean value corresponding to its total_acc value from the Series we created above. This involves using an .apply() method with two columns. Check out the link below for more info, or review the solutions video\/notebook.**\n",
    "\n",
    "[Helpful Link](https:\/\/stackoverflow.com\/questions\/13331698\/how-to-apply-a-function-to-two-columns-of-pandas-dataframe) "
   ],
   "attachments":{
    
   },
   "metadata":{
    "datalore":{
     "node_id":"Otmx9Lj7c9WRKFhFo4iwmt",
     "type":"MD",
     "hide_input_from_viewers":false,
     "hide_output_from_viewers":false,
     "report_properties":{
      "rowId":"htSB8VQet5hslkMD8uBTdc"
     }
    }
   }
  },
  {
   "cell_type":"code",
   "source":[
    "# Show top 5 rows with missing 'mort_acc' values\n",
    "mort_null_values = df['mort_acc'].isnull()\n",
    "df[mort_null_values].head()"
   ],
   "execution_count":49,
   "outputs":[
    {
     "data":{
      "text\/html":[
       "<div>\n",
       "<style scoped>\n",
       "    .dataframe tbody tr th:only-of-type {\n",
       "        vertical-align: middle;\n",
       "    }\n",
       "\n",
       "    .dataframe tbody tr th {\n",
       "        vertical-align: top;\n",
       "    }\n",
       "\n",
       "    .dataframe thead th {\n",
       "        text-align: right;\n",
       "    }\n",
       "<\/style>\n",
       "<table border=\"1\" class=\"dataframe\">\n",
       "  <thead>\n",
       "    <tr style=\"text-align: right;\">\n",
       "      <th><\/th>\n",
       "      <th>loan_amnt<\/th>\n",
       "      <th>term<\/th>\n",
       "      <th>int_rate<\/th>\n",
       "      <th>installment<\/th>\n",
       "      <th>grade<\/th>\n",
       "      <th>sub_grade<\/th>\n",
       "      <th>home_ownership<\/th>\n",
       "      <th>annual_inc<\/th>\n",
       "      <th>verification_status<\/th>\n",
       "      <th>issue_d<\/th>\n",
       "      <th>...<\/th>\n",
       "      <th>pub_rec<\/th>\n",
       "      <th>revol_bal<\/th>\n",
       "      <th>revol_util<\/th>\n",
       "      <th>total_acc<\/th>\n",
       "      <th>initial_list_status<\/th>\n",
       "      <th>application_type<\/th>\n",
       "      <th>mort_acc<\/th>\n",
       "      <th>pub_rec_bankruptcies<\/th>\n",
       "      <th>address<\/th>\n",
       "      <th>loan_repaid<\/th>\n",
       "    <\/tr>\n",
       "  <\/thead>\n",
       "  <tbody>\n",
       "    <tr>\n",
       "      <th>22<\/th>\n",
       "      <td>4200.0<\/td>\n",
       "      <td>36 months<\/td>\n",
       "      <td>6.99<\/td>\n",
       "      <td>129.67<\/td>\n",
       "      <td>A<\/td>\n",
       "      <td>A3<\/td>\n",
       "      <td>OWN<\/td>\n",
       "      <td>24000.0<\/td>\n",
       "      <td>Not Verified<\/td>\n",
       "      <td>Jun-2011<\/td>\n",
       "      <td>...<\/td>\n",
       "      <td>0.0<\/td>\n",
       "      <td>0.0<\/td>\n",
       "      <td>0.0<\/td>\n",
       "      <td>7.0<\/td>\n",
       "      <td>f<\/td>\n",
       "      <td>INDIVIDUAL<\/td>\n",
       "      <td>NaN<\/td>\n",
       "      <td>0.0<\/td>\n",
       "      <td>54395 Melissa Walks\\r\\nJenniferbury, AL 05113<\/td>\n",
       "      <td>1<\/td>\n",
       "    <\/tr>\n",
       "    <tr>\n",
       "      <th>25<\/th>\n",
       "      <td>6000.0<\/td>\n",
       "      <td>36 months<\/td>\n",
       "      <td>11.36<\/td>\n",
       "      <td>197.47<\/td>\n",
       "      <td>B<\/td>\n",
       "      <td>B5<\/td>\n",
       "      <td>RENT<\/td>\n",
       "      <td>46680.0<\/td>\n",
       "      <td>Not Verified<\/td>\n",
       "      <td>Apr-2010<\/td>\n",
       "      <td>...<\/td>\n",
       "      <td>0.0<\/td>\n",
       "      <td>4370.0<\/td>\n",
       "      <td>40.1<\/td>\n",
       "      <td>10.0<\/td>\n",
       "      <td>f<\/td>\n",
       "      <td>INDIVIDUAL<\/td>\n",
       "      <td>NaN<\/td>\n",
       "      <td>0.0<\/td>\n",
       "      <td>44130 Powers Course Suite 880\\r\\nEast Preston,...<\/td>\n",
       "      <td>0<\/td>\n",
       "    <\/tr>\n",
       "    <tr>\n",
       "      <th>32<\/th>\n",
       "      <td>3000.0<\/td>\n",
       "      <td>36 months<\/td>\n",
       "      <td>6.03<\/td>\n",
       "      <td>91.31<\/td>\n",
       "      <td>A<\/td>\n",
       "      <td>A1<\/td>\n",
       "      <td>OWN<\/td>\n",
       "      <td>64000.0<\/td>\n",
       "      <td>Source Verified<\/td>\n",
       "      <td>Oct-2011<\/td>\n",
       "      <td>...<\/td>\n",
       "      <td>0.0<\/td>\n",
       "      <td>4912.0<\/td>\n",
       "      <td>13.4<\/td>\n",
       "      <td>18.0<\/td>\n",
       "      <td>f<\/td>\n",
       "      <td>INDIVIDUAL<\/td>\n",
       "      <td>NaN<\/td>\n",
       "      <td>0.0<\/td>\n",
       "      <td>2722 Smith Branch Suite 131\\r\\nShaunbury, NH 2...<\/td>\n",
       "      <td>1<\/td>\n",
       "    <\/tr>\n",
       "    <tr>\n",
       "      <th>41<\/th>\n",
       "      <td>28000.0<\/td>\n",
       "      <td>60 months<\/td>\n",
       "      <td>19.91<\/td>\n",
       "      <td>312.04<\/td>\n",
       "      <td>E<\/td>\n",
       "      <td>E4<\/td>\n",
       "      <td>RENT<\/td>\n",
       "      <td>52000.0<\/td>\n",
       "      <td>Verified<\/td>\n",
       "      <td>Dec-2011<\/td>\n",
       "      <td>...<\/td>\n",
       "      <td>0.0<\/td>\n",
       "      <td>29178.0<\/td>\n",
       "      <td>87.6<\/td>\n",
       "      <td>16.0<\/td>\n",
       "      <td>f<\/td>\n",
       "      <td>INDIVIDUAL<\/td>\n",
       "      <td>NaN<\/td>\n",
       "      <td>0.0<\/td>\n",
       "      <td>5836 Garcia Falls Apt. 525\\r\\nMatthewtown, CT ...<\/td>\n",
       "      <td>0<\/td>\n",
       "    <\/tr>\n",
       "    <tr>\n",
       "      <th>62<\/th>\n",
       "      <td>5000.0<\/td>\n",
       "      <td>36 months<\/td>\n",
       "      <td>10.39<\/td>\n",
       "      <td>118.45<\/td>\n",
       "      <td>B<\/td>\n",
       "      <td>B4<\/td>\n",
       "      <td>RENT<\/td>\n",
       "      <td>66000.0<\/td>\n",
       "      <td>Not Verified<\/td>\n",
       "      <td>May-2008<\/td>\n",
       "      <td>...<\/td>\n",
       "      <td>0.0<\/td>\n",
       "      <td>15807.0<\/td>\n",
       "      <td>20.0<\/td>\n",
       "      <td>17.0<\/td>\n",
       "      <td>f<\/td>\n",
       "      <td>INDIVIDUAL<\/td>\n",
       "      <td>NaN<\/td>\n",
       "      <td>0.0<\/td>\n",
       "      <td>USS Goodman\\r\\nFPO AE 22690<\/td>\n",
       "      <td>1<\/td>\n",
       "    <\/tr>\n",
       "  <\/tbody>\n",
       "<\/table>\n",
       "<p>5 rows × 25 columns<\/p>\n",
       "<\/div>"
      ]
     },
     "metadata":{
      
     },
     "output_type":"display_data"
    }
   ],
   "metadata":{
    "datalore":{
     "node_id":"2LZJRyaETD66YGrm8F45UP",
     "type":"CODE",
     "hide_input_from_viewers":false,
     "hide_output_from_viewers":false,
     "report_properties":{
      "rowId":"tpCruMEOYwp1eNG0g95vN5"
     }
    }
   }
  },
  {
   "cell_type":"code",
   "source":[
    "#These rows have missing 'mort_acc' values, check them later if they were correctly filled\n",
    "df.iloc[[22, 25, 32, 41, 62]]"
   ],
   "execution_count":50,
   "outputs":[
    {
     "data":{
      "text\/html":[
       "<div>\n",
       "<style scoped>\n",
       "    .dataframe tbody tr th:only-of-type {\n",
       "        vertical-align: middle;\n",
       "    }\n",
       "\n",
       "    .dataframe tbody tr th {\n",
       "        vertical-align: top;\n",
       "    }\n",
       "\n",
       "    .dataframe thead th {\n",
       "        text-align: right;\n",
       "    }\n",
       "<\/style>\n",
       "<table border=\"1\" class=\"dataframe\">\n",
       "  <thead>\n",
       "    <tr style=\"text-align: right;\">\n",
       "      <th><\/th>\n",
       "      <th>loan_amnt<\/th>\n",
       "      <th>term<\/th>\n",
       "      <th>int_rate<\/th>\n",
       "      <th>installment<\/th>\n",
       "      <th>grade<\/th>\n",
       "      <th>sub_grade<\/th>\n",
       "      <th>home_ownership<\/th>\n",
       "      <th>annual_inc<\/th>\n",
       "      <th>verification_status<\/th>\n",
       "      <th>issue_d<\/th>\n",
       "      <th>...<\/th>\n",
       "      <th>pub_rec<\/th>\n",
       "      <th>revol_bal<\/th>\n",
       "      <th>revol_util<\/th>\n",
       "      <th>total_acc<\/th>\n",
       "      <th>initial_list_status<\/th>\n",
       "      <th>application_type<\/th>\n",
       "      <th>mort_acc<\/th>\n",
       "      <th>pub_rec_bankruptcies<\/th>\n",
       "      <th>address<\/th>\n",
       "      <th>loan_repaid<\/th>\n",
       "    <\/tr>\n",
       "  <\/thead>\n",
       "  <tbody>\n",
       "    <tr>\n",
       "      <th>22<\/th>\n",
       "      <td>4200.0<\/td>\n",
       "      <td>36 months<\/td>\n",
       "      <td>6.99<\/td>\n",
       "      <td>129.67<\/td>\n",
       "      <td>A<\/td>\n",
       "      <td>A3<\/td>\n",
       "      <td>OWN<\/td>\n",
       "      <td>24000.0<\/td>\n",
       "      <td>Not Verified<\/td>\n",
       "      <td>Jun-2011<\/td>\n",
       "      <td>...<\/td>\n",
       "      <td>0.0<\/td>\n",
       "      <td>0.0<\/td>\n",
       "      <td>0.0<\/td>\n",
       "      <td>7.0<\/td>\n",
       "      <td>f<\/td>\n",
       "      <td>INDIVIDUAL<\/td>\n",
       "      <td>NaN<\/td>\n",
       "      <td>0.0<\/td>\n",
       "      <td>54395 Melissa Walks\\r\\nJenniferbury, AL 05113<\/td>\n",
       "      <td>1<\/td>\n",
       "    <\/tr>\n",
       "    <tr>\n",
       "      <th>25<\/th>\n",
       "      <td>6000.0<\/td>\n",
       "      <td>36 months<\/td>\n",
       "      <td>11.36<\/td>\n",
       "      <td>197.47<\/td>\n",
       "      <td>B<\/td>\n",
       "      <td>B5<\/td>\n",
       "      <td>RENT<\/td>\n",
       "      <td>46680.0<\/td>\n",
       "      <td>Not Verified<\/td>\n",
       "      <td>Apr-2010<\/td>\n",
       "      <td>...<\/td>\n",
       "      <td>0.0<\/td>\n",
       "      <td>4370.0<\/td>\n",
       "      <td>40.1<\/td>\n",
       "      <td>10.0<\/td>\n",
       "      <td>f<\/td>\n",
       "      <td>INDIVIDUAL<\/td>\n",
       "      <td>NaN<\/td>\n",
       "      <td>0.0<\/td>\n",
       "      <td>44130 Powers Course Suite 880\\r\\nEast Preston,...<\/td>\n",
       "      <td>0<\/td>\n",
       "    <\/tr>\n",
       "    <tr>\n",
       "      <th>32<\/th>\n",
       "      <td>3000.0<\/td>\n",
       "      <td>36 months<\/td>\n",
       "      <td>6.03<\/td>\n",
       "      <td>91.31<\/td>\n",
       "      <td>A<\/td>\n",
       "      <td>A1<\/td>\n",
       "      <td>OWN<\/td>\n",
       "      <td>64000.0<\/td>\n",
       "      <td>Source Verified<\/td>\n",
       "      <td>Oct-2011<\/td>\n",
       "      <td>...<\/td>\n",
       "      <td>0.0<\/td>\n",
       "      <td>4912.0<\/td>\n",
       "      <td>13.4<\/td>\n",
       "      <td>18.0<\/td>\n",
       "      <td>f<\/td>\n",
       "      <td>INDIVIDUAL<\/td>\n",
       "      <td>NaN<\/td>\n",
       "      <td>0.0<\/td>\n",
       "      <td>2722 Smith Branch Suite 131\\r\\nShaunbury, NH 2...<\/td>\n",
       "      <td>1<\/td>\n",
       "    <\/tr>\n",
       "    <tr>\n",
       "      <th>41<\/th>\n",
       "      <td>28000.0<\/td>\n",
       "      <td>60 months<\/td>\n",
       "      <td>19.91<\/td>\n",
       "      <td>312.04<\/td>\n",
       "      <td>E<\/td>\n",
       "      <td>E4<\/td>\n",
       "      <td>RENT<\/td>\n",
       "      <td>52000.0<\/td>\n",
       "      <td>Verified<\/td>\n",
       "      <td>Dec-2011<\/td>\n",
       "      <td>...<\/td>\n",
       "      <td>0.0<\/td>\n",
       "      <td>29178.0<\/td>\n",
       "      <td>87.6<\/td>\n",
       "      <td>16.0<\/td>\n",
       "      <td>f<\/td>\n",
       "      <td>INDIVIDUAL<\/td>\n",
       "      <td>NaN<\/td>\n",
       "      <td>0.0<\/td>\n",
       "      <td>5836 Garcia Falls Apt. 525\\r\\nMatthewtown, CT ...<\/td>\n",
       "      <td>0<\/td>\n",
       "    <\/tr>\n",
       "    <tr>\n",
       "      <th>62<\/th>\n",
       "      <td>5000.0<\/td>\n",
       "      <td>36 months<\/td>\n",
       "      <td>10.39<\/td>\n",
       "      <td>118.45<\/td>\n",
       "      <td>B<\/td>\n",
       "      <td>B4<\/td>\n",
       "      <td>RENT<\/td>\n",
       "      <td>66000.0<\/td>\n",
       "      <td>Not Verified<\/td>\n",
       "      <td>May-2008<\/td>\n",
       "      <td>...<\/td>\n",
       "      <td>0.0<\/td>\n",
       "      <td>15807.0<\/td>\n",
       "      <td>20.0<\/td>\n",
       "      <td>17.0<\/td>\n",
       "      <td>f<\/td>\n",
       "      <td>INDIVIDUAL<\/td>\n",
       "      <td>NaN<\/td>\n",
       "      <td>0.0<\/td>\n",
       "      <td>USS Goodman\\r\\nFPO AE 22690<\/td>\n",
       "      <td>1<\/td>\n",
       "    <\/tr>\n",
       "  <\/tbody>\n",
       "<\/table>\n",
       "<p>5 rows × 25 columns<\/p>\n",
       "<\/div>"
      ]
     },
     "metadata":{
      
     },
     "output_type":"display_data"
    }
   ],
   "metadata":{
    "datalore":{
     "node_id":"78r6Zpf5M16B7PmhhpHI3q",
     "type":"CODE",
     "hide_input_from_viewers":true,
     "hide_output_from_viewers":true
    }
   }
  },
  {
   "cell_type":"code",
   "source":[
    "def fill_mort_acc(row, series):\n",
    "  # check if the value in 'mort_acc' is null\n",
    "  if pd.isnull(row['mort_acc']):\n",
    "    # find the value in 'series' that matches the 'total_acc' value of the row\n",
    "    return values_to_be_filled.loc[row['total_acc']]\n",
    "  else:\n",
    "    # return the original value in 'mort_acc'\n",
    "    return row['mort_acc']\n",
    "\n",
    "# apply the function to the DataFrame and assign the result to a new column\n",
    "df['mort_acc'] = df.apply(fill_mort_acc, args=(values_to_be_filled,), axis=1)"
   ],
   "execution_count":51,
   "outputs":[
    
   ],
   "metadata":{
    "datalore":{
     "node_id":"1DTdR1xJQKgcgPoGGbcLZW",
     "type":"CODE",
     "hide_input_from_viewers":false,
     "hide_output_from_viewers":false,
     "report_properties":{
      "rowId":"UOIU1C9Y8J38Ab93hb3Wzl"
     }
    }
   }
  },
  {
   "cell_type":"code",
   "source":[
    "df.iloc[[22, 25, 32, 41, 62]]"
   ],
   "execution_count":52,
   "outputs":[
    {
     "data":{
      "text\/html":[
       "<div>\n",
       "<style scoped>\n",
       "    .dataframe tbody tr th:only-of-type {\n",
       "        vertical-align: middle;\n",
       "    }\n",
       "\n",
       "    .dataframe tbody tr th {\n",
       "        vertical-align: top;\n",
       "    }\n",
       "\n",
       "    .dataframe thead th {\n",
       "        text-align: right;\n",
       "    }\n",
       "<\/style>\n",
       "<table border=\"1\" class=\"dataframe\">\n",
       "  <thead>\n",
       "    <tr style=\"text-align: right;\">\n",
       "      <th><\/th>\n",
       "      <th>loan_amnt<\/th>\n",
       "      <th>term<\/th>\n",
       "      <th>int_rate<\/th>\n",
       "      <th>installment<\/th>\n",
       "      <th>grade<\/th>\n",
       "      <th>sub_grade<\/th>\n",
       "      <th>home_ownership<\/th>\n",
       "      <th>annual_inc<\/th>\n",
       "      <th>verification_status<\/th>\n",
       "      <th>issue_d<\/th>\n",
       "      <th>...<\/th>\n",
       "      <th>pub_rec<\/th>\n",
       "      <th>revol_bal<\/th>\n",
       "      <th>revol_util<\/th>\n",
       "      <th>total_acc<\/th>\n",
       "      <th>initial_list_status<\/th>\n",
       "      <th>application_type<\/th>\n",
       "      <th>mort_acc<\/th>\n",
       "      <th>pub_rec_bankruptcies<\/th>\n",
       "      <th>address<\/th>\n",
       "      <th>loan_repaid<\/th>\n",
       "    <\/tr>\n",
       "  <\/thead>\n",
       "  <tbody>\n",
       "    <tr>\n",
       "      <th>22<\/th>\n",
       "      <td>4200.0<\/td>\n",
       "      <td>36 months<\/td>\n",
       "      <td>6.99<\/td>\n",
       "      <td>129.67<\/td>\n",
       "      <td>A<\/td>\n",
       "      <td>A3<\/td>\n",
       "      <td>OWN<\/td>\n",
       "      <td>24000.0<\/td>\n",
       "      <td>Not Verified<\/td>\n",
       "      <td>Jun-2011<\/td>\n",
       "      <td>...<\/td>\n",
       "      <td>0.0<\/td>\n",
       "      <td>0.0<\/td>\n",
       "      <td>0.0<\/td>\n",
       "      <td>7.0<\/td>\n",
       "      <td>f<\/td>\n",
       "      <td>INDIVIDUAL<\/td>\n",
       "      <td>0.221695<\/td>\n",
       "      <td>0.0<\/td>\n",
       "      <td>54395 Melissa Walks\\r\\nJenniferbury, AL 05113<\/td>\n",
       "      <td>1<\/td>\n",
       "    <\/tr>\n",
       "    <tr>\n",
       "      <th>25<\/th>\n",
       "      <td>6000.0<\/td>\n",
       "      <td>36 months<\/td>\n",
       "      <td>11.36<\/td>\n",
       "      <td>197.47<\/td>\n",
       "      <td>B<\/td>\n",
       "      <td>B5<\/td>\n",
       "      <td>RENT<\/td>\n",
       "      <td>46680.0<\/td>\n",
       "      <td>Not Verified<\/td>\n",
       "      <td>Apr-2010<\/td>\n",
       "      <td>...<\/td>\n",
       "      <td>0.0<\/td>\n",
       "      <td>4370.0<\/td>\n",
       "      <td>40.1<\/td>\n",
       "      <td>10.0<\/td>\n",
       "      <td>f<\/td>\n",
       "      <td>INDIVIDUAL<\/td>\n",
       "      <td>0.429158<\/td>\n",
       "      <td>0.0<\/td>\n",
       "      <td>44130 Powers Course Suite 880\\r\\nEast Preston,...<\/td>\n",
       "      <td>0<\/td>\n",
       "    <\/tr>\n",
       "    <tr>\n",
       "      <th>32<\/th>\n",
       "      <td>3000.0<\/td>\n",
       "      <td>36 months<\/td>\n",
       "      <td>6.03<\/td>\n",
       "      <td>91.31<\/td>\n",
       "      <td>A<\/td>\n",
       "      <td>A1<\/td>\n",
       "      <td>OWN<\/td>\n",
       "      <td>64000.0<\/td>\n",
       "      <td>Source Verified<\/td>\n",
       "      <td>Oct-2011<\/td>\n",
       "      <td>...<\/td>\n",
       "      <td>0.0<\/td>\n",
       "      <td>4912.0<\/td>\n",
       "      <td>13.4<\/td>\n",
       "      <td>18.0<\/td>\n",
       "      <td>f<\/td>\n",
       "      <td>INDIVIDUAL<\/td>\n",
       "      <td>1.235885<\/td>\n",
       "      <td>0.0<\/td>\n",
       "      <td>2722 Smith Branch Suite 131\\r\\nShaunbury, NH 2...<\/td>\n",
       "      <td>1<\/td>\n",
       "    <\/tr>\n",
       "    <tr>\n",
       "      <th>41<\/th>\n",
       "      <td>28000.0<\/td>\n",
       "      <td>60 months<\/td>\n",
       "      <td>19.91<\/td>\n",
       "      <td>312.04<\/td>\n",
       "      <td>E<\/td>\n",
       "      <td>E4<\/td>\n",
       "      <td>RENT<\/td>\n",
       "      <td>52000.0<\/td>\n",
       "      <td>Verified<\/td>\n",
       "      <td>Dec-2011<\/td>\n",
       "      <td>...<\/td>\n",
       "      <td>0.0<\/td>\n",
       "      <td>29178.0<\/td>\n",
       "      <td>87.6<\/td>\n",
       "      <td>16.0<\/td>\n",
       "      <td>f<\/td>\n",
       "      <td>INDIVIDUAL<\/td>\n",
       "      <td>1.007405<\/td>\n",
       "      <td>0.0<\/td>\n",
       "      <td>5836 Garcia Falls Apt. 525\\r\\nMatthewtown, CT ...<\/td>\n",
       "      <td>0<\/td>\n",
       "    <\/tr>\n",
       "    <tr>\n",
       "      <th>62<\/th>\n",
       "      <td>5000.0<\/td>\n",
       "      <td>36 months<\/td>\n",
       "      <td>10.39<\/td>\n",
       "      <td>118.45<\/td>\n",
       "      <td>B<\/td>\n",
       "      <td>B4<\/td>\n",
       "      <td>RENT<\/td>\n",
       "      <td>66000.0<\/td>\n",
       "      <td>Not Verified<\/td>\n",
       "      <td>May-2008<\/td>\n",
       "      <td>...<\/td>\n",
       "      <td>0.0<\/td>\n",
       "      <td>15807.0<\/td>\n",
       "      <td>20.0<\/td>\n",
       "      <td>17.0<\/td>\n",
       "      <td>f<\/td>\n",
       "      <td>INDIVIDUAL<\/td>\n",
       "      <td>1.151269<\/td>\n",
       "      <td>0.0<\/td>\n",
       "      <td>USS Goodman\\r\\nFPO AE 22690<\/td>\n",
       "      <td>1<\/td>\n",
       "    <\/tr>\n",
       "  <\/tbody>\n",
       "<\/table>\n",
       "<p>5 rows × 25 columns<\/p>\n",
       "<\/div>"
      ]
     },
     "metadata":{
      
     },
     "output_type":"display_data"
    }
   ],
   "metadata":{
    "datalore":{
     "node_id":"jeN8TPRxV4jr4yhrOYYtDc",
     "type":"CODE",
     "hide_input_from_viewers":true,
     "hide_output_from_viewers":true
    }
   }
  },
  {
   "cell_type":"code",
   "source":[
    "df.isnull().sum()"
   ],
   "execution_count":53,
   "outputs":[
    {
     "data":{
      "text\/html":[
       "<pre>loan_amnt                 0\n",
       "term                      0\n",
       "int_rate                  0\n",
       "installment               0\n",
       "grade                     0\n",
       "sub_grade                 0\n",
       "home_ownership            0\n",
       "annual_inc                0\n",
       "verification_status       0\n",
       "issue_d                   0\n",
       "loan_status               0\n",
       "purpose                   0\n",
       "dti                       0\n",
       "earliest_cr_line          0\n",
       "open_acc                  0\n",
       "pub_rec                   0\n",
       "revol_bal                 0\n",
       "revol_util              276\n",
       "total_acc                 0\n",
       "initial_list_status       0\n",
       "application_type          0\n",
       "mort_acc                  0\n",
       "pub_rec_bankruptcies    535\n",
       "address                   0\n",
       "loan_repaid               0\n",
       "dtype: int64<\/pre>"
      ]
     },
     "metadata":{
      
     },
     "output_type":"display_data"
    }
   ],
   "metadata":{
    "datalore":{
     "node_id":"3WKc7IVh92uMEe58vz51rP",
     "type":"CODE",
     "hide_input_from_viewers":true,
     "hide_output_from_viewers":true
    }
   }
  },
  {
   "cell_type":"markdown",
   "source":[
    "**TASK: revol_util and the pub_rec_bankruptcies have missing data points, but they account for less than 0.5% of the total data. Go ahead and remove the rows that are missing those values in those columns with dropna().**"
   ],
   "attachments":{
    
   },
   "metadata":{
    "datalore":{
     "node_id":"BgarzHx6f9HWCav3xQs7T4",
     "type":"MD",
     "hide_input_from_viewers":false,
     "hide_output_from_viewers":false,
     "report_properties":{
      "rowId":"47retd9M4Qx9cCsBHPWlRx"
     }
    }
   }
  },
  {
   "cell_type":"code",
   "source":[
    "df = df.dropna(subset=['revol_util', 'pub_rec_bankruptcies'], how='any')"
   ],
   "execution_count":54,
   "outputs":[
    
   ],
   "metadata":{
    "datalore":{
     "node_id":"0D0oT6zJDFvrom4gPUkEsb",
     "type":"CODE",
     "hide_input_from_viewers":false,
     "hide_output_from_viewers":false,
     "report_properties":{
      "rowId":"XXsDkTAQl1Y1724DT5VwjV"
     }
    }
   }
  },
  {
   "cell_type":"code",
   "source":[
    "df.isnull().sum()"
   ],
   "execution_count":55,
   "outputs":[
    {
     "data":{
      "text\/html":[
       "<pre>loan_amnt               0\n",
       "term                    0\n",
       "int_rate                0\n",
       "installment             0\n",
       "grade                   0\n",
       "sub_grade               0\n",
       "home_ownership          0\n",
       "annual_inc              0\n",
       "verification_status     0\n",
       "issue_d                 0\n",
       "loan_status             0\n",
       "purpose                 0\n",
       "dti                     0\n",
       "earliest_cr_line        0\n",
       "open_acc                0\n",
       "pub_rec                 0\n",
       "revol_bal               0\n",
       "revol_util              0\n",
       "total_acc               0\n",
       "initial_list_status     0\n",
       "application_type        0\n",
       "mort_acc                0\n",
       "pub_rec_bankruptcies    0\n",
       "address                 0\n",
       "loan_repaid             0\n",
       "dtype: int64<\/pre>"
      ]
     },
     "metadata":{
      
     },
     "output_type":"display_data"
    }
   ],
   "metadata":{
    "datalore":{
     "node_id":"OmxOdz8xI0ma6wYdWY2of5",
     "type":"CODE",
     "hide_input_from_viewers":true,
     "hide_output_from_viewers":true
    }
   }
  },
  {
   "cell_type":"markdown",
   "source":[
    "## Categorical Variables and Dummy Variables\n",
    "\n",
    "**We're done working with the missing data! Now we just need to deal with the string values due to the categorical columns.**\n",
    "\n",
    "**TASK: List all the columns that are currently non-numeric. [Helpful Link](https:\/\/stackoverflow.com\/questions\/22470690\/get-list-of-pandas-dataframe-columns-based-on-data-type)**\n",
    "\n",
    "[Another very useful method call](https:\/\/pandas.pydata.org\/pandas-docs\/stable\/reference\/api\/pandas.DataFrame.select_dtypes.html)"
   ],
   "attachments":{
    
   },
   "metadata":{
    "datalore":{
     "node_id":"5fHGYb2BX4LHoSZXEPIzoU",
     "type":"MD",
     "hide_input_from_viewers":false,
     "hide_output_from_viewers":false,
     "report_properties":{
      "rowId":"DFbJJZiyNbBEIcCsIzq31T"
     }
    }
   }
  },
  {
   "cell_type":"code",
   "source":[
    "df.select_dtypes(include=['object']).columns"
   ],
   "execution_count":56,
   "outputs":[
    {
     "data":{
      "text\/plain":[
       "Index(['term', 'grade', 'sub_grade', 'home_ownership', 'verification_status',\n",
       "       'issue_d', 'loan_status', 'purpose', 'earliest_cr_line',\n",
       "       'initial_list_status', 'application_type', 'address'],\n",
       "      dtype='object')"
      ]
     },
     "metadata":{
      
     },
     "output_type":"display_data"
    }
   ],
   "metadata":{
    "datalore":{
     "node_id":"cwdJPivm6v4CV49jBtlWOM",
     "type":"CODE",
     "hide_input_from_viewers":false,
     "hide_output_from_viewers":false,
     "report_properties":{
      "rowId":"kL20rt1OW335xqmTCUkr2z"
     }
    }
   }
  },
  {
   "cell_type":"markdown",
   "source":[
    "---\n",
    "**Let's now go through all the string features to see what we should do with them.**\n",
    "\n",
    "---\n",
    "\n",
    "\n",
    "### term feature\n",
    "\n",
    "**TASK: Convert the term feature into either a 36 or 60 integer numeric data type using .apply() or .map().**"
   ],
   "attachments":{
    
   },
   "metadata":{
    "datalore":{
     "node_id":"kCAH5JlapEJvbEzmOGvab4",
     "type":"MD",
     "hide_input_from_viewers":false,
     "hide_output_from_viewers":false,
     "report_properties":{
      "rowId":"1owIdYtmPmuUbEA9N20Brk"
     }
    }
   }
  },
  {
   "cell_type":"code",
   "source":[
    "df.term.unique()"
   ],
   "execution_count":57,
   "outputs":[
    {
     "data":{
      "text\/html":[
       "<pre>array([' 36 months', ' 60 months'], dtype=object)<\/pre>"
      ]
     },
     "metadata":{
      
     },
     "output_type":"display_data"
    }
   ],
   "metadata":{
    "datalore":{
     "node_id":"FvQWb3uhUFGzguFAc6w8m9",
     "type":"CODE",
     "hide_input_from_viewers":false,
     "hide_output_from_viewers":false,
     "report_properties":{
      "rowId":"hYZI41OI4xgCA4FNVjO1d1"
     }
    }
   }
  },
  {
   "cell_type":"code",
   "source":[
    "term_dict = {' 36 months':36, ' 60 months':60}\n",
    "df['term'] = df['term'].replace(term_dict)"
   ],
   "execution_count":58,
   "outputs":[
    
   ],
   "metadata":{
    "datalore":{
     "node_id":"r5FhoLkrBp5KLbKPhE3exl",
     "type":"CODE",
     "hide_input_from_viewers":true,
     "hide_output_from_viewers":true
    }
   }
  },
  {
   "cell_type":"markdown",
   "source":[
    "### grade feature\n",
    "\n",
    "**TASK: We already know grade is part of sub_grade, so just drop the grade feature.**"
   ],
   "attachments":{
    
   },
   "metadata":{
    "datalore":{
     "node_id":"VLXBvLRSk51WsXNbtLyL1J",
     "type":"MD",
     "hide_input_from_viewers":false,
     "hide_output_from_viewers":false,
     "report_properties":{
      "rowId":"V1VNYPy002hiIY3FXUFj4q"
     }
    }
   }
  },
  {
   "cell_type":"code",
   "source":[
    "df.drop('grade', axis=1, inplace=True)"
   ],
   "execution_count":59,
   "outputs":[
    
   ],
   "metadata":{
    "datalore":{
     "node_id":"0DTcDLzxn8bULiNjUX4j00",
     "type":"CODE",
     "hide_input_from_viewers":false,
     "hide_output_from_viewers":false,
     "report_properties":{
      "rowId":"vEuGPzG0lBzMZmMsrtJpSm"
     }
    }
   }
  },
  {
   "cell_type":"code",
   "source":[
    "df.head()"
   ],
   "execution_count":60,
   "outputs":[
    {
     "data":{
      "text\/html":[
       "<div>\n",
       "<style scoped>\n",
       "    .dataframe tbody tr th:only-of-type {\n",
       "        vertical-align: middle;\n",
       "    }\n",
       "\n",
       "    .dataframe tbody tr th {\n",
       "        vertical-align: top;\n",
       "    }\n",
       "\n",
       "    .dataframe thead th {\n",
       "        text-align: right;\n",
       "    }\n",
       "<\/style>\n",
       "<table border=\"1\" class=\"dataframe\">\n",
       "  <thead>\n",
       "    <tr style=\"text-align: right;\">\n",
       "      <th><\/th>\n",
       "      <th>loan_amnt<\/th>\n",
       "      <th>term<\/th>\n",
       "      <th>int_rate<\/th>\n",
       "      <th>installment<\/th>\n",
       "      <th>sub_grade<\/th>\n",
       "      <th>home_ownership<\/th>\n",
       "      <th>annual_inc<\/th>\n",
       "      <th>verification_status<\/th>\n",
       "      <th>issue_d<\/th>\n",
       "      <th>loan_status<\/th>\n",
       "      <th>...<\/th>\n",
       "      <th>pub_rec<\/th>\n",
       "      <th>revol_bal<\/th>\n",
       "      <th>revol_util<\/th>\n",
       "      <th>total_acc<\/th>\n",
       "      <th>initial_list_status<\/th>\n",
       "      <th>application_type<\/th>\n",
       "      <th>mort_acc<\/th>\n",
       "      <th>pub_rec_bankruptcies<\/th>\n",
       "      <th>address<\/th>\n",
       "      <th>loan_repaid<\/th>\n",
       "    <\/tr>\n",
       "  <\/thead>\n",
       "  <tbody>\n",
       "    <tr>\n",
       "      <th>0<\/th>\n",
       "      <td>10000.0<\/td>\n",
       "      <td>36<\/td>\n",
       "      <td>11.44<\/td>\n",
       "      <td>329.48<\/td>\n",
       "      <td>B4<\/td>\n",
       "      <td>RENT<\/td>\n",
       "      <td>117000.0<\/td>\n",
       "      <td>Not Verified<\/td>\n",
       "      <td>Jan-2015<\/td>\n",
       "      <td>Fully Paid<\/td>\n",
       "      <td>...<\/td>\n",
       "      <td>0.0<\/td>\n",
       "      <td>36369.0<\/td>\n",
       "      <td>41.8<\/td>\n",
       "      <td>25.0<\/td>\n",
       "      <td>w<\/td>\n",
       "      <td>INDIVIDUAL<\/td>\n",
       "      <td>0.0<\/td>\n",
       "      <td>0.0<\/td>\n",
       "      <td>0174 Michelle Gateway\\r\\nMendozaberg, OK 22690<\/td>\n",
       "      <td>1<\/td>\n",
       "    <\/tr>\n",
       "    <tr>\n",
       "      <th>1<\/th>\n",
       "      <td>8000.0<\/td>\n",
       "      <td>36<\/td>\n",
       "      <td>11.99<\/td>\n",
       "      <td>265.68<\/td>\n",
       "      <td>B5<\/td>\n",
       "      <td>MORTGAGE<\/td>\n",
       "      <td>65000.0<\/td>\n",
       "      <td>Not Verified<\/td>\n",
       "      <td>Jan-2015<\/td>\n",
       "      <td>Fully Paid<\/td>\n",
       "      <td>...<\/td>\n",
       "      <td>0.0<\/td>\n",
       "      <td>20131.0<\/td>\n",
       "      <td>53.3<\/td>\n",
       "      <td>27.0<\/td>\n",
       "      <td>f<\/td>\n",
       "      <td>INDIVIDUAL<\/td>\n",
       "      <td>3.0<\/td>\n",
       "      <td>0.0<\/td>\n",
       "      <td>1076 Carney Fort Apt. 347\\r\\nLoganmouth, SD 05113<\/td>\n",
       "      <td>1<\/td>\n",
       "    <\/tr>\n",
       "    <tr>\n",
       "      <th>2<\/th>\n",
       "      <td>15600.0<\/td>\n",
       "      <td>36<\/td>\n",
       "      <td>10.49<\/td>\n",
       "      <td>506.97<\/td>\n",
       "      <td>B3<\/td>\n",
       "      <td>RENT<\/td>\n",
       "      <td>43057.0<\/td>\n",
       "      <td>Source Verified<\/td>\n",
       "      <td>Jan-2015<\/td>\n",
       "      <td>Fully Paid<\/td>\n",
       "      <td>...<\/td>\n",
       "      <td>0.0<\/td>\n",
       "      <td>11987.0<\/td>\n",
       "      <td>92.2<\/td>\n",
       "      <td>26.0<\/td>\n",
       "      <td>f<\/td>\n",
       "      <td>INDIVIDUAL<\/td>\n",
       "      <td>0.0<\/td>\n",
       "      <td>0.0<\/td>\n",
       "      <td>87025 Mark Dale Apt. 269\\r\\nNew Sabrina, WV 05113<\/td>\n",
       "      <td>1<\/td>\n",
       "    <\/tr>\n",
       "    <tr>\n",
       "      <th>3<\/th>\n",
       "      <td>7200.0<\/td>\n",
       "      <td>36<\/td>\n",
       "      <td>6.49<\/td>\n",
       "      <td>220.65<\/td>\n",
       "      <td>A2<\/td>\n",
       "      <td>RENT<\/td>\n",
       "      <td>54000.0<\/td>\n",
       "      <td>Not Verified<\/td>\n",
       "      <td>Nov-2014<\/td>\n",
       "      <td>Fully Paid<\/td>\n",
       "      <td>...<\/td>\n",
       "      <td>0.0<\/td>\n",
       "      <td>5472.0<\/td>\n",
       "      <td>21.5<\/td>\n",
       "      <td>13.0<\/td>\n",
       "      <td>f<\/td>\n",
       "      <td>INDIVIDUAL<\/td>\n",
       "      <td>0.0<\/td>\n",
       "      <td>0.0<\/td>\n",
       "      <td>823 Reid Ford\\r\\nDelacruzside, MA 00813<\/td>\n",
       "      <td>1<\/td>\n",
       "    <\/tr>\n",
       "    <tr>\n",
       "      <th>4<\/th>\n",
       "      <td>24375.0<\/td>\n",
       "      <td>60<\/td>\n",
       "      <td>17.27<\/td>\n",
       "      <td>609.33<\/td>\n",
       "      <td>C5<\/td>\n",
       "      <td>MORTGAGE<\/td>\n",
       "      <td>55000.0<\/td>\n",
       "      <td>Verified<\/td>\n",
       "      <td>Apr-2013<\/td>\n",
       "      <td>Charged Off<\/td>\n",
       "      <td>...<\/td>\n",
       "      <td>0.0<\/td>\n",
       "      <td>24584.0<\/td>\n",
       "      <td>69.8<\/td>\n",
       "      <td>43.0<\/td>\n",
       "      <td>f<\/td>\n",
       "      <td>INDIVIDUAL<\/td>\n",
       "      <td>1.0<\/td>\n",
       "      <td>0.0<\/td>\n",
       "      <td>679 Luna Roads\\r\\nGreggshire, VA 11650<\/td>\n",
       "      <td>0<\/td>\n",
       "    <\/tr>\n",
       "  <\/tbody>\n",
       "<\/table>\n",
       "<p>5 rows × 24 columns<\/p>\n",
       "<\/div>"
      ]
     },
     "metadata":{
      
     },
     "output_type":"display_data"
    }
   ],
   "metadata":{
    "datalore":{
     "node_id":"HojPBm9sohY1A8fv1mpq9F",
     "type":"CODE",
     "hide_input_from_viewers":true,
     "hide_output_from_viewers":true
    }
   }
  },
  {
   "cell_type":"markdown",
   "source":[
    "**TASK: Convert the subgrade into dummy variables. Then concatenate these new columns to the original dataframe. Remember to drop the original subgrade column and to add drop_first=True to your get_dummies call.**"
   ],
   "attachments":{
    
   },
   "metadata":{
    "datalore":{
     "node_id":"xSztsP3rb1ggoGGXQTG96u",
     "type":"MD",
     "hide_input_from_viewers":false,
     "hide_output_from_viewers":false,
     "report_properties":{
      "rowId":"ggR11r6nXMTC6qqzl302UX"
     }
    }
   }
  },
  {
   "cell_type":"markdown",
   "source":[
    "### verification_status, application_type,initial_list_status,purpose \n",
    "**TASK: Convert these columns: ['verification_status', 'application_type','initial_list_status','purpose'] into dummy variables and concatenate them with the original dataframe. Remember to set drop_first=True and to drop the original columns.**"
   ],
   "attachments":{
    
   },
   "metadata":{
    "datalore":{
     "node_id":"DFvNZj4u9M3iYl0IO1d6i4",
     "type":"MD",
     "hide_input_from_viewers":false,
     "hide_output_from_viewers":false,
     "report_properties":{
      "rowId":"eGbo078Vh1NOuiKfvSMCU6"
     }
    }
   }
  },
  {
   "cell_type":"code",
   "source":[
    "def create_dummy_variables(dataframe, column):\n",
    "    dummies = pd.get_dummies(dataframe[column], drop_first=True)\n",
    "    dataframe = pd.concat([dataframe, dummies], axis=1)\n",
    "    dataframe.drop(column, axis=1, inplace=True)\n",
    "    return dataframe"
   ],
   "execution_count":61,
   "outputs":[
    
   ],
   "metadata":{
    "datalore":{
     "node_id":"96J8kkjCV31oyf4VTLnyC3",
     "type":"CODE",
     "hide_input_from_viewers":true,
     "hide_output_from_viewers":true
    }
   }
  },
  {
   "cell_type":"code",
   "source":[
    "columns_to_dummies = ['sub_grade','verification_status','application_type','initial_list_status','purpose']"
   ],
   "execution_count":62,
   "outputs":[
    
   ],
   "metadata":{
    "datalore":{
     "node_id":"mdDSjBZ9Dqr51AdZlGoiST",
     "type":"CODE",
     "hide_input_from_viewers":true,
     "hide_output_from_viewers":true
    }
   }
  },
  {
   "cell_type":"code",
   "source":[
    "for column in columns_to_dummies:\n",
    "    df = create_dummy_variables(df,column)"
   ],
   "execution_count":63,
   "outputs":[
    
   ],
   "metadata":{
    "datalore":{
     "node_id":"1jKHKyzPqa9Ifoww4DqX04",
     "type":"CODE",
     "hide_input_from_viewers":true,
     "hide_output_from_viewers":true
    }
   }
  },
  {
   "cell_type":"code",
   "source":[
    "df.head()"
   ],
   "execution_count":64,
   "outputs":[
    {
     "data":{
      "text\/html":[
       "<div>\n",
       "<style scoped>\n",
       "    .dataframe tbody tr th:only-of-type {\n",
       "        vertical-align: middle;\n",
       "    }\n",
       "\n",
       "    .dataframe tbody tr th {\n",
       "        vertical-align: top;\n",
       "    }\n",
       "\n",
       "    .dataframe thead th {\n",
       "        text-align: right;\n",
       "    }\n",
       "<\/style>\n",
       "<table border=\"1\" class=\"dataframe\">\n",
       "  <thead>\n",
       "    <tr style=\"text-align: right;\">\n",
       "      <th><\/th>\n",
       "      <th>loan_amnt<\/th>\n",
       "      <th>term<\/th>\n",
       "      <th>int_rate<\/th>\n",
       "      <th>installment<\/th>\n",
       "      <th>home_ownership<\/th>\n",
       "      <th>annual_inc<\/th>\n",
       "      <th>issue_d<\/th>\n",
       "      <th>loan_status<\/th>\n",
       "      <th>dti<\/th>\n",
       "      <th>earliest_cr_line<\/th>\n",
       "      <th>...<\/th>\n",
       "      <th>home_improvement<\/th>\n",
       "      <th>house<\/th>\n",
       "      <th>major_purchase<\/th>\n",
       "      <th>medical<\/th>\n",
       "      <th>moving<\/th>\n",
       "      <th>other<\/th>\n",
       "      <th>renewable_energy<\/th>\n",
       "      <th>small_business<\/th>\n",
       "      <th>vacation<\/th>\n",
       "      <th>wedding<\/th>\n",
       "    <\/tr>\n",
       "  <\/thead>\n",
       "  <tbody>\n",
       "    <tr>\n",
       "      <th>0<\/th>\n",
       "      <td>10000.0<\/td>\n",
       "      <td>36<\/td>\n",
       "      <td>11.44<\/td>\n",
       "      <td>329.48<\/td>\n",
       "      <td>RENT<\/td>\n",
       "      <td>117000.0<\/td>\n",
       "      <td>Jan-2015<\/td>\n",
       "      <td>Fully Paid<\/td>\n",
       "      <td>26.24<\/td>\n",
       "      <td>Jun-1990<\/td>\n",
       "      <td>...<\/td>\n",
       "      <td>0<\/td>\n",
       "      <td>0<\/td>\n",
       "      <td>0<\/td>\n",
       "      <td>0<\/td>\n",
       "      <td>0<\/td>\n",
       "      <td>0<\/td>\n",
       "      <td>0<\/td>\n",
       "      <td>0<\/td>\n",
       "      <td>1<\/td>\n",
       "      <td>0<\/td>\n",
       "    <\/tr>\n",
       "    <tr>\n",
       "      <th>1<\/th>\n",
       "      <td>8000.0<\/td>\n",
       "      <td>36<\/td>\n",
       "      <td>11.99<\/td>\n",
       "      <td>265.68<\/td>\n",
       "      <td>MORTGAGE<\/td>\n",
       "      <td>65000.0<\/td>\n",
       "      <td>Jan-2015<\/td>\n",
       "      <td>Fully Paid<\/td>\n",
       "      <td>22.05<\/td>\n",
       "      <td>Jul-2004<\/td>\n",
       "      <td>...<\/td>\n",
       "      <td>0<\/td>\n",
       "      <td>0<\/td>\n",
       "      <td>0<\/td>\n",
       "      <td>0<\/td>\n",
       "      <td>0<\/td>\n",
       "      <td>0<\/td>\n",
       "      <td>0<\/td>\n",
       "      <td>0<\/td>\n",
       "      <td>0<\/td>\n",
       "      <td>0<\/td>\n",
       "    <\/tr>\n",
       "    <tr>\n",
       "      <th>2<\/th>\n",
       "      <td>15600.0<\/td>\n",
       "      <td>36<\/td>\n",
       "      <td>10.49<\/td>\n",
       "      <td>506.97<\/td>\n",
       "      <td>RENT<\/td>\n",
       "      <td>43057.0<\/td>\n",
       "      <td>Jan-2015<\/td>\n",
       "      <td>Fully Paid<\/td>\n",
       "      <td>12.79<\/td>\n",
       "      <td>Aug-2007<\/td>\n",
       "      <td>...<\/td>\n",
       "      <td>0<\/td>\n",
       "      <td>0<\/td>\n",
       "      <td>0<\/td>\n",
       "      <td>0<\/td>\n",
       "      <td>0<\/td>\n",
       "      <td>0<\/td>\n",
       "      <td>0<\/td>\n",
       "      <td>0<\/td>\n",
       "      <td>0<\/td>\n",
       "      <td>0<\/td>\n",
       "    <\/tr>\n",
       "    <tr>\n",
       "      <th>3<\/th>\n",
       "      <td>7200.0<\/td>\n",
       "      <td>36<\/td>\n",
       "      <td>6.49<\/td>\n",
       "      <td>220.65<\/td>\n",
       "      <td>RENT<\/td>\n",
       "      <td>54000.0<\/td>\n",
       "      <td>Nov-2014<\/td>\n",
       "      <td>Fully Paid<\/td>\n",
       "      <td>2.60<\/td>\n",
       "      <td>Sep-2006<\/td>\n",
       "      <td>...<\/td>\n",
       "      <td>0<\/td>\n",
       "      <td>0<\/td>\n",
       "      <td>0<\/td>\n",
       "      <td>0<\/td>\n",
       "      <td>0<\/td>\n",
       "      <td>0<\/td>\n",
       "      <td>0<\/td>\n",
       "      <td>0<\/td>\n",
       "      <td>0<\/td>\n",
       "      <td>0<\/td>\n",
       "    <\/tr>\n",
       "    <tr>\n",
       "      <th>4<\/th>\n",
       "      <td>24375.0<\/td>\n",
       "      <td>60<\/td>\n",
       "      <td>17.27<\/td>\n",
       "      <td>609.33<\/td>\n",
       "      <td>MORTGAGE<\/td>\n",
       "      <td>55000.0<\/td>\n",
       "      <td>Apr-2013<\/td>\n",
       "      <td>Charged Off<\/td>\n",
       "      <td>33.95<\/td>\n",
       "      <td>Mar-1999<\/td>\n",
       "      <td>...<\/td>\n",
       "      <td>0<\/td>\n",
       "      <td>0<\/td>\n",
       "      <td>0<\/td>\n",
       "      <td>0<\/td>\n",
       "      <td>0<\/td>\n",
       "      <td>0<\/td>\n",
       "      <td>0<\/td>\n",
       "      <td>0<\/td>\n",
       "      <td>0<\/td>\n",
       "      <td>0<\/td>\n",
       "    <\/tr>\n",
       "  <\/tbody>\n",
       "<\/table>\n",
       "<p>5 rows × 71 columns<\/p>\n",
       "<\/div>"
      ]
     },
     "metadata":{
      
     },
     "output_type":"display_data"
    }
   ],
   "metadata":{
    "datalore":{
     "node_id":"P7kgzGaG626IZ1yAJ9PA6M",
     "type":"CODE",
     "hide_input_from_viewers":true,
     "hide_output_from_viewers":true
    }
   }
  },
  {
   "cell_type":"markdown",
   "source":[
    "### home_ownership\n",
    "**TASK:Review the value_counts for the home_ownership column.**"
   ],
   "attachments":{
    
   },
   "metadata":{
    "datalore":{
     "node_id":"XRT4Bq3ksW4yBi89L5GyLD",
     "type":"MD",
     "hide_input_from_viewers":false,
     "hide_output_from_viewers":false,
     "report_properties":{
      "rowId":"ZbvNVnGQfrd7uJCvPAV8Ce"
     }
    }
   }
  },
  {
   "cell_type":"code",
   "source":[
    "df['home_ownership'].value_counts()"
   ],
   "execution_count":65,
   "outputs":[
    {
     "data":{
      "text\/html":[
       "<pre>MORTGAGE    198022\n",
       "RENT        159395\n",
       "OWN          37660\n",
       "OTHER          110\n",
       "NONE            29\n",
       "ANY              3\n",
       "Name: home_ownership, dtype: int64<\/pre>"
      ]
     },
     "metadata":{
      
     },
     "output_type":"display_data"
    }
   ],
   "metadata":{
    "datalore":{
     "node_id":"2DneRcKozS7wSTHhKJ2rmT",
     "type":"CODE",
     "hide_input_from_viewers":false,
     "hide_output_from_viewers":false,
     "report_properties":{
      "rowId":"STCeXm5c9iMBAPEnFzj6mS"
     }
    }
   }
  },
  {
   "cell_type":"code",
   "source":[
    "df['home_ownership'] = df['home_ownership'].replace({'NONE':'OTHER', 'ANY':'OTHER'})"
   ],
   "execution_count":66,
   "outputs":[
    
   ],
   "metadata":{
    "datalore":{
     "node_id":"GG0gDOGHOvbdTDbN0OjEbw",
     "type":"CODE",
     "hide_input_from_viewers":false,
     "hide_output_from_viewers":false,
     "report_properties":{
      "rowId":"EXGsja1EinNv4v34ZbUM1g"
     }
    }
   }
  },
  {
   "cell_type":"markdown",
   "source":[
    "**TASK: Convert these to dummy variables, but [replace](https:\/\/pandas.pydata.org\/pandas-docs\/stable\/reference\/api\/pandas.DataFrame.replace.html) NONE and ANY with OTHER, so that we end up with just 4 categories, MORTGAGE, RENT, OWN, OTHER. Then concatenate them with the original dataframe. Remember to set drop_first=True and to drop the original columns.**"
   ],
   "attachments":{
    
   },
   "metadata":{
    "datalore":{
     "node_id":"puxU4FiBKLytcMQd4QjhL6",
     "type":"MD",
     "hide_input_from_viewers":false,
     "hide_output_from_viewers":false,
     "report_properties":{
      "rowId":"NnxBukXWchqb7ATtqrk8yy"
     }
    }
   }
  },
  {
   "cell_type":"code",
   "source":[
    "df = create_dummy_variables(df,'home_ownership')"
   ],
   "execution_count":67,
   "outputs":[
    
   ],
   "metadata":{
    "datalore":{
     "node_id":"OIiD8GcqmyEY2IMk5n2Gh8",
     "type":"CODE",
     "hide_input_from_viewers":false,
     "hide_output_from_viewers":false,
     "report_properties":{
      "rowId":"gtqoJ2r59d9dsalDUg3wLw"
     }
    }
   }
  },
  {
   "cell_type":"markdown",
   "source":[
    "### address\n",
    "**TASK: Let's feature engineer a zip code column from the address in the data set. Create a column called 'zip_code' that extracts the zip code from the address column.**"
   ],
   "attachments":{
    
   },
   "metadata":{
    "datalore":{
     "node_id":"ql4cOZbe80xnuDASwChaDh",
     "type":"MD",
     "hide_input_from_viewers":false,
     "hide_output_from_viewers":false,
     "report_properties":{
      "rowId":"GWgFqpZKmUBJcnnKmTTHXm"
     }
    }
   }
  },
  {
   "cell_type":"code",
   "source":[
    "df['zip_code'] = df['address'].str.slice(-5)"
   ],
   "execution_count":68,
   "outputs":[
    
   ],
   "metadata":{
    "datalore":{
     "node_id":"qf1Nq8wrguFpWmSgnZ5IlX",
     "type":"CODE",
     "hide_input_from_viewers":true,
     "hide_output_from_viewers":true
    }
   }
  },
  {
   "cell_type":"code",
   "source":[
    "df.drop('address', axis=1, inplace=True)"
   ],
   "execution_count":69,
   "outputs":[
    
   ],
   "metadata":{
    "datalore":{
     "node_id":"d9ARPrG2G1bpKAnajaObTm",
     "type":"CODE",
     "hide_input_from_viewers":true,
     "hide_output_from_viewers":true
    }
   }
  },
  {
   "cell_type":"markdown",
   "source":[
    "**TASK: Now make this zip_code column into dummy variables using pandas. Concatenate the result and drop the original zip_code column along with dropping the address column.**"
   ],
   "attachments":{
    
   },
   "metadata":{
    "datalore":{
     "node_id":"dw0SnVpeJACccsmGmh5Exk",
     "type":"MD",
     "hide_input_from_viewers":false,
     "hide_output_from_viewers":false,
     "report_properties":{
      "rowId":"T5jk7ctfYT5vC7v2rxYMVB"
     }
    }
   }
  },
  {
   "cell_type":"code",
   "source":[
    "df = create_dummy_variables(df,'zip_code')"
   ],
   "execution_count":70,
   "outputs":[
    
   ],
   "metadata":{
    "datalore":{
     "node_id":"7caXB4LFsQMycDLaW89Ci3",
     "type":"CODE",
     "hide_input_from_viewers":true,
     "hide_output_from_viewers":true
    }
   }
  },
  {
   "cell_type":"code",
   "source":[
    "df.head()"
   ],
   "execution_count":71,
   "outputs":[
    {
     "data":{
      "text\/html":[
       "<div>\n",
       "<style scoped>\n",
       "    .dataframe tbody tr th:only-of-type {\n",
       "        vertical-align: middle;\n",
       "    }\n",
       "\n",
       "    .dataframe tbody tr th {\n",
       "        vertical-align: top;\n",
       "    }\n",
       "\n",
       "    .dataframe thead th {\n",
       "        text-align: right;\n",
       "    }\n",
       "<\/style>\n",
       "<table border=\"1\" class=\"dataframe\">\n",
       "  <thead>\n",
       "    <tr style=\"text-align: right;\">\n",
       "      <th><\/th>\n",
       "      <th>loan_amnt<\/th>\n",
       "      <th>term<\/th>\n",
       "      <th>int_rate<\/th>\n",
       "      <th>installment<\/th>\n",
       "      <th>annual_inc<\/th>\n",
       "      <th>issue_d<\/th>\n",
       "      <th>loan_status<\/th>\n",
       "      <th>dti<\/th>\n",
       "      <th>earliest_cr_line<\/th>\n",
       "      <th>open_acc<\/th>\n",
       "      <th>...<\/th>\n",
       "      <th>RENT<\/th>\n",
       "      <th>05113<\/th>\n",
       "      <th>11650<\/th>\n",
       "      <th>22690<\/th>\n",
       "      <th>29597<\/th>\n",
       "      <th>30723<\/th>\n",
       "      <th>48052<\/th>\n",
       "      <th>70466<\/th>\n",
       "      <th>86630<\/th>\n",
       "      <th>93700<\/th>\n",
       "    <\/tr>\n",
       "  <\/thead>\n",
       "  <tbody>\n",
       "    <tr>\n",
       "      <th>0<\/th>\n",
       "      <td>10000.0<\/td>\n",
       "      <td>36<\/td>\n",
       "      <td>11.44<\/td>\n",
       "      <td>329.48<\/td>\n",
       "      <td>117000.0<\/td>\n",
       "      <td>Jan-2015<\/td>\n",
       "      <td>Fully Paid<\/td>\n",
       "      <td>26.24<\/td>\n",
       "      <td>Jun-1990<\/td>\n",
       "      <td>16.0<\/td>\n",
       "      <td>...<\/td>\n",
       "      <td>1<\/td>\n",
       "      <td>0<\/td>\n",
       "      <td>0<\/td>\n",
       "      <td>1<\/td>\n",
       "      <td>0<\/td>\n",
       "      <td>0<\/td>\n",
       "      <td>0<\/td>\n",
       "      <td>0<\/td>\n",
       "      <td>0<\/td>\n",
       "      <td>0<\/td>\n",
       "    <\/tr>\n",
       "    <tr>\n",
       "      <th>1<\/th>\n",
       "      <td>8000.0<\/td>\n",
       "      <td>36<\/td>\n",
       "      <td>11.99<\/td>\n",
       "      <td>265.68<\/td>\n",
       "      <td>65000.0<\/td>\n",
       "      <td>Jan-2015<\/td>\n",
       "      <td>Fully Paid<\/td>\n",
       "      <td>22.05<\/td>\n",
       "      <td>Jul-2004<\/td>\n",
       "      <td>17.0<\/td>\n",
       "      <td>...<\/td>\n",
       "      <td>0<\/td>\n",
       "      <td>1<\/td>\n",
       "      <td>0<\/td>\n",
       "      <td>0<\/td>\n",
       "      <td>0<\/td>\n",
       "      <td>0<\/td>\n",
       "      <td>0<\/td>\n",
       "      <td>0<\/td>\n",
       "      <td>0<\/td>\n",
       "      <td>0<\/td>\n",
       "    <\/tr>\n",
       "    <tr>\n",
       "      <th>2<\/th>\n",
       "      <td>15600.0<\/td>\n",
       "      <td>36<\/td>\n",
       "      <td>10.49<\/td>\n",
       "      <td>506.97<\/td>\n",
       "      <td>43057.0<\/td>\n",
       "      <td>Jan-2015<\/td>\n",
       "      <td>Fully Paid<\/td>\n",
       "      <td>12.79<\/td>\n",
       "      <td>Aug-2007<\/td>\n",
       "      <td>13.0<\/td>\n",
       "      <td>...<\/td>\n",
       "      <td>1<\/td>\n",
       "      <td>1<\/td>\n",
       "      <td>0<\/td>\n",
       "      <td>0<\/td>\n",
       "      <td>0<\/td>\n",
       "      <td>0<\/td>\n",
       "      <td>0<\/td>\n",
       "      <td>0<\/td>\n",
       "      <td>0<\/td>\n",
       "      <td>0<\/td>\n",
       "    <\/tr>\n",
       "    <tr>\n",
       "      <th>3<\/th>\n",
       "      <td>7200.0<\/td>\n",
       "      <td>36<\/td>\n",
       "      <td>6.49<\/td>\n",
       "      <td>220.65<\/td>\n",
       "      <td>54000.0<\/td>\n",
       "      <td>Nov-2014<\/td>\n",
       "      <td>Fully Paid<\/td>\n",
       "      <td>2.60<\/td>\n",
       "      <td>Sep-2006<\/td>\n",
       "      <td>6.0<\/td>\n",
       "      <td>...<\/td>\n",
       "      <td>1<\/td>\n",
       "      <td>0<\/td>\n",
       "      <td>0<\/td>\n",
       "      <td>0<\/td>\n",
       "      <td>0<\/td>\n",
       "      <td>0<\/td>\n",
       "      <td>0<\/td>\n",
       "      <td>0<\/td>\n",
       "      <td>0<\/td>\n",
       "      <td>0<\/td>\n",
       "    <\/tr>\n",
       "    <tr>\n",
       "      <th>4<\/th>\n",
       "      <td>24375.0<\/td>\n",
       "      <td>60<\/td>\n",
       "      <td>17.27<\/td>\n",
       "      <td>609.33<\/td>\n",
       "      <td>55000.0<\/td>\n",
       "      <td>Apr-2013<\/td>\n",
       "      <td>Charged Off<\/td>\n",
       "      <td>33.95<\/td>\n",
       "      <td>Mar-1999<\/td>\n",
       "      <td>13.0<\/td>\n",
       "      <td>...<\/td>\n",
       "      <td>0<\/td>\n",
       "      <td>0<\/td>\n",
       "      <td>1<\/td>\n",
       "      <td>0<\/td>\n",
       "      <td>0<\/td>\n",
       "      <td>0<\/td>\n",
       "      <td>0<\/td>\n",
       "      <td>0<\/td>\n",
       "      <td>0<\/td>\n",
       "      <td>0<\/td>\n",
       "    <\/tr>\n",
       "  <\/tbody>\n",
       "<\/table>\n",
       "<p>5 rows × 81 columns<\/p>\n",
       "<\/div>"
      ]
     },
     "metadata":{
      
     },
     "output_type":"display_data"
    }
   ],
   "metadata":{
    "datalore":{
     "node_id":"3MedOEJyvpFaXz0snzxKTw",
     "type":"CODE",
     "hide_input_from_viewers":true,
     "hide_output_from_viewers":true
    }
   }
  },
  {
   "cell_type":"markdown",
   "source":[
    "### issue_d \n",
    "\n",
    "**TASK: This would be data leakage, we wouldn't know beforehand whether or not a loan would be issued when using our model, so in theory we wouldn't have an issue_date, drop this feature.**"
   ],
   "attachments":{
    
   },
   "metadata":{
    "datalore":{
     "node_id":"uXApcWzKWLPWMxRtWUfqNw",
     "type":"MD",
     "hide_input_from_viewers":false,
     "hide_output_from_viewers":false,
     "report_properties":{
      "rowId":"qui2JotRGmfLTq0Z717L9Y"
     }
    }
   }
  },
  {
   "cell_type":"code",
   "source":[
    "df.drop('issue_d', axis=1, inplace=True)"
   ],
   "execution_count":72,
   "outputs":[
    
   ],
   "metadata":{
    "datalore":{
     "node_id":"d3gkFlQQwhUODzPw3cGHkW",
     "type":"CODE",
     "hide_input_from_viewers":false,
     "hide_output_from_viewers":false,
     "report_properties":{
      "rowId":"TCmHu33pryBuEBjASjhgIX"
     }
    }
   }
  },
  {
   "cell_type":"markdown",
   "source":[
    "### earliest_cr_line\n",
    "**TASK: This appears to be a historical time stamp feature. Extract the year from this feature using a .apply function, then convert it to a numeric feature. Set this new data to a feature column called 'earliest_cr_year'.Then drop the earliest_cr_line feature.**"
   ],
   "attachments":{
    
   },
   "metadata":{
    "datalore":{
     "node_id":"CoXo0bj9lsVOvAr3raASfU",
     "type":"MD",
     "hide_input_from_viewers":false,
     "hide_output_from_viewers":false,
     "report_properties":{
      "rowId":"B7DqKkekmilEhzpI9jDLvC"
     }
    }
   }
  },
  {
   "cell_type":"code",
   "source":[
    "df['earliest_cr_year'] = df['earliest_cr_line'].str.slice(-4)\n",
    "df.drop('earliest_cr_line', axis=1, inplace=True)"
   ],
   "execution_count":73,
   "outputs":[
    
   ],
   "metadata":{
    "datalore":{
     "node_id":"p3OCxsHvi85WPJcIBcg1R8",
     "type":"CODE",
     "hide_input_from_viewers":false,
     "hide_output_from_viewers":false,
     "report_properties":{
      "rowId":"hfdriWgCaxI44DpGWX4LMc"
     }
    }
   }
  },
  {
   "cell_type":"markdown",
   "source":[
    "## Train Test Split"
   ],
   "attachments":{
    
   },
   "metadata":{
    "datalore":{
     "node_id":"vFy48Nqyq5jK76Fgmo08Dy",
     "type":"MD",
     "hide_input_from_viewers":false,
     "hide_output_from_viewers":false,
     "report_properties":{
      "rowId":"hoD509Fi8JymvM1UNMyEd3"
     }
    }
   }
  },
  {
   "cell_type":"markdown",
   "source":[
    "**TASK: Import train_test_split from sklearn.**"
   ],
   "attachments":{
    
   },
   "metadata":{
    "datalore":{
     "node_id":"IL0rGn8L8WtI5C1s3lhE7O",
     "type":"MD",
     "hide_input_from_viewers":false,
     "hide_output_from_viewers":false,
     "report_properties":{
      "rowId":"shHCec7SBMfnA7QbnnoPIY"
     }
    }
   }
  },
  {
   "cell_type":"code",
   "source":[
    "from sklearn.model_selection import train_test_split "
   ],
   "execution_count":74,
   "outputs":[
    
   ],
   "metadata":{
    "datalore":{
     "node_id":"HRyF2R4nBqCBPsT3ZR6s9P",
     "type":"CODE",
     "hide_input_from_viewers":true,
     "hide_output_from_viewers":true
    }
   }
  },
  {
   "cell_type":"markdown",
   "source":[
    "**TASK: drop the load_status column we created earlier, since its a duplicate of the loan_repaid column. We'll use the loan_repaid column since its already in 0s and 1s.**"
   ],
   "attachments":{
    
   },
   "metadata":{
    "datalore":{
     "node_id":"MlnSgZO2bPpv0VZsLBrh4U",
     "type":"MD",
     "hide_input_from_viewers":false,
     "hide_output_from_viewers":false,
     "report_properties":{
      "rowId":"jIlNCe0cDm7uik9MkYx3sV"
     }
    }
   }
  },
  {
   "cell_type":"code",
   "source":[
    "df.drop('loan_status', axis=1, inplace=True)"
   ],
   "execution_count":75,
   "outputs":[
    
   ],
   "metadata":{
    "datalore":{
     "node_id":"JJcePZDrGAchjC4L5NW4jj",
     "type":"CODE",
     "hide_input_from_viewers":false,
     "hide_output_from_viewers":false,
     "report_properties":{
      "rowId":"6NwcTzhOOfpGGQ18Q1mm9K"
     }
    }
   }
  },
  {
   "cell_type":"markdown",
   "source":[
    "**TASK: Set X and y variables to the .values of the features and label.**"
   ],
   "attachments":{
    
   },
   "metadata":{
    "datalore":{
     "node_id":"fMt6Wme2kHmj8ciIHcEyT8",
     "type":"MD",
     "hide_input_from_viewers":false,
     "hide_output_from_viewers":false,
     "report_properties":{
      "rowId":"FqxbuPbknpJMBrrFyMZ2r1"
     }
    }
   }
  },
  {
   "cell_type":"markdown",
   "source":[
    "----\n",
    "----\n",
    "\n",
    "# OPTIONAL\n",
    "\n",
    "## Grabbing a Sample for Training Time\n",
    "\n",
    "### OPTIONAL: Use .sample() to grab a sample of the 490k+ entries to save time on training. Highly recommended for lower RAM computers or if you are not using GPU.\n",
    "\n",
    "----\n",
    "----"
   ],
   "attachments":{
    
   },
   "metadata":{
    "datalore":{
     "node_id":"wcNt5w4NZp9KF0NouiFsyH",
     "type":"MD",
     "hide_input_from_viewers":false,
     "hide_output_from_viewers":false,
     "report_properties":{
      "rowId":"mB22KJRw1GRWAfMX99x1mr"
     }
    }
   }
  },
  {
   "cell_type":"code",
   "source":[
    "df_sample = df.sample(frac=0.1,random_state=101)"
   ],
   "execution_count":76,
   "outputs":[
    
   ],
   "metadata":{
    "datalore":{
     "node_id":"GPXYINMPkQfUlBSkhIEfSB",
     "type":"CODE",
     "hide_input_from_viewers":false,
     "hide_output_from_viewers":false,
     "report_properties":{
      "rowId":"4B9Hx3XJAjkHepOFzmDutB"
     }
    }
   }
  },
  {
   "cell_type":"code",
   "source":[
    "X = df_sample.drop('loan_repaid', axis=1).values"
   ],
   "execution_count":77,
   "outputs":[
    
   ],
   "metadata":{
    "datalore":{
     "node_id":"XkHQ8qvIU5TUdtmub1FYui",
     "type":"CODE",
     "hide_input_from_viewers":true,
     "hide_output_from_viewers":true
    }
   }
  },
  {
   "cell_type":"code",
   "source":[
    "y = df_sample['loan_repaid'].values"
   ],
   "execution_count":78,
   "outputs":[
    
   ],
   "metadata":{
    "datalore":{
     "node_id":"H5OF7wkCshW90bnvqMNxkN",
     "type":"CODE",
     "hide_input_from_viewers":true,
     "hide_output_from_viewers":true
    }
   }
  },
  {
   "cell_type":"markdown",
   "source":[
    "**TASK: Perform a train\/test split with test_size=0.2 and a random_state of 101.**"
   ],
   "attachments":{
    
   },
   "metadata":{
    "datalore":{
     "node_id":"4fGtxSgnZ33RFAkBDD1PkB",
     "type":"MD",
     "hide_input_from_viewers":false,
     "hide_output_from_viewers":false,
     "report_properties":{
      "rowId":"jLpnrOeR8aXJaFaDotIuXX"
     }
    }
   }
  },
  {
   "cell_type":"code",
   "source":[
    "X_train, X_test, y_train, y_test = train_test_split(X, y, test_size=0.2, random_state=101)"
   ],
   "execution_count":79,
   "outputs":[
    
   ],
   "metadata":{
    "datalore":{
     "node_id":"8RGWGVd1FYOaLt88wzmmKY",
     "type":"CODE",
     "hide_input_from_viewers":false,
     "hide_output_from_viewers":false,
     "report_properties":{
      "rowId":"NyO0sc7pQcQEJrAPb07drT"
     }
    }
   }
  },
  {
   "cell_type":"markdown",
   "source":[
    "## Normalizing the Data\n",
    "\n",
    "**TASK: Use a MinMaxScaler to normalize the feature data X_train and X_test. Recall we don't want data leakge from the test set so we only fit on the X_train data.**"
   ],
   "attachments":{
    
   },
   "metadata":{
    "datalore":{
     "node_id":"qqsqRCmxbS3JdEC4ZXiqT9",
     "type":"MD",
     "hide_input_from_viewers":false,
     "hide_output_from_viewers":false,
     "report_properties":{
      "rowId":"IBAUV8Q2vOYDo5PtUeMzhR"
     }
    }
   }
  },
  {
   "cell_type":"code",
   "source":[
    "from sklearn.preprocessing import MinMaxScaler"
   ],
   "execution_count":80,
   "outputs":[
    
   ],
   "metadata":{
    "datalore":{
     "node_id":"bxbl2mQGQdYeBMHk302lo8",
     "type":"CODE",
     "hide_input_from_viewers":false,
     "hide_output_from_viewers":false,
     "report_properties":{
      "rowId":"qE9Eu3bWeqXJyoUHxhBQsG"
     }
    }
   }
  },
  {
   "cell_type":"code",
   "source":[
    "scaler = MinMaxScaler(feature_range=(0,1))"
   ],
   "execution_count":81,
   "outputs":[
    
   ],
   "metadata":{
    "datalore":{
     "node_id":"6IBTDcpJDXcaUeoJlWBiXM",
     "type":"CODE",
     "hide_input_from_viewers":true,
     "hide_output_from_viewers":true
    }
   }
  },
  {
   "cell_type":"code",
   "source":[
    "X_train_scaled = scaler.fit_transform(X_train)"
   ],
   "execution_count":82,
   "outputs":[
    
   ],
   "metadata":{
    "datalore":{
     "node_id":"3oBSShsLHQLZNTlZY4VgNX",
     "type":"CODE",
     "hide_input_from_viewers":true,
     "hide_output_from_viewers":true
    }
   }
  },
  {
   "cell_type":"code",
   "source":[
    "X_test_scaled = scaler.transform(X_test)"
   ],
   "execution_count":83,
   "outputs":[
    
   ],
   "metadata":{
    "datalore":{
     "node_id":"9XxCn49Ws1oopqqad1ZUCZ",
     "type":"CODE",
     "hide_input_from_viewers":true,
     "hide_output_from_viewers":true
    }
   }
  },
  {
   "cell_type":"markdown",
   "source":[
    "# Creating the Model\n",
    "\n",
    "**TASK: Run the cell below to import the necessary Keras functions.**"
   ],
   "attachments":{
    
   },
   "metadata":{
    "datalore":{
     "node_id":"4GCwRNoE7Cu8CEPtSk50nj",
     "type":"MD",
     "hide_input_from_viewers":false,
     "hide_output_from_viewers":false,
     "report_properties":{
      "rowId":"DvGSePATupEN8YZtFuaT9h"
     }
    }
   }
  },
  {
   "cell_type":"code",
   "source":[
    "import tensorflow as tf\n",
    "from tensorflow.keras.models import Sequential\n",
    "from tensorflow.keras.layers import Dense,Dropout"
   ],
   "execution_count":84,
   "outputs":[
    
   ],
   "metadata":{
    "datalore":{
     "node_id":"H7BxCqjribCEiM54TKRj8O",
     "type":"CODE",
     "hide_input_from_viewers":false,
     "hide_output_from_viewers":false,
     "report_properties":{
      "rowId":"vjZrWCJolVAj2yqGsTddLh"
     }
    }
   }
  },
  {
   "cell_type":"markdown",
   "source":[
    "**TASK: Build a sequential model to will be trained on the data. You have unlimited options here, but here is what the solution uses: a model that goes 78 --> 39 --> 19--> 1 output neuron. OPTIONAL: Explore adding [Dropout layers](https:\/\/keras.io\/layers\/core\/) [1](https:\/\/en.wikipedia.org\/wiki\/Dropout_(neural_networks)) [2](https:\/\/towardsdatascience.com\/machine-learning-part-20-dropout-keras-layers-explained-8c9f6dc4c9ab)**"
   ],
   "attachments":{
    
   },
   "metadata":{
    "datalore":{
     "node_id":"CWCi3toIWaNtrP13kbbzab",
     "type":"MD",
     "hide_input_from_viewers":false,
     "hide_output_from_viewers":false,
     "report_properties":{
      "rowId":"4LxkTLTWqXs5XfpmiQxCuj"
     }
    }
   }
  },
  {
   "cell_type":"code",
   "source":[
    "X_train.shape"
   ],
   "execution_count":85,
   "outputs":[
    {
     "data":{
      "text\/plain":[
       "(31617, 78)"
      ]
     },
     "metadata":{
      
     },
     "output_type":"display_data"
    }
   ],
   "metadata":{
    "datalore":{
     "node_id":"2DbWN4KSHABwX77HB4TmMn",
     "type":"CODE",
     "hide_input_from_viewers":true,
     "hide_output_from_viewers":true
    }
   }
  },
  {
   "cell_type":"code",
   "source":[
    "model = Sequential()\n",
    "# Add an input layer, with neuron units equal to number of features\n",
    "model.add(Dense(units=78, activation='relu'))\n",
    "# Now add one dropout layer to prevent overfitting\n",
    "model.add(Dropout(0.5))\n",
    "\n",
    "# Add one hidden layer (optional), neurons = mean(input+output) (approx.)\n",
    "model.add(Dense(units=39, activation='relu'))\n",
    "\n",
    "\n",
    "# Add one hidden layer (optional), neurons = mean(input+output) (approx.)\n",
    "model.add(Dense(units=19, activation='relu'))\n",
    "\n",
    "# Add one output layer, with neuron units equal to the number of possible lable classes - 1\n",
    "model.add(Dense(units=1, activation='sigmoid')) # For classification problems, use sigmoid\n",
    "\n",
    "\n",
    "# https:\/\/stats.stackexchange.com\/questions\/181\/how-to-choose-the-number-of-hidden-layers-and-nodes-in-a-feedforward-neural-netw"
   ],
   "execution_count":86,
   "outputs":[
    
   ],
   "metadata":{
    "datalore":{
     "node_id":"epRYLnjX2MgvboW6F6ZpTV",
     "type":"CODE",
     "hide_input_from_viewers":false,
     "hide_output_from_viewers":false,
     "report_properties":{
      "rowId":"4Eeo8YbbKNz3sdfW7EuCvy"
     }
    }
   }
  },
  {
   "cell_type":"code",
   "source":[
    "# Compile the model, by choosing loss function and an optimizer\n",
    "model.compile(loss='binary_crossentropy', optimizer='rmsprop', metrics=['AUC'])"
   ],
   "execution_count":87,
   "outputs":[
    
   ],
   "metadata":{
    "datalore":{
     "node_id":"fYNwfvosvOeqhbUSOy7BqY",
     "type":"CODE",
     "hide_input_from_viewers":true,
     "hide_output_from_viewers":true
    }
   }
  },
  {
   "cell_type":"markdown",
   "source":[
    "**TASK: Fit the model to the training data for at least 25 epochs. Also add in the validation data for later plotting. Optional: add in a batch_size of 256.**"
   ],
   "attachments":{
    
   },
   "metadata":{
    "datalore":{
     "node_id":"xRcYvNWTyTqR5YZt4EPbcg",
     "type":"MD",
     "hide_input_from_viewers":false,
     "hide_output_from_viewers":false,
     "report_properties":{
      "rowId":"CIXRLPLJ7XzA5ltrA2llhU"
     }
    }
   }
  },
  {
   "cell_type":"code",
   "source":[
    "model.fit(x=X_train_scaled, \n",
    "          y=y_train, \n",
    "          epochs=15, \n",
    "          validation_data=(X_test_scaled, y_test),\n",
    "          verbose=1,\n",
    "          )"
   ],
   "execution_count":88,
   "outputs":[
    {
     "name":"stdout",
     "text":[
      "Epoch 1\/15\n",
      "\r  1\/989 [..............................] - ETA: 27:56 - loss: 0.8342 - auc: 0.5185\b\b\b\b\b\b\b\b\b\b\b\b\b\b\b\b\b\b\b\b\b\b\b\b\b\b\b\b\b\b\b\b\b\b\b\b\b\b\b\b\b\b\b\b\b\b\b\b\b\b\b\b\b\b\b\b\b\b\b\b\b\b\b\b\b\b\b\b\b\b\b\b\b\b\b\b\b\b\b\b\b\b\r 32\/989 [..............................] - ETA: 1s - loss: 0.5578 - auc: 0.5105   \b\b\b\b\b\b\b\b\b\b\b\b\b\b\b\b\b\b\b\b\b\b\b\b\b\b\b\b\b\b\b\b\b\b\b\b\b\b\b\b\b\b\b\b\b\b\b\b\b\b\b\b\b\b\b\b\b\b\b\b\b\b\b\b\b\b\b\b\b\b\b\b\b\b\b\b\b\b\b\r 62\/989 [>.............................] - ETA: 1s - loss: 0.5265 - auc: 0.5282\b\b\b\b\b\b\b\b\b\b\b\b\b\b\b\b\b\b\b\b\b\b\b\b\b\b\b\b\b\b\b\b\b\b\b\b\b\b\b\b\b\b\b\b\b\b\b\b\b\b\b\b\b\b\b\b\b\b\b\b\b\b\b\b\b\b\b\b\b\b\b\b\b\b\b\b\b\b\b\r 94\/989 [=>............................] - ETA: 1s - loss: 0.5174 - auc: 0.5657\b\b\b\b\b\b\b\b\b\b\b\b\b\b\b\b\b\b\b\b\b\b\b\b\b\b\b\b\b\b\b\b\b\b\b\b\b\b\b\b\b\b\b\b\b\b\b\b\b\b\b\b\b\b\b\b\b\b\b\b\b\b\b\b\b\b\b\b\b\b\b\b\b\b\b\b\b\b\b\r125\/989 [==>...........................] - ETA: 1s - loss: 0.5015 - auc: 0.6020\b\b\b\b\b\b\b\b\b\b\b\b\b\b\b\b\b\b\b\b\b\b\b\b\b\b\b\b\b\b\b\b\b\b\b\b\b\b\b\b\b\b\b\b\b\b\b\b\b\b\b\b\b\b\b\b\b\b\b\b\b\b\b\b\b\b\b\b\b\b\b\b\b\b\b\b\b\b\b\r155\/989 [===>..........................] - ETA: 1s - loss: 0.4889 - auc: 0.6273\b\b\b\b\b\b\b\b\b\b\b\b\b\b\b\b\b\b\b\b\b\b\b\b\b\b\b\b\b\b\b\b\b\b\b\b\b\b\b\b\b\b\b\b\b\b\b\b\b\b\b\b\b\b\b\b\b\b\b\b\b\b\b\b\b\b\b\b\b\b\b\b\b\b\b\b\b\b\b\r184\/989 [====>.........................] - ETA: 1s - loss: 0.4760 - auc: 0.6479\b\b\b\b\b\b\b\b\b\b\b\b\b\b\b\b\b\b\b\b\b\b\b\b\b\b\b\b\b\b\b\b\b\b\b\b\b\b\b\b\b\b\b\b\b\b\b\b\b\b\b\b\b\b\b\b\b\b\b\b\b\b\b\b\b\b\b\b\b\b\b\b\b\b\b\b\b\b\b\r216\/989 [=====>........................] - ETA: 1s - loss: 0.4704 - auc: 0.6708\b\b\b\b\b\b\b\b\b\b\b\b\b\b\b\b\b\b\b\b\b\b\b\b\b\b\b\b\b\b\b\b\b\b\b\b\b\b\b\b\b\b\b\b\b\b\b\b\b\b\b\b\b\b\b\b\b\b\b\b\b\b\b\b\b\b\b\b\b\b\b\b\b\b\b\b\b\b\b\r245\/989 [======>.......................] - ETA: 1s - loss: 0.4634 - auc: 0.6880\b\b\b\b\b\b\b\b\b\b\b\b\b\b\b\b\b\b\b\b\b\b\b\b\b\b\b\b\b\b\b\b\b\b\b\b\b\b\b\b\b\b\b\b\b\b\b\b\b\b\b\b\b\b\b\b\b\b\b\b\b\b\b\b\b\b\b\b\b\b\b\b\b\b\b\b\b\b\b\r276\/989 [=======>......................] - ETA: 1s - loss: 0.4580 - auc: 0.7007\b\b\b\b\b\b\b\b\b\b\b\b\b\b\b\b\b\b\b\b\b\b\b\b\b\b\b\b\b\b\b\b\b\b\b\b\b\b\b\b\b\b\b\b\b\b\b\b\b\b\b\b\b\b\b\b\b\b\b\b\b\b\b\b\b\b\b\b\b\b\b\b\b\b\b\b\b\b\b\r307\/989 [========>.....................] - ETA: 1s - loss: 0.4463 - auc: 0.7159\b\b\b\b\b\b\b\b\b\b\b\b\b\b\b\b\b\b\b\b\b\b\b\b\b\b\b\b\b\b\b\b\b\b\b\b\b\b\b\b\b\b\b\b\b\b\b\b\b\b\b\b\b\b\b\b\b\b\b\b\b\b\b\b\b\b\b\b\b\b\b\b\b\b\b\b\b\b\b\r337\/989 [=========>....................] - ETA: 1s - loss: 0.4383 - auc: 0.7292\b\b\b\b\b\b\b\b\b\b\b\b\b\b\b\b\b\b\b\b\b\b\b\b\b\b\b\b\b\b\b\b\b\b\b\b\b\b\b\b\b\b\b\b\b\b\b\b\b\b\b\b\b\b\b\b\b\b\b\b\b\b\b\b\b\b\b\b\b\b\b\b\b\b\b\b\b\b\b\r369\/989 [==========>...................] - ETA: 1s - loss: 0.4298 - auc: 0.7404\b\b\b\b\b\b\b\b\b\b\b\b\b\b\b\b\b\b\b\b\b\b\b\b\b\b\b\b\b\b\b\b\b\b\b\b\b\b\b\b\b\b\b\b\b\b\b\b\b\b\b\b\b\b\b\b\b\b\b\b\b\b\b\b\b\b\b\b\b\b\b\b\b\b\b\b\b\b\b\r399\/989 [===========>..................] - ETA: 0s - loss: 0.4230 - auc: 0.7491\b\b\b\b\b\b\b\b\b\b\b\b\b\b\b\b\b\b\b\b\b\b\b\b\b\b\b\b\b\b\b\b\b\b\b\b\b\b\b\b\b\b\b\b\b\b\b\b\b\b\b\b\b\b\b\b\b\b\b\b\b\b\b\b\b\b\b\b\b\b\b\b\b\b\b\b\b\b\b\r429\/989 [============>.................] - ETA: 0s - loss: 0.4177 - auc: 0.7574\b\b\b\b\b\b\b\b\b\b\b\b\b\b\b\b\b\b\b\b\b\b\b\b\b\b\b\b\b\b\b\b\b\b\b\b\b\b\b\b\b\b\b\b\b\b\b\b\b\b\b\b\b\b\b\b\b\b\b\b\b\b\b\b\b\b\b\b\b\b\b\b\b\b\b\b\b\b\b\r461\/989 [============>.................] - ETA: 0s - loss: 0.4119 - auc: 0.7631\b\b\b\b\b\b\b\b\b\b\b\b\b\b\b\b\b\b\b\b\b\b\b\b\b\b\b\b\b\b\b\b\b\b\b\b\b\b\b\b\b\b\b\b\b\b\b\b\b\b\b\b\b\b\b\b\b\b\b\b\b\b\b\b\b\b\b\b\b\b\b\b\b\b\b\b\b\b\b\r491\/989 [=============>................] - ETA: 0s - loss: 0.4073 - auc: 0.7672\b\b\b\b\b\b\b\b\b\b\b\b\b\b\b\b\b\b\b\b\b\b\b\b\b\b\b\b\b\b\b\b\b\b\b\b\b\b\b\b\b\b\b\b\b\b\b\b\b\b\b\b\b\b\b\b\b\b\b\b\b\b\b\b\b\b\b\b\b\b\b\b\b\b\b\b\b\b\b\r521\/989 [==============>...............] - ETA: 0s - loss: 0.4031 - auc: 0.7734\b\b\b\b\b\b\b\b\b\b\b\b\b\b\b\b\b\b\b\b\b\b\b\b\b\b\b\b\b\b\b\b\b\b\b\b\b\b\b\b\b\b\b\b\b\b\b\b\b\b\b\b\b\b\b\b\b\b\b\b\b\b\b\b\b\b\b\b\b\b\b\b\b\b\b\b\b\b\b\r548\/989 [===============>..............] - ETA: 0s - loss: 0.3992 - auc: 0.7775\b\b\b\b\b\b\b\b\b\b\b\b\b\b\b\b\b\b\b\b\b\b\b\b\b\b\b\b\b\b\b\b\b\b\b\b\b\b\b\b\b\b\b\b\b\b\b\b\b\b\b\b\b\b\b\b\b\b\b\b\b\b\b\b\b\b\b\b\b\b\b\b\b\b\b\b\b\b\b\r580\/989 [================>.............] - ETA: 0s - loss: 0.3969 - auc: 0.7801\b\b\b\b\b\b\b\b\b\b\b\b\b\b\b\b\b\b\b\b\b\b\b\b\b\b\b\b\b\b\b\b\b\b\b\b\b\b\b\b\b\b\b\b\b\b\b\b\b\b\b\b\b\b\b\b\b\b\b\b\b\b\b\b\b\b\b\b\b\b\b\b\b\b\b\b\b\b\b\r609\/989 [=================>............] - ETA: 0s - loss: 0.3923 - auc: 0.7838\b\b\b\b\b\b\b\b\b\b\b\b\b\b\b\b\b\b\b\b\b\b\b\b\b\b\b\b\b\b\b\b\b\b\b\b\b\b\b\b\b\b\b\b\b\b\b\b\b\b\b\b\b\b\b\b\b\b\b\b\b\b\b\b\b\b\b\b\b\b\b\b\b\b\b\b\b\b\b\r642\/989 [==================>...........] - ETA: 0s - loss: 0.3876 - auc: 0.7885\b\b\b\b\b\b\b\b\b\b\b\b\b\b\b\b\b\b\b\b\b\b\b\b\b\b\b\b\b\b\b\b\b\b\b\b\b\b\b\b\b\b\b\b\b\b\b\b\b\b\b\b\b\b\b\b\b\b\b\b\b\b\b\b\b\b\b\b\b\b\b\b\b\b\b\b\b\b\b\r672\/989 [===================>..........] - ETA: 0s - loss: 0.3845 - auc: 0.7920\b\b\b\b\b\b\b\b\b\b\b\b\b\b\b\b\b\b\b\b\b\b\b\b\b\b\b\b\b\b\b\b\b\b\b\b\b\b\b\b\b\b\b\b\b\b\b\b\b\b\b\b\b\b\b\b\b\b\b\b\b\b\b\b\b\b\b\b\b\b\b\b\b\b\b\b\b\b\b\r704\/989 [====================>.........] - ETA: 0s - loss: 0.3803 - auc: 0.7962\b\b\b\b\b\b\b\b\b\b\b\b\b\b\b\b\b\b\b\b\b\b\b\b\b\b\b\b\b\b\b\b\b\b\b\b\b\b\b\b\b\b\b\b\b\b\b\b\b\b\b\b\b\b\b\b\b\b\b\b\b\b\b\b\b\b\b\b\b\b\b\b\b\b\b\b\b\b\b\r734\/989 [=====================>........] - ETA: 0s - loss: 0.3769 - auc: 0.7988\b\b\b\b\b\b\b\b\b\b\b\b\b\b\b\b\b\b\b\b\b\b\b\b\b\b\b\b\b\b\b\b\b\b\b\b\b\b\b\b\b\b\b\b\b\b\b\b\b\b\b\b\b\b\b\b\b\b\b\b\b\b\b\b\b\b\b\b\b\b\b\b\b\b\b\b\b\b\b\r766\/989 [======================>.......] - ETA: 0s - loss: 0.3737 - auc: 0.8014\b\b\b\b\b\b\b\b\b\b\b\b\b\b\b\b\b\b\b\b\b\b\b\b\b\b\b\b\b\b\b\b\b\b\b\b\b\b\b\b\b\b\b\b\b\b\b\b\b\b\b\b\b\b\b\b\b\b\b\b\b\b\b\b\b\b\b\b\b\b\b\b\b\b\b\b\b\b\b\r795\/989 [=======================>......] - ETA: 0s - loss: 0.3725 - auc: 0.8029\b\b\b\b\b\b\b\b\b\b\b\b\b\b\b\b\b\b\b\b\b\b\b\b\b\b\b\b\b\b\b\b\b\b\b\b\b\b\b\b\b\b\b\b\b\b\b\b\b\b\b\b\b\b\b\b\b\b\b\b\b\b\b\b\b\b\b\b\b\b\b\b\b\b\b\b\b\b\b\r825\/989 [========================>.....] - ETA: 0s - loss: 0.3706 - auc: 0.8046\b\b\b\b\b\b\b\b\b\b\b\b\b\b\b\b\b\b\b\b\b\b\b\b\b\b\b\b\b\b\b\b\b\b\b\b\b\b\b\b\b\b\b\b\b\b\b\b\b\b\b\b\b\b\b\b\b\b\b\b\b\b\b\b\b\b\b\b\b\b\b\b\b\b\b\b\b\b\b\r855\/989 [========================>.....] - ETA: 0s - loss: 0.3678 - auc: 0.8066\b\b\b\b\b\b\b\b\b\b\b\b\b\b\b\b\b\b\b\b\b\b\b\b\b\b\b\b\b\b\b\b\b\b\b\b\b\b\b\b\b\b\b\b\b\b\b\b\b\b\b\b\b\b\b\b\b\b\b\b\b\b\b\b\b\b\b\b\b\b\b\b\b\b\b\b\b\b\b\r888\/989 [=========================>....] - ETA: 0s - loss: 0.3659 - auc: 0.8082\b\b\b\b\b\b\b\b\b\b\b\b\b\b\b\b\b\b\b\b\b\b\b\b\b\b\b\b\b\b\b\b\b\b\b\b\b\b\b\b\b\b\b\b\b\b\b\b\b\b\b\b\b\b\b\b\b\b\b\b\b\b\b\b\b\b\b\b\b\b\b\b\b\b\b\b\b\b\b\r919\/989 [==========================>...] - ETA: 0s - loss: 0.3638 - auc: 0.8103\b\b\b\b\b\b\b\b\b\b\b\b\b\b\b\b\b\b\b\b\b\b\b\b\b\b\b\b\b\b\b\b\b\b\b\b\b\b\b\b\b\b\b\b\b\b\b\b\b\b\b\b\b\b\b\b\b\b\b\b\b\b\b\b\b\b\b\b\b\b\b\b\b\b\b\b\b\b\b\r952\/989 [===========================>..] - ETA: 0s - loss: 0.3613 - auc: 0.8124\b\b\b\b\b\b\b\b\b\b\b\b\b\b\b\b\b\b\b\b\b\b\b\b\b\b\b\b\b\b\b\b\b\b\b\b\b\b\b\b\b\b\b\b\b\b\b\b\b\b\b\b\b\b\b\b\b\b\b\b\b\b\b\b\b\b\b\b\b\b\b\b\b\b\b\b\b\b\b\r983\/989 [============================>.] - ETA: 0s - loss: 0.3591 - auc: 0.8144\b\b\b\b\b\b\b\b\b\b\b\b\b\b\b\b\b\b\b\b\b\b\b\b\b\b\b\b\b\b\b\b\b\b\b\b\b\b\b\b\b\b\b\b\b\b\b\b\b\b\b\b\b\b\b\b\b\b\b\b\b\b\b\b\b\b\b\b\b\b\b\b\b\b\b\b\b\b\b\r989\/989 [==============================] - 4s 2ms\/step - loss: 0.3586 - auc: 0.8149 - val_loss: 0.2952 - val_auc: 0.8685\n",
      "Epoch 2\/15\n",
      "\r  1\/989 [..............................] - ETA: 4s - loss: 0.2883 - auc: 0.9807\b\b\b\b\b\b\b\b\b\b\b\b\b\b\b\b\b\b\b\b\b\b\b\b\b\b\b\b\b\b\b\b\b\b\b\b\b\b\b\b\b\b\b\b\b\b\b\b\b\b\b\b\b\b\b\b\b\b\b\b\b\b\b\b\b\b\b\b\b\b\b\b\b\b\b\b\b\b\b\r 33\/989 [>.............................] - ETA: 1s - loss: 0.2713 - auc: 0.8893\b\b\b\b\b\b\b\b\b\b\b\b\b\b\b\b\b\b\b\b\b\b\b\b\b\b\b\b\b\b\b\b\b\b\b\b\b\b\b\b\b\b\b\b\b\b\b\b\b\b\b\b\b\b\b\b\b\b\b\b\b\b\b\b\b\b\b\b\b\b\b\b\b\b\b\b\b\b\b\r 65\/989 [>.............................] - ETA: 1s - loss: 0.2706 - auc: 0.8879\b\b\b\b\b\b\b\b\b\b\b\b\b\b\b\b\b\b\b\b\b\b\b\b\b\b\b\b\b\b\b\b\b\b\b\b\b\b\b\b\b\b\b\b\b\b\b\b\b\b\b\b\b\b\b\b\b\b\b\b\b\b\b\b\b\b\b\b\b\b\b\b\b\b\b\b\b\b\b\r 92\/989 [=>............................] - ETA: 1s - loss: 0.2798 - auc: 0.8778\b\b\b\b\b\b\b\b\b\b\b\b\b\b\b\b\b\b\b\b\b\b\b\b\b\b\b\b\b\b\b\b\b\b\b\b\b\b\b\b\b\b\b\b\b\b\b\b\b\b\b\b\b\b\b\b\b\b\b\b\b\b\b\b\b\b\b\b\b\b\b\b\b\b\b\b\b\b\b\r125\/989 [==>...........................] - ETA: 1s - loss: 0.2788 - auc: 0.8777\b\b\b\b\b\b\b\b\b\b\b\b\b\b\b\b\b\b\b\b\b\b\b\b\b\b\b\b\b\b\b\b\b\b\b\b\b\b\b\b\b\b\b\b\b\b\b\b\b\b\b\b\b\b\b\b\b\b\b\b\b\b\b\b\b\b\b\b\b\b\b\b\b\b\b\b\b\b\b\r154\/989 [===>..........................] - ETA: 1s - loss: 0.2775 - auc: 0.8773\b\b\b\b\b\b\b\b\b\b\b\b\b\b\b\b\b\b\b\b\b\b\b\b\b\b\b\b\b\b\b\b\b\b\b\b\b\b\b\b\b\b\b\b\b\b\b\b\b\b\b\b\b\b\b\b\b\b\b\b\b\b\b\b\b\b\b\b\b\b\b\b\b\b\b\b\b\b\b\r182\/989 [====>.........................] - ETA: 1s - loss: 0.2786 - auc: 0.8776\b\b\b\b\b\b\b\b\b\b\b\b\b\b\b\b\b\b\b\b\b\b\b\b\b\b\b\b\b\b\b\b\b\b\b\b\b\b\b\b\b\b\b\b\b\b\b\b\b\b\b\b\b\b\b\b\b\b\b\b\b\b\b\b\b\b\b\b\b\b\b\b\b\b\b\b\b\b\b\r210\/989 [=====>........................] - ETA: 1s - loss: 0.2814 - auc: 0.8748\b\b\b\b\b\b\b\b\b\b\b\b\b\b\b\b\b\b\b\b\b\b\b\b\b\b\b\b\b\b\b\b\b\b\b\b\b\b\b\b\b\b\b\b\b\b\b\b\b\b\b\b\b\b\b\b\b\b\b\b\b\b\b\b\b\b\b\b\b\b\b\b\b\b\b\b\b\b\b\r242\/989 [======>.......................] - ETA: 1s - loss: 0.2839 - auc: 0.8744\b\b\b\b\b\b\b\b\b\b\b\b\b\b\b\b\b\b\b\b\b\b\b\b\b\b\b\b\b\b\b\b\b\b\b\b\b\b\b\b\b\b\b\b\b\b\b\b\b\b\b\b\b\b\b\b\b\b\b\b\b\b\b\b\b\b\b\b\b\b\b\b\b\b\b\b\b\b\b\r272\/989 [=======>......................] - ETA: 1s - loss: 0.2841 - auc: 0.8760\b\b\b\b\b\b\b\b\b\b\b\b\b\b\b\b\b\b\b\b\b\b\b\b\b\b\b\b\b\b\b\b\b\b\b\b\b\b\b\b\b\b\b\b\b\b\b\b\b\b\b\b\b\b\b\b\b\b\b\b\b\b\b\b\b\b\b\b\b\b\b\b\b\b\b\b\b\b\b\r304\/989 [========>.....................] - ETA: 1s - loss: 0.2864 - auc: 0.8737\b\b\b\b\b\b\b\b\b\b\b\b\b\b\b\b\b\b\b\b\b\b\b\b\b\b\b\b\b\b\b\b\b\b\b\b\b\b\b\b\b\b\b\b\b\b\b\b\b\b\b\b\b\b\b\b\b\b\b\b\b\b\b\b\b\b\b\b\b\b\b\b\b\b\b\b\b\b\b\r333\/989 [=========>....................] - ETA: 1s - loss: 0.2882 - auc: 0.8716\b\b\b\b\b\b\b\b\b\b\b\b\b\b\b\b\b\b\b\b\b\b\b\b\b\b\b\b\b\b\b\b\b\b\b\b\b\b\b\b\b\b\b\b\b\b\b\b\b\b\b\b\b\b\b\b\b\b\b\b\b\b\b\b\b\b\b\b\b\b\b\b\b\b\b\b\b\b\b\r364\/989 [==========>...................] - ETA: 1s - loss: 0.2889 - auc: 0.8695\b\b\b\b\b\b\b\b\b\b\b\b\b\b\b\b\b\b\b\b\b\b\b\b\b\b\b\b\b\b\b\b\b\b\b\b\b\b\b\b\b\b\b\b\b\b\b\b\b\b\b\b\b\b\b\b\b\b\b\b\b\b\b\b\b\b\b\b\b\b\b\b\b\b\b\b\b\b\b\r396\/989 [===========>..................] - ETA: 0s - loss: 0.2896 - auc: 0.8680\b\b\b\b\b\b\b\b\b\b\b\b\b\b\b\b\b\b\b\b\b\b\b\b\b\b\b\b\b\b\b\b\b\b\b\b\b\b\b\b\b\b\b\b\b\b\b\b\b\b\b\b\b\b\b\b\b\b\b\b\b\b\b\b\b\b\b\b\b\b\b\b\b\b\b\b\b\b\b\r425\/989 [===========>..................] - ETA: 0s - loss: 0.2908 - auc: 0.8673\b\b\b\b\b\b\b\b\b\b\b\b\b\b\b\b\b\b\b\b\b\b\b\b\b\b\b\b\b\b\b\b\b\b\b\b\b\b\b\b\b\b\b\b\b\b\b\b\b\b\b\b\b\b\b\b\b\b\b\b\b\b\b\b\b\b\b\b\b\b\b\b\b\b\b\b\b\b\b\r448\/989 [============>.................] - ETA: 0s - loss: 0.2908 - auc: 0.8674\b\b\b\b\b\b\b\b\b\b\b\b\b\b\b\b\b\b\b\b\b\b\b\b\b\b\b\b\b\b\b\b\b\b\b\b\b\b\b\b\b\b\b\b\b\b\b\b\b\b\b\b\b\b\b\b\b\b\b\b\b\b\b\b\b\b\b\b\b\b\b\b\b\b\b\b\b\b\b\r480\/989 [=============>................] - ETA: 0s - loss: 0.2904 - auc: 0.8683\b\b\b\b\b\b\b\b\b\b\b\b\b\b\b\b\b\b\b\b\b\b\b\b\b\b\b\b\b\b\b\b\b\b\b\b\b\b\b\b\b\b\b\b\b\b\b\b\b\b\b\b\b\b\b\b\b\b\b\b\b\b\b\b\b\b\b\b\b\b\b\b\b\b\b\b\b\b\b\r509\/989 [==============>...............] - ETA: 0s - loss: 0.2894 - auc: 0.8691\b\b\b\b\b\b\b\b\b\b\b\b\b\b\b\b\b\b\b\b\b\b\b\b\b\b\b\b\b\b\b\b\b\b\b\b\b\b\b\b\b\b\b\b\b\b\b\b\b\b\b\b\b\b\b\b\b\b\b\b\b\b\b\b\b\b\b\b\b\b\b\b\b\b\b\b\b\b\b\r540\/989 [===============>..............] - ETA: 0s - loss: 0.2894 - auc: 0.8685\b\b\b\b\b\b\b\b\b\b\b\b\b\b\b\b\b\b\b\b\b\b\b\b\b\b\b\b\b\b\b\b\b\b\b\b\b\b\b\b\b\b\b\b\b\b\b\b\b\b\b\b\b\b\b\b\b\b\b\b\b\b\b\b\b\b\b\b\b\b\b\b\b\b\b\b\b\b\b\r569\/989 [================>.............] - ETA: 0s - loss: 0.2892 - auc: 0.8687\b\b\b\b\b\b\b\b\b\b\b\b\b\b\b\b\b\b\b\b\b\b\b\b\b\b\b\b\b\b\b\b\b\b\b\b\b\b\b\b\b\b\b\b\b\b\b\b\b\b\b\b\b\b\b\b\b\b\b\b\b\b\b\b\b\b\b\b\b\b\b\b\b\b\b\b\b\b\b\r599\/989 [=================>............] - ETA: 0s - loss: 0.2898 - auc: 0.8692\b\b\b\b\b\b\b\b\b\b\b\b\b\b\b\b\b\b\b\b\b\b\b\b\b\b\b\b\b\b\b\b\b\b\b\b\b\b\b\b\b\b\b\b\b\b\b\b\b\b\b\b\b\b\b\b\b\b\b\b\b\b\b\b\b\b\b\b\b\b\b\b\b\b\b\b\b\b\b\r631\/989 [==================>...........] - ETA: 0s - loss: 0.2894 - auc: 0.8694\b\b\b\b\b\b\b\b\b\b\b\b\b\b\b\b\b\b\b\b\b\b\b\b\b\b\b\b\b\b\b\b\b\b\b\b\b\b\b\b\b\b\b\b\b\b\b\b\b\b\b\b\b\b\b\b\b\b\b\b\b\b\b\b\b\b\b\b\b\b\b\b\b\b\b\b\b\b\b\r664\/989 [===================>..........] - ETA: 0s - loss: 0.2897 - auc: 0.8691\b\b\b\b\b\b\b\b\b\b\b\b\b\b\b\b\b\b\b\b\b\b\b\b\b\b\b\b\b\b\b\b\b\b\b\b\b\b\b\b\b\b\b\b\b\b\b\b\b\b\b\b\b\b\b\b\b\b\b\b\b\b\b\b\b\b\b\b\b\b\b\b\b\b\b\b\b\b\b\r695\/989 [====================>.........] - ETA: 0s - loss: 0.2910 - auc: 0.8678\b\b\b\b\b\b\b\b\b\b\b\b\b\b\b\b\b\b\b\b\b\b\b\b\b\b\b\b\b\b\b\b\b\b\b\b\b\b\b\b\b\b\b\b\b\b\b\b\b\b\b\b\b\b\b\b\b\b\b\b\b\b\b\b\b\b\b\b\b\b\b\b\b\b\b\b\b\b\b\r727\/989 [=====================>........] - ETA: 0s - loss: 0.2917 - auc: 0.8679\b\b\b\b\b\b\b\b\b\b\b\b\b\b\b\b\b\b\b\b\b\b\b\b\b\b\b\b\b\b\b\b\b\b\b\b\b\b\b\b\b\b\b\b\b\b\b\b\b\b\b\b\b\b\b\b\b\b\b\b\b\b\b\b\b\b\b\b\b\b\b\b\b\b\b\b\b\b\b\r757\/989 [=====================>........] - ETA: 0s - loss: 0.2917 - auc: 0.8678\b\b\b\b\b\b\b\b\b\b\b\b\b\b\b\b\b\b\b\b\b\b\b\b\b\b\b\b\b\b\b\b\b\b\b\b\b\b\b\b\b\b\b\b\b\b\b\b\b\b\b\b\b\b\b\b\b\b\b\b\b\b\b\b\b\b\b\b\b\b\b\b\b\b\b\b\b\b\b\r777\/989 [======================>.......] - ETA: 0s - loss: 0.2921 - auc: 0.8679\b\b\b\b\b\b\b\b\b\b\b\b\b\b\b\b\b\b\b\b\b\b\b\b\b\b\b\b\b\b\b\b\b\b\b\b\b\b\b\b\b\b\b\b\b\b\b\b\b\b\b\b\b\b\b\b\b\b\b\b\b\b\b\b\b\b\b\b\b\b\b\b\b\b\b\b\b\b\b\r793\/989 [=======================>......] - ETA: 0s - loss: 0.2922 - auc: 0.8679\b\b\b\b\b\b\b\b\b\b\b\b\b\b\b\b\b\b\b\b\b\b\b\b\b\b\b\b\b\b\b\b\b\b\b\b\b\b\b\b\b\b\b\b\b\b\b\b\b\b\b\b\b\b\b\b\b\b\b\b\b\b\b\b\b\b\b\b\b\b\b\b\b\b\b\b\b\b\b\r813\/989 [=======================>......] - ETA: 0s - loss: 0.2924 - auc: 0.8676\b\b\b\b\b\b\b\b\b\b\b\b\b\b\b\b\b\b\b\b\b\b\b\b\b\b\b\b\b\b\b\b\b\b\b\b\b\b\b\b\b\b\b\b\b\b\b\b\b\b\b\b\b\b\b\b\b\b\b\b\b\b\b\b\b\b\b\b\b\b\b\b\b\b\b\b\b\b\b\r839\/989 [========================>.....] - ETA: 0s - loss: 0.2917 - auc: 0.8681\b\b\b\b\b\b\b\b\b\b\b\b\b\b\b\b\b\b\b\b\b\b\b\b\b\b\b\b\b\b\b\b\b\b\b\b\b\b\b\b\b\b\b\b\b\b\b\b\b\b\b\b\b\b\b\b\b\b\b\b\b\b\b\b\b\b\b\b\b\b\b\b\b\b\b\b\b\b\b\r865\/989 [=========================>....] - ETA: 0s - loss: 0.2929 - auc: 0.8672\b\b\b\b\b\b\b\b\b\b\b\b\b\b\b\b\b\b\b\b\b\b\b\b\b\b\b\b\b\b\b\b\b\b\b\b\b\b\b\b\b\b\b\b\b\b\b\b\b\b\b\b\b\b\b\b\b\b\b\b\b\b\b\b\b\b\b\b\b\b\b\b\b\b\b\b\b\b\b\r888\/989 [=========================>....] - ETA: 0s - loss: 0.2929 - auc: 0.8676\b\b\b\b\b\b\b\b\b\b\b\b\b\b\b\b\b\b\b\b\b\b\b\b\b\b\b\b\b\b\b\b\b\b\b\b\b\b\b\b\b\b\b\b\b\b\b\b\b\b\b\b\b\b\b\b\b\b\b\b\b\b\b\b\b\b\b\b\b\b\b\b\b\b\b\b\b\b\b\r912\/989 [==========================>...] - ETA: 0s - loss: 0.2921 - auc: 0.8685\b\b\b\b\b\b\b\b\b\b\b\b\b\b\b\b\b\b\b\b\b\b\b\b\b\b\b\b\b\b\b\b\b\b\b\b\b\b\b\b\b\b\b\b\b\b\b\b\b\b\b\b\b\b\b\b\b\b\b\b\b\b\b\b\b\b\b\b\b\b\b\b\b\b\b\b\b\b\b\r936\/989 [===========================>..] - ETA: 0s - loss: 0.2913 - auc: 0.8691\b\b\b\b\b\b\b\b\b\b\b\b\b\b\b\b\b\b\b\b\b\b\b\b\b\b\b\b\b\b\b\b\b\b\b\b\b\b\b\b\b\b\b\b\b\b\b\b\b\b\b\b\b\b\b\b\b\b\b\b\b\b\b\b\b\b\b\b\b\b\b\b\b\b\b\b\b\b\b\r962\/989 [============================>.] - ETA: 0s - loss: 0.2914 - auc: 0.8692\b\b\b\b\b\b\b\b\b\b\b\b\b\b\b\b\b\b\b\b\b\b\b\b\b\b\b\b\b\b\b\b\b\b\b\b\b\b\b\b\b\b\b\b\b\b\b\b\b\b\b\b\b\b\b\b\b\b\b\b\b\b\b\b\b\b\b\b\b\b\b\b\b\b\b\b\b\b\b\r985\/989 [============================>.] - ETA: 0s - loss: 0.2912 - auc: 0.8695\b\b\b\b\b\b\b\b\b\b\b\b\b\b\b\b\b\b\b\b\b\b\b\b\b\b\b\b\b\b\b\b\b\b\b\b\b\b\b\b\b\b\b\b\b\b\b\b\b\b\b\b\b\b\b\b\b\b\b\b\b\b\b\b\b\b\b\b\b\b\b\b\b\b\b\b\b\b\b\r989\/989 [==============================] - 2s 2ms\/step - loss: 0.2911 - auc: 0.8695 - val_loss: 0.2916 - val_auc: 0.8750\n",
      "Epoch 3\/15\n",
      "\r  1\/989 [..............................] - ETA: 3s - loss: 0.1306 - auc: 0.9657\b\b\b\b\b\b\b\b\b\b\b\b\b\b\b\b\b\b\b\b\b\b\b\b\b\b\b\b\b\b\b\b\b\b\b\b\b\b\b\b\b\b\b\b\b\b\b\b\b\b\b\b\b\b\b\b\b\b\b\b\b\b\b\b\b\b\b\b\b\b\b\b\b\b\b\b\b\b\b\r 16\/989 [..............................] - ETA: 3s - loss: 0.2762 - auc: 0.8793\b\b\b\b\b\b\b\b\b\b\b\b\b\b\b\b\b\b\b\b\b\b\b\b\b\b\b\b\b\b\b\b\b\b\b\b\b\b\b\b\b\b\b\b\b\b\b\b\b\b\b\b\b\b\b\b\b\b\b\b\b\b\b\b\b\b\b\b\b\b\b\b\b\b\b\b\b\b\b\r 37\/989 [>.............................] - ETA: 2s - loss: 0.2589 - auc: 0.8885\b\b\b\b\b\b\b\b\b\b\b\b\b\b\b\b\b\b\b\b\b\b\b\b\b\b\b\b\b\b\b\b\b\b\b\b\b\b\b\b\b\b\b\b\b\b\b\b\b\b\b\b\b\b\b\b\b\b\b\b\b\b\b\b\b\b\b\b\b\b\b\b\b\b\b\b\b\b\b\r 54\/989 [>.............................] - ETA: 2s - loss: 0.2630 - auc: 0.8800\b\b\b\b\b\b\b\b\b\b\b\b\b\b\b\b\b\b\b\b\b\b\b\b\b\b\b\b\b\b\b\b\b\b\b\b\b\b\b\b\b\b\b\b\b\b\b\b\b\b\b\b\b\b\b\b\b\b\b\b\b\b\b\b\b\b\b\b\b\b\b\b\b\b\b\b\b\b\b\r 72\/989 [=>............................] - ETA: 2s - loss: 0.2688 - auc: 0.8778\b\b\b\b\b\b\b\b\b\b\b\b\b\b\b\b\b\b\b\b\b\b\b\b\b\b\b\b\b\b\b\b\b\b\b\b\b\b\b\b\b\b\b\b\b\b\b\b\b\b\b\b\b\b\b\b\b\b\b\b\b\b\b\b\b\b\b\b\b\b\b\b\b\b\b\b\b\b\b\r 99\/989 [==>...........................] - ETA: 2s - loss: 0.2669 - auc: 0.8806\b\b\b\b\b\b\b\b\b\b\b\b\b\b\b\b\b\b\b\b\b\b\b\b\b\b\b\b\b\b\b\b\b\b\b\b\b\b\b\b\b\b\b\b\b\b\b\b\b\b\b\b\b\b\b\b\b\b\b\b\b\b\b\b\b\b\b\b\b\b\b\b\b\b\b\b\b\b\b\r122\/989 [==>...........................] - ETA: 2s - loss: 0.2659 - auc: 0.8846\b\b\b\b\b\b\b\b\b\b\b\b\b\b\b\b\b\b\b\b\b\b\b\b\b\b\b\b\b\b\b\b\b\b\b\b\b\b\b\b\b\b\b\b\b\b\b\b\b\b\b\b\b\b\b\b\b\b\b\b\b\b\b\b\b\b\b\b\b\b\b\b\b\b\b\b\b\b\b\r144\/989 [===>..........................] - ETA: 2s - loss: 0.2657 - auc: 0.8840\b\b\b\b\b\b\b\b\b\b\b\b\b\b\b\b\b\b\b\b\b\b\b\b\b\b\b\b\b\b\b\b\b\b\b\b\b\b\b\b\b\b\b\b\b\b\b\b\b\b\b\b\b\b\b\b\b\b\b\b\b\b\b\b\b\b\b\b\b\b\b\b\b\b\b\b\b\b\b\r163\/989 [===>..........................] - ETA: 2s - loss: 0.2687 - auc: 0.8830\b\b\b\b\b\b\b\b\b\b\b\b\b\b\b\b\b\b\b\b\b\b\b\b\b\b\b\b\b\b\b\b\b\b\b\b\b\b\b\b\b\b\b\b\b\b\b\b\b\b\b\b\b\b\b\b\b\b\b\b\b\b\b\b\b\b\b\b\b\b\b\b\b\b\b\b\b\b\b\r185\/989 [====>.........................] - ETA: 2s - loss: 0.2700 - auc: 0.8834\b\b\b\b\b\b\b\b\b\b\b\b\b\b\b\b\b\b\b\b\b\b\b\b\b\b\b\b\b\b\b\b\b\b\b\b\b\b\b\b\b\b\b\b\b\b\b\b\b\b\b\b\b\b\b\b\b\b\b\b\b\b\b\b\b\b\b\b\b\b\b\b\b\b\b\b\b\b\b\r204\/989 [=====>........................] - ETA: 2s - loss: 0.2732 - auc: 0.8797\b\b\b\b\b\b\b\b\b\b\b\b\b\b\b\b\b\b\b\b\b\b\b\b\b\b\b\b\b\b\b\b\b\b\b\b\b\b\b\b\b\b\b\b\b\b\b\b\b\b\b\b\b\b\b\b\b\b\b\b\b\b\b\b\b\b\b\b\b\b\b\b\b\b\b\b\b\b\b\r224\/989 [=====>........................] - ETA: 2s - loss: 0.2751 - auc: 0.8759\b\b\b\b\b\b\b\b\b\b\b\b\b\b\b\b\b\b\b\b\b\b\b\b\b\b\b\b\b\b\b\b\b\b\b\b\b\b\b\b\b\b\b\b\b\b\b\b\b\b\b\b\b\b\b\b\b\b\b\b\b\b\b\b\b\b\b\b\b\b\b\b\b\b\b\b\b\b\b\r242\/989 [======>.......................] - ETA: 2s - loss: 0.2760 - auc: 0.8756\b\b\b\b\b\b\b\b\b\b\b\b\b\b\b\b\b\b\b\b\b\b\b\b\b\b\b\b\b\b\b\b\b\b\b\b\b\b\b\b\b\b\b\b\b\b\b\b\b\b\b\b\b\b\b\b\b\b\b\b\b\b\b\b\b\b\b\b\b\b\b\b\b\b\b\b\b\b\b\r268\/989 [=======>......................] - ETA: 1s - loss: 0.2803 - auc: 0.8755\b\b\b\b\b\b\b\b\b\b\b\b\b\b\b\b\b\b\b\b\b\b\b\b\b\b\b\b\b\b\b\b\b\b\b\b\b\b\b\b\b\b\b\b\b\b\b\b\b\b\b\b\b\b\b\b\b\b\b\b\b\b\b\b\b\b\b\b\b\b\b\b\b\b\b\b\b\b\b\r290\/989 [=======>......................] - ETA: 1s - loss: 0.2802 - auc: 0.8771\b\b\b\b\b\b\b\b\b\b\b\b\b\b\b\b\b\b\b\b\b\b\b\b\b\b\b\b\b\b\b\b\b\b\b\b\b\b\b\b\b\b\b\b\b\b\b\b\b\b\b\b\b\b\b\b\b\b\b\b\b\b\b\b\b\b\b\b\b\b\b\b\b\b\b\b\b\b\b\r312\/989 [========>.....................] - ETA: 1s - loss: 0.2818 - auc: 0.8761\b\b\b\b\b\b\b\b\b\b\b\b\b\b\b\b\b\b\b\b\b\b\b\b\b\b\b\b\b\b\b\b\b\b\b\b\b\b\b\b\b\b\b\b\b\b\b\b\b\b\b\b\b\b\b\b\b\b\b\b\b\b\b\b\b\b\b\b\b\b\b\b\b\b\b\b\b\b\b\r333\/989 [=========>....................] - ETA: 1s - loss: 0.2828 - auc: 0.8756\b\b\b\b\b\b\b\b\b\b\b\b\b\b\b\b\b\b\b\b\b\b\b\b\b\b\b\b\b\b\b\b\b\b\b\b\b\b\b\b\b\b\b\b\b\b\b\b\b\b\b\b\b\b\b\b\b\b\b\b\b\b\b\b\b\b\b\b\b\b\b\b\b\b\b\b\b\b\b\r356\/989 [=========>....................] - ETA: 1s - loss: 0.2840 - auc: 0.8740\b\b\b\b\b\b\b\b\b\b\b\b\b\b\b\b\b\b\b\b\b\b\b\b\b\b\b\b\b\b\b\b\b\b\b\b\b\b\b\b\b\b\b\b\b\b\b\b\b\b\b\b\b\b\b\b\b\b\b\b\b\b\b\b\b\b\b\b\b\b\b\b\b\b\b\b\b\b\b\r375\/989 [==========>...................] - ETA: 1s - loss: 0.2821 - auc: 0.8753\b\b\b\b\b\b\b\b\b\b\b\b\b\b\b\b\b\b\b\b\b\b\b\b\b\b\b\b\b\b\b\b\b\b\b\b\b\b\b\b\b\b\b\b\b\b\b\b\b\b\b\b\b\b\b\b\b\b\b\b\b\b\b\b\b\b\b\b\b\b\b\b\b\b\b\b\b\b\b\r402\/989 [===========>..................] - ETA: 1s - loss: 0.2834 - auc: 0.8757\b\b\b\b\b\b\b\b\b\b\b\b\b\b\b\b\b\b\b\b\b\b\b\b\b\b\b\b\b\b\b\b\b\b\b\b\b\b\b\b\b\b\b\b\b\b\b\b\b\b\b\b\b\b\b\b\b\b\b\b\b\b\b\b\b\b\b\b\b\b\b\b\b\b\b\b\b\b\b\r425\/989 [===========>..................] - ETA: 1s - loss: 0.2827 - auc: 0.8760\b\b\b\b\b\b\b\b\b\b\b\b\b\b\b\b\b\b\b\b\b\b\b\b\b\b\b\b\b\b\b\b\b\b\b\b\b\b\b\b\b\b\b\b\b\b\b\b\b\b\b\b\b\b\b\b\b\b\b\b\b\b\b\b\b\b\b\b\b\b\b\b\b\b\b\b\b\b\b\r443\/989 [============>.................] - ETA: 1s - loss: 0.2839 - auc: 0.8765\b\b\b\b\b\b\b\b\b\b\b\b\b\b\b\b\b\b\b\b\b\b\b\b\b\b\b\b\b\b\b\b\b\b\b\b\b\b\b\b\b\b\b\b\b\b\b\b\b\b\b\b\b\b\b\b\b\b\b\b\b\b\b\b\b\b\b\b\b\b\b\b\b\b\b\b\b\b\b\r466\/989 [=============>................] - ETA: 1s - loss: 0.2854 - auc: 0.8754\b\b\b\b\b\b\b\b\b\b\b\b\b\b\b\b\b\b\b\b\b\b\b\b\b\b\b\b\b\b\b\b\b\b\b\b\b\b\b\b\b\b\b\b\b\b\b\b\b\b\b\b\b\b\b\b\b\b\b\b\b\b\b\b\b\b\b\b\b\b\b\b\b\b\b\b\b\b\b\r494\/989 [=============>................] - ETA: 1s - loss: 0.2863 - auc: 0.8753\b\b\b\b\b\b\b\b\b\b\b\b\b\b\b\b\b\b\b\b\b\b\b\b\b\b\b\b\b\b\b\b\b\b\b\b\b\b\b\b\b\b\b\b\b\b\b\b\b\b\b\b\b\b\b\b\b\b\b\b\b\b\b\b\b\b\b\b\b\b\b\b\b\b\b\b\b\b\b\r521\/989 [==============>...............] - ETA: 1s - loss: 0.2866 - auc: 0.8744\b\b\b\b\b\b\b\b\b\b\b\b\b\b\b\b\b\b\b\b\b\b\b\b\b\b\b\b\b\b\b\b\b\b\b\b\b\b\b\b\b\b\b\b\b\b\b\b\b\b\b\b\b\b\b\b\b\b\b\b\b\b\b\b\b\b\b\b\b\b\b\b\b\b\b\b\b\b\b\r550\/989 [===============>..............] - ETA: 1s - loss: 0.2859 - auc: 0.8749\b\b\b\b\b\b\b\b\b\b\b\b\b\b\b\b\b\b\b\b\b\b\b\b\b\b\b\b\b\b\b\b\b\b\b\b\b\b\b\b\b\b\b\b\b\b\b\b\b\b\b\b\b\b\b\b\b\b\b\b\b\b\b\b\b\b\b\b\b\b\b\b\b\b\b\b\b\b\b\r577\/989 [================>.............] - ETA: 0s - loss: 0.2864 - auc: 0.8749\b\b\b\b\b\b\b\b\b\b\b\b\b\b\b\b\b\b\b\b\b\b\b\b\b\b\b\b\b\b\b\b\b\b\b\b\b\b\b\b\b\b\b\b\b\b\b\b\b\b\b\b\b\b\b\b\b\b\b\b\b\b\b\b\b\b\b\b\b\b\b\b\b\b\b\b\b\b\b\r597\/989 [=================>............] - ETA: 0s - loss: 0.2868 - auc: 0.8754\b\b\b\b\b\b\b\b\b\b\b\b\b\b\b\b\b\b\b\b\b\b\b\b\b\b\b\b\b\b\b\b\b\b\b\b\b\b\b\b\b\b\b\b\b\b\b\b\b\b\b\b\b\b\b\b\b\b\b\b\b\b\b\b\b\b\b\b\b\b\b\b\b\b\b\b\b\b\b\r612\/989 [=================>............] - ETA: 0s - loss: 0.2868 - auc: 0.8751\b\b\b\b\b\b\b\b\b\b\b\b\b\b\b\b\b\b\b\b\b\b\b\b\b\b\b\b\b\b\b\b\b\b\b\b\b\b\b\b\b\b\b\b\b\b\b\b\b\b\b\b\b\b\b\b\b\b\b\b\b\b\b\b\b\b\b\b\b\b\b\b\b\b\b\b\b\b\b\r635\/989 [==================>...........] - ETA: 0s - loss: 0.2870 - auc: 0.8753\b\b\b\b\b\b\b\b\b\b\b\b\b\b\b\b\b\b\b\b\b\b\b\b\b\b\b\b\b\b\b\b\b\b\b\b\b\b\b\b\b\b\b\b\b\b\b\b\b\b\b\b\b\b\b\b\b\b\b\b\b\b\b\b\b\b\b\b\b\b\b\b\b\b\b\b\b\b\b\r651\/989 [==================>...........] - ETA: 0s - loss: 0.2872 - auc: 0.8752\b\b\b\b\b\b\b\b\b\b\b\b\b\b\b\b\b\b\b\b\b\b\b\b\b\b\b\b\b\b\b\b\b\b\b\b\b\b\b\b\b\b\b\b\b\b\b\b\b\b\b\b\b\b\b\b\b\b\b\b\b\b\b\b\b\b\b\b\b\b\b\b\b\b\b\b\b\b\b\r673\/989 [===================>..........] - ETA: 0s - loss: 0.2876 - auc: 0.8746\b\b\b\b\b\b\b\b\b\b\b\b\b\b\b\b\b\b\b\b\b\b\b\b\b\b\b\b\b\b\b\b\b\b\b\b\b\b\b\b\b\b\b\b\b\b\b\b\b\b\b\b\b\b\b\b\b\b\b\b\b\b\b\b\b\b\b\b\b\b\b\b\b\b\b\b\b\b\b\r690\/989 [===================>..........] - ETA: 0s - loss: 0.2882 - auc: 0.8742\b\b\b\b\b\b\b\b\b\b\b\b\b\b\b\b\b\b\b\b\b\b\b\b\b\b\b\b\b\b\b\b\b\b\b\b\b\b\b\b\b\b\b\b\b\b\b\b\b\b\b\b\b\b\b\b\b\b\b\b\b\b\b\b\b\b\b\b\b\b\b\b\b\b\b\b\b\b\b\r718\/989 [====================>.........] - ETA: 0s - loss: 0.2881 - auc: 0.8740\b\b\b\b\b\b\b\b\b\b\b\b\b\b\b\b\b\b\b\b\b\b\b\b\b\b\b\b\b\b\b\b\b\b\b\b\b\b\b\b\b\b\b\b\b\b\b\b\b\b\b\b\b\b\b\b\b\b\b\b\b\b\b\b\b\b\b\b\b\b\b\b\b\b\b\b\b\b\b\r744\/989 [=====================>........] - ETA: 0s - loss: 0.2873 - auc: 0.8749\b\b\b\b\b\b\b\b\b\b\b\b\b\b\b\b\b\b\b\b\b\b\b\b\b\b\b\b\b\b\b\b\b\b\b\b\b\b\b\b\b\b\b\b\b\b\b\b\b\b\b\b\b\b\b\b\b\b\b\b\b\b\b\b\b\b\b\b\b\b\b\b\b\b\b\b\b\b\b\r769\/989 [======================>.......] - ETA: 0s - loss: 0.2881 - auc: 0.8745\b\b\b\b\b\b\b\b\b\b\b\b\b\b\b\b\b\b\b\b\b\b\b\b\b\b\b\b\b\b\b\b\b\b\b\b\b\b\b\b\b\b\b\b\b\b\b\b\b\b\b\b\b\b\b\b\b\b\b\b\b\b\b\b\b\b\b\b\b\b\b\b\b\b\b\b\b\b\b\r797\/989 [=======================>......] - ETA: 0s - loss: 0.2883 - auc: 0.8743\b\b\b\b\b\b\b\b\b\b\b\b\b\b\b\b\b\b\b\b\b\b\b\b\b\b\b\b\b\b\b\b\b\b\b\b\b\b\b\b\b\b\b\b\b\b\b\b\b\b\b\b\b\b\b\b\b\b\b\b\b\b\b\b\b\b\b\b\b\b\b\b\b\b\b\b\b\b\b\r822\/989 [=======================>......] - ETA: 0s - loss: 0.2881 - auc: 0.8744\b\b\b\b\b\b\b\b\b\b\b\b\b\b\b\b\b\b\b\b\b\b\b\b\b\b\b\b\b\b\b\b\b\b\b\b\b\b\b\b\b\b\b\b\b\b\b\b\b\b\b\b\b\b\b\b\b\b\b\b\b\b\b\b\b\b\b\b\b\b\b\b\b\b\b\b\b\b\b\r841\/989 [========================>.....] - ETA: 0s - loss: 0.2877 - auc: 0.8749\b\b\b\b\b\b\b\b\b\b\b\b\b\b\b\b\b\b\b\b\b\b\b\b\b\b\b\b\b\b\b\b\b\b\b\b\b\b\b\b\b\b\b\b\b\b\b\b\b\b\b\b\b\b\b\b\b\b\b\b\b\b\b\b\b\b\b\b\b\b\b\b\b\b\b\b\b\b\b\r861\/989 [=========================>....] - ETA: 0s - loss: 0.2874 - auc: 0.8753\b\b\b\b\b\b\b\b\b\b\b\b\b\b\b\b\b\b\b\b\b\b\b\b\b\b\b\b\b\b\b\b\b\b\b\b\b\b\b\b\b\b\b\b\b\b\b\b\b\b\b\b\b\b\b\b\b\b\b\b\b\b\b\b\b\b\b\b\b\b\b\b\b\b\b\b\b\b\b\r883\/989 [=========================>....] - ETA: 0s - loss: 0.2867 - auc: 0.8756\b\b\b\b\b\b\b\b\b\b\b\b\b\b\b\b\b\b\b\b\b\b\b\b\b\b\b\b\b\b\b\b\b\b\b\b\b\b\b\b\b\b\b\b\b\b\b\b\b\b\b\b\b\b\b\b\b\b\b\b\b\b\b\b\b\b\b\b\b\b\b\b\b\b\b\b\b\b\b\r901\/989 [==========================>...] - ETA: 0s - loss: 0.2868 - auc: 0.8753\b\b\b\b\b\b\b\b\b\b\b\b\b\b\b\b\b\b\b\b\b\b\b\b\b\b\b\b\b\b\b\b\b\b\b\b\b\b\b\b\b\b\b\b\b\b\b\b\b\b\b\b\b\b\b\b\b\b\b\b\b\b\b\b\b\b\b\b\b\b\b\b\b\b\b\b\b\b\b\r918\/989 [==========================>...] - ETA: 0s - loss: 0.2865 - auc: 0.8754\b\b\b\b\b\b\b\b\b\b\b\b\b\b\b\b\b\b\b\b\b\b\b\b\b\b\b\b\b\b\b\b\b\b\b\b\b\b\b\b\b\b\b\b\b\b\b\b\b\b\b\b\b\b\b\b\b\b\b\b\b\b\b\b\b\b\b\b\b\b\b\b\b\b\b\b\b\b\b\r942\/989 [===========================>..] - ETA: 0s - loss: 0.2873 - auc: 0.8756\b\b\b\b\b\b\b\b\b\b\b\b\b\b\b\b\b\b\b\b\b\b\b\b\b\b\b\b\b\b\b\b\b\b\b\b\b\b\b\b\b\b\b\b\b\b\b\b\b\b\b\b\b\b\b\b\b\b\b\b\b\b\b\b\b\b\b\b\b\b\b\b\b\b\b\b\b\b\b\r962\/989 [============================>.] - ETA: 0s - loss: 0.2875 - auc: 0.8753\b\b\b\b\b\b\b\b\b\b\b\b\b\b\b\b\b\b\b\b\b\b\b\b\b\b\b\b\b\b\b\b\b\b\b\b\b\b\b\b\b\b\b\b\b\b\b\b\b\b\b\b\b\b\b\b\b\b\b\b\b\b\b\b\b\b\b\b\b\b\b\b\b\b\b\b\b\b\b\r982\/989 [============================>.] - ETA: 0s - loss: 0.2873 - auc: 0.8751\b\b\b\b\b\b\b\b\b\b\b\b\b\b\b\b\b\b\b\b\b\b\b\b\b\b\b\b\b\b\b\b\b\b\b\b\b\b\b\b\b\b\b\b\b\b\b\b\b\b\b\b\b\b\b\b\b\b\b\b\b\b\b\b\b\b\b\b\b\b\b\b\b\b\b\b\b\b\b\r989\/989 [==============================] - 3s 3ms\/step - loss: 0.2869 - auc: 0.8753 - val_loss: 0.2884 - val_auc: 0.8774\n",
      "Epoch 4\/15\n",
      "\r  1\/989 [..............................] - ETA: 7s - loss: 0.2880 - auc: 0.8205\b\b\b\b\b\b\b\b\b\b\b\b\b\b\b\b\b\b\b\b\b\b\b\b\b\b\b\b\b\b\b\b\b\b\b\b\b\b\b\b\b\b\b\b\b\b\b\b\b\b\b\b\b\b\b\b\b\b\b\b\b\b\b\b\b\b\b\b\b\b\b\b\b\b\b\b\b\b\b\r 24\/989 [..............................] - ETA: 2s - loss: 0.3026 - auc: 0.8469\b\b\b\b\b\b\b\b\b\b\b\b\b\b\b\b\b\b\b\b\b\b\b\b\b\b\b\b\b\b\b\b\b\b\b\b\b\b\b\b\b\b\b\b\b\b\b\b\b\b\b\b\b\b\b\b\b\b\b\b\b\b\b\b\b\b\b\b\b\b\b\b\b\b\b\b\b\b\b\r 43\/989 [>.............................] - ETA: 2s - loss: 0.2927 - auc: 0.8615\b\b\b\b\b\b\b\b\b\b\b\b\b\b\b\b\b\b\b\b\b\b\b\b\b\b\b\b\b\b\b\b\b\b\b\b\b\b\b\b\b\b\b\b\b\b\b\b\b\b\b\b\b\b\b\b\b\b\b\b\b\b\b\b\b\b\b\b\b\b\b\b\b\b\b\b\b\b\b\r 69\/989 [=>............................] - ETA: 2s - loss: 0.2905 - auc: 0.8677\b\b\b\b\b\b\b\b\b\b\b\b\b\b\b\b\b\b\b\b\b\b\b\b\b\b\b\b\b\b\b\b\b\b\b\b\b\b\b\b\b\b\b\b\b\b\b\b\b\b\b\b\b\b\b\b\b\b\b\b\b\b\b\b\b\b\b\b\b\b\b\b\b\b\b\b\b\b\b\r 94\/989 [=>............................] - ETA: 1s - loss: 0.2919 - auc: 0.8688\b\b\b\b\b\b\b\b\b\b\b\b\b\b\b\b\b\b\b\b\b\b\b\b\b\b\b\b\b\b\b\b\b\b\b\b\b\b\b\b\b\b\b\b\b\b\b\b\b\b\b\b\b\b\b\b\b\b\b\b\b\b\b\b\b\b\b\b\b\b\b\b\b\b\b\b\b\b\b\r121\/989 [==>...........................] - ETA: 1s - loss: 0.2939 - auc: 0.8683\b\b\b\b\b\b\b\b\b\b\b\b\b\b\b\b\b\b\b\b\b\b\b\b\b\b\b\b\b\b\b\b\b\b\b\b\b\b\b\b\b\b\b\b\b\b\b\b\b\b\b\b\b\b\b\b\b\b\b\b\b\b\b\b\b\b\b\b\b\b\b\b\b\b\b\b\b\b\b\r144\/989 [===>..........................] - ETA: 1s - loss: 0.2904 - auc: 0.8705\b\b\b\b\b\b\b\b\b\b\b\b\b\b\b\b\b\b\b\b\b\b\b\b\b\b\b\b\b\b\b\b\b\b\b\b\b\b\b\b\b\b\b\b\b\b\b\b\b\b\b\b\b\b\b\b\b\b\b\b\b\b\b\b\b\b\b\b\b\b\b\b\b\b\b\b\b\b\b\r170\/989 [====>.........................] - ETA: 1s - loss: 0.2930 - auc: 0.8676\b\b\b\b\b\b\b\b\b\b\b\b\b\b\b\b\b\b\b\b\b\b\b\b\b\b\b\b\b\b\b\b\b\b\b\b\b\b\b\b\b\b\b\b\b\b\b\b\b\b\b\b\b\b\b\b\b\b\b\b\b\b\b\b\b\b\b\b\b\b\b\b\b\b\b\b\b\b\b\r197\/989 [====>.........................] - ETA: 1s - loss: 0.2946 - auc: 0.8687\b\b\b\b\b\b\b\b\b\b\b\b\b\b\b\b\b\b\b\b\b\b\b\b\b\b\b\b\b\b\b\b\b\b\b\b\b\b\b\b\b\b\b\b\b\b\b\b\b\b\b\b\b\b\b\b\b\b\b\b\b\b\b\b\b\b\b\b\b\b\b\b\b\b\b\b\b\b\b\r226\/989 [=====>........................] - ETA: 1s - loss: 0.2928 - auc: 0.8699\b\b\b\b\b\b\b\b\b\b\b\b\b\b\b\b\b\b\b\b\b\b\b\b\b\b\b\b\b\b\b\b\b\b\b\b\b\b\b\b\b\b\b\b\b\b\b\b\b\b\b\b\b\b\b\b\b\b\b\b\b\b\b\b\b\b\b\b\b\b\b\b\b\b\b\b\b\b\b\r254\/989 [======>.......................] - ETA: 1s - loss: 0.2920 - auc: 0.8699\b\b\b\b\b\b\b\b\b\b\b\b\b\b\b\b\b\b\b\b\b\b\b\b\b\b\b\b\b\b\b\b\b\b\b\b\b\b\b\b\b\b\b\b\b\b\b\b\b\b\b\b\b\b\b\b\b\b\b\b\b\b\b\b\b\b\b\b\b\b\b\b\b\b\b\b\b\b\b\r272\/989 [=======>......................] - ETA: 1s - loss: 0.2908 - auc: 0.8714\b\b\b\b\b\b\b\b\b\b\b\b\b\b\b\b\b\b\b\b\b\b\b\b\b\b\b\b\b\b\b\b\b\b\b\b\b\b\b\b\b\b\b\b\b\b\b\b\b\b\b\b\b\b\b\b\b\b\b\b\b\b\b\b\b\b\b\b\b\b\b\b\b\b\b\b\b\b\b\r289\/989 [=======>......................] - ETA: 1s - loss: 0.2901 - auc: 0.8731\b\b\b\b\b\b\b\b\b\b\b\b\b\b\b\b\b\b\b\b\b\b\b\b\b\b\b\b\b\b\b\b\b\b\b\b\b\b\b\b\b\b\b\b\b\b\b\b\b\b\b\b\b\b\b\b\b\b\b\b\b\b\b\b\b\b\b\b\b\b\b\b\b\b\b\b\b\b\b\r310\/989 [========>.....................] - ETA: 1s - loss: 0.2872 - auc: 0.8748\b\b\b\b\b\b\b\b\b\b\b\b\b\b\b\b\b\b\b\b\b\b\b\b\b\b\b\b\b\b\b\b\b\b\b\b\b\b\b\b\b\b\b\b\b\b\b\b\b\b\b\b\b\b\b\b\b\b\b\b\b\b\b\b\b\b\b\b\b\b\b\b\b\b\b\b\b\b\b\r331\/989 [=========>....................] - ETA: 1s - loss: 0.2871 - auc: 0.8747\b\b\b\b\b\b\b\b\b\b\b\b\b\b\b\b\b\b\b\b\b\b\b\b\b\b\b\b\b\b\b\b\b\b\b\b\b\b\b\b\b\b\b\b\b\b\b\b\b\b\b\b\b\b\b\b\b\b\b\b\b\b\b\b\b\b\b\b\b\b\b\b\b\b\b\b\b\b\b\r352\/989 [=========>....................] - ETA: 1s - loss: 0.2883 - auc: 0.8735\b\b\b\b\b\b\b\b\b\b\b\b\b\b\b\b\b\b\b\b\b\b\b\b\b\b\b\b\b\b\b\b\b\b\b\b\b\b\b\b\b\b\b\b\b\b\b\b\b\b\b\b\b\b\b\b\b\b\b\b\b\b\b\b\b\b\b\b\b\b\b\b\b\b\b\b\b\b\b\r373\/989 [==========>...................] - ETA: 1s - loss: 0.2849 - auc: 0.8752\b\b\b\b\b\b\b\b\b\b\b\b\b\b\b\b\b\b\b\b\b\b\b\b\b\b\b\b\b\b\b\b\b\b\b\b\b\b\b\b\b\b\b\b\b\b\b\b\b\b\b\b\b\b\b\b\b\b\b\b\b\b\b\b\b\b\b\b\b\b\b\b\b\b\b\b\b\b\b\r392\/989 [==========>...................] - ETA: 1s - loss: 0.2841 - auc: 0.8762\b\b\b\b\b\b\b\b\b\b\b\b\b\b\b\b\b\b\b\b\b\b\b\b\b\b\b\b\b\b\b\b\b\b\b\b\b\b\b\b\b\b\b\b\b\b\b\b\b\b\b\b\b\b\b\b\b\b\b\b\b\b\b\b\b\b\b\b\b\b\b\b\b\b\b\b\b\b\b\r411\/989 [===========>..................] - ETA: 1s - loss: 0.2837 - auc: 0.8764\b\b\b\b\b\b\b\b\b\b\b\b\b\b\b\b\b\b\b\b\b\b\b\b\b\b\b\b\b\b\b\b\b\b\b\b\b\b\b\b\b\b\b\b\b\b\b\b\b\b\b\b\b\b\b\b\b\b\b\b\b\b\b\b\b\b\b\b\b\b\b\b\b\b\b\b\b\b\b\r436\/989 [============>.................] - ETA: 1s - loss: 0.2834 - auc: 0.8766\b\b\b\b\b\b\b\b\b\b\b\b\b\b\b\b\b\b\b\b\b\b\b\b\b\b\b\b\b\b\b\b\b\b\b\b\b\b\b\b\b\b\b\b\b\b\b\b\b\b\b\b\b\b\b\b\b\b\b\b\b\b\b\b\b\b\b\b\b\b\b\b\b\b\b\b\b\b\b\r466\/989 [=============>................] - ETA: 1s - loss: 0.2841 - auc: 0.8760\b\b\b\b\b\b\b\b\b\b\b\b\b\b\b\b\b\b\b\b\b\b\b\b\b\b\b\b\b\b\b\b\b\b\b\b\b\b\b\b\b\b\b\b\b\b\b\b\b\b\b\b\b\b\b\b\b\b\b\b\b\b\b\b\b\b\b\b\b\b\b\b\b\b\b\b\b\b\b\r497\/989 [==============>...............] - ETA: 1s - loss: 0.2849 - auc: 0.8760\b\b\b\b\b\b\b\b\b\b\b\b\b\b\b\b\b\b\b\b\b\b\b\b\b\b\b\b\b\b\b\b\b\b\b\b\b\b\b\b\b\b\b\b\b\b\b\b\b\b\b\b\b\b\b\b\b\b\b\b\b\b\b\b\b\b\b\b\b\b\b\b\b\b\b\b\b\b\b\r518\/989 [==============>...............] - ETA: 1s - loss: 0.2840 - auc: 0.8772\b\b\b\b\b\b\b\b\b\b\b\b\b\b\b\b\b\b\b\b\b\b\b\b\b\b\b\b\b\b\b\b\b\b\b\b\b\b\b\b\b\b\b\b\b\b\b\b\b\b\b\b\b\b\b\b\b\b\b\b\b\b\b\b\b\b\b\b\b\b\b\b\b\b\b\b\b\b\b\r549\/989 [===============>..............] - ETA: 0s - loss: 0.2833 - auc: 0.8784\b\b\b\b\b\b\b\b\b\b\b\b\b\b\b\b\b\b\b\b\b\b\b\b\b\b\b\b\b\b\b\b\b\b\b\b\b\b\b\b\b\b\b\b\b\b\b\b\b\b\b\b\b\b\b\b\b\b\b\b\b\b\b\b\b\b\b\b\b\b\b\b\b\b\b\b\b\b\b\r578\/989 [================>.............] - ETA: 0s - loss: 0.2813 - auc: 0.8797\b\b\b\b\b\b\b\b\b\b\b\b\b\b\b\b\b\b\b\b\b\b\b\b\b\b\b\b\b\b\b\b\b\b\b\b\b\b\b\b\b\b\b\b\b\b\b\b\b\b\b\b\b\b\b\b\b\b\b\b\b\b\b\b\b\b\b\b\b\b\b\b\b\b\b\b\b\b\b\r607\/989 [=================>............] - ETA: 0s - loss: 0.2824 - auc: 0.8790\b\b\b\b\b\b\b\b\b\b\b\b\b\b\b\b\b\b\b\b\b\b\b\b\b\b\b\b\b\b\b\b\b\b\b\b\b\b\b\b\b\b\b\b\b\b\b\b\b\b\b\b\b\b\b\b\b\b\b\b\b\b\b\b\b\b\b\b\b\b\b\b\b\b\b\b\b\b\b\r636\/989 [==================>...........] - ETA: 0s - loss: 0.2821 - auc: 0.8795\b\b\b\b\b\b\b\b\b\b\b\b\b\b\b\b\b\b\b\b\b\b\b\b\b\b\b\b\b\b\b\b\b\b\b\b\b\b\b\b\b\b\b\b\b\b\b\b\b\b\b\b\b\b\b\b\b\b\b\b\b\b\b\b\b\b\b\b\b\b\b\b\b\b\b\b\b\b\b\r667\/989 [===================>..........] - ETA: 0s - loss: 0.2832 - auc: 0.8786\b\b\b\b\b\b\b\b\b\b\b\b\b\b\b\b\b\b\b\b\b\b\b\b\b\b\b\b\b\b\b\b\b\b\b\b\b\b\b\b\b\b\b\b\b\b\b\b\b\b\b\b\b\b\b\b\b\b\b\b\b\b\b\b\b\b\b\b\b\b\b\b\b\b\b\b\b\b\b\r697\/989 [====================>.........] - ETA: 0s - loss: 0.2833 - auc: 0.8792\b\b\b\b\b\b\b\b\b\b\b\b\b\b\b\b\b\b\b\b\b\b\b\b\b\b\b\b\b\b\b\b\b\b\b\b\b\b\b\b\b\b\b\b\b\b\b\b\b\b\b\b\b\b\b\b\b\b\b\b\b\b\b\b\b\b\b\b\b\b\b\b\b\b\b\b\b\b\b\r728\/989 [=====================>........] - ETA: 0s - loss: 0.2837 - auc: 0.8790\b\b\b\b\b\b\b\b\b\b\b\b\b\b\b\b\b\b\b\b\b\b\b\b\b\b\b\b\b\b\b\b\b\b\b\b\b\b\b\b\b\b\b\b\b\b\b\b\b\b\b\b\b\b\b\b\b\b\b\b\b\b\b\b\b\b\b\b\b\b\b\b\b\b\b\b\b\b\b\r757\/989 [=====================>........] - ETA: 0s - loss: 0.2843 - auc: 0.8791\b\b\b\b\b\b\b\b\b\b\b\b\b\b\b\b\b\b\b\b\b\b\b\b\b\b\b\b\b\b\b\b\b\b\b\b\b\b\b\b\b\b\b\b\b\b\b\b\b\b\b\b\b\b\b\b\b\b\b\b\b\b\b\b\b\b\b\b\b\b\b\b\b\b\b\b\b\b\b\r788\/989 [======================>.......] - ETA: 0s - loss: 0.2835 - auc: 0.8793\b\b\b\b\b\b\b\b\b\b\b\b\b\b\b\b\b\b\b\b\b\b\b\b\b\b\b\b\b\b\b\b\b\b\b\b\b\b\b\b\b\b\b\b\b\b\b\b\b\b\b\b\b\b\b\b\b\b\b\b\b\b\b\b\b\b\b\b\b\b\b\b\b\b\b\b\b\b\b\r816\/989 [=======================>......] - ETA: 0s - loss: 0.2838 - auc: 0.8787\b\b\b\b\b\b\b\b\b\b\b\b\b\b\b\b\b\b\b\b\b\b\b\b\b\b\b\b\b\b\b\b\b\b\b\b\b\b\b\b\b\b\b\b\b\b\b\b\b\b\b\b\b\b\b\b\b\b\b\b\b\b\b\b\b\b\b\b\b\b\b\b\b\b\b\b\b\b\b\r849\/989 [========================>.....] - ETA: 0s - loss: 0.2844 - auc: 0.8783\b\b\b\b\b\b\b\b\b\b\b\b\b\b\b\b\b\b\b\b\b\b\b\b\b\b\b\b\b\b\b\b\b\b\b\b\b\b\b\b\b\b\b\b\b\b\b\b\b\b\b\b\b\b\b\b\b\b\b\b\b\b\b\b\b\b\b\b\b\b\b\b\b\b\b\b\b\b\b\r880\/989 [=========================>....] - ETA: 0s - loss: 0.2842 - auc: 0.8782\b\b\b\b\b\b\b\b\b\b\b\b\b\b\b\b\b\b\b\b\b\b\b\b\b\b\b\b\b\b\b\b\b\b\b\b\b\b\b\b\b\b\b\b\b\b\b\b\b\b\b\b\b\b\b\b\b\b\b\b\b\b\b\b\b\b\b\b\b\b\b\b\b\b\b\b\b\b\b\r912\/989 [==========================>...] - ETA: 0s - loss: 0.2846 - auc: 0.8780\b\b\b\b\b\b\b\b\b\b\b\b\b\b\b\b\b\b\b\b\b\b\b\b\b\b\b\b\b\b\b\b\b\b\b\b\b\b\b\b\b\b\b\b\b\b\b\b\b\b\b\b\b\b\b\b\b\b\b\b\b\b\b\b\b\b\b\b\b\b\b\b\b\b\b\b\b\b\b\r941\/989 [===========================>..] - ETA: 0s - loss: 0.2851 - auc: 0.8774\b\b\b\b\b\b\b\b\b\b\b\b\b\b\b\b\b\b\b\b\b\b\b\b\b\b\b\b\b\b\b\b\b\b\b\b\b\b\b\b\b\b\b\b\b\b\b\b\b\b\b\b\b\b\b\b\b\b\b\b\b\b\b\b\b\b\b\b\b\b\b\b\b\b\b\b\b\b\b\r974\/989 [============================>.] - ETA: 0s - loss: 0.2850 - auc: 0.8775\b\b\b\b\b\b\b\b\b\b\b\b\b\b\b\b\b\b\b\b\b\b\b\b\b\b\b\b\b\b\b\b\b\b\b\b\b\b\b\b\b\b\b\b\b\b\b\b\b\b\b\b\b\b\b\b\b\b\b\b\b\b\b\b\b\b\b\b\b\b\b\b\b\b\b\b\b\b\b\r989\/989 [==============================] - 2s 2ms\/step - loss: 0.2851 - auc: 0.8777 - val_loss: 0.2879 - val_auc: 0.8777\n",
      "Epoch 5\/15\n",
      "\r  1\/989 [..............................] - ETA: 3s - loss: 0.3299 - auc: 0.7963\b\b\b\b\b\b\b\b\b\b\b\b\b\b\b\b\b\b\b\b\b\b\b\b\b\b\b\b\b\b\b\b\b\b\b\b\b\b\b\b\b\b\b\b\b\b\b\b\b\b\b\b\b\b\b\b\b\b\b\b\b\b\b\b\b\b\b\b\b\b\b\b\b\b\b\b\b\b\b\r 33\/989 [>.............................] - ETA: 1s - loss: 0.2794 - auc: 0.8926\b\b\b\b\b\b\b\b\b\b\b\b\b\b\b\b\b\b\b\b\b\b\b\b\b\b\b\b\b\b\b\b\b\b\b\b\b\b\b\b\b\b\b\b\b\b\b\b\b\b\b\b\b\b\b\b\b\b\b\b\b\b\b\b\b\b\b\b\b\b\b\b\b\b\b\b\b\b\b\r 64\/989 [>.............................] - ETA: 1s - loss: 0.2673 - auc: 0.9000\b\b\b\b\b\b\b\b\b\b\b\b\b\b\b\b\b\b\b\b\b\b\b\b\b\b\b\b\b\b\b\b\b\b\b\b\b\b\b\b\b\b\b\b\b\b\b\b\b\b\b\b\b\b\b\b\b\b\b\b\b\b\b\b\b\b\b\b\b\b\b\b\b\b\b\b\b\b\b\r 95\/989 [=>............................] - ETA: 1s - loss: 0.2788 - auc: 0.8856\b\b\b\b\b\b\b\b\b\b\b\b\b\b\b\b\b\b\b\b\b\b\b\b\b\b\b\b\b\b\b\b\b\b\b\b\b\b\b\b\b\b\b\b\b\b\b\b\b\b\b\b\b\b\b\b\b\b\b\b\b\b\b\b\b\b\b\b\b\b\b\b\b\b\b\b\b\b\b\r122\/989 [==>...........................] - ETA: 1s - loss: 0.2842 - auc: 0.8792\b\b\b\b\b\b\b\b\b\b\b\b\b\b\b\b\b\b\b\b\b\b\b\b\b\b\b\b\b\b\b\b\b\b\b\b\b\b\b\b\b\b\b\b\b\b\b\b\b\b\b\b\b\b\b\b\b\b\b\b\b\b\b\b\b\b\b\b\b\b\b\b\b\b\b\b\b\b\b\r153\/989 [===>..........................] - ETA: 1s - loss: 0.2844 - auc: 0.8796\b\b\b\b\b\b\b\b\b\b\b\b\b\b\b\b\b\b\b\b\b\b\b\b\b\b\b\b\b\b\b\b\b\b\b\b\b\b\b\b\b\b\b\b\b\b\b\b\b\b\b\b\b\b\b\b\b\b\b\b\b\b\b\b\b\b\b\b\b\b\b\b\b\b\b\b\b\b\b\r182\/989 [====>.........................] - ETA: 1s - loss: 0.2845 - auc: 0.8780\b\b\b\b\b\b\b\b\b\b\b\b\b\b\b\b\b\b\b\b\b\b\b\b\b\b\b\b\b\b\b\b\b\b\b\b\b\b\b\b\b\b\b\b\b\b\b\b\b\b\b\b\b\b\b\b\b\b\b\b\b\b\b\b\b\b\b\b\b\b\b\b\b\b\b\b\b\b\b\r212\/989 [=====>........................] - ETA: 1s - loss: 0.2831 - auc: 0.8791\b\b\b\b\b\b\b\b\b\b\b\b\b\b\b\b\b\b\b\b\b\b\b\b\b\b\b\b\b\b\b\b\b\b\b\b\b\b\b\b\b\b\b\b\b\b\b\b\b\b\b\b\b\b\b\b\b\b\b\b\b\b\b\b\b\b\b\b\b\b\b\b\b\b\b\b\b\b\b\r240\/989 [======>.......................] - ETA: 1s - loss: 0.2844 - auc: 0.8764\b\b\b\b\b\b\b\b\b\b\b\b\b\b\b\b\b\b\b\b\b\b\b\b\b\b\b\b\b\b\b\b\b\b\b\b\b\b\b\b\b\b\b\b\b\b\b\b\b\b\b\b\b\b\b\b\b\b\b\b\b\b\b\b\b\b\b\b\b\b\b\b\b\b\b\b\b\b\b\r272\/989 [=======>......................] - ETA: 1s - loss: 0.2851 - auc: 0.8767\b\b\b\b\b\b\b\b\b\b\b\b\b\b\b\b\b\b\b\b\b\b\b\b\b\b\b\b\b\b\b\b\b\b\b\b\b\b\b\b\b\b\b\b\b\b\b\b\b\b\b\b\b\b\b\b\b\b\b\b\b\b\b\b\b\b\b\b\b\b\b\b\b\b\b\b\b\b\b\r303\/989 [========>.....................] - ETA: 1s - loss: 0.2851 - auc: 0.8773\b\b\b\b\b\b\b\b\b\b\b\b\b\b\b\b\b\b\b\b\b\b\b\b\b\b\b\b\b\b\b\b\b\b\b\b\b\b\b\b\b\b\b\b\b\b\b\b\b\b\b\b\b\b\b\b\b\b\b\b\b\b\b\b\b\b\b\b\b\b\b\b\b\b\b\b\b\b\b\r336\/989 [=========>....................] - ETA: 1s - loss: 0.2859 - auc: 0.8772\b\b\b\b\b\b\b\b\b\b\b\b\b\b\b\b\b\b\b\b\b\b\b\b\b\b\b\b\b\b\b\b\b\b\b\b\b\b\b\b\b\b\b\b\b\b\b\b\b\b\b\b\b\b\b\b\b\b\b\b\b\b\b\b\b\b\b\b\b\b\b\b\b\b\b\b\b\b\b\r366\/989 [==========>...................] - ETA: 1s - loss: 0.2868 - auc: 0.8777\b\b\b\b\b\b\b\b\b\b\b\b\b\b\b\b\b\b\b\b\b\b\b\b\b\b\b\b\b\b\b\b\b\b\b\b\b\b\b\b\b\b\b\b\b\b\b\b\b\b\b\b\b\b\b\b\b\b\b\b\b\b\b\b\b\b\b\b\b\b\b\b\b\b\b\b\b\b\b\r396\/989 [===========>..................] - ETA: 0s - loss: 0.2846 - auc: 0.8781\b\b\b\b\b\b\b\b\b\b\b\b\b\b\b\b\b\b\b\b\b\b\b\b\b\b\b\b\b\b\b\b\b\b\b\b\b\b\b\b\b\b\b\b\b\b\b\b\b\b\b\b\b\b\b\b\b\b\b\b\b\b\b\b\b\b\b\b\b\b\b\b\b\b\b\b\b\b\b\r425\/989 [===========>..................] - ETA: 0s - loss: 0.2851 - auc: 0.8776\b\b\b\b\b\b\b\b\b\b\b\b\b\b\b\b\b\b\b\b\b\b\b\b\b\b\b\b\b\b\b\b\b\b\b\b\b\b\b\b\b\b\b\b\b\b\b\b\b\b\b\b\b\b\b\b\b\b\b\b\b\b\b\b\b\b\b\b\b\b\b\b\b\b\b\b\b\b\b\r457\/989 [============>.................] - ETA: 0s - loss: 0.2845 - auc: 0.8781\b\b\b\b\b\b\b\b\b\b\b\b\b\b\b\b\b\b\b\b\b\b\b\b\b\b\b\b\b\b\b\b\b\b\b\b\b\b\b\b\b\b\b\b\b\b\b\b\b\b\b\b\b\b\b\b\b\b\b\b\b\b\b\b\b\b\b\b\b\b\b\b\b\b\b\b\b\b\b\r488\/989 [=============>................] - ETA: 0s - loss: 0.2850 - auc: 0.8791\b\b\b\b\b\b\b\b\b\b\b\b\b\b\b\b\b\b\b\b\b\b\b\b\b\b\b\b\b\b\b\b\b\b\b\b\b\b\b\b\b\b\b\b\b\b\b\b\b\b\b\b\b\b\b\b\b\b\b\b\b\b\b\b\b\b\b\b\b\b\b\b\b\b\b\b\b\b\b\r519\/989 [==============>...............] - ETA: 0s - loss: 0.2827 - auc: 0.8805\b\b\b\b\b\b\b\b\b\b\b\b\b\b\b\b\b\b\b\b\b\b\b\b\b\b\b\b\b\b\b\b\b\b\b\b\b\b\b\b\b\b\b\b\b\b\b\b\b\b\b\b\b\b\b\b\b\b\b\b\b\b\b\b\b\b\b\b\b\b\b\b\b\b\b\b\b\b\b\r549\/989 [===============>..............] - ETA: 0s - loss: 0.2824 - auc: 0.8806\b\b\b\b\b\b\b\b\b\b\b\b\b\b\b\b\b\b\b\b\b\b\b\b\b\b\b\b\b\b\b\b\b\b\b\b\b\b\b\b\b\b\b\b\b\b\b\b\b\b\b\b\b\b\b\b\b\b\b\b\b\b\b\b\b\b\b\b\b\b\b\b\b\b\b\b\b\b\b\r582\/989 [================>.............] - ETA: 0s - loss: 0.2825 - auc: 0.8806\b\b\b\b\b\b\b\b\b\b\b\b\b\b\b\b\b\b\b\b\b\b\b\b\b\b\b\b\b\b\b\b\b\b\b\b\b\b\b\b\b\b\b\b\b\b\b\b\b\b\b\b\b\b\b\b\b\b\b\b\b\b\b\b\b\b\b\b\b\b\b\b\b\b\b\b\b\b\b\r612\/989 [=================>............] - ETA: 0s - loss: 0.2826 - auc: 0.8801\b\b\b\b\b\b\b\b\b\b\b\b\b\b\b\b\b\b\b\b\b\b\b\b\b\b\b\b\b\b\b\b\b\b\b\b\b\b\b\b\b\b\b\b\b\b\b\b\b\b\b\b\b\b\b\b\b\b\b\b\b\b\b\b\b\b\b\b\b\b\b\b\b\b\b\b\b\b\b\r644\/989 [==================>...........] - ETA: 0s - loss: 0.2827 - auc: 0.8792\b\b\b\b\b\b\b\b\b\b\b\b\b\b\b\b\b\b\b\b\b\b\b\b\b\b\b\b\b\b\b\b\b\b\b\b\b\b\b\b\b\b\b\b\b\b\b\b\b\b\b\b\b\b\b\b\b\b\b\b\b\b\b\b\b\b\b\b\b\b\b\b\b\b\b\b\b\b\b\r675\/989 [===================>..........] - ETA: 0s - loss: 0.2831 - auc: 0.8789\b\b\b\b\b\b\b\b\b\b\b\b\b\b\b\b\b\b\b\b\b\b\b\b\b\b\b\b\b\b\b\b\b\b\b\b\b\b\b\b\b\b\b\b\b\b\b\b\b\b\b\b\b\b\b\b\b\b\b\b\b\b\b\b\b\b\b\b\b\b\b\b\b\b\b\b\b\b\b\r707\/989 [====================>.........] - ETA: 0s - loss: 0.2842 - auc: 0.8778\b\b\b\b\b\b\b\b\b\b\b\b\b\b\b\b\b\b\b\b\b\b\b\b\b\b\b\b\b\b\b\b\b\b\b\b\b\b\b\b\b\b\b\b\b\b\b\b\b\b\b\b\b\b\b\b\b\b\b\b\b\b\b\b\b\b\b\b\b\b\b\b\b\b\b\b\b\b\b\r737\/989 [=====================>........] - ETA: 0s - loss: 0.2848 - auc: 0.8781\b\b\b\b\b\b\b\b\b\b\b\b\b\b\b\b\b\b\b\b\b\b\b\b\b\b\b\b\b\b\b\b\b\b\b\b\b\b\b\b\b\b\b\b\b\b\b\b\b\b\b\b\b\b\b\b\b\b\b\b\b\b\b\b\b\b\b\b\b\b\b\b\b\b\b\b\b\b\b\r767\/989 [======================>.......] - ETA: 0s - loss: 0.2850 - auc: 0.8776\b\b\b\b\b\b\b\b\b\b\b\b\b\b\b\b\b\b\b\b\b\b\b\b\b\b\b\b\b\b\b\b\b\b\b\b\b\b\b\b\b\b\b\b\b\b\b\b\b\b\b\b\b\b\b\b\b\b\b\b\b\b\b\b\b\b\b\b\b\b\b\b\b\b\b\b\b\b\b\r798\/989 [=======================>......] - ETA: 0s - loss: 0.2838 - auc: 0.8786\b\b\b\b\b\b\b\b\b\b\b\b\b\b\b\b\b\b\b\b\b\b\b\b\b\b\b\b\b\b\b\b\b\b\b\b\b\b\b\b\b\b\b\b\b\b\b\b\b\b\b\b\b\b\b\b\b\b\b\b\b\b\b\b\b\b\b\b\b\b\b\b\b\b\b\b\b\b\b\r829\/989 [========================>.....] - ETA: 0s - loss: 0.2837 - auc: 0.8787\b\b\b\b\b\b\b\b\b\b\b\b\b\b\b\b\b\b\b\b\b\b\b\b\b\b\b\b\b\b\b\b\b\b\b\b\b\b\b\b\b\b\b\b\b\b\b\b\b\b\b\b\b\b\b\b\b\b\b\b\b\b\b\b\b\b\b\b\b\b\b\b\b\b\b\b\b\b\b\r859\/989 [=========================>....] - ETA: 0s - loss: 0.2842 - auc: 0.8787\b\b\b\b\b\b\b\b\b\b\b\b\b\b\b\b\b\b\b\b\b\b\b\b\b\b\b\b\b\b\b\b\b\b\b\b\b\b\b\b\b\b\b\b\b\b\b\b\b\b\b\b\b\b\b\b\b\b\b\b\b\b\b\b\b\b\b\b\b\b\b\b\b\b\b\b\b\b\b\r890\/989 [=========================>....] - ETA: 0s - loss: 0.2850 - auc: 0.8784\b\b\b\b\b\b\b\b\b\b\b\b\b\b\b\b\b\b\b\b\b\b\b\b\b\b\b\b\b\b\b\b\b\b\b\b\b\b\b\b\b\b\b\b\b\b\b\b\b\b\b\b\b\b\b\b\b\b\b\b\b\b\b\b\b\b\b\b\b\b\b\b\b\b\b\b\b\b\b\r922\/989 [==========================>...] - ETA: 0s - loss: 0.2848 - auc: 0.8789\b\b\b\b\b\b\b\b\b\b\b\b\b\b\b\b\b\b\b\b\b\b\b\b\b\b\b\b\b\b\b\b\b\b\b\b\b\b\b\b\b\b\b\b\b\b\b\b\b\b\b\b\b\b\b\b\b\b\b\b\b\b\b\b\b\b\b\b\b\b\b\b\b\b\b\b\b\b\b\r955\/989 [===========================>..] - ETA: 0s - loss: 0.2846 - auc: 0.8792\b\b\b\b\b\b\b\b\b\b\b\b\b\b\b\b\b\b\b\b\b\b\b\b\b\b\b\b\b\b\b\b\b\b\b\b\b\b\b\b\b\b\b\b\b\b\b\b\b\b\b\b\b\b\b\b\b\b\b\b\b\b\b\b\b\b\b\b\b\b\b\b\b\b\b\b\b\b\b\r986\/989 [============================>.] - ETA: 0s - loss: 0.2844 - auc: 0.8791\b\b\b\b\b\b\b\b\b\b\b\b\b\b\b\b\b\b\b\b\b\b\b\b\b\b\b\b\b\b\b\b\b\b\b\b\b\b\b\b\b\b\b\b\b\b\b\b\b\b\b\b\b\b\b\b\b\b\b\b\b\b\b\b\b\b\b\b\b\b\b\b\b\b\b\b\b\b\b\r989\/989 [==============================] - 2s 2ms\/step - loss: 0.2844 - auc: 0.8791 - val_loss: 0.2863 - val_auc: 0.8789\n",
      "Epoch 6\/15\n",
      "\r  1\/989 [..............................] - ETA: 2s - loss: 0.1599 - auc: 0.9807\b\b\b\b\b\b\b\b\b\b\b\b\b\b\b\b\b\b\b\b\b\b\b\b\b\b\b\b\b\b\b\b\b\b\b\b\b\b\b\b\b\b\b\b\b\b\b\b\b\b\b\b\b\b\b\b\b\b\b\b\b\b\b\b\b\b\b\b\b\b\b\b\b\b\b\b\b\b\b\r 34\/989 [>.............................] - ETA: 1s - loss: 0.2792 - auc: 0.8930\b\b\b\b\b\b\b\b\b\b\b\b\b\b\b\b\b\b\b\b\b\b\b\b\b\b\b\b\b\b\b\b\b\b\b\b\b\b\b\b\b\b\b\b\b\b\b\b\b\b\b\b\b\b\b\b\b\b\b\b\b\b\b\b\b\b\b\b\b\b\b\b\b\b\b\b\b\b\b\r 62\/989 [>.............................] - ETA: 1s - loss: 0.2734 - auc: 0.8967\b\b\b\b\b\b\b\b\b\b\b\b\b\b\b\b\b\b\b\b\b\b\b\b\b\b\b\b\b\b\b\b\b\b\b\b\b\b\b\b\b\b\b\b\b\b\b\b\b\b\b\b\b\b\b\b\b\b\b\b\b\b\b\b\b\b\b\b\b\b\b\b\b\b\b\b\b\b\b\r 92\/989 [=>............................] - ETA: 1s - loss: 0.2785 - auc: 0.8922\b\b\b\b\b\b\b\b\b\b\b\b\b\b\b\b\b\b\b\b\b\b\b\b\b\b\b\b\b\b\b\b\b\b\b\b\b\b\b\b\b\b\b\b\b\b\b\b\b\b\b\b\b\b\b\b\b\b\b\b\b\b\b\b\b\b\b\b\b\b\b\b\b\b\b\b\b\b\b\r123\/989 [==>...........................] - ETA: 1s - loss: 0.2877 - auc: 0.8844\b\b\b\b\b\b\b\b\b\b\b\b\b\b\b\b\b\b\b\b\b\b\b\b\b\b\b\b\b\b\b\b\b\b\b\b\b\b\b\b\b\b\b\b\b\b\b\b\b\b\b\b\b\b\b\b\b\b\b\b\b\b\b\b\b\b\b\b\b\b\b\b\b\b\b\b\b\b\b\r156\/989 [===>..........................] - ETA: 1s - loss: 0.2847 - auc: 0.8845\b\b\b\b\b\b\b\b\b\b\b\b\b\b\b\b\b\b\b\b\b\b\b\b\b\b\b\b\b\b\b\b\b\b\b\b\b\b\b\b\b\b\b\b\b\b\b\b\b\b\b\b\b\b\b\b\b\b\b\b\b\b\b\b\b\b\b\b\b\b\b\b\b\b\b\b\b\b\b\r185\/989 [====>.........................] - ETA: 1s - loss: 0.2853 - auc: 0.8834\b\b\b\b\b\b\b\b\b\b\b\b\b\b\b\b\b\b\b\b\b\b\b\b\b\b\b\b\b\b\b\b\b\b\b\b\b\b\b\b\b\b\b\b\b\b\b\b\b\b\b\b\b\b\b\b\b\b\b\b\b\b\b\b\b\b\b\b\b\b\b\b\b\b\b\b\b\b\b\r218\/989 [=====>........................] - ETA: 1s - loss: 0.2860 - auc: 0.8812\b\b\b\b\b\b\b\b\b\b\b\b\b\b\b\b\b\b\b\b\b\b\b\b\b\b\b\b\b\b\b\b\b\b\b\b\b\b\b\b\b\b\b\b\b\b\b\b\b\b\b\b\b\b\b\b\b\b\b\b\b\b\b\b\b\b\b\b\b\b\b\b\b\b\b\b\b\b\b\r249\/989 [======>.......................] - ETA: 1s - loss: 0.2880 - auc: 0.8795\b\b\b\b\b\b\b\b\b\b\b\b\b\b\b\b\b\b\b\b\b\b\b\b\b\b\b\b\b\b\b\b\b\b\b\b\b\b\b\b\b\b\b\b\b\b\b\b\b\b\b\b\b\b\b\b\b\b\b\b\b\b\b\b\b\b\b\b\b\b\b\b\b\b\b\b\b\b\b\r282\/989 [=======>......................] - ETA: 1s - loss: 0.2884 - auc: 0.8778\b\b\b\b\b\b\b\b\b\b\b\b\b\b\b\b\b\b\b\b\b\b\b\b\b\b\b\b\b\b\b\b\b\b\b\b\b\b\b\b\b\b\b\b\b\b\b\b\b\b\b\b\b\b\b\b\b\b\b\b\b\b\b\b\b\b\b\b\b\b\b\b\b\b\b\b\b\b\b\r313\/989 [========>.....................] - ETA: 1s - loss: 0.2926 - auc: 0.8743\b\b\b\b\b\b\b\b\b\b\b\b\b\b\b\b\b\b\b\b\b\b\b\b\b\b\b\b\b\b\b\b\b\b\b\b\b\b\b\b\b\b\b\b\b\b\b\b\b\b\b\b\b\b\b\b\b\b\b\b\b\b\b\b\b\b\b\b\b\b\b\b\b\b\b\b\b\b\b\r344\/989 [=========>....................] - ETA: 1s - loss: 0.2925 - auc: 0.8741\b\b\b\b\b\b\b\b\b\b\b\b\b\b\b\b\b\b\b\b\b\b\b\b\b\b\b\b\b\b\b\b\b\b\b\b\b\b\b\b\b\b\b\b\b\b\b\b\b\b\b\b\b\b\b\b\b\b\b\b\b\b\b\b\b\b\b\b\b\b\b\b\b\b\b\b\b\b\b\r374\/989 [==========>...................] - ETA: 1s - loss: 0.2935 - auc: 0.8722\b\b\b\b\b\b\b\b\b\b\b\b\b\b\b\b\b\b\b\b\b\b\b\b\b\b\b\b\b\b\b\b\b\b\b\b\b\b\b\b\b\b\b\b\b\b\b\b\b\b\b\b\b\b\b\b\b\b\b\b\b\b\b\b\b\b\b\b\b\b\b\b\b\b\b\b\b\b\b\r405\/989 [===========>..................] - ETA: 0s - loss: 0.2935 - auc: 0.8717\b\b\b\b\b\b\b\b\b\b\b\b\b\b\b\b\b\b\b\b\b\b\b\b\b\b\b\b\b\b\b\b\b\b\b\b\b\b\b\b\b\b\b\b\b\b\b\b\b\b\b\b\b\b\b\b\b\b\b\b\b\b\b\b\b\b\b\b\b\b\b\b\b\b\b\b\b\b\b\r435\/989 [============>.................] - ETA: 0s - loss: 0.2924 - auc: 0.8716\b\b\b\b\b\b\b\b\b\b\b\b\b\b\b\b\b\b\b\b\b\b\b\b\b\b\b\b\b\b\b\b\b\b\b\b\b\b\b\b\b\b\b\b\b\b\b\b\b\b\b\b\b\b\b\b\b\b\b\b\b\b\b\b\b\b\b\b\b\b\b\b\b\b\b\b\b\b\b\r467\/989 [=============>................] - ETA: 0s - loss: 0.2913 - auc: 0.8729\b\b\b\b\b\b\b\b\b\b\b\b\b\b\b\b\b\b\b\b\b\b\b\b\b\b\b\b\b\b\b\b\b\b\b\b\b\b\b\b\b\b\b\b\b\b\b\b\b\b\b\b\b\b\b\b\b\b\b\b\b\b\b\b\b\b\b\b\b\b\b\b\b\b\b\b\b\b\b\r498\/989 [==============>...............] - ETA: 0s - loss: 0.2906 - auc: 0.8730\b\b\b\b\b\b\b\b\b\b\b\b\b\b\b\b\b\b\b\b\b\b\b\b\b\b\b\b\b\b\b\b\b\b\b\b\b\b\b\b\b\b\b\b\b\b\b\b\b\b\b\b\b\b\b\b\b\b\b\b\b\b\b\b\b\b\b\b\b\b\b\b\b\b\b\b\b\b\b\r530\/989 [===============>..............] - ETA: 0s - loss: 0.2893 - auc: 0.8737\b\b\b\b\b\b\b\b\b\b\b\b\b\b\b\b\b\b\b\b\b\b\b\b\b\b\b\b\b\b\b\b\b\b\b\b\b\b\b\b\b\b\b\b\b\b\b\b\b\b\b\b\b\b\b\b\b\b\b\b\b\b\b\b\b\b\b\b\b\b\b\b\b\b\b\b\b\b\b\r562\/989 [================>.............] - ETA: 0s - loss: 0.2896 - auc: 0.8741\b\b\b\b\b\b\b\b\b\b\b\b\b\b\b\b\b\b\b\b\b\b\b\b\b\b\b\b\b\b\b\b\b\b\b\b\b\b\b\b\b\b\b\b\b\b\b\b\b\b\b\b\b\b\b\b\b\b\b\b\b\b\b\b\b\b\b\b\b\b\b\b\b\b\b\b\b\b\b\r593\/989 [================>.............] - ETA: 0s - loss: 0.2890 - auc: 0.8754\b\b\b\b\b\b\b\b\b\b\b\b\b\b\b\b\b\b\b\b\b\b\b\b\b\b\b\b\b\b\b\b\b\b\b\b\b\b\b\b\b\b\b\b\b\b\b\b\b\b\b\b\b\b\b\b\b\b\b\b\b\b\b\b\b\b\b\b\b\b\b\b\b\b\b\b\b\b\b\r624\/989 [=================>............] - ETA: 0s - loss: 0.2889 - auc: 0.8759\b\b\b\b\b\b\b\b\b\b\b\b\b\b\b\b\b\b\b\b\b\b\b\b\b\b\b\b\b\b\b\b\b\b\b\b\b\b\b\b\b\b\b\b\b\b\b\b\b\b\b\b\b\b\b\b\b\b\b\b\b\b\b\b\b\b\b\b\b\b\b\b\b\b\b\b\b\b\b\r656\/989 [==================>...........] - ETA: 0s - loss: 0.2888 - auc: 0.8762\b\b\b\b\b\b\b\b\b\b\b\b\b\b\b\b\b\b\b\b\b\b\b\b\b\b\b\b\b\b\b\b\b\b\b\b\b\b\b\b\b\b\b\b\b\b\b\b\b\b\b\b\b\b\b\b\b\b\b\b\b\b\b\b\b\b\b\b\b\b\b\b\b\b\b\b\b\b\b\r688\/989 [===================>..........] - ETA: 0s - loss: 0.2881 - auc: 0.8775\b\b\b\b\b\b\b\b\b\b\b\b\b\b\b\b\b\b\b\b\b\b\b\b\b\b\b\b\b\b\b\b\b\b\b\b\b\b\b\b\b\b\b\b\b\b\b\b\b\b\b\b\b\b\b\b\b\b\b\b\b\b\b\b\b\b\b\b\b\b\b\b\b\b\b\b\b\b\b\r721\/989 [====================>.........] - ETA: 0s - loss: 0.2872 - auc: 0.8785\b\b\b\b\b\b\b\b\b\b\b\b\b\b\b\b\b\b\b\b\b\b\b\b\b\b\b\b\b\b\b\b\b\b\b\b\b\b\b\b\b\b\b\b\b\b\b\b\b\b\b\b\b\b\b\b\b\b\b\b\b\b\b\b\b\b\b\b\b\b\b\b\b\b\b\b\b\b\b\r751\/989 [=====================>........] - ETA: 0s - loss: 0.2868 - auc: 0.8793\b\b\b\b\b\b\b\b\b\b\b\b\b\b\b\b\b\b\b\b\b\b\b\b\b\b\b\b\b\b\b\b\b\b\b\b\b\b\b\b\b\b\b\b\b\b\b\b\b\b\b\b\b\b\b\b\b\b\b\b\b\b\b\b\b\b\b\b\b\b\b\b\b\b\b\b\b\b\b\r784\/989 [======================>.......] - ETA: 0s - loss: 0.2856 - auc: 0.8800\b\b\b\b\b\b\b\b\b\b\b\b\b\b\b\b\b\b\b\b\b\b\b\b\b\b\b\b\b\b\b\b\b\b\b\b\b\b\b\b\b\b\b\b\b\b\b\b\b\b\b\b\b\b\b\b\b\b\b\b\b\b\b\b\b\b\b\b\b\b\b\b\b\b\b\b\b\b\b\r815\/989 [=======================>......] - ETA: 0s - loss: 0.2852 - auc: 0.8798\b\b\b\b\b\b\b\b\b\b\b\b\b\b\b\b\b\b\b\b\b\b\b\b\b\b\b\b\b\b\b\b\b\b\b\b\b\b\b\b\b\b\b\b\b\b\b\b\b\b\b\b\b\b\b\b\b\b\b\b\b\b\b\b\b\b\b\b\b\b\b\b\b\b\b\b\b\b\b\r847\/989 [========================>.....] - ETA: 0s - loss: 0.2846 - auc: 0.8798\b\b\b\b\b\b\b\b\b\b\b\b\b\b\b\b\b\b\b\b\b\b\b\b\b\b\b\b\b\b\b\b\b\b\b\b\b\b\b\b\b\b\b\b\b\b\b\b\b\b\b\b\b\b\b\b\b\b\b\b\b\b\b\b\b\b\b\b\b\b\b\b\b\b\b\b\b\b\b\r877\/989 [=========================>....] - ETA: 0s - loss: 0.2837 - auc: 0.8805\b\b\b\b\b\b\b\b\b\b\b\b\b\b\b\b\b\b\b\b\b\b\b\b\b\b\b\b\b\b\b\b\b\b\b\b\b\b\b\b\b\b\b\b\b\b\b\b\b\b\b\b\b\b\b\b\b\b\b\b\b\b\b\b\b\b\b\b\b\b\b\b\b\b\b\b\b\b\b\r910\/989 [==========================>...] - ETA: 0s - loss: 0.2831 - auc: 0.8804\b\b\b\b\b\b\b\b\b\b\b\b\b\b\b\b\b\b\b\b\b\b\b\b\b\b\b\b\b\b\b\b\b\b\b\b\b\b\b\b\b\b\b\b\b\b\b\b\b\b\b\b\b\b\b\b\b\b\b\b\b\b\b\b\b\b\b\b\b\b\b\b\b\b\b\b\b\b\b\r942\/989 [===========================>..] - ETA: 0s - loss: 0.2831 - auc: 0.8804\b\b\b\b\b\b\b\b\b\b\b\b\b\b\b\b\b\b\b\b\b\b\b\b\b\b\b\b\b\b\b\b\b\b\b\b\b\b\b\b\b\b\b\b\b\b\b\b\b\b\b\b\b\b\b\b\b\b\b\b\b\b\b\b\b\b\b\b\b\b\b\b\b\b\b\b\b\b\b\r974\/989 [============================>.] - ETA: 0s - loss: 0.2828 - auc: 0.8812\b\b\b\b\b\b\b\b\b\b\b\b\b\b\b\b\b\b\b\b\b\b\b\b\b\b\b\b\b\b\b\b\b\b\b\b\b\b\b\b\b\b\b\b\b\b\b\b\b\b\b\b\b\b\b\b\b\b\b\b\b\b\b\b\b\b\b\b\b\b\b\b\b\b\b\b\b\b\b\r989\/989 [==============================] - 2s 2ms\/step - loss: 0.2827 - auc: 0.8813 - val_loss: 0.2830 - val_auc: 0.8847\n",
      "Epoch 7\/15\n",
      "\r  1\/989 [..............................] - ETA: 2s - loss: 0.2489 - auc: 0.9318\b\b\b\b\b\b\b\b\b\b\b\b\b\b\b\b\b\b\b\b\b\b\b\b\b\b\b\b\b\b\b\b\b\b\b\b\b\b\b\b\b\b\b\b\b\b\b\b\b\b\b\b\b\b\b\b\b\b\b\b\b\b\b\b\b\b\b\b\b\b\b\b\b\b\b\b\b\b\b\r 28\/989 [..............................] - ETA: 1s - loss: 0.2646 - auc: 0.9044\b\b\b\b\b\b\b\b\b\b\b\b\b\b\b\b\b\b\b\b\b\b\b\b\b\b\b\b\b\b\b\b\b\b\b\b\b\b\b\b\b\b\b\b\b\b\b\b\b\b\b\b\b\b\b\b\b\b\b\b\b\b\b\b\b\b\b\b\b\b\b\b\b\b\b\b\b\b\b\r 60\/989 [>.............................] - ETA: 1s - loss: 0.2742 - auc: 0.8844\b\b\b\b\b\b\b\b\b\b\b\b\b\b\b\b\b\b\b\b\b\b\b\b\b\b\b\b\b\b\b\b\b\b\b\b\b\b\b\b\b\b\b\b\b\b\b\b\b\b\b\b\b\b\b\b\b\b\b\b\b\b\b\b\b\b\b\b\b\b\b\b\b\b\b\b\b\b\b\r 90\/989 [=>............................] - ETA: 1s - loss: 0.2787 - auc: 0.8795\b\b\b\b\b\b\b\b\b\b\b\b\b\b\b\b\b\b\b\b\b\b\b\b\b\b\b\b\b\b\b\b\b\b\b\b\b\b\b\b\b\b\b\b\b\b\b\b\b\b\b\b\b\b\b\b\b\b\b\b\b\b\b\b\b\b\b\b\b\b\b\b\b\b\b\b\b\b\b\r120\/989 [==>...........................] - ETA: 1s - loss: 0.2791 - auc: 0.8809\b\b\b\b\b\b\b\b\b\b\b\b\b\b\b\b\b\b\b\b\b\b\b\b\b\b\b\b\b\b\b\b\b\b\b\b\b\b\b\b\b\b\b\b\b\b\b\b\b\b\b\b\b\b\b\b\b\b\b\b\b\b\b\b\b\b\b\b\b\b\b\b\b\b\b\b\b\b\b\r149\/989 [===>..........................] - ETA: 1s - loss: 0.2766 - auc: 0.8840\b\b\b\b\b\b\b\b\b\b\b\b\b\b\b\b\b\b\b\b\b\b\b\b\b\b\b\b\b\b\b\b\b\b\b\b\b\b\b\b\b\b\b\b\b\b\b\b\b\b\b\b\b\b\b\b\b\b\b\b\b\b\b\b\b\b\b\b\b\b\b\b\b\b\b\b\b\b\b\r179\/989 [====>.........................] - ETA: 1s - loss: 0.2742 - auc: 0.8844\b\b\b\b\b\b\b\b\b\b\b\b\b\b\b\b\b\b\b\b\b\b\b\b\b\b\b\b\b\b\b\b\b\b\b\b\b\b\b\b\b\b\b\b\b\b\b\b\b\b\b\b\b\b\b\b\b\b\b\b\b\b\b\b\b\b\b\b\b\b\b\b\b\b\b\b\b\b\b\r208\/989 [=====>........................] - ETA: 1s - loss: 0.2798 - auc: 0.8782\b\b\b\b\b\b\b\b\b\b\b\b\b\b\b\b\b\b\b\b\b\b\b\b\b\b\b\b\b\b\b\b\b\b\b\b\b\b\b\b\b\b\b\b\b\b\b\b\b\b\b\b\b\b\b\b\b\b\b\b\b\b\b\b\b\b\b\b\b\b\b\b\b\b\b\b\b\b\b\r240\/989 [======>.......................] - ETA: 1s - loss: 0.2783 - auc: 0.8809\b\b\b\b\b\b\b\b\b\b\b\b\b\b\b\b\b\b\b\b\b\b\b\b\b\b\b\b\b\b\b\b\b\b\b\b\b\b\b\b\b\b\b\b\b\b\b\b\b\b\b\b\b\b\b\b\b\b\b\b\b\b\b\b\b\b\b\b\b\b\b\b\b\b\b\b\b\b\b\r271\/989 [=======>......................] - ETA: 1s - loss: 0.2802 - auc: 0.8812\b\b\b\b\b\b\b\b\b\b\b\b\b\b\b\b\b\b\b\b\b\b\b\b\b\b\b\b\b\b\b\b\b\b\b\b\b\b\b\b\b\b\b\b\b\b\b\b\b\b\b\b\b\b\b\b\b\b\b\b\b\b\b\b\b\b\b\b\b\b\b\b\b\b\b\b\b\b\b\r304\/989 [========>.....................] - ETA: 1s - loss: 0.2812 - auc: 0.8813\b\b\b\b\b\b\b\b\b\b\b\b\b\b\b\b\b\b\b\b\b\b\b\b\b\b\b\b\b\b\b\b\b\b\b\b\b\b\b\b\b\b\b\b\b\b\b\b\b\b\b\b\b\b\b\b\b\b\b\b\b\b\b\b\b\b\b\b\b\b\b\b\b\b\b\b\b\b\b\r335\/989 [=========>....................] - ETA: 1s - loss: 0.2827 - auc: 0.8810\b\b\b\b\b\b\b\b\b\b\b\b\b\b\b\b\b\b\b\b\b\b\b\b\b\b\b\b\b\b\b\b\b\b\b\b\b\b\b\b\b\b\b\b\b\b\b\b\b\b\b\b\b\b\b\b\b\b\b\b\b\b\b\b\b\b\b\b\b\b\b\b\b\b\b\b\b\b\b\r368\/989 [==========>...................] - ETA: 1s - loss: 0.2824 - auc: 0.8816\b\b\b\b\b\b\b\b\b\b\b\b\b\b\b\b\b\b\b\b\b\b\b\b\b\b\b\b\b\b\b\b\b\b\b\b\b\b\b\b\b\b\b\b\b\b\b\b\b\b\b\b\b\b\b\b\b\b\b\b\b\b\b\b\b\b\b\b\b\b\b\b\b\b\b\b\b\b\b\r400\/989 [===========>..................] - ETA: 0s - loss: 0.2820 - auc: 0.8823\b\b\b\b\b\b\b\b\b\b\b\b\b\b\b\b\b\b\b\b\b\b\b\b\b\b\b\b\b\b\b\b\b\b\b\b\b\b\b\b\b\b\b\b\b\b\b\b\b\b\b\b\b\b\b\b\b\b\b\b\b\b\b\b\b\b\b\b\b\b\b\b\b\b\b\b\b\b\b\r431\/989 [============>.................] - ETA: 0s - loss: 0.2821 - auc: 0.8822\b\b\b\b\b\b\b\b\b\b\b\b\b\b\b\b\b\b\b\b\b\b\b\b\b\b\b\b\b\b\b\b\b\b\b\b\b\b\b\b\b\b\b\b\b\b\b\b\b\b\b\b\b\b\b\b\b\b\b\b\b\b\b\b\b\b\b\b\b\b\b\b\b\b\b\b\b\b\b\r453\/989 [============>.................] - ETA: 0s - loss: 0.2825 - auc: 0.8825\b\b\b\b\b\b\b\b\b\b\b\b\b\b\b\b\b\b\b\b\b\b\b\b\b\b\b\b\b\b\b\b\b\b\b\b\b\b\b\b\b\b\b\b\b\b\b\b\b\b\b\b\b\b\b\b\b\b\b\b\b\b\b\b\b\b\b\b\b\b\b\b\b\b\b\b\b\b\b\r483\/989 [=============>................] - ETA: 0s - loss: 0.2831 - auc: 0.8815\b\b\b\b\b\b\b\b\b\b\b\b\b\b\b\b\b\b\b\b\b\b\b\b\b\b\b\b\b\b\b\b\b\b\b\b\b\b\b\b\b\b\b\b\b\b\b\b\b\b\b\b\b\b\b\b\b\b\b\b\b\b\b\b\b\b\b\b\b\b\b\b\b\b\b\b\b\b\b\r513\/989 [==============>...............] - ETA: 0s - loss: 0.2848 - auc: 0.8807\b\b\b\b\b\b\b\b\b\b\b\b\b\b\b\b\b\b\b\b\b\b\b\b\b\b\b\b\b\b\b\b\b\b\b\b\b\b\b\b\b\b\b\b\b\b\b\b\b\b\b\b\b\b\b\b\b\b\b\b\b\b\b\b\b\b\b\b\b\b\b\b\b\b\b\b\b\b\b\r543\/989 [===============>..............] - ETA: 0s - loss: 0.2840 - auc: 0.8814\b\b\b\b\b\b\b\b\b\b\b\b\b\b\b\b\b\b\b\b\b\b\b\b\b\b\b\b\b\b\b\b\b\b\b\b\b\b\b\b\b\b\b\b\b\b\b\b\b\b\b\b\b\b\b\b\b\b\b\b\b\b\b\b\b\b\b\b\b\b\b\b\b\b\b\b\b\b\b\r574\/989 [================>.............] - ETA: 0s - loss: 0.2835 - auc: 0.8817\b\b\b\b\b\b\b\b\b\b\b\b\b\b\b\b\b\b\b\b\b\b\b\b\b\b\b\b\b\b\b\b\b\b\b\b\b\b\b\b\b\b\b\b\b\b\b\b\b\b\b\b\b\b\b\b\b\b\b\b\b\b\b\b\b\b\b\b\b\b\b\b\b\b\b\b\b\b\b\r606\/989 [=================>............] - ETA: 0s - loss: 0.2812 - auc: 0.8835\b\b\b\b\b\b\b\b\b\b\b\b\b\b\b\b\b\b\b\b\b\b\b\b\b\b\b\b\b\b\b\b\b\b\b\b\b\b\b\b\b\b\b\b\b\b\b\b\b\b\b\b\b\b\b\b\b\b\b\b\b\b\b\b\b\b\b\b\b\b\b\b\b\b\b\b\b\b\b\r636\/989 [==================>...........] - ETA: 0s - loss: 0.2815 - auc: 0.8828\b\b\b\b\b\b\b\b\b\b\b\b\b\b\b\b\b\b\b\b\b\b\b\b\b\b\b\b\b\b\b\b\b\b\b\b\b\b\b\b\b\b\b\b\b\b\b\b\b\b\b\b\b\b\b\b\b\b\b\b\b\b\b\b\b\b\b\b\b\b\b\b\b\b\b\b\b\b\b\r668\/989 [===================>..........] - ETA: 0s - loss: 0.2816 - auc: 0.8830\b\b\b\b\b\b\b\b\b\b\b\b\b\b\b\b\b\b\b\b\b\b\b\b\b\b\b\b\b\b\b\b\b\b\b\b\b\b\b\b\b\b\b\b\b\b\b\b\b\b\b\b\b\b\b\b\b\b\b\b\b\b\b\b\b\b\b\b\b\b\b\b\b\b\b\b\b\b\b\r697\/989 [====================>.........] - ETA: 0s - loss: 0.2818 - auc: 0.8827\b\b\b\b\b\b\b\b\b\b\b\b\b\b\b\b\b\b\b\b\b\b\b\b\b\b\b\b\b\b\b\b\b\b\b\b\b\b\b\b\b\b\b\b\b\b\b\b\b\b\b\b\b\b\b\b\b\b\b\b\b\b\b\b\b\b\b\b\b\b\b\b\b\b\b\b\b\b\b\r730\/989 [=====================>........] - ETA: 0s - loss: 0.2807 - auc: 0.8836\b\b\b\b\b\b\b\b\b\b\b\b\b\b\b\b\b\b\b\b\b\b\b\b\b\b\b\b\b\b\b\b\b\b\b\b\b\b\b\b\b\b\b\b\b\b\b\b\b\b\b\b\b\b\b\b\b\b\b\b\b\b\b\b\b\b\b\b\b\b\b\b\b\b\b\b\b\b\b\r759\/989 [======================>.......] - ETA: 0s - loss: 0.2804 - auc: 0.8840\b\b\b\b\b\b\b\b\b\b\b\b\b\b\b\b\b\b\b\b\b\b\b\b\b\b\b\b\b\b\b\b\b\b\b\b\b\b\b\b\b\b\b\b\b\b\b\b\b\b\b\b\b\b\b\b\b\b\b\b\b\b\b\b\b\b\b\b\b\b\b\b\b\b\b\b\b\b\b\r792\/989 [=======================>......] - ETA: 0s - loss: 0.2809 - auc: 0.8829\b\b\b\b\b\b\b\b\b\b\b\b\b\b\b\b\b\b\b\b\b\b\b\b\b\b\b\b\b\b\b\b\b\b\b\b\b\b\b\b\b\b\b\b\b\b\b\b\b\b\b\b\b\b\b\b\b\b\b\b\b\b\b\b\b\b\b\b\b\b\b\b\b\b\b\b\b\b\b\r823\/989 [=======================>......] - ETA: 0s - loss: 0.2811 - auc: 0.8829\b\b\b\b\b\b\b\b\b\b\b\b\b\b\b\b\b\b\b\b\b\b\b\b\b\b\b\b\b\b\b\b\b\b\b\b\b\b\b\b\b\b\b\b\b\b\b\b\b\b\b\b\b\b\b\b\b\b\b\b\b\b\b\b\b\b\b\b\b\b\b\b\b\b\b\b\b\b\b\r856\/989 [========================>.....] - ETA: 0s - loss: 0.2808 - auc: 0.8827\b\b\b\b\b\b\b\b\b\b\b\b\b\b\b\b\b\b\b\b\b\b\b\b\b\b\b\b\b\b\b\b\b\b\b\b\b\b\b\b\b\b\b\b\b\b\b\b\b\b\b\b\b\b\b\b\b\b\b\b\b\b\b\b\b\b\b\b\b\b\b\b\b\b\b\b\b\b\b\r886\/989 [=========================>....] - ETA: 0s - loss: 0.2804 - auc: 0.8825\b\b\b\b\b\b\b\b\b\b\b\b\b\b\b\b\b\b\b\b\b\b\b\b\b\b\b\b\b\b\b\b\b\b\b\b\b\b\b\b\b\b\b\b\b\b\b\b\b\b\b\b\b\b\b\b\b\b\b\b\b\b\b\b\b\b\b\b\b\b\b\b\b\b\b\b\b\b\b\r919\/989 [==========================>...] - ETA: 0s - loss: 0.2810 - auc: 0.8822\b\b\b\b\b\b\b\b\b\b\b\b\b\b\b\b\b\b\b\b\b\b\b\b\b\b\b\b\b\b\b\b\b\b\b\b\b\b\b\b\b\b\b\b\b\b\b\b\b\b\b\b\b\b\b\b\b\b\b\b\b\b\b\b\b\b\b\b\b\b\b\b\b\b\b\b\b\b\b\r948\/989 [===========================>..] - ETA: 0s - loss: 0.2809 - auc: 0.8825\b\b\b\b\b\b\b\b\b\b\b\b\b\b\b\b\b\b\b\b\b\b\b\b\b\b\b\b\b\b\b\b\b\b\b\b\b\b\b\b\b\b\b\b\b\b\b\b\b\b\b\b\b\b\b\b\b\b\b\b\b\b\b\b\b\b\b\b\b\b\b\b\b\b\b\b\b\b\b\r978\/989 [============================>.] - ETA: 0s - loss: 0.2811 - auc: 0.8826\b\b\b\b\b\b\b\b\b\b\b\b\b\b\b\b\b\b\b\b\b\b\b\b\b\b\b\b\b\b\b\b\b\b\b\b\b\b\b\b\b\b\b\b\b\b\b\b\b\b\b\b\b\b\b\b\b\b\b\b\b\b\b\b\b\b\b\b\b\b\b\b\b\b\b\b\b\b\b\r989\/989 [==============================] - 2s 2ms\/step - loss: 0.2813 - auc: 0.8825 - val_loss: 0.2854 - val_auc: 0.8863\n",
      "Epoch 8\/15\n",
      "\r  1\/989 [..............................] - ETA: 2s - loss: 0.2948 - auc: 0.8724\b\b\b\b\b\b\b\b\b\b\b\b\b\b\b\b\b\b\b\b\b\b\b\b\b\b\b\b\b\b\b\b\b\b\b\b\b\b\b\b\b\b\b\b\b\b\b\b\b\b\b\b\b\b\b\b\b\b\b\b\b\b\b\b\b\b\b\b\b\b\b\b\b\b\b\b\b\b\b\r 31\/989 [..............................] - ETA: 1s - loss: 0.2731 - auc: 0.8840\b\b\b\b\b\b\b\b\b\b\b\b\b\b\b\b\b\b\b\b\b\b\b\b\b\b\b\b\b\b\b\b\b\b\b\b\b\b\b\b\b\b\b\b\b\b\b\b\b\b\b\b\b\b\b\b\b\b\b\b\b\b\b\b\b\b\b\b\b\b\b\b\b\b\b\b\b\b\b\r 63\/989 [>.............................] - ETA: 1s - loss: 0.2808 - auc: 0.8838\b\b\b\b\b\b\b\b\b\b\b\b\b\b\b\b\b\b\b\b\b\b\b\b\b\b\b\b\b\b\b\b\b\b\b\b\b\b\b\b\b\b\b\b\b\b\b\b\b\b\b\b\b\b\b\b\b\b\b\b\b\b\b\b\b\b\b\b\b\b\b\b\b\b\b\b\b\b\b\r 94\/989 [=>............................] - ETA: 1s - loss: 0.2834 - auc: 0.8826\b\b\b\b\b\b\b\b\b\b\b\b\b\b\b\b\b\b\b\b\b\b\b\b\b\b\b\b\b\b\b\b\b\b\b\b\b\b\b\b\b\b\b\b\b\b\b\b\b\b\b\b\b\b\b\b\b\b\b\b\b\b\b\b\b\b\b\b\b\b\b\b\b\b\b\b\b\b\b\r127\/989 [==>...........................] - ETA: 1s - loss: 0.2836 - auc: 0.8838\b\b\b\b\b\b\b\b\b\b\b\b\b\b\b\b\b\b\b\b\b\b\b\b\b\b\b\b\b\b\b\b\b\b\b\b\b\b\b\b\b\b\b\b\b\b\b\b\b\b\b\b\b\b\b\b\b\b\b\b\b\b\b\b\b\b\b\b\b\b\b\b\b\b\b\b\b\b\b\r155\/989 [===>..........................] - ETA: 1s - loss: 0.2809 - auc: 0.8847\b\b\b\b\b\b\b\b\b\b\b\b\b\b\b\b\b\b\b\b\b\b\b\b\b\b\b\b\b\b\b\b\b\b\b\b\b\b\b\b\b\b\b\b\b\b\b\b\b\b\b\b\b\b\b\b\b\b\b\b\b\b\b\b\b\b\b\b\b\b\b\b\b\b\b\b\b\b\b\r186\/989 [====>.........................] - ETA: 1s - loss: 0.2825 - auc: 0.8860\b\b\b\b\b\b\b\b\b\b\b\b\b\b\b\b\b\b\b\b\b\b\b\b\b\b\b\b\b\b\b\b\b\b\b\b\b\b\b\b\b\b\b\b\b\b\b\b\b\b\b\b\b\b\b\b\b\b\b\b\b\b\b\b\b\b\b\b\b\b\b\b\b\b\b\b\b\b\b\r218\/989 [=====>........................] - ETA: 1s - loss: 0.2837 - auc: 0.8850\b\b\b\b\b\b\b\b\b\b\b\b\b\b\b\b\b\b\b\b\b\b\b\b\b\b\b\b\b\b\b\b\b\b\b\b\b\b\b\b\b\b\b\b\b\b\b\b\b\b\b\b\b\b\b\b\b\b\b\b\b\b\b\b\b\b\b\b\b\b\b\b\b\b\b\b\b\b\b\r251\/989 [======>.......................] - ETA: 1s - loss: 0.2821 - auc: 0.8863\b\b\b\b\b\b\b\b\b\b\b\b\b\b\b\b\b\b\b\b\b\b\b\b\b\b\b\b\b\b\b\b\b\b\b\b\b\b\b\b\b\b\b\b\b\b\b\b\b\b\b\b\b\b\b\b\b\b\b\b\b\b\b\b\b\b\b\b\b\b\b\b\b\b\b\b\b\b\b\r281\/989 [=======>......................] - ETA: 1s - loss: 0.2811 - auc: 0.8871\b\b\b\b\b\b\b\b\b\b\b\b\b\b\b\b\b\b\b\b\b\b\b\b\b\b\b\b\b\b\b\b\b\b\b\b\b\b\b\b\b\b\b\b\b\b\b\b\b\b\b\b\b\b\b\b\b\b\b\b\b\b\b\b\b\b\b\b\b\b\b\b\b\b\b\b\b\b\b\r312\/989 [========>.....................] - ETA: 1s - loss: 0.2805 - auc: 0.8878\b\b\b\b\b\b\b\b\b\b\b\b\b\b\b\b\b\b\b\b\b\b\b\b\b\b\b\b\b\b\b\b\b\b\b\b\b\b\b\b\b\b\b\b\b\b\b\b\b\b\b\b\b\b\b\b\b\b\b\b\b\b\b\b\b\b\b\b\b\b\b\b\b\b\b\b\b\b\b\r343\/989 [=========>....................] - ETA: 1s - loss: 0.2791 - auc: 0.8880\b\b\b\b\b\b\b\b\b\b\b\b\b\b\b\b\b\b\b\b\b\b\b\b\b\b\b\b\b\b\b\b\b\b\b\b\b\b\b\b\b\b\b\b\b\b\b\b\b\b\b\b\b\b\b\b\b\b\b\b\b\b\b\b\b\b\b\b\b\b\b\b\b\b\b\b\b\b\b\r375\/989 [==========>...................] - ETA: 0s - loss: 0.2793 - auc: 0.8865\b\b\b\b\b\b\b\b\b\b\b\b\b\b\b\b\b\b\b\b\b\b\b\b\b\b\b\b\b\b\b\b\b\b\b\b\b\b\b\b\b\b\b\b\b\b\b\b\b\b\b\b\b\b\b\b\b\b\b\b\b\b\b\b\b\b\b\b\b\b\b\b\b\b\b\b\b\b\b\r406\/989 [===========>..................] - ETA: 0s - loss: 0.2809 - auc: 0.8857\b\b\b\b\b\b\b\b\b\b\b\b\b\b\b\b\b\b\b\b\b\b\b\b\b\b\b\b\b\b\b\b\b\b\b\b\b\b\b\b\b\b\b\b\b\b\b\b\b\b\b\b\b\b\b\b\b\b\b\b\b\b\b\b\b\b\b\b\b\b\b\b\b\b\b\b\b\b\b\r438\/989 [============>.................] - ETA: 0s - loss: 0.2801 - auc: 0.8871\b\b\b\b\b\b\b\b\b\b\b\b\b\b\b\b\b\b\b\b\b\b\b\b\b\b\b\b\b\b\b\b\b\b\b\b\b\b\b\b\b\b\b\b\b\b\b\b\b\b\b\b\b\b\b\b\b\b\b\b\b\b\b\b\b\b\b\b\b\b\b\b\b\b\b\b\b\b\b\r469\/989 [=============>................] - ETA: 0s - loss: 0.2781 - auc: 0.8887\b\b\b\b\b\b\b\b\b\b\b\b\b\b\b\b\b\b\b\b\b\b\b\b\b\b\b\b\b\b\b\b\b\b\b\b\b\b\b\b\b\b\b\b\b\b\b\b\b\b\b\b\b\b\b\b\b\b\b\b\b\b\b\b\b\b\b\b\b\b\b\b\b\b\b\b\b\b\b\r502\/989 [==============>...............] - ETA: 0s - loss: 0.2784 - auc: 0.8881\b\b\b\b\b\b\b\b\b\b\b\b\b\b\b\b\b\b\b\b\b\b\b\b\b\b\b\b\b\b\b\b\b\b\b\b\b\b\b\b\b\b\b\b\b\b\b\b\b\b\b\b\b\b\b\b\b\b\b\b\b\b\b\b\b\b\b\b\b\b\b\b\b\b\b\b\b\b\b\r531\/989 [===============>..............] - ETA: 0s - loss: 0.2790 - auc: 0.8874\b\b\b\b\b\b\b\b\b\b\b\b\b\b\b\b\b\b\b\b\b\b\b\b\b\b\b\b\b\b\b\b\b\b\b\b\b\b\b\b\b\b\b\b\b\b\b\b\b\b\b\b\b\b\b\b\b\b\b\b\b\b\b\b\b\b\b\b\b\b\b\b\b\b\b\b\b\b\b\r564\/989 [================>.............] - ETA: 0s - loss: 0.2796 - auc: 0.8863\b\b\b\b\b\b\b\b\b\b\b\b\b\b\b\b\b\b\b\b\b\b\b\b\b\b\b\b\b\b\b\b\b\b\b\b\b\b\b\b\b\b\b\b\b\b\b\b\b\b\b\b\b\b\b\b\b\b\b\b\b\b\b\b\b\b\b\b\b\b\b\b\b\b\b\b\b\b\b\r596\/989 [=================>............] - ETA: 0s - loss: 0.2803 - auc: 0.8862\b\b\b\b\b\b\b\b\b\b\b\b\b\b\b\b\b\b\b\b\b\b\b\b\b\b\b\b\b\b\b\b\b\b\b\b\b\b\b\b\b\b\b\b\b\b\b\b\b\b\b\b\b\b\b\b\b\b\b\b\b\b\b\b\b\b\b\b\b\b\b\b\b\b\b\b\b\b\b\r627\/989 [==================>...........] - ETA: 0s - loss: 0.2797 - auc: 0.8859\b\b\b\b\b\b\b\b\b\b\b\b\b\b\b\b\b\b\b\b\b\b\b\b\b\b\b\b\b\b\b\b\b\b\b\b\b\b\b\b\b\b\b\b\b\b\b\b\b\b\b\b\b\b\b\b\b\b\b\b\b\b\b\b\b\b\b\b\b\b\b\b\b\b\b\b\b\b\b\r656\/989 [==================>...........] - ETA: 0s - loss: 0.2798 - auc: 0.8854\b\b\b\b\b\b\b\b\b\b\b\b\b\b\b\b\b\b\b\b\b\b\b\b\b\b\b\b\b\b\b\b\b\b\b\b\b\b\b\b\b\b\b\b\b\b\b\b\b\b\b\b\b\b\b\b\b\b\b\b\b\b\b\b\b\b\b\b\b\b\b\b\b\b\b\b\b\b\b\r687\/989 [===================>..........] - ETA: 0s - loss: 0.2801 - auc: 0.8849\b\b\b\b\b\b\b\b\b\b\b\b\b\b\b\b\b\b\b\b\b\b\b\b\b\b\b\b\b\b\b\b\b\b\b\b\b\b\b\b\b\b\b\b\b\b\b\b\b\b\b\b\b\b\b\b\b\b\b\b\b\b\b\b\b\b\b\b\b\b\b\b\b\b\b\b\b\b\b\r717\/989 [====================>.........] - ETA: 0s - loss: 0.2807 - auc: 0.8845\b\b\b\b\b\b\b\b\b\b\b\b\b\b\b\b\b\b\b\b\b\b\b\b\b\b\b\b\b\b\b\b\b\b\b\b\b\b\b\b\b\b\b\b\b\b\b\b\b\b\b\b\b\b\b\b\b\b\b\b\b\b\b\b\b\b\b\b\b\b\b\b\b\b\b\b\b\b\b\r750\/989 [=====================>........] - ETA: 0s - loss: 0.2808 - auc: 0.8844\b\b\b\b\b\b\b\b\b\b\b\b\b\b\b\b\b\b\b\b\b\b\b\b\b\b\b\b\b\b\b\b\b\b\b\b\b\b\b\b\b\b\b\b\b\b\b\b\b\b\b\b\b\b\b\b\b\b\b\b\b\b\b\b\b\b\b\b\b\b\b\b\b\b\b\b\b\b\b\r781\/989 [======================>.......] - ETA: 0s - loss: 0.2797 - auc: 0.8852\b\b\b\b\b\b\b\b\b\b\b\b\b\b\b\b\b\b\b\b\b\b\b\b\b\b\b\b\b\b\b\b\b\b\b\b\b\b\b\b\b\b\b\b\b\b\b\b\b\b\b\b\b\b\b\b\b\b\b\b\b\b\b\b\b\b\b\b\b\b\b\b\b\b\b\b\b\b\b\r814\/989 [=======================>......] - ETA: 0s - loss: 0.2799 - auc: 0.8849\b\b\b\b\b\b\b\b\b\b\b\b\b\b\b\b\b\b\b\b\b\b\b\b\b\b\b\b\b\b\b\b\b\b\b\b\b\b\b\b\b\b\b\b\b\b\b\b\b\b\b\b\b\b\b\b\b\b\b\b\b\b\b\b\b\b\b\b\b\b\b\b\b\b\b\b\b\b\b\r846\/989 [========================>.....] - ETA: 0s - loss: 0.2803 - auc: 0.8844\b\b\b\b\b\b\b\b\b\b\b\b\b\b\b\b\b\b\b\b\b\b\b\b\b\b\b\b\b\b\b\b\b\b\b\b\b\b\b\b\b\b\b\b\b\b\b\b\b\b\b\b\b\b\b\b\b\b\b\b\b\b\b\b\b\b\b\b\b\b\b\b\b\b\b\b\b\b\b\r879\/989 [=========================>....] - ETA: 0s - loss: 0.2805 - auc: 0.8844\b\b\b\b\b\b\b\b\b\b\b\b\b\b\b\b\b\b\b\b\b\b\b\b\b\b\b\b\b\b\b\b\b\b\b\b\b\b\b\b\b\b\b\b\b\b\b\b\b\b\b\b\b\b\b\b\b\b\b\b\b\b\b\b\b\b\b\b\b\b\b\b\b\b\b\b\b\b\b\r911\/989 [==========================>...] - ETA: 0s - loss: 0.2806 - auc: 0.8840\b\b\b\b\b\b\b\b\b\b\b\b\b\b\b\b\b\b\b\b\b\b\b\b\b\b\b\b\b\b\b\b\b\b\b\b\b\b\b\b\b\b\b\b\b\b\b\b\b\b\b\b\b\b\b\b\b\b\b\b\b\b\b\b\b\b\b\b\b\b\b\b\b\b\b\b\b\b\b\r944\/989 [===========================>..] - ETA: 0s - loss: 0.2804 - auc: 0.8843\b\b\b\b\b\b\b\b\b\b\b\b\b\b\b\b\b\b\b\b\b\b\b\b\b\b\b\b\b\b\b\b\b\b\b\b\b\b\b\b\b\b\b\b\b\b\b\b\b\b\b\b\b\b\b\b\b\b\b\b\b\b\b\b\b\b\b\b\b\b\b\b\b\b\b\b\b\b\b\r975\/989 [============================>.] - ETA: 0s - loss: 0.2807 - auc: 0.8842\b\b\b\b\b\b\b\b\b\b\b\b\b\b\b\b\b\b\b\b\b\b\b\b\b\b\b\b\b\b\b\b\b\b\b\b\b\b\b\b\b\b\b\b\b\b\b\b\b\b\b\b\b\b\b\b\b\b\b\b\b\b\b\b\b\b\b\b\b\b\b\b\b\b\b\b\b\b\b\r989\/989 [==============================] - 2s 2ms\/step - loss: 0.2811 - auc: 0.8841 - val_loss: 0.2805 - val_auc: 0.8868\n",
      "Epoch 9\/15\n",
      "\r  1\/989 [..............................] - ETA: 2s - loss: 0.3647 - auc: 0.7628\b\b\b\b\b\b\b\b\b\b\b\b\b\b\b\b\b\b\b\b\b\b\b\b\b\b\b\b\b\b\b\b\b\b\b\b\b\b\b\b\b\b\b\b\b\b\b\b\b\b\b\b\b\b\b\b\b\b\b\b\b\b\b\b\b\b\b\b\b\b\b\b\b\b\b\b\b\b\b\r 33\/989 [>.............................] - ETA: 1s - loss: 0.2802 - auc: 0.8805\b\b\b\b\b\b\b\b\b\b\b\b\b\b\b\b\b\b\b\b\b\b\b\b\b\b\b\b\b\b\b\b\b\b\b\b\b\b\b\b\b\b\b\b\b\b\b\b\b\b\b\b\b\b\b\b\b\b\b\b\b\b\b\b\b\b\b\b\b\b\b\b\b\b\b\b\b\b\b\r 64\/989 [>.............................] - ETA: 1s - loss: 0.2915 - auc: 0.8671\b\b\b\b\b\b\b\b\b\b\b\b\b\b\b\b\b\b\b\b\b\b\b\b\b\b\b\b\b\b\b\b\b\b\b\b\b\b\b\b\b\b\b\b\b\b\b\b\b\b\b\b\b\b\b\b\b\b\b\b\b\b\b\b\b\b\b\b\b\b\b\b\b\b\b\b\b\b\b\r 96\/989 [=>............................] - ETA: 1s - loss: 0.2860 - auc: 0.8766\b\b\b\b\b\b\b\b\b\b\b\b\b\b\b\b\b\b\b\b\b\b\b\b\b\b\b\b\b\b\b\b\b\b\b\b\b\b\b\b\b\b\b\b\b\b\b\b\b\b\b\b\b\b\b\b\b\b\b\b\b\b\b\b\b\b\b\b\b\b\b\b\b\b\b\b\b\b\b\r127\/989 [==>...........................] - ETA: 1s - loss: 0.2811 - auc: 0.8810\b\b\b\b\b\b\b\b\b\b\b\b\b\b\b\b\b\b\b\b\b\b\b\b\b\b\b\b\b\b\b\b\b\b\b\b\b\b\b\b\b\b\b\b\b\b\b\b\b\b\b\b\b\b\b\b\b\b\b\b\b\b\b\b\b\b\b\b\b\b\b\b\b\b\b\b\b\b\b\r158\/989 [===>..........................] - ETA: 1s - loss: 0.2800 - auc: 0.8844\b\b\b\b\b\b\b\b\b\b\b\b\b\b\b\b\b\b\b\b\b\b\b\b\b\b\b\b\b\b\b\b\b\b\b\b\b\b\b\b\b\b\b\b\b\b\b\b\b\b\b\b\b\b\b\b\b\b\b\b\b\b\b\b\b\b\b\b\b\b\b\b\b\b\b\b\b\b\b\r188\/989 [====>.........................] - ETA: 1s - loss: 0.2800 - auc: 0.8862\b\b\b\b\b\b\b\b\b\b\b\b\b\b\b\b\b\b\b\b\b\b\b\b\b\b\b\b\b\b\b\b\b\b\b\b\b\b\b\b\b\b\b\b\b\b\b\b\b\b\b\b\b\b\b\b\b\b\b\b\b\b\b\b\b\b\b\b\b\b\b\b\b\b\b\b\b\b\b\r220\/989 [=====>........................] - ETA: 1s - loss: 0.2758 - auc: 0.8860\b\b\b\b\b\b\b\b\b\b\b\b\b\b\b\b\b\b\b\b\b\b\b\b\b\b\b\b\b\b\b\b\b\b\b\b\b\b\b\b\b\b\b\b\b\b\b\b\b\b\b\b\b\b\b\b\b\b\b\b\b\b\b\b\b\b\b\b\b\b\b\b\b\b\b\b\b\b\b\r250\/989 [======>.......................] - ETA: 1s - loss: 0.2753 - auc: 0.8863\b\b\b\b\b\b\b\b\b\b\b\b\b\b\b\b\b\b\b\b\b\b\b\b\b\b\b\b\b\b\b\b\b\b\b\b\b\b\b\b\b\b\b\b\b\b\b\b\b\b\b\b\b\b\b\b\b\b\b\b\b\b\b\b\b\b\b\b\b\b\b\b\b\b\b\b\b\b\b\r282\/989 [=======>......................] - ETA: 1s - loss: 0.2749 - auc: 0.8870\b\b\b\b\b\b\b\b\b\b\b\b\b\b\b\b\b\b\b\b\b\b\b\b\b\b\b\b\b\b\b\b\b\b\b\b\b\b\b\b\b\b\b\b\b\b\b\b\b\b\b\b\b\b\b\b\b\b\b\b\b\b\b\b\b\b\b\b\b\b\b\b\b\b\b\b\b\b\b\r312\/989 [========>.....................] - ETA: 1s - loss: 0.2747 - auc: 0.8884\b\b\b\b\b\b\b\b\b\b\b\b\b\b\b\b\b\b\b\b\b\b\b\b\b\b\b\b\b\b\b\b\b\b\b\b\b\b\b\b\b\b\b\b\b\b\b\b\b\b\b\b\b\b\b\b\b\b\b\b\b\b\b\b\b\b\b\b\b\b\b\b\b\b\b\b\b\b\b\r344\/989 [=========>....................] - ETA: 1s - loss: 0.2765 - auc: 0.8903\b\b\b\b\b\b\b\b\b\b\b\b\b\b\b\b\b\b\b\b\b\b\b\b\b\b\b\b\b\b\b\b\b\b\b\b\b\b\b\b\b\b\b\b\b\b\b\b\b\b\b\b\b\b\b\b\b\b\b\b\b\b\b\b\b\b\b\b\b\b\b\b\b\b\b\b\b\b\b\r374\/989 [==========>...................] - ETA: 1s - loss: 0.2746 - auc: 0.8903\b\b\b\b\b\b\b\b\b\b\b\b\b\b\b\b\b\b\b\b\b\b\b\b\b\b\b\b\b\b\b\b\b\b\b\b\b\b\b\b\b\b\b\b\b\b\b\b\b\b\b\b\b\b\b\b\b\b\b\b\b\b\b\b\b\b\b\b\b\b\b\b\b\b\b\b\b\b\b\r407\/989 [===========>..................] - ETA: 0s - loss: 0.2749 - auc: 0.8902\b\b\b\b\b\b\b\b\b\b\b\b\b\b\b\b\b\b\b\b\b\b\b\b\b\b\b\b\b\b\b\b\b\b\b\b\b\b\b\b\b\b\b\b\b\b\b\b\b\b\b\b\b\b\b\b\b\b\b\b\b\b\b\b\b\b\b\b\b\b\b\b\b\b\b\b\b\b\b\r437\/989 [============>.................] - ETA: 0s - loss: 0.2748 - auc: 0.8894\b\b\b\b\b\b\b\b\b\b\b\b\b\b\b\b\b\b\b\b\b\b\b\b\b\b\b\b\b\b\b\b\b\b\b\b\b\b\b\b\b\b\b\b\b\b\b\b\b\b\b\b\b\b\b\b\b\b\b\b\b\b\b\b\b\b\b\b\b\b\b\b\b\b\b\b\b\b\b\r469\/989 [=============>................] - ETA: 0s - loss: 0.2739 - auc: 0.8906\b\b\b\b\b\b\b\b\b\b\b\b\b\b\b\b\b\b\b\b\b\b\b\b\b\b\b\b\b\b\b\b\b\b\b\b\b\b\b\b\b\b\b\b\b\b\b\b\b\b\b\b\b\b\b\b\b\b\b\b\b\b\b\b\b\b\b\b\b\b\b\b\b\b\b\b\b\b\b\r498\/989 [==============>...............] - ETA: 0s - loss: 0.2738 - auc: 0.8904\b\b\b\b\b\b\b\b\b\b\b\b\b\b\b\b\b\b\b\b\b\b\b\b\b\b\b\b\b\b\b\b\b\b\b\b\b\b\b\b\b\b\b\b\b\b\b\b\b\b\b\b\b\b\b\b\b\b\b\b\b\b\b\b\b\b\b\b\b\b\b\b\b\b\b\b\b\b\b\r530\/989 [===============>..............] - ETA: 0s - loss: 0.2756 - auc: 0.8887\b\b\b\b\b\b\b\b\b\b\b\b\b\b\b\b\b\b\b\b\b\b\b\b\b\b\b\b\b\b\b\b\b\b\b\b\b\b\b\b\b\b\b\b\b\b\b\b\b\b\b\b\b\b\b\b\b\b\b\b\b\b\b\b\b\b\b\b\b\b\b\b\b\b\b\b\b\b\b\r559\/989 [===============>..............] - ETA: 0s - loss: 0.2764 - auc: 0.8880\b\b\b\b\b\b\b\b\b\b\b\b\b\b\b\b\b\b\b\b\b\b\b\b\b\b\b\b\b\b\b\b\b\b\b\b\b\b\b\b\b\b\b\b\b\b\b\b\b\b\b\b\b\b\b\b\b\b\b\b\b\b\b\b\b\b\b\b\b\b\b\b\b\b\b\b\b\b\b\r590\/989 [================>.............] - ETA: 0s - loss: 0.2775 - auc: 0.8869\b\b\b\b\b\b\b\b\b\b\b\b\b\b\b\b\b\b\b\b\b\b\b\b\b\b\b\b\b\b\b\b\b\b\b\b\b\b\b\b\b\b\b\b\b\b\b\b\b\b\b\b\b\b\b\b\b\b\b\b\b\b\b\b\b\b\b\b\b\b\b\b\b\b\b\b\b\b\b\r620\/989 [=================>............] - ETA: 0s - loss: 0.2780 - auc: 0.8869\b\b\b\b\b\b\b\b\b\b\b\b\b\b\b\b\b\b\b\b\b\b\b\b\b\b\b\b\b\b\b\b\b\b\b\b\b\b\b\b\b\b\b\b\b\b\b\b\b\b\b\b\b\b\b\b\b\b\b\b\b\b\b\b\b\b\b\b\b\b\b\b\b\b\b\b\b\b\b\r652\/989 [==================>...........] - ETA: 0s - loss: 0.2781 - auc: 0.8875\b\b\b\b\b\b\b\b\b\b\b\b\b\b\b\b\b\b\b\b\b\b\b\b\b\b\b\b\b\b\b\b\b\b\b\b\b\b\b\b\b\b\b\b\b\b\b\b\b\b\b\b\b\b\b\b\b\b\b\b\b\b\b\b\b\b\b\b\b\b\b\b\b\b\b\b\b\b\b\r683\/989 [===================>..........] - ETA: 0s - loss: 0.2789 - auc: 0.8874\b\b\b\b\b\b\b\b\b\b\b\b\b\b\b\b\b\b\b\b\b\b\b\b\b\b\b\b\b\b\b\b\b\b\b\b\b\b\b\b\b\b\b\b\b\b\b\b\b\b\b\b\b\b\b\b\b\b\b\b\b\b\b\b\b\b\b\b\b\b\b\b\b\b\b\b\b\b\b\r714\/989 [====================>.........] - ETA: 0s - loss: 0.2793 - auc: 0.8868\b\b\b\b\b\b\b\b\b\b\b\b\b\b\b\b\b\b\b\b\b\b\b\b\b\b\b\b\b\b\b\b\b\b\b\b\b\b\b\b\b\b\b\b\b\b\b\b\b\b\b\b\b\b\b\b\b\b\b\b\b\b\b\b\b\b\b\b\b\b\b\b\b\b\b\b\b\b\b\r743\/989 [=====================>........] - ETA: 0s - loss: 0.2787 - auc: 0.8871\b\b\b\b\b\b\b\b\b\b\b\b\b\b\b\b\b\b\b\b\b\b\b\b\b\b\b\b\b\b\b\b\b\b\b\b\b\b\b\b\b\b\b\b\b\b\b\b\b\b\b\b\b\b\b\b\b\b\b\b\b\b\b\b\b\b\b\b\b\b\b\b\b\b\b\b\b\b\b\r775\/989 [======================>.......] - ETA: 0s - loss: 0.2781 - auc: 0.8878\b\b\b\b\b\b\b\b\b\b\b\b\b\b\b\b\b\b\b\b\b\b\b\b\b\b\b\b\b\b\b\b\b\b\b\b\b\b\b\b\b\b\b\b\b\b\b\b\b\b\b\b\b\b\b\b\b\b\b\b\b\b\b\b\b\b\b\b\b\b\b\b\b\b\b\b\b\b\b\r806\/989 [=======================>......] - ETA: 0s - loss: 0.2787 - auc: 0.8872\b\b\b\b\b\b\b\b\b\b\b\b\b\b\b\b\b\b\b\b\b\b\b\b\b\b\b\b\b\b\b\b\b\b\b\b\b\b\b\b\b\b\b\b\b\b\b\b\b\b\b\b\b\b\b\b\b\b\b\b\b\b\b\b\b\b\b\b\b\b\b\b\b\b\b\b\b\b\b\r836\/989 [========================>.....] - ETA: 0s - loss: 0.2785 - auc: 0.8875\b\b\b\b\b\b\b\b\b\b\b\b\b\b\b\b\b\b\b\b\b\b\b\b\b\b\b\b\b\b\b\b\b\b\b\b\b\b\b\b\b\b\b\b\b\b\b\b\b\b\b\b\b\b\b\b\b\b\b\b\b\b\b\b\b\b\b\b\b\b\b\b\b\b\b\b\b\b\b\r866\/989 [=========================>....] - ETA: 0s - loss: 0.2782 - auc: 0.8875\b\b\b\b\b\b\b\b\b\b\b\b\b\b\b\b\b\b\b\b\b\b\b\b\b\b\b\b\b\b\b\b\b\b\b\b\b\b\b\b\b\b\b\b\b\b\b\b\b\b\b\b\b\b\b\b\b\b\b\b\b\b\b\b\b\b\b\b\b\b\b\b\b\b\b\b\b\b\b\r899\/989 [==========================>...] - ETA: 0s - loss: 0.2777 - auc: 0.8879\b\b\b\b\b\b\b\b\b\b\b\b\b\b\b\b\b\b\b\b\b\b\b\b\b\b\b\b\b\b\b\b\b\b\b\b\b\b\b\b\b\b\b\b\b\b\b\b\b\b\b\b\b\b\b\b\b\b\b\b\b\b\b\b\b\b\b\b\b\b\b\b\b\b\b\b\b\b\b\r925\/989 [===========================>..] - ETA: 0s - loss: 0.2788 - auc: 0.8871\b\b\b\b\b\b\b\b\b\b\b\b\b\b\b\b\b\b\b\b\b\b\b\b\b\b\b\b\b\b\b\b\b\b\b\b\b\b\b\b\b\b\b\b\b\b\b\b\b\b\b\b\b\b\b\b\b\b\b\b\b\b\b\b\b\b\b\b\b\b\b\b\b\b\b\b\b\b\b\r957\/989 [============================>.] - ETA: 0s - loss: 0.2786 - auc: 0.8867\b\b\b\b\b\b\b\b\b\b\b\b\b\b\b\b\b\b\b\b\b\b\b\b\b\b\b\b\b\b\b\b\b\b\b\b\b\b\b\b\b\b\b\b\b\b\b\b\b\b\b\b\b\b\b\b\b\b\b\b\b\b\b\b\b\b\b\b\b\b\b\b\b\b\b\b\b\b\b\r987\/989 [============================>.] - ETA: 0s - loss: 0.2784 - auc: 0.8865\b\b\b\b\b\b\b\b\b\b\b\b\b\b\b\b\b\b\b\b\b\b\b\b\b\b\b\b\b\b\b\b\b\b\b\b\b\b\b\b\b\b\b\b\b\b\b\b\b\b\b\b\b\b\b\b\b\b\b\b\b\b\b\b\b\b\b\b\b\b\b\b\b\b\b\b\b\b\b\r989\/989 [==============================] - 2s 2ms\/step - loss: 0.2785 - auc: 0.8864 - val_loss: 0.2795 - val_auc: 0.8888\n",
      "Epoch 10\/15\n",
      "\r  1\/989 [..............................] - ETA: 2s - loss: 0.3521 - auc: 0.8955\b\b\b\b\b\b\b\b\b\b\b\b\b\b\b\b\b\b\b\b\b\b\b\b\b\b\b\b\b\b\b\b\b\b\b\b\b\b\b\b\b\b\b\b\b\b\b\b\b\b\b\b\b\b\b\b\b\b\b\b\b\b\b\b\b\b\b\b\b\b\b\b\b\b\b\b\b\b\b\r 34\/989 [>.............................] - ETA: 1s - loss: 0.2930 - auc: 0.8848\b\b\b\b\b\b\b\b\b\b\b\b\b\b\b\b\b\b\b\b\b\b\b\b\b\b\b\b\b\b\b\b\b\b\b\b\b\b\b\b\b\b\b\b\b\b\b\b\b\b\b\b\b\b\b\b\b\b\b\b\b\b\b\b\b\b\b\b\b\b\b\b\b\b\b\b\b\b\b\r 64\/989 [>.............................] - ETA: 1s - loss: 0.2863 - auc: 0.8904\b\b\b\b\b\b\b\b\b\b\b\b\b\b\b\b\b\b\b\b\b\b\b\b\b\b\b\b\b\b\b\b\b\b\b\b\b\b\b\b\b\b\b\b\b\b\b\b\b\b\b\b\b\b\b\b\b\b\b\b\b\b\b\b\b\b\b\b\b\b\b\b\b\b\b\b\b\b\b\r 96\/989 [=>............................] - ETA: 1s - loss: 0.2824 - auc: 0.8898\b\b\b\b\b\b\b\b\b\b\b\b\b\b\b\b\b\b\b\b\b\b\b\b\b\b\b\b\b\b\b\b\b\b\b\b\b\b\b\b\b\b\b\b\b\b\b\b\b\b\b\b\b\b\b\b\b\b\b\b\b\b\b\b\b\b\b\b\b\b\b\b\b\b\b\b\b\b\b\r126\/989 [==>...........................] - ETA: 1s - loss: 0.2829 - auc: 0.8907\b\b\b\b\b\b\b\b\b\b\b\b\b\b\b\b\b\b\b\b\b\b\b\b\b\b\b\b\b\b\b\b\b\b\b\b\b\b\b\b\b\b\b\b\b\b\b\b\b\b\b\b\b\b\b\b\b\b\b\b\b\b\b\b\b\b\b\b\b\b\b\b\b\b\b\b\b\b\b\r160\/989 [===>..........................] - ETA: 1s - loss: 0.2812 - auc: 0.8896\b\b\b\b\b\b\b\b\b\b\b\b\b\b\b\b\b\b\b\b\b\b\b\b\b\b\b\b\b\b\b\b\b\b\b\b\b\b\b\b\b\b\b\b\b\b\b\b\b\b\b\b\b\b\b\b\b\b\b\b\b\b\b\b\b\b\b\b\b\b\b\b\b\b\b\b\b\b\b\r191\/989 [====>.........................] - ETA: 1s - loss: 0.2738 - auc: 0.8927\b\b\b\b\b\b\b\b\b\b\b\b\b\b\b\b\b\b\b\b\b\b\b\b\b\b\b\b\b\b\b\b\b\b\b\b\b\b\b\b\b\b\b\b\b\b\b\b\b\b\b\b\b\b\b\b\b\b\b\b\b\b\b\b\b\b\b\b\b\b\b\b\b\b\b\b\b\b\b\r224\/989 [=====>........................] - ETA: 1s - loss: 0.2786 - auc: 0.8891\b\b\b\b\b\b\b\b\b\b\b\b\b\b\b\b\b\b\b\b\b\b\b\b\b\b\b\b\b\b\b\b\b\b\b\b\b\b\b\b\b\b\b\b\b\b\b\b\b\b\b\b\b\b\b\b\b\b\b\b\b\b\b\b\b\b\b\b\b\b\b\b\b\b\b\b\b\b\b\r255\/989 [======>.......................] - ETA: 1s - loss: 0.2807 - auc: 0.8883\b\b\b\b\b\b\b\b\b\b\b\b\b\b\b\b\b\b\b\b\b\b\b\b\b\b\b\b\b\b\b\b\b\b\b\b\b\b\b\b\b\b\b\b\b\b\b\b\b\b\b\b\b\b\b\b\b\b\b\b\b\b\b\b\b\b\b\b\b\b\b\b\b\b\b\b\b\b\b\r288\/989 [=======>......................] - ETA: 1s - loss: 0.2850 - auc: 0.8856\b\b\b\b\b\b\b\b\b\b\b\b\b\b\b\b\b\b\b\b\b\b\b\b\b\b\b\b\b\b\b\b\b\b\b\b\b\b\b\b\b\b\b\b\b\b\b\b\b\b\b\b\b\b\b\b\b\b\b\b\b\b\b\b\b\b\b\b\b\b\b\b\b\b\b\b\b\b\b\r318\/989 [========>.....................] - ETA: 1s - loss: 0.2862 - auc: 0.8835\b\b\b\b\b\b\b\b\b\b\b\b\b\b\b\b\b\b\b\b\b\b\b\b\b\b\b\b\b\b\b\b\b\b\b\b\b\b\b\b\b\b\b\b\b\b\b\b\b\b\b\b\b\b\b\b\b\b\b\b\b\b\b\b\b\b\b\b\b\b\b\b\b\b\b\b\b\b\b\r350\/989 [=========>....................] - ETA: 1s - loss: 0.2853 - auc: 0.8835\b\b\b\b\b\b\b\b\b\b\b\b\b\b\b\b\b\b\b\b\b\b\b\b\b\b\b\b\b\b\b\b\b\b\b\b\b\b\b\b\b\b\b\b\b\b\b\b\b\b\b\b\b\b\b\b\b\b\b\b\b\b\b\b\b\b\b\b\b\b\b\b\b\b\b\b\b\b\b\r379\/989 [==========>...................] - ETA: 0s - loss: 0.2846 - auc: 0.8842\b\b\b\b\b\b\b\b\b\b\b\b\b\b\b\b\b\b\b\b\b\b\b\b\b\b\b\b\b\b\b\b\b\b\b\b\b\b\b\b\b\b\b\b\b\b\b\b\b\b\b\b\b\b\b\b\b\b\b\b\b\b\b\b\b\b\b\b\b\b\b\b\b\b\b\b\b\b\b\r411\/989 [===========>..................] - ETA: 0s - loss: 0.2852 - auc: 0.8829\b\b\b\b\b\b\b\b\b\b\b\b\b\b\b\b\b\b\b\b\b\b\b\b\b\b\b\b\b\b\b\b\b\b\b\b\b\b\b\b\b\b\b\b\b\b\b\b\b\b\b\b\b\b\b\b\b\b\b\b\b\b\b\b\b\b\b\b\b\b\b\b\b\b\b\b\b\b\b\r443\/989 [============>.................] - ETA: 0s - loss: 0.2860 - auc: 0.8828\b\b\b\b\b\b\b\b\b\b\b\b\b\b\b\b\b\b\b\b\b\b\b\b\b\b\b\b\b\b\b\b\b\b\b\b\b\b\b\b\b\b\b\b\b\b\b\b\b\b\b\b\b\b\b\b\b\b\b\b\b\b\b\b\b\b\b\b\b\b\b\b\b\b\b\b\b\b\b\r476\/989 [=============>................] - ETA: 0s - loss: 0.2848 - auc: 0.8842\b\b\b\b\b\b\b\b\b\b\b\b\b\b\b\b\b\b\b\b\b\b\b\b\b\b\b\b\b\b\b\b\b\b\b\b\b\b\b\b\b\b\b\b\b\b\b\b\b\b\b\b\b\b\b\b\b\b\b\b\b\b\b\b\b\b\b\b\b\b\b\b\b\b\b\b\b\b\b\r506\/989 [==============>...............] - ETA: 0s - loss: 0.2841 - auc: 0.8836\b\b\b\b\b\b\b\b\b\b\b\b\b\b\b\b\b\b\b\b\b\b\b\b\b\b\b\b\b\b\b\b\b\b\b\b\b\b\b\b\b\b\b\b\b\b\b\b\b\b\b\b\b\b\b\b\b\b\b\b\b\b\b\b\b\b\b\b\b\b\b\b\b\b\b\b\b\b\b\r538\/989 [===============>..............] - ETA: 0s - loss: 0.2828 - auc: 0.8851\b\b\b\b\b\b\b\b\b\b\b\b\b\b\b\b\b\b\b\b\b\b\b\b\b\b\b\b\b\b\b\b\b\b\b\b\b\b\b\b\b\b\b\b\b\b\b\b\b\b\b\b\b\b\b\b\b\b\b\b\b\b\b\b\b\b\b\b\b\b\b\b\b\b\b\b\b\b\b\r570\/989 [================>.............] - ETA: 0s - loss: 0.2813 - auc: 0.8856\b\b\b\b\b\b\b\b\b\b\b\b\b\b\b\b\b\b\b\b\b\b\b\b\b\b\b\b\b\b\b\b\b\b\b\b\b\b\b\b\b\b\b\b\b\b\b\b\b\b\b\b\b\b\b\b\b\b\b\b\b\b\b\b\b\b\b\b\b\b\b\b\b\b\b\b\b\b\b\r603\/989 [=================>............] - ETA: 0s - loss: 0.2805 - auc: 0.8858\b\b\b\b\b\b\b\b\b\b\b\b\b\b\b\b\b\b\b\b\b\b\b\b\b\b\b\b\b\b\b\b\b\b\b\b\b\b\b\b\b\b\b\b\b\b\b\b\b\b\b\b\b\b\b\b\b\b\b\b\b\b\b\b\b\b\b\b\b\b\b\b\b\b\b\b\b\b\b\r634\/989 [==================>...........] - ETA: 0s - loss: 0.2805 - auc: 0.8855\b\b\b\b\b\b\b\b\b\b\b\b\b\b\b\b\b\b\b\b\b\b\b\b\b\b\b\b\b\b\b\b\b\b\b\b\b\b\b\b\b\b\b\b\b\b\b\b\b\b\b\b\b\b\b\b\b\b\b\b\b\b\b\b\b\b\b\b\b\b\b\b\b\b\b\b\b\b\b\r667\/989 [===================>..........] - ETA: 0s - loss: 0.2803 - auc: 0.8865\b\b\b\b\b\b\b\b\b\b\b\b\b\b\b\b\b\b\b\b\b\b\b\b\b\b\b\b\b\b\b\b\b\b\b\b\b\b\b\b\b\b\b\b\b\b\b\b\b\b\b\b\b\b\b\b\b\b\b\b\b\b\b\b\b\b\b\b\b\b\b\b\b\b\b\b\b\b\b\r698\/989 [====================>.........] - ETA: 0s - loss: 0.2800 - auc: 0.8868\b\b\b\b\b\b\b\b\b\b\b\b\b\b\b\b\b\b\b\b\b\b\b\b\b\b\b\b\b\b\b\b\b\b\b\b\b\b\b\b\b\b\b\b\b\b\b\b\b\b\b\b\b\b\b\b\b\b\b\b\b\b\b\b\b\b\b\b\b\b\b\b\b\b\b\b\b\b\b\r731\/989 [=====================>........] - ETA: 0s - loss: 0.2798 - auc: 0.8869\b\b\b\b\b\b\b\b\b\b\b\b\b\b\b\b\b\b\b\b\b\b\b\b\b\b\b\b\b\b\b\b\b\b\b\b\b\b\b\b\b\b\b\b\b\b\b\b\b\b\b\b\b\b\b\b\b\b\b\b\b\b\b\b\b\b\b\b\b\b\b\b\b\b\b\b\b\b\b\r760\/989 [======================>.......] - ETA: 0s - loss: 0.2814 - auc: 0.8860\b\b\b\b\b\b\b\b\b\b\b\b\b\b\b\b\b\b\b\b\b\b\b\b\b\b\b\b\b\b\b\b\b\b\b\b\b\b\b\b\b\b\b\b\b\b\b\b\b\b\b\b\b\b\b\b\b\b\b\b\b\b\b\b\b\b\b\b\b\b\b\b\b\b\b\b\b\b\b\r792\/989 [=======================>......] - ETA: 0s - loss: 0.2805 - auc: 0.8866\b\b\b\b\b\b\b\b\b\b\b\b\b\b\b\b\b\b\b\b\b\b\b\b\b\b\b\b\b\b\b\b\b\b\b\b\b\b\b\b\b\b\b\b\b\b\b\b\b\b\b\b\b\b\b\b\b\b\b\b\b\b\b\b\b\b\b\b\b\b\b\b\b\b\b\b\b\b\b\r822\/989 [=======================>......] - ETA: 0s - loss: 0.2793 - auc: 0.8874\b\b\b\b\b\b\b\b\b\b\b\b\b\b\b\b\b\b\b\b\b\b\b\b\b\b\b\b\b\b\b\b\b\b\b\b\b\b\b\b\b\b\b\b\b\b\b\b\b\b\b\b\b\b\b\b\b\b\b\b\b\b\b\b\b\b\b\b\b\b\b\b\b\b\b\b\b\b\b\r853\/989 [========================>.....] - ETA: 0s - loss: 0.2792 - auc: 0.8872\b\b\b\b\b\b\b\b\b\b\b\b\b\b\b\b\b\b\b\b\b\b\b\b\b\b\b\b\b\b\b\b\b\b\b\b\b\b\b\b\b\b\b\b\b\b\b\b\b\b\b\b\b\b\b\b\b\b\b\b\b\b\b\b\b\b\b\b\b\b\b\b\b\b\b\b\b\b\b\r882\/989 [=========================>....] - ETA: 0s - loss: 0.2797 - auc: 0.8870\b\b\b\b\b\b\b\b\b\b\b\b\b\b\b\b\b\b\b\b\b\b\b\b\b\b\b\b\b\b\b\b\b\b\b\b\b\b\b\b\b\b\b\b\b\b\b\b\b\b\b\b\b\b\b\b\b\b\b\b\b\b\b\b\b\b\b\b\b\b\b\b\b\b\b\b\b\b\b\r915\/989 [==========================>...] - ETA: 0s - loss: 0.2794 - auc: 0.8865\b\b\b\b\b\b\b\b\b\b\b\b\b\b\b\b\b\b\b\b\b\b\b\b\b\b\b\b\b\b\b\b\b\b\b\b\b\b\b\b\b\b\b\b\b\b\b\b\b\b\b\b\b\b\b\b\b\b\b\b\b\b\b\b\b\b\b\b\b\b\b\b\b\b\b\b\b\b\b\r946\/989 [===========================>..] - ETA: 0s - loss: 0.2796 - auc: 0.8864\b\b\b\b\b\b\b\b\b\b\b\b\b\b\b\b\b\b\b\b\b\b\b\b\b\b\b\b\b\b\b\b\b\b\b\b\b\b\b\b\b\b\b\b\b\b\b\b\b\b\b\b\b\b\b\b\b\b\b\b\b\b\b\b\b\b\b\b\b\b\b\b\b\b\b\b\b\b\b\r977\/989 [============================>.] - ETA: 0s - loss: 0.2801 - auc: 0.8862\b\b\b\b\b\b\b\b\b\b\b\b\b\b\b\b\b\b\b\b\b\b\b\b\b\b\b\b\b\b\b\b\b\b\b\b\b\b\b\b\b\b\b\b\b\b\b\b\b\b\b\b\b\b\b\b\b\b\b\b\b\b\b\b\b\b\b\b\b\b\b\b\b\b\b\b\b\b\b\r989\/989 [==============================] - 2s 2ms\/step - loss: 0.2805 - auc: 0.8860 - val_loss: 0.2773 - val_auc: 0.8915\n",
      "Epoch 11\/15\n",
      "\r  1\/989 [..............................] - ETA: 2s - loss: 0.2294 - auc: 0.8857\b\b\b\b\b\b\b\b\b\b\b\b\b\b\b\b\b\b\b\b\b\b\b\b\b\b\b\b\b\b\b\b\b\b\b\b\b\b\b\b\b\b\b\b\b\b\b\b\b\b\b\b\b\b\b\b\b\b\b\b\b\b\b\b\b\b\b\b\b\b\b\b\b\b\b\b\b\b\b\r 32\/989 [..............................] - ETA: 1s - loss: 0.2756 - auc: 0.8898\b\b\b\b\b\b\b\b\b\b\b\b\b\b\b\b\b\b\b\b\b\b\b\b\b\b\b\b\b\b\b\b\b\b\b\b\b\b\b\b\b\b\b\b\b\b\b\b\b\b\b\b\b\b\b\b\b\b\b\b\b\b\b\b\b\b\b\b\b\b\b\b\b\b\b\b\b\b\b\r 64\/989 [>.............................] - ETA: 1s - loss: 0.2762 - auc: 0.8911\b\b\b\b\b\b\b\b\b\b\b\b\b\b\b\b\b\b\b\b\b\b\b\b\b\b\b\b\b\b\b\b\b\b\b\b\b\b\b\b\b\b\b\b\b\b\b\b\b\b\b\b\b\b\b\b\b\b\b\b\b\b\b\b\b\b\b\b\b\b\b\b\b\b\b\b\b\b\b\r 94\/989 [=>............................] - ETA: 1s - loss: 0.2658 - auc: 0.8937\b\b\b\b\b\b\b\b\b\b\b\b\b\b\b\b\b\b\b\b\b\b\b\b\b\b\b\b\b\b\b\b\b\b\b\b\b\b\b\b\b\b\b\b\b\b\b\b\b\b\b\b\b\b\b\b\b\b\b\b\b\b\b\b\b\b\b\b\b\b\b\b\b\b\b\b\b\b\b\r125\/989 [==>...........................] - ETA: 1s - loss: 0.2663 - auc: 0.8897\b\b\b\b\b\b\b\b\b\b\b\b\b\b\b\b\b\b\b\b\b\b\b\b\b\b\b\b\b\b\b\b\b\b\b\b\b\b\b\b\b\b\b\b\b\b\b\b\b\b\b\b\b\b\b\b\b\b\b\b\b\b\b\b\b\b\b\b\b\b\b\b\b\b\b\b\b\b\b\r152\/989 [===>..........................] - ETA: 1s - loss: 0.2629 - auc: 0.8938\b\b\b\b\b\b\b\b\b\b\b\b\b\b\b\b\b\b\b\b\b\b\b\b\b\b\b\b\b\b\b\b\b\b\b\b\b\b\b\b\b\b\b\b\b\b\b\b\b\b\b\b\b\b\b\b\b\b\b\b\b\b\b\b\b\b\b\b\b\b\b\b\b\b\b\b\b\b\b\r184\/989 [====>.........................] - ETA: 1s - loss: 0.2682 - auc: 0.8897\b\b\b\b\b\b\b\b\b\b\b\b\b\b\b\b\b\b\b\b\b\b\b\b\b\b\b\b\b\b\b\b\b\b\b\b\b\b\b\b\b\b\b\b\b\b\b\b\b\b\b\b\b\b\b\b\b\b\b\b\b\b\b\b\b\b\b\b\b\b\b\b\b\b\b\b\b\b\b\r212\/989 [=====>........................] - ETA: 1s - loss: 0.2711 - auc: 0.8902\b\b\b\b\b\b\b\b\b\b\b\b\b\b\b\b\b\b\b\b\b\b\b\b\b\b\b\b\b\b\b\b\b\b\b\b\b\b\b\b\b\b\b\b\b\b\b\b\b\b\b\b\b\b\b\b\b\b\b\b\b\b\b\b\b\b\b\b\b\b\b\b\b\b\b\b\b\b\b\r244\/989 [======>.......................] - ETA: 1s - loss: 0.2711 - auc: 0.8917\b\b\b\b\b\b\b\b\b\b\b\b\b\b\b\b\b\b\b\b\b\b\b\b\b\b\b\b\b\b\b\b\b\b\b\b\b\b\b\b\b\b\b\b\b\b\b\b\b\b\b\b\b\b\b\b\b\b\b\b\b\b\b\b\b\b\b\b\b\b\b\b\b\b\b\b\b\b\b\r273\/989 [=======>......................] - ETA: 1s - loss: 0.2676 - auc: 0.8927\b\b\b\b\b\b\b\b\b\b\b\b\b\b\b\b\b\b\b\b\b\b\b\b\b\b\b\b\b\b\b\b\b\b\b\b\b\b\b\b\b\b\b\b\b\b\b\b\b\b\b\b\b\b\b\b\b\b\b\b\b\b\b\b\b\b\b\b\b\b\b\b\b\b\b\b\b\b\b\r305\/989 [========>.....................] - ETA: 1s - loss: 0.2719 - auc: 0.8905\b\b\b\b\b\b\b\b\b\b\b\b\b\b\b\b\b\b\b\b\b\b\b\b\b\b\b\b\b\b\b\b\b\b\b\b\b\b\b\b\b\b\b\b\b\b\b\b\b\b\b\b\b\b\b\b\b\b\b\b\b\b\b\b\b\b\b\b\b\b\b\b\b\b\b\b\b\b\b\r337\/989 [=========>....................] - ETA: 1s - loss: 0.2736 - auc: 0.8891\b\b\b\b\b\b\b\b\b\b\b\b\b\b\b\b\b\b\b\b\b\b\b\b\b\b\b\b\b\b\b\b\b\b\b\b\b\b\b\b\b\b\b\b\b\b\b\b\b\b\b\b\b\b\b\b\b\b\b\b\b\b\b\b\b\b\b\b\b\b\b\b\b\b\b\b\b\b\b\r369\/989 [==========>...................] - ETA: 1s - loss: 0.2728 - auc: 0.8899\b\b\b\b\b\b\b\b\b\b\b\b\b\b\b\b\b\b\b\b\b\b\b\b\b\b\b\b\b\b\b\b\b\b\b\b\b\b\b\b\b\b\b\b\b\b\b\b\b\b\b\b\b\b\b\b\b\b\b\b\b\b\b\b\b\b\b\b\b\b\b\b\b\b\b\b\b\b\b\r399\/989 [===========>..................] - ETA: 0s - loss: 0.2726 - auc: 0.8897\b\b\b\b\b\b\b\b\b\b\b\b\b\b\b\b\b\b\b\b\b\b\b\b\b\b\b\b\b\b\b\b\b\b\b\b\b\b\b\b\b\b\b\b\b\b\b\b\b\b\b\b\b\b\b\b\b\b\b\b\b\b\b\b\b\b\b\b\b\b\b\b\b\b\b\b\b\b\b\r431\/989 [============>.................] - ETA: 0s - loss: 0.2723 - auc: 0.8903\b\b\b\b\b\b\b\b\b\b\b\b\b\b\b\b\b\b\b\b\b\b\b\b\b\b\b\b\b\b\b\b\b\b\b\b\b\b\b\b\b\b\b\b\b\b\b\b\b\b\b\b\b\b\b\b\b\b\b\b\b\b\b\b\b\b\b\b\b\b\b\b\b\b\b\b\b\b\b\r461\/989 [============>.................] - ETA: 0s - loss: 0.2721 - auc: 0.8901\b\b\b\b\b\b\b\b\b\b\b\b\b\b\b\b\b\b\b\b\b\b\b\b\b\b\b\b\b\b\b\b\b\b\b\b\b\b\b\b\b\b\b\b\b\b\b\b\b\b\b\b\b\b\b\b\b\b\b\b\b\b\b\b\b\b\b\b\b\b\b\b\b\b\b\b\b\b\b\r493\/989 [=============>................] - ETA: 0s - loss: 0.2729 - auc: 0.8910\b\b\b\b\b\b\b\b\b\b\b\b\b\b\b\b\b\b\b\b\b\b\b\b\b\b\b\b\b\b\b\b\b\b\b\b\b\b\b\b\b\b\b\b\b\b\b\b\b\b\b\b\b\b\b\b\b\b\b\b\b\b\b\b\b\b\b\b\b\b\b\b\b\b\b\b\b\b\b\r522\/989 [==============>...............] - ETA: 0s - loss: 0.2740 - auc: 0.8901\b\b\b\b\b\b\b\b\b\b\b\b\b\b\b\b\b\b\b\b\b\b\b\b\b\b\b\b\b\b\b\b\b\b\b\b\b\b\b\b\b\b\b\b\b\b\b\b\b\b\b\b\b\b\b\b\b\b\b\b\b\b\b\b\b\b\b\b\b\b\b\b\b\b\b\b\b\b\b\r554\/989 [===============>..............] - ETA: 0s - loss: 0.2745 - auc: 0.8887\b\b\b\b\b\b\b\b\b\b\b\b\b\b\b\b\b\b\b\b\b\b\b\b\b\b\b\b\b\b\b\b\b\b\b\b\b\b\b\b\b\b\b\b\b\b\b\b\b\b\b\b\b\b\b\b\b\b\b\b\b\b\b\b\b\b\b\b\b\b\b\b\b\b\b\b\b\b\b\r583\/989 [================>.............] - ETA: 0s - loss: 0.2759 - auc: 0.8874\b\b\b\b\b\b\b\b\b\b\b\b\b\b\b\b\b\b\b\b\b\b\b\b\b\b\b\b\b\b\b\b\b\b\b\b\b\b\b\b\b\b\b\b\b\b\b\b\b\b\b\b\b\b\b\b\b\b\b\b\b\b\b\b\b\b\b\b\b\b\b\b\b\b\b\b\b\b\b\r615\/989 [=================>............] - ETA: 0s - loss: 0.2761 - auc: 0.8879\b\b\b\b\b\b\b\b\b\b\b\b\b\b\b\b\b\b\b\b\b\b\b\b\b\b\b\b\b\b\b\b\b\b\b\b\b\b\b\b\b\b\b\b\b\b\b\b\b\b\b\b\b\b\b\b\b\b\b\b\b\b\b\b\b\b\b\b\b\b\b\b\b\b\b\b\b\b\b\r644\/989 [==================>...........] - ETA: 0s - loss: 0.2761 - auc: 0.8880\b\b\b\b\b\b\b\b\b\b\b\b\b\b\b\b\b\b\b\b\b\b\b\b\b\b\b\b\b\b\b\b\b\b\b\b\b\b\b\b\b\b\b\b\b\b\b\b\b\b\b\b\b\b\b\b\b\b\b\b\b\b\b\b\b\b\b\b\b\b\b\b\b\b\b\b\b\b\b\r675\/989 [===================>..........] - ETA: 0s - loss: 0.2758 - auc: 0.8884\b\b\b\b\b\b\b\b\b\b\b\b\b\b\b\b\b\b\b\b\b\b\b\b\b\b\b\b\b\b\b\b\b\b\b\b\b\b\b\b\b\b\b\b\b\b\b\b\b\b\b\b\b\b\b\b\b\b\b\b\b\b\b\b\b\b\b\b\b\b\b\b\b\b\b\b\b\b\b\r705\/989 [====================>.........] - ETA: 0s - loss: 0.2750 - auc: 0.8893\b\b\b\b\b\b\b\b\b\b\b\b\b\b\b\b\b\b\b\b\b\b\b\b\b\b\b\b\b\b\b\b\b\b\b\b\b\b\b\b\b\b\b\b\b\b\b\b\b\b\b\b\b\b\b\b\b\b\b\b\b\b\b\b\b\b\b\b\b\b\b\b\b\b\b\b\b\b\b\r736\/989 [=====================>........] - ETA: 0s - loss: 0.2748 - auc: 0.8891\b\b\b\b\b\b\b\b\b\b\b\b\b\b\b\b\b\b\b\b\b\b\b\b\b\b\b\b\b\b\b\b\b\b\b\b\b\b\b\b\b\b\b\b\b\b\b\b\b\b\b\b\b\b\b\b\b\b\b\b\b\b\b\b\b\b\b\b\b\b\b\b\b\b\b\b\b\b\b\r766\/989 [======================>.......] - ETA: 0s - loss: 0.2755 - auc: 0.8890\b\b\b\b\b\b\b\b\b\b\b\b\b\b\b\b\b\b\b\b\b\b\b\b\b\b\b\b\b\b\b\b\b\b\b\b\b\b\b\b\b\b\b\b\b\b\b\b\b\b\b\b\b\b\b\b\b\b\b\b\b\b\b\b\b\b\b\b\b\b\b\b\b\b\b\b\b\b\b\r794\/989 [=======================>......] - ETA: 0s - loss: 0.2771 - auc: 0.8881\b\b\b\b\b\b\b\b\b\b\b\b\b\b\b\b\b\b\b\b\b\b\b\b\b\b\b\b\b\b\b\b\b\b\b\b\b\b\b\b\b\b\b\b\b\b\b\b\b\b\b\b\b\b\b\b\b\b\b\b\b\b\b\b\b\b\b\b\b\b\b\b\b\b\b\b\b\b\b\r823\/989 [=======================>......] - ETA: 0s - loss: 0.2770 - auc: 0.8888\b\b\b\b\b\b\b\b\b\b\b\b\b\b\b\b\b\b\b\b\b\b\b\b\b\b\b\b\b\b\b\b\b\b\b\b\b\b\b\b\b\b\b\b\b\b\b\b\b\b\b\b\b\b\b\b\b\b\b\b\b\b\b\b\b\b\b\b\b\b\b\b\b\b\b\b\b\b\b\r856\/989 [========================>.....] - ETA: 0s - loss: 0.2779 - auc: 0.8885\b\b\b\b\b\b\b\b\b\b\b\b\b\b\b\b\b\b\b\b\b\b\b\b\b\b\b\b\b\b\b\b\b\b\b\b\b\b\b\b\b\b\b\b\b\b\b\b\b\b\b\b\b\b\b\b\b\b\b\b\b\b\b\b\b\b\b\b\b\b\b\b\b\b\b\b\b\b\b\r888\/989 [=========================>....] - ETA: 0s - loss: 0.2787 - auc: 0.8881\b\b\b\b\b\b\b\b\b\b\b\b\b\b\b\b\b\b\b\b\b\b\b\b\b\b\b\b\b\b\b\b\b\b\b\b\b\b\b\b\b\b\b\b\b\b\b\b\b\b\b\b\b\b\b\b\b\b\b\b\b\b\b\b\b\b\b\b\b\b\b\b\b\b\b\b\b\b\b\r920\/989 [==========================>...] - ETA: 0s - loss: 0.2792 - auc: 0.8880\b\b\b\b\b\b\b\b\b\b\b\b\b\b\b\b\b\b\b\b\b\b\b\b\b\b\b\b\b\b\b\b\b\b\b\b\b\b\b\b\b\b\b\b\b\b\b\b\b\b\b\b\b\b\b\b\b\b\b\b\b\b\b\b\b\b\b\b\b\b\b\b\b\b\b\b\b\b\b\r952\/989 [===========================>..] - ETA: 0s - loss: 0.2795 - auc: 0.8876\b\b\b\b\b\b\b\b\b\b\b\b\b\b\b\b\b\b\b\b\b\b\b\b\b\b\b\b\b\b\b\b\b\b\b\b\b\b\b\b\b\b\b\b\b\b\b\b\b\b\b\b\b\b\b\b\b\b\b\b\b\b\b\b\b\b\b\b\b\b\b\b\b\b\b\b\b\b\b\r984\/989 [============================>.] - ETA: 0s - loss: 0.2792 - auc: 0.8875\b\b\b\b\b\b\b\b\b\b\b\b\b\b\b\b\b\b\b\b\b\b\b\b\b\b\b\b\b\b\b\b\b\b\b\b\b\b\b\b\b\b\b\b\b\b\b\b\b\b\b\b\b\b\b\b\b\b\b\b\b\b\b\b\b\b\b\b\b\b\b\b\b\b\b\b\b\b\b\r989\/989 [==============================] - 2s 2ms\/step - loss: 0.2790 - auc: 0.8874 - val_loss: 0.2791 - val_auc: 0.8896\n",
      "Epoch 12\/15\n",
      "\r  1\/989 [..............................] - ETA: 2s - loss: 0.2167 - auc: 0.8571\b\b\b\b\b\b\b\b\b\b\b\b\b\b\b\b\b\b\b\b\b\b\b\b\b\b\b\b\b\b\b\b\b\b\b\b\b\b\b\b\b\b\b\b\b\b\b\b\b\b\b\b\b\b\b\b\b\b\b\b\b\b\b\b\b\b\b\b\b\b\b\b\b\b\b\b\b\b\b\r 33\/989 [>.............................] - ETA: 1s - loss: 0.2694 - auc: 0.8889\b\b\b\b\b\b\b\b\b\b\b\b\b\b\b\b\b\b\b\b\b\b\b\b\b\b\b\b\b\b\b\b\b\b\b\b\b\b\b\b\b\b\b\b\b\b\b\b\b\b\b\b\b\b\b\b\b\b\b\b\b\b\b\b\b\b\b\b\b\b\b\b\b\b\b\b\b\b\b\r 64\/989 [>.............................] - ETA: 1s - loss: 0.2633 - auc: 0.8898\b\b\b\b\b\b\b\b\b\b\b\b\b\b\b\b\b\b\b\b\b\b\b\b\b\b\b\b\b\b\b\b\b\b\b\b\b\b\b\b\b\b\b\b\b\b\b\b\b\b\b\b\b\b\b\b\b\b\b\b\b\b\b\b\b\b\b\b\b\b\b\b\b\b\b\b\b\b\b\r 93\/989 [=>............................] - ETA: 1s - loss: 0.2676 - auc: 0.8908\b\b\b\b\b\b\b\b\b\b\b\b\b\b\b\b\b\b\b\b\b\b\b\b\b\b\b\b\b\b\b\b\b\b\b\b\b\b\b\b\b\b\b\b\b\b\b\b\b\b\b\b\b\b\b\b\b\b\b\b\b\b\b\b\b\b\b\b\b\b\b\b\b\b\b\b\b\b\b\r125\/989 [==>...........................] - ETA: 1s - loss: 0.2722 - auc: 0.8888\b\b\b\b\b\b\b\b\b\b\b\b\b\b\b\b\b\b\b\b\b\b\b\b\b\b\b\b\b\b\b\b\b\b\b\b\b\b\b\b\b\b\b\b\b\b\b\b\b\b\b\b\b\b\b\b\b\b\b\b\b\b\b\b\b\b\b\b\b\b\b\b\b\b\b\b\b\b\b\r157\/989 [===>..........................] - ETA: 1s - loss: 0.2753 - auc: 0.8870\b\b\b\b\b\b\b\b\b\b\b\b\b\b\b\b\b\b\b\b\b\b\b\b\b\b\b\b\b\b\b\b\b\b\b\b\b\b\b\b\b\b\b\b\b\b\b\b\b\b\b\b\b\b\b\b\b\b\b\b\b\b\b\b\b\b\b\b\b\b\b\b\b\b\b\b\b\b\b\r190\/989 [====>.........................] - ETA: 1s - loss: 0.2722 - auc: 0.8880\b\b\b\b\b\b\b\b\b\b\b\b\b\b\b\b\b\b\b\b\b\b\b\b\b\b\b\b\b\b\b\b\b\b\b\b\b\b\b\b\b\b\b\b\b\b\b\b\b\b\b\b\b\b\b\b\b\b\b\b\b\b\b\b\b\b\b\b\b\b\b\b\b\b\b\b\b\b\b\r221\/989 [=====>........................] - ETA: 1s - loss: 0.2770 - auc: 0.8871\b\b\b\b\b\b\b\b\b\b\b\b\b\b\b\b\b\b\b\b\b\b\b\b\b\b\b\b\b\b\b\b\b\b\b\b\b\b\b\b\b\b\b\b\b\b\b\b\b\b\b\b\b\b\b\b\b\b\b\b\b\b\b\b\b\b\b\b\b\b\b\b\b\b\b\b\b\b\b\r254\/989 [======>.......................] - ETA: 1s - loss: 0.2778 - auc: 0.8885\b\b\b\b\b\b\b\b\b\b\b\b\b\b\b\b\b\b\b\b\b\b\b\b\b\b\b\b\b\b\b\b\b\b\b\b\b\b\b\b\b\b\b\b\b\b\b\b\b\b\b\b\b\b\b\b\b\b\b\b\b\b\b\b\b\b\b\b\b\b\b\b\b\b\b\b\b\b\b\r285\/989 [=======>......................] - ETA: 1s - loss: 0.2748 - auc: 0.8905\b\b\b\b\b\b\b\b\b\b\b\b\b\b\b\b\b\b\b\b\b\b\b\b\b\b\b\b\b\b\b\b\b\b\b\b\b\b\b\b\b\b\b\b\b\b\b\b\b\b\b\b\b\b\b\b\b\b\b\b\b\b\b\b\b\b\b\b\b\b\b\b\b\b\b\b\b\b\b\r316\/989 [========>.....................] - ETA: 1s - loss: 0.2766 - auc: 0.8904\b\b\b\b\b\b\b\b\b\b\b\b\b\b\b\b\b\b\b\b\b\b\b\b\b\b\b\b\b\b\b\b\b\b\b\b\b\b\b\b\b\b\b\b\b\b\b\b\b\b\b\b\b\b\b\b\b\b\b\b\b\b\b\b\b\b\b\b\b\b\b\b\b\b\b\b\b\b\b\r346\/989 [=========>....................] - ETA: 1s - loss: 0.2777 - auc: 0.8908\b\b\b\b\b\b\b\b\b\b\b\b\b\b\b\b\b\b\b\b\b\b\b\b\b\b\b\b\b\b\b\b\b\b\b\b\b\b\b\b\b\b\b\b\b\b\b\b\b\b\b\b\b\b\b\b\b\b\b\b\b\b\b\b\b\b\b\b\b\b\b\b\b\b\b\b\b\b\b\r378\/989 [==========>...................] - ETA: 0s - loss: 0.2794 - auc: 0.8901\b\b\b\b\b\b\b\b\b\b\b\b\b\b\b\b\b\b\b\b\b\b\b\b\b\b\b\b\b\b\b\b\b\b\b\b\b\b\b\b\b\b\b\b\b\b\b\b\b\b\b\b\b\b\b\b\b\b\b\b\b\b\b\b\b\b\b\b\b\b\b\b\b\b\b\b\b\b\b\r407\/989 [===========>..................] - ETA: 0s - loss: 0.2799 - auc: 0.8900\b\b\b\b\b\b\b\b\b\b\b\b\b\b\b\b\b\b\b\b\b\b\b\b\b\b\b\b\b\b\b\b\b\b\b\b\b\b\b\b\b\b\b\b\b\b\b\b\b\b\b\b\b\b\b\b\b\b\b\b\b\b\b\b\b\b\b\b\b\b\b\b\b\b\b\b\b\b\b\r438\/989 [============>.................] - ETA: 0s - loss: 0.2779 - auc: 0.8923\b\b\b\b\b\b\b\b\b\b\b\b\b\b\b\b\b\b\b\b\b\b\b\b\b\b\b\b\b\b\b\b\b\b\b\b\b\b\b\b\b\b\b\b\b\b\b\b\b\b\b\b\b\b\b\b\b\b\b\b\b\b\b\b\b\b\b\b\b\b\b\b\b\b\b\b\b\b\b\r469\/989 [=============>................] - ETA: 0s - loss: 0.2777 - auc: 0.8923\b\b\b\b\b\b\b\b\b\b\b\b\b\b\b\b\b\b\b\b\b\b\b\b\b\b\b\b\b\b\b\b\b\b\b\b\b\b\b\b\b\b\b\b\b\b\b\b\b\b\b\b\b\b\b\b\b\b\b\b\b\b\b\b\b\b\b\b\b\b\b\b\b\b\b\b\b\b\b\r502\/989 [==============>...............] - ETA: 0s - loss: 0.2780 - auc: 0.8925\b\b\b\b\b\b\b\b\b\b\b\b\b\b\b\b\b\b\b\b\b\b\b\b\b\b\b\b\b\b\b\b\b\b\b\b\b\b\b\b\b\b\b\b\b\b\b\b\b\b\b\b\b\b\b\b\b\b\b\b\b\b\b\b\b\b\b\b\b\b\b\b\b\b\b\b\b\b\b\r533\/989 [===============>..............] - ETA: 0s - loss: 0.2787 - auc: 0.8913\b\b\b\b\b\b\b\b\b\b\b\b\b\b\b\b\b\b\b\b\b\b\b\b\b\b\b\b\b\b\b\b\b\b\b\b\b\b\b\b\b\b\b\b\b\b\b\b\b\b\b\b\b\b\b\b\b\b\b\b\b\b\b\b\b\b\b\b\b\b\b\b\b\b\b\b\b\b\b\r566\/989 [================>.............] - ETA: 0s - loss: 0.2773 - auc: 0.8919\b\b\b\b\b\b\b\b\b\b\b\b\b\b\b\b\b\b\b\b\b\b\b\b\b\b\b\b\b\b\b\b\b\b\b\b\b\b\b\b\b\b\b\b\b\b\b\b\b\b\b\b\b\b\b\b\b\b\b\b\b\b\b\b\b\b\b\b\b\b\b\b\b\b\b\b\b\b\b\r598\/989 [=================>............] - ETA: 0s - loss: 0.2767 - auc: 0.8922\b\b\b\b\b\b\b\b\b\b\b\b\b\b\b\b\b\b\b\b\b\b\b\b\b\b\b\b\b\b\b\b\b\b\b\b\b\b\b\b\b\b\b\b\b\b\b\b\b\b\b\b\b\b\b\b\b\b\b\b\b\b\b\b\b\b\b\b\b\b\b\b\b\b\b\b\b\b\b\r631\/989 [==================>...........] - ETA: 0s - loss: 0.2780 - auc: 0.8915\b\b\b\b\b\b\b\b\b\b\b\b\b\b\b\b\b\b\b\b\b\b\b\b\b\b\b\b\b\b\b\b\b\b\b\b\b\b\b\b\b\b\b\b\b\b\b\b\b\b\b\b\b\b\b\b\b\b\b\b\b\b\b\b\b\b\b\b\b\b\b\b\b\b\b\b\b\b\b\r662\/989 [===================>..........] - ETA: 0s - loss: 0.2783 - auc: 0.8918\b\b\b\b\b\b\b\b\b\b\b\b\b\b\b\b\b\b\b\b\b\b\b\b\b\b\b\b\b\b\b\b\b\b\b\b\b\b\b\b\b\b\b\b\b\b\b\b\b\b\b\b\b\b\b\b\b\b\b\b\b\b\b\b\b\b\b\b\b\b\b\b\b\b\b\b\b\b\b\r694\/989 [====================>.........] - ETA: 0s - loss: 0.2791 - auc: 0.8912\b\b\b\b\b\b\b\b\b\b\b\b\b\b\b\b\b\b\b\b\b\b\b\b\b\b\b\b\b\b\b\b\b\b\b\b\b\b\b\b\b\b\b\b\b\b\b\b\b\b\b\b\b\b\b\b\b\b\b\b\b\b\b\b\b\b\b\b\b\b\b\b\b\b\b\b\b\b\b\r724\/989 [====================>.........] - ETA: 0s - loss: 0.2778 - auc: 0.8916\b\b\b\b\b\b\b\b\b\b\b\b\b\b\b\b\b\b\b\b\b\b\b\b\b\b\b\b\b\b\b\b\b\b\b\b\b\b\b\b\b\b\b\b\b\b\b\b\b\b\b\b\b\b\b\b\b\b\b\b\b\b\b\b\b\b\b\b\b\b\b\b\b\b\b\b\b\b\b\r756\/989 [=====================>........] - ETA: 0s - loss: 0.2764 - auc: 0.8917\b\b\b\b\b\b\b\b\b\b\b\b\b\b\b\b\b\b\b\b\b\b\b\b\b\b\b\b\b\b\b\b\b\b\b\b\b\b\b\b\b\b\b\b\b\b\b\b\b\b\b\b\b\b\b\b\b\b\b\b\b\b\b\b\b\b\b\b\b\b\b\b\b\b\b\b\b\b\b\r787\/989 [======================>.......] - ETA: 0s - loss: 0.2768 - auc: 0.8916\b\b\b\b\b\b\b\b\b\b\b\b\b\b\b\b\b\b\b\b\b\b\b\b\b\b\b\b\b\b\b\b\b\b\b\b\b\b\b\b\b\b\b\b\b\b\b\b\b\b\b\b\b\b\b\b\b\b\b\b\b\b\b\b\b\b\b\b\b\b\b\b\b\b\b\b\b\b\b\r820\/989 [=======================>......] - ETA: 0s - loss: 0.2773 - auc: 0.8912\b\b\b\b\b\b\b\b\b\b\b\b\b\b\b\b\b\b\b\b\b\b\b\b\b\b\b\b\b\b\b\b\b\b\b\b\b\b\b\b\b\b\b\b\b\b\b\b\b\b\b\b\b\b\b\b\b\b\b\b\b\b\b\b\b\b\b\b\b\b\b\b\b\b\b\b\b\b\b\r850\/989 [========================>.....] - ETA: 0s - loss: 0.2773 - auc: 0.8910\b\b\b\b\b\b\b\b\b\b\b\b\b\b\b\b\b\b\b\b\b\b\b\b\b\b\b\b\b\b\b\b\b\b\b\b\b\b\b\b\b\b\b\b\b\b\b\b\b\b\b\b\b\b\b\b\b\b\b\b\b\b\b\b\b\b\b\b\b\b\b\b\b\b\b\b\b\b\b\r881\/989 [=========================>....] - ETA: 0s - loss: 0.2768 - auc: 0.8906\b\b\b\b\b\b\b\b\b\b\b\b\b\b\b\b\b\b\b\b\b\b\b\b\b\b\b\b\b\b\b\b\b\b\b\b\b\b\b\b\b\b\b\b\b\b\b\b\b\b\b\b\b\b\b\b\b\b\b\b\b\b\b\b\b\b\b\b\b\b\b\b\b\b\b\b\b\b\b\r912\/989 [==========================>...] - ETA: 0s - loss: 0.2775 - auc: 0.8899\b\b\b\b\b\b\b\b\b\b\b\b\b\b\b\b\b\b\b\b\b\b\b\b\b\b\b\b\b\b\b\b\b\b\b\b\b\b\b\b\b\b\b\b\b\b\b\b\b\b\b\b\b\b\b\b\b\b\b\b\b\b\b\b\b\b\b\b\b\b\b\b\b\b\b\b\b\b\b\r944\/989 [===========================>..] - ETA: 0s - loss: 0.2788 - auc: 0.8890\b\b\b\b\b\b\b\b\b\b\b\b\b\b\b\b\b\b\b\b\b\b\b\b\b\b\b\b\b\b\b\b\b\b\b\b\b\b\b\b\b\b\b\b\b\b\b\b\b\b\b\b\b\b\b\b\b\b\b\b\b\b\b\b\b\b\b\b\b\b\b\b\b\b\b\b\b\b\b\r974\/989 [============================>.] - ETA: 0s - loss: 0.2792 - auc: 0.8884\b\b\b\b\b\b\b\b\b\b\b\b\b\b\b\b\b\b\b\b\b\b\b\b\b\b\b\b\b\b\b\b\b\b\b\b\b\b\b\b\b\b\b\b\b\b\b\b\b\b\b\b\b\b\b\b\b\b\b\b\b\b\b\b\b\b\b\b\b\b\b\b\b\b\b\b\b\b\b\r989\/989 [==============================] - 2s 2ms\/step - loss: 0.2792 - auc: 0.8886 - val_loss: 0.2807 - val_auc: 0.8894\n",
      "Epoch 13\/15\n",
      "\r  1\/989 [..............................] - ETA: 2s - loss: 0.3945 - auc: 0.8141\b\b\b\b\b\b\b\b\b\b\b\b\b\b\b\b\b\b\b\b\b\b\b\b\b\b\b\b\b\b\b\b\b\b\b\b\b\b\b\b\b\b\b\b\b\b\b\b\b\b\b\b\b\b\b\b\b\b\b\b\b\b\b\b\b\b\b\b\b\b\b\b\b\b\b\b\b\b\b\r 32\/989 [..............................] - ETA: 1s - loss: 0.2729 - auc: 0.8898\b\b\b\b\b\b\b\b\b\b\b\b\b\b\b\b\b\b\b\b\b\b\b\b\b\b\b\b\b\b\b\b\b\b\b\b\b\b\b\b\b\b\b\b\b\b\b\b\b\b\b\b\b\b\b\b\b\b\b\b\b\b\b\b\b\b\b\b\b\b\b\b\b\b\b\b\b\b\b\r 60\/989 [>.............................] - ETA: 1s - loss: 0.2730 - auc: 0.8938\b\b\b\b\b\b\b\b\b\b\b\b\b\b\b\b\b\b\b\b\b\b\b\b\b\b\b\b\b\b\b\b\b\b\b\b\b\b\b\b\b\b\b\b\b\b\b\b\b\b\b\b\b\b\b\b\b\b\b\b\b\b\b\b\b\b\b\b\b\b\b\b\b\b\b\b\b\b\b\r 93\/989 [=>............................] - ETA: 1s - loss: 0.2765 - auc: 0.8893\b\b\b\b\b\b\b\b\b\b\b\b\b\b\b\b\b\b\b\b\b\b\b\b\b\b\b\b\b\b\b\b\b\b\b\b\b\b\b\b\b\b\b\b\b\b\b\b\b\b\b\b\b\b\b\b\b\b\b\b\b\b\b\b\b\b\b\b\b\b\b\b\b\b\b\b\b\b\b\r122\/989 [==>...........................] - ETA: 1s - loss: 0.2773 - auc: 0.8899\b\b\b\b\b\b\b\b\b\b\b\b\b\b\b\b\b\b\b\b\b\b\b\b\b\b\b\b\b\b\b\b\b\b\b\b\b\b\b\b\b\b\b\b\b\b\b\b\b\b\b\b\b\b\b\b\b\b\b\b\b\b\b\b\b\b\b\b\b\b\b\b\b\b\b\b\b\b\b\r152\/989 [===>..........................] - ETA: 1s - loss: 0.2777 - auc: 0.8883\b\b\b\b\b\b\b\b\b\b\b\b\b\b\b\b\b\b\b\b\b\b\b\b\b\b\b\b\b\b\b\b\b\b\b\b\b\b\b\b\b\b\b\b\b\b\b\b\b\b\b\b\b\b\b\b\b\b\b\b\b\b\b\b\b\b\b\b\b\b\b\b\b\b\b\b\b\b\b\r183\/989 [====>.........................] - ETA: 1s - loss: 0.2833 - auc: 0.8862\b\b\b\b\b\b\b\b\b\b\b\b\b\b\b\b\b\b\b\b\b\b\b\b\b\b\b\b\b\b\b\b\b\b\b\b\b\b\b\b\b\b\b\b\b\b\b\b\b\b\b\b\b\b\b\b\b\b\b\b\b\b\b\b\b\b\b\b\b\b\b\b\b\b\b\b\b\b\b\r215\/989 [=====>........................] - ETA: 1s - loss: 0.2836 - auc: 0.8840\b\b\b\b\b\b\b\b\b\b\b\b\b\b\b\b\b\b\b\b\b\b\b\b\b\b\b\b\b\b\b\b\b\b\b\b\b\b\b\b\b\b\b\b\b\b\b\b\b\b\b\b\b\b\b\b\b\b\b\b\b\b\b\b\b\b\b\b\b\b\b\b\b\b\b\b\b\b\b\r243\/989 [======>.......................] - ETA: 1s - loss: 0.2835 - auc: 0.8857\b\b\b\b\b\b\b\b\b\b\b\b\b\b\b\b\b\b\b\b\b\b\b\b\b\b\b\b\b\b\b\b\b\b\b\b\b\b\b\b\b\b\b\b\b\b\b\b\b\b\b\b\b\b\b\b\b\b\b\b\b\b\b\b\b\b\b\b\b\b\b\b\b\b\b\b\b\b\b\r275\/989 [=======>......................] - ETA: 1s - loss: 0.2850 - auc: 0.8836\b\b\b\b\b\b\b\b\b\b\b\b\b\b\b\b\b\b\b\b\b\b\b\b\b\b\b\b\b\b\b\b\b\b\b\b\b\b\b\b\b\b\b\b\b\b\b\b\b\b\b\b\b\b\b\b\b\b\b\b\b\b\b\b\b\b\b\b\b\b\b\b\b\b\b\b\b\b\b\r306\/989 [========>.....................] - ETA: 1s - loss: 0.2848 - auc: 0.8840\b\b\b\b\b\b\b\b\b\b\b\b\b\b\b\b\b\b\b\b\b\b\b\b\b\b\b\b\b\b\b\b\b\b\b\b\b\b\b\b\b\b\b\b\b\b\b\b\b\b\b\b\b\b\b\b\b\b\b\b\b\b\b\b\b\b\b\b\b\b\b\b\b\b\b\b\b\b\b\r339\/989 [=========>....................] - ETA: 1s - loss: 0.2827 - auc: 0.8850\b\b\b\b\b\b\b\b\b\b\b\b\b\b\b\b\b\b\b\b\b\b\b\b\b\b\b\b\b\b\b\b\b\b\b\b\b\b\b\b\b\b\b\b\b\b\b\b\b\b\b\b\b\b\b\b\b\b\b\b\b\b\b\b\b\b\b\b\b\b\b\b\b\b\b\b\b\b\b\r369\/989 [==========>...................] - ETA: 1s - loss: 0.2837 - auc: 0.8843\b\b\b\b\b\b\b\b\b\b\b\b\b\b\b\b\b\b\b\b\b\b\b\b\b\b\b\b\b\b\b\b\b\b\b\b\b\b\b\b\b\b\b\b\b\b\b\b\b\b\b\b\b\b\b\b\b\b\b\b\b\b\b\b\b\b\b\b\b\b\b\b\b\b\b\b\b\b\b\r402\/989 [===========>..................] - ETA: 0s - loss: 0.2824 - auc: 0.8853\b\b\b\b\b\b\b\b\b\b\b\b\b\b\b\b\b\b\b\b\b\b\b\b\b\b\b\b\b\b\b\b\b\b\b\b\b\b\b\b\b\b\b\b\b\b\b\b\b\b\b\b\b\b\b\b\b\b\b\b\b\b\b\b\b\b\b\b\b\b\b\b\b\b\b\b\b\b\b\r432\/989 [============>.................] - ETA: 0s - loss: 0.2807 - auc: 0.8869\b\b\b\b\b\b\b\b\b\b\b\b\b\b\b\b\b\b\b\b\b\b\b\b\b\b\b\b\b\b\b\b\b\b\b\b\b\b\b\b\b\b\b\b\b\b\b\b\b\b\b\b\b\b\b\b\b\b\b\b\b\b\b\b\b\b\b\b\b\b\b\b\b\b\b\b\b\b\b\r464\/989 [=============>................] - ETA: 0s - loss: 0.2810 - auc: 0.8870\b\b\b\b\b\b\b\b\b\b\b\b\b\b\b\b\b\b\b\b\b\b\b\b\b\b\b\b\b\b\b\b\b\b\b\b\b\b\b\b\b\b\b\b\b\b\b\b\b\b\b\b\b\b\b\b\b\b\b\b\b\b\b\b\b\b\b\b\b\b\b\b\b\b\b\b\b\b\b\r495\/989 [==============>...............] - ETA: 0s - loss: 0.2817 - auc: 0.8869\b\b\b\b\b\b\b\b\b\b\b\b\b\b\b\b\b\b\b\b\b\b\b\b\b\b\b\b\b\b\b\b\b\b\b\b\b\b\b\b\b\b\b\b\b\b\b\b\b\b\b\b\b\b\b\b\b\b\b\b\b\b\b\b\b\b\b\b\b\b\b\b\b\b\b\b\b\b\b\r526\/989 [==============>...............] - ETA: 0s - loss: 0.2834 - auc: 0.8865\b\b\b\b\b\b\b\b\b\b\b\b\b\b\b\b\b\b\b\b\b\b\b\b\b\b\b\b\b\b\b\b\b\b\b\b\b\b\b\b\b\b\b\b\b\b\b\b\b\b\b\b\b\b\b\b\b\b\b\b\b\b\b\b\b\b\b\b\b\b\b\b\b\b\b\b\b\b\b\r553\/989 [===============>..............] - ETA: 0s - loss: 0.2824 - auc: 0.8877\b\b\b\b\b\b\b\b\b\b\b\b\b\b\b\b\b\b\b\b\b\b\b\b\b\b\b\b\b\b\b\b\b\b\b\b\b\b\b\b\b\b\b\b\b\b\b\b\b\b\b\b\b\b\b\b\b\b\b\b\b\b\b\b\b\b\b\b\b\b\b\b\b\b\b\b\b\b\b\r586\/989 [================>.............] - ETA: 0s - loss: 0.2801 - auc: 0.8892\b\b\b\b\b\b\b\b\b\b\b\b\b\b\b\b\b\b\b\b\b\b\b\b\b\b\b\b\b\b\b\b\b\b\b\b\b\b\b\b\b\b\b\b\b\b\b\b\b\b\b\b\b\b\b\b\b\b\b\b\b\b\b\b\b\b\b\b\b\b\b\b\b\b\b\b\b\b\b\r617\/989 [=================>............] - ETA: 0s - loss: 0.2799 - auc: 0.8899\b\b\b\b\b\b\b\b\b\b\b\b\b\b\b\b\b\b\b\b\b\b\b\b\b\b\b\b\b\b\b\b\b\b\b\b\b\b\b\b\b\b\b\b\b\b\b\b\b\b\b\b\b\b\b\b\b\b\b\b\b\b\b\b\b\b\b\b\b\b\b\b\b\b\b\b\b\b\b\r650\/989 [==================>...........] - ETA: 0s - loss: 0.2807 - auc: 0.8891\b\b\b\b\b\b\b\b\b\b\b\b\b\b\b\b\b\b\b\b\b\b\b\b\b\b\b\b\b\b\b\b\b\b\b\b\b\b\b\b\b\b\b\b\b\b\b\b\b\b\b\b\b\b\b\b\b\b\b\b\b\b\b\b\b\b\b\b\b\b\b\b\b\b\b\b\b\b\b\r680\/989 [===================>..........] - ETA: 0s - loss: 0.2807 - auc: 0.8887\b\b\b\b\b\b\b\b\b\b\b\b\b\b\b\b\b\b\b\b\b\b\b\b\b\b\b\b\b\b\b\b\b\b\b\b\b\b\b\b\b\b\b\b\b\b\b\b\b\b\b\b\b\b\b\b\b\b\b\b\b\b\b\b\b\b\b\b\b\b\b\b\b\b\b\b\b\b\b\r713\/989 [====================>.........] - ETA: 0s - loss: 0.2807 - auc: 0.8892\b\b\b\b\b\b\b\b\b\b\b\b\b\b\b\b\b\b\b\b\b\b\b\b\b\b\b\b\b\b\b\b\b\b\b\b\b\b\b\b\b\b\b\b\b\b\b\b\b\b\b\b\b\b\b\b\b\b\b\b\b\b\b\b\b\b\b\b\b\b\b\b\b\b\b\b\b\b\b\r743\/989 [=====================>........] - ETA: 0s - loss: 0.2802 - auc: 0.8888\b\b\b\b\b\b\b\b\b\b\b\b\b\b\b\b\b\b\b\b\b\b\b\b\b\b\b\b\b\b\b\b\b\b\b\b\b\b\b\b\b\b\b\b\b\b\b\b\b\b\b\b\b\b\b\b\b\b\b\b\b\b\b\b\b\b\b\b\b\b\b\b\b\b\b\b\b\b\b\r775\/989 [======================>.......] - ETA: 0s - loss: 0.2798 - auc: 0.8891\b\b\b\b\b\b\b\b\b\b\b\b\b\b\b\b\b\b\b\b\b\b\b\b\b\b\b\b\b\b\b\b\b\b\b\b\b\b\b\b\b\b\b\b\b\b\b\b\b\b\b\b\b\b\b\b\b\b\b\b\b\b\b\b\b\b\b\b\b\b\b\b\b\b\b\b\b\b\b\r805\/989 [=======================>......] - ETA: 0s - loss: 0.2803 - auc: 0.8884\b\b\b\b\b\b\b\b\b\b\b\b\b\b\b\b\b\b\b\b\b\b\b\b\b\b\b\b\b\b\b\b\b\b\b\b\b\b\b\b\b\b\b\b\b\b\b\b\b\b\b\b\b\b\b\b\b\b\b\b\b\b\b\b\b\b\b\b\b\b\b\b\b\b\b\b\b\b\b\r836\/989 [========================>.....] - ETA: 0s - loss: 0.2802 - auc: 0.8881\b\b\b\b\b\b\b\b\b\b\b\b\b\b\b\b\b\b\b\b\b\b\b\b\b\b\b\b\b\b\b\b\b\b\b\b\b\b\b\b\b\b\b\b\b\b\b\b\b\b\b\b\b\b\b\b\b\b\b\b\b\b\b\b\b\b\b\b\b\b\b\b\b\b\b\b\b\b\b\r866\/989 [=========================>....] - ETA: 0s - loss: 0.2807 - auc: 0.8878\b\b\b\b\b\b\b\b\b\b\b\b\b\b\b\b\b\b\b\b\b\b\b\b\b\b\b\b\b\b\b\b\b\b\b\b\b\b\b\b\b\b\b\b\b\b\b\b\b\b\b\b\b\b\b\b\b\b\b\b\b\b\b\b\b\b\b\b\b\b\b\b\b\b\b\b\b\b\b\r898\/989 [==========================>...] - ETA: 0s - loss: 0.2790 - auc: 0.8882\b\b\b\b\b\b\b\b\b\b\b\b\b\b\b\b\b\b\b\b\b\b\b\b\b\b\b\b\b\b\b\b\b\b\b\b\b\b\b\b\b\b\b\b\b\b\b\b\b\b\b\b\b\b\b\b\b\b\b\b\b\b\b\b\b\b\b\b\b\b\b\b\b\b\b\b\b\b\b\r929\/989 [===========================>..] - ETA: 0s - loss: 0.2785 - auc: 0.8888\b\b\b\b\b\b\b\b\b\b\b\b\b\b\b\b\b\b\b\b\b\b\b\b\b\b\b\b\b\b\b\b\b\b\b\b\b\b\b\b\b\b\b\b\b\b\b\b\b\b\b\b\b\b\b\b\b\b\b\b\b\b\b\b\b\b\b\b\b\b\b\b\b\b\b\b\b\b\b\r960\/989 [============================>.] - ETA: 0s - loss: 0.2782 - auc: 0.8888\b\b\b\b\b\b\b\b\b\b\b\b\b\b\b\b\b\b\b\b\b\b\b\b\b\b\b\b\b\b\b\b\b\b\b\b\b\b\b\b\b\b\b\b\b\b\b\b\b\b\b\b\b\b\b\b\b\b\b\b\b\b\b\b\b\b\b\b\b\b\b\b\b\b\b\b\b\b\b\r983\/989 [============================>.] - ETA: 0s - loss: 0.2794 - auc: 0.8883\b\b\b\b\b\b\b\b\b\b\b\b\b\b\b\b\b\b\b\b\b\b\b\b\b\b\b\b\b\b\b\b\b\b\b\b\b\b\b\b\b\b\b\b\b\b\b\b\b\b\b\b\b\b\b\b\b\b\b\b\b\b\b\b\b\b\b\b\b\b\b\b\b\b\b\b\b\b\b\r989\/989 [==============================] - 2s 2ms\/step - loss: 0.2795 - auc: 0.8882 - val_loss: 0.2829 - val_auc: 0.8888\n",
      "Epoch 14\/15\n",
      "\r  1\/989 [..............................] - ETA: 2s - loss: 0.2089 - auc: 0.9540\b\b\b\b\b\b\b\b\b\b\b\b\b\b\b\b\b\b\b\b\b\b\b\b\b\b\b\b\b\b\b\b\b\b\b\b\b\b\b\b\b\b\b\b\b\b\b\b\b\b\b\b\b\b\b\b\b\b\b\b\b\b\b\b\b\b\b\b\b\b\b\b\b\b\b\b\b\b\b\r 33\/989 [>.............................] - ETA: 1s - loss: 0.2864 - auc: 0.8812\b\b\b\b\b\b\b\b\b\b\b\b\b\b\b\b\b\b\b\b\b\b\b\b\b\b\b\b\b\b\b\b\b\b\b\b\b\b\b\b\b\b\b\b\b\b\b\b\b\b\b\b\b\b\b\b\b\b\b\b\b\b\b\b\b\b\b\b\b\b\b\b\b\b\b\b\b\b\b\r 58\/989 [>.............................] - ETA: 1s - loss: 0.2677 - auc: 0.8877\b\b\b\b\b\b\b\b\b\b\b\b\b\b\b\b\b\b\b\b\b\b\b\b\b\b\b\b\b\b\b\b\b\b\b\b\b\b\b\b\b\b\b\b\b\b\b\b\b\b\b\b\b\b\b\b\b\b\b\b\b\b\b\b\b\b\b\b\b\b\b\b\b\b\b\b\b\b\b\r 87\/989 [=>............................] - ETA: 1s - loss: 0.2566 - auc: 0.8904\b\b\b\b\b\b\b\b\b\b\b\b\b\b\b\b\b\b\b\b\b\b\b\b\b\b\b\b\b\b\b\b\b\b\b\b\b\b\b\b\b\b\b\b\b\b\b\b\b\b\b\b\b\b\b\b\b\b\b\b\b\b\b\b\b\b\b\b\b\b\b\b\b\b\b\b\b\b\b\r116\/989 [==>...........................] - ETA: 1s - loss: 0.2586 - auc: 0.8890\b\b\b\b\b\b\b\b\b\b\b\b\b\b\b\b\b\b\b\b\b\b\b\b\b\b\b\b\b\b\b\b\b\b\b\b\b\b\b\b\b\b\b\b\b\b\b\b\b\b\b\b\b\b\b\b\b\b\b\b\b\b\b\b\b\b\b\b\b\b\b\b\b\b\b\b\b\b\b\r146\/989 [===>..........................] - ETA: 1s - loss: 0.2672 - auc: 0.8888\b\b\b\b\b\b\b\b\b\b\b\b\b\b\b\b\b\b\b\b\b\b\b\b\b\b\b\b\b\b\b\b\b\b\b\b\b\b\b\b\b\b\b\b\b\b\b\b\b\b\b\b\b\b\b\b\b\b\b\b\b\b\b\b\b\b\b\b\b\b\b\b\b\b\b\b\b\b\b\r176\/989 [====>.........................] - ETA: 1s - loss: 0.2717 - auc: 0.8902\b\b\b\b\b\b\b\b\b\b\b\b\b\b\b\b\b\b\b\b\b\b\b\b\b\b\b\b\b\b\b\b\b\b\b\b\b\b\b\b\b\b\b\b\b\b\b\b\b\b\b\b\b\b\b\b\b\b\b\b\b\b\b\b\b\b\b\b\b\b\b\b\b\b\b\b\b\b\b\r207\/989 [=====>........................] - ETA: 1s - loss: 0.2724 - auc: 0.8873\b\b\b\b\b\b\b\b\b\b\b\b\b\b\b\b\b\b\b\b\b\b\b\b\b\b\b\b\b\b\b\b\b\b\b\b\b\b\b\b\b\b\b\b\b\b\b\b\b\b\b\b\b\b\b\b\b\b\b\b\b\b\b\b\b\b\b\b\b\b\b\b\b\b\b\b\b\b\b\r237\/989 [======>.......................] - ETA: 1s - loss: 0.2753 - auc: 0.8861\b\b\b\b\b\b\b\b\b\b\b\b\b\b\b\b\b\b\b\b\b\b\b\b\b\b\b\b\b\b\b\b\b\b\b\b\b\b\b\b\b\b\b\b\b\b\b\b\b\b\b\b\b\b\b\b\b\b\b\b\b\b\b\b\b\b\b\b\b\b\b\b\b\b\b\b\b\b\b\r267\/989 [=======>......................] - ETA: 1s - loss: 0.2713 - auc: 0.8897\b\b\b\b\b\b\b\b\b\b\b\b\b\b\b\b\b\b\b\b\b\b\b\b\b\b\b\b\b\b\b\b\b\b\b\b\b\b\b\b\b\b\b\b\b\b\b\b\b\b\b\b\b\b\b\b\b\b\b\b\b\b\b\b\b\b\b\b\b\b\b\b\b\b\b\b\b\b\b\r299\/989 [========>.....................] - ETA: 1s - loss: 0.2744 - auc: 0.8883\b\b\b\b\b\b\b\b\b\b\b\b\b\b\b\b\b\b\b\b\b\b\b\b\b\b\b\b\b\b\b\b\b\b\b\b\b\b\b\b\b\b\b\b\b\b\b\b\b\b\b\b\b\b\b\b\b\b\b\b\b\b\b\b\b\b\b\b\b\b\b\b\b\b\b\b\b\b\b\r332\/989 [=========>....................] - ETA: 1s - loss: 0.2719 - auc: 0.8887\b\b\b\b\b\b\b\b\b\b\b\b\b\b\b\b\b\b\b\b\b\b\b\b\b\b\b\b\b\b\b\b\b\b\b\b\b\b\b\b\b\b\b\b\b\b\b\b\b\b\b\b\b\b\b\b\b\b\b\b\b\b\b\b\b\b\b\b\b\b\b\b\b\b\b\b\b\b\b\r362\/989 [=========>....................] - ETA: 1s - loss: 0.2733 - auc: 0.8884\b\b\b\b\b\b\b\b\b\b\b\b\b\b\b\b\b\b\b\b\b\b\b\b\b\b\b\b\b\b\b\b\b\b\b\b\b\b\b\b\b\b\b\b\b\b\b\b\b\b\b\b\b\b\b\b\b\b\b\b\b\b\b\b\b\b\b\b\b\b\b\b\b\b\b\b\b\b\b\r393\/989 [==========>...................] - ETA: 1s - loss: 0.2735 - auc: 0.8881\b\b\b\b\b\b\b\b\b\b\b\b\b\b\b\b\b\b\b\b\b\b\b\b\b\b\b\b\b\b\b\b\b\b\b\b\b\b\b\b\b\b\b\b\b\b\b\b\b\b\b\b\b\b\b\b\b\b\b\b\b\b\b\b\b\b\b\b\b\b\b\b\b\b\b\b\b\b\b\r422\/989 [===========>..................] - ETA: 0s - loss: 0.2747 - auc: 0.8870\b\b\b\b\b\b\b\b\b\b\b\b\b\b\b\b\b\b\b\b\b\b\b\b\b\b\b\b\b\b\b\b\b\b\b\b\b\b\b\b\b\b\b\b\b\b\b\b\b\b\b\b\b\b\b\b\b\b\b\b\b\b\b\b\b\b\b\b\b\b\b\b\b\b\b\b\b\b\b\r456\/989 [============>.................] - ETA: 0s - loss: 0.2734 - auc: 0.8891\b\b\b\b\b\b\b\b\b\b\b\b\b\b\b\b\b\b\b\b\b\b\b\b\b\b\b\b\b\b\b\b\b\b\b\b\b\b\b\b\b\b\b\b\b\b\b\b\b\b\b\b\b\b\b\b\b\b\b\b\b\b\b\b\b\b\b\b\b\b\b\b\b\b\b\b\b\b\b\r487\/989 [=============>................] - ETA: 0s - loss: 0.2733 - auc: 0.8895\b\b\b\b\b\b\b\b\b\b\b\b\b\b\b\b\b\b\b\b\b\b\b\b\b\b\b\b\b\b\b\b\b\b\b\b\b\b\b\b\b\b\b\b\b\b\b\b\b\b\b\b\b\b\b\b\b\b\b\b\b\b\b\b\b\b\b\b\b\b\b\b\b\b\b\b\b\b\b\r518\/989 [==============>...............] - ETA: 0s - loss: 0.2741 - auc: 0.8889\b\b\b\b\b\b\b\b\b\b\b\b\b\b\b\b\b\b\b\b\b\b\b\b\b\b\b\b\b\b\b\b\b\b\b\b\b\b\b\b\b\b\b\b\b\b\b\b\b\b\b\b\b\b\b\b\b\b\b\b\b\b\b\b\b\b\b\b\b\b\b\b\b\b\b\b\b\b\b\r548\/989 [===============>..............] - ETA: 0s - loss: 0.2742 - auc: 0.8889\b\b\b\b\b\b\b\b\b\b\b\b\b\b\b\b\b\b\b\b\b\b\b\b\b\b\b\b\b\b\b\b\b\b\b\b\b\b\b\b\b\b\b\b\b\b\b\b\b\b\b\b\b\b\b\b\b\b\b\b\b\b\b\b\b\b\b\b\b\b\b\b\b\b\b\b\b\b\b\r581\/989 [================>.............] - ETA: 0s - loss: 0.2751 - auc: 0.8884\b\b\b\b\b\b\b\b\b\b\b\b\b\b\b\b\b\b\b\b\b\b\b\b\b\b\b\b\b\b\b\b\b\b\b\b\b\b\b\b\b\b\b\b\b\b\b\b\b\b\b\b\b\b\b\b\b\b\b\b\b\b\b\b\b\b\b\b\b\b\b\b\b\b\b\b\b\b\b\r609\/989 [=================>............] - ETA: 0s - loss: 0.2753 - auc: 0.8889\b\b\b\b\b\b\b\b\b\b\b\b\b\b\b\b\b\b\b\b\b\b\b\b\b\b\b\b\b\b\b\b\b\b\b\b\b\b\b\b\b\b\b\b\b\b\b\b\b\b\b\b\b\b\b\b\b\b\b\b\b\b\b\b\b\b\b\b\b\b\b\b\b\b\b\b\b\b\b\r640\/989 [==================>...........] - ETA: 0s - loss: 0.2761 - auc: 0.8879\b\b\b\b\b\b\b\b\b\b\b\b\b\b\b\b\b\b\b\b\b\b\b\b\b\b\b\b\b\b\b\b\b\b\b\b\b\b\b\b\b\b\b\b\b\b\b\b\b\b\b\b\b\b\b\b\b\b\b\b\b\b\b\b\b\b\b\b\b\b\b\b\b\b\b\b\b\b\b\r672\/989 [===================>..........] - ETA: 0s - loss: 0.2772 - auc: 0.8875\b\b\b\b\b\b\b\b\b\b\b\b\b\b\b\b\b\b\b\b\b\b\b\b\b\b\b\b\b\b\b\b\b\b\b\b\b\b\b\b\b\b\b\b\b\b\b\b\b\b\b\b\b\b\b\b\b\b\b\b\b\b\b\b\b\b\b\b\b\b\b\b\b\b\b\b\b\b\b\r702\/989 [====================>.........] - ETA: 0s - loss: 0.2764 - auc: 0.8882\b\b\b\b\b\b\b\b\b\b\b\b\b\b\b\b\b\b\b\b\b\b\b\b\b\b\b\b\b\b\b\b\b\b\b\b\b\b\b\b\b\b\b\b\b\b\b\b\b\b\b\b\b\b\b\b\b\b\b\b\b\b\b\b\b\b\b\b\b\b\b\b\b\b\b\b\b\b\b\r732\/989 [=====================>........] - ETA: 0s - loss: 0.2779 - auc: 0.8871\b\b\b\b\b\b\b\b\b\b\b\b\b\b\b\b\b\b\b\b\b\b\b\b\b\b\b\b\b\b\b\b\b\b\b\b\b\b\b\b\b\b\b\b\b\b\b\b\b\b\b\b\b\b\b\b\b\b\b\b\b\b\b\b\b\b\b\b\b\b\b\b\b\b\b\b\b\b\b\r765\/989 [======================>.......] - ETA: 0s - loss: 0.2787 - auc: 0.8863\b\b\b\b\b\b\b\b\b\b\b\b\b\b\b\b\b\b\b\b\b\b\b\b\b\b\b\b\b\b\b\b\b\b\b\b\b\b\b\b\b\b\b\b\b\b\b\b\b\b\b\b\b\b\b\b\b\b\b\b\b\b\b\b\b\b\b\b\b\b\b\b\b\b\b\b\b\b\b\r796\/989 [=======================>......] - ETA: 0s - loss: 0.2788 - auc: 0.8866\b\b\b\b\b\b\b\b\b\b\b\b\b\b\b\b\b\b\b\b\b\b\b\b\b\b\b\b\b\b\b\b\b\b\b\b\b\b\b\b\b\b\b\b\b\b\b\b\b\b\b\b\b\b\b\b\b\b\b\b\b\b\b\b\b\b\b\b\b\b\b\b\b\b\b\b\b\b\b\r829\/989 [========================>.....] - ETA: 0s - loss: 0.2798 - auc: 0.8862\b\b\b\b\b\b\b\b\b\b\b\b\b\b\b\b\b\b\b\b\b\b\b\b\b\b\b\b\b\b\b\b\b\b\b\b\b\b\b\b\b\b\b\b\b\b\b\b\b\b\b\b\b\b\b\b\b\b\b\b\b\b\b\b\b\b\b\b\b\b\b\b\b\b\b\b\b\b\b\r861\/989 [=========================>....] - ETA: 0s - loss: 0.2799 - auc: 0.8863\b\b\b\b\b\b\b\b\b\b\b\b\b\b\b\b\b\b\b\b\b\b\b\b\b\b\b\b\b\b\b\b\b\b\b\b\b\b\b\b\b\b\b\b\b\b\b\b\b\b\b\b\b\b\b\b\b\b\b\b\b\b\b\b\b\b\b\b\b\b\b\b\b\b\b\b\b\b\b\r894\/989 [==========================>...] - ETA: 0s - loss: 0.2790 - auc: 0.8872\b\b\b\b\b\b\b\b\b\b\b\b\b\b\b\b\b\b\b\b\b\b\b\b\b\b\b\b\b\b\b\b\b\b\b\b\b\b\b\b\b\b\b\b\b\b\b\b\b\b\b\b\b\b\b\b\b\b\b\b\b\b\b\b\b\b\b\b\b\b\b\b\b\b\b\b\b\b\b\r926\/989 [===========================>..] - ETA: 0s - loss: 0.2789 - auc: 0.8870\b\b\b\b\b\b\b\b\b\b\b\b\b\b\b\b\b\b\b\b\b\b\b\b\b\b\b\b\b\b\b\b\b\b\b\b\b\b\b\b\b\b\b\b\b\b\b\b\b\b\b\b\b\b\b\b\b\b\b\b\b\b\b\b\b\b\b\b\b\b\b\b\b\b\b\b\b\b\b\r959\/989 [============================>.] - ETA: 0s - loss: 0.2799 - auc: 0.8863\b\b\b\b\b\b\b\b\b\b\b\b\b\b\b\b\b\b\b\b\b\b\b\b\b\b\b\b\b\b\b\b\b\b\b\b\b\b\b\b\b\b\b\b\b\b\b\b\b\b\b\b\b\b\b\b\b\b\b\b\b\b\b\b\b\b\b\b\b\b\b\b\b\b\b\b\b\b\b\r989\/989 [==============================] - 2s 2ms\/step - loss: 0.2806 - auc: 0.8857 - val_loss: 0.2819 - val_auc: 0.8866\n",
      "Epoch 15\/15\n",
      "\r  1\/989 [..............................] - ETA: 2s - loss: 0.1770 - auc: 0.9000\b\b\b\b\b\b\b\b\b\b\b\b\b\b\b\b\b\b\b\b\b\b\b\b\b\b\b\b\b\b\b\b\b\b\b\b\b\b\b\b\b\b\b\b\b\b\b\b\b\b\b\b\b\b\b\b\b\b\b\b\b\b\b\b\b\b\b\b\b\b\b\b\b\b\b\b\b\b\b\r 34\/989 [>.............................] - ETA: 1s - loss: 0.2497 - auc: 0.9032\b\b\b\b\b\b\b\b\b\b\b\b\b\b\b\b\b\b\b\b\b\b\b\b\b\b\b\b\b\b\b\b\b\b\b\b\b\b\b\b\b\b\b\b\b\b\b\b\b\b\b\b\b\b\b\b\b\b\b\b\b\b\b\b\b\b\b\b\b\b\b\b\b\b\b\b\b\b\b\r 65\/989 [>.............................] - ETA: 1s - loss: 0.2728 - auc: 0.8930\b\b\b\b\b\b\b\b\b\b\b\b\b\b\b\b\b\b\b\b\b\b\b\b\b\b\b\b\b\b\b\b\b\b\b\b\b\b\b\b\b\b\b\b\b\b\b\b\b\b\b\b\b\b\b\b\b\b\b\b\b\b\b\b\b\b\b\b\b\b\b\b\b\b\b\b\b\b\b\r 98\/989 [=>............................] - ETA: 1s - loss: 0.2744 - auc: 0.8921\b\b\b\b\b\b\b\b\b\b\b\b\b\b\b\b\b\b\b\b\b\b\b\b\b\b\b\b\b\b\b\b\b\b\b\b\b\b\b\b\b\b\b\b\b\b\b\b\b\b\b\b\b\b\b\b\b\b\b\b\b\b\b\b\b\b\b\b\b\b\b\b\b\b\b\b\b\b\b\r128\/989 [==>...........................] - ETA: 1s - loss: 0.2784 - auc: 0.8921\b\b\b\b\b\b\b\b\b\b\b\b\b\b\b\b\b\b\b\b\b\b\b\b\b\b\b\b\b\b\b\b\b\b\b\b\b\b\b\b\b\b\b\b\b\b\b\b\b\b\b\b\b\b\b\b\b\b\b\b\b\b\b\b\b\b\b\b\b\b\b\b\b\b\b\b\b\b\b\r158\/989 [===>..........................] - ETA: 1s - loss: 0.2787 - auc: 0.8912\b\b\b\b\b\b\b\b\b\b\b\b\b\b\b\b\b\b\b\b\b\b\b\b\b\b\b\b\b\b\b\b\b\b\b\b\b\b\b\b\b\b\b\b\b\b\b\b\b\b\b\b\b\b\b\b\b\b\b\b\b\b\b\b\b\b\b\b\b\b\b\b\b\b\b\b\b\b\b\r189\/989 [====>.........................] - ETA: 1s - loss: 0.2817 - auc: 0.8885\b\b\b\b\b\b\b\b\b\b\b\b\b\b\b\b\b\b\b\b\b\b\b\b\b\b\b\b\b\b\b\b\b\b\b\b\b\b\b\b\b\b\b\b\b\b\b\b\b\b\b\b\b\b\b\b\b\b\b\b\b\b\b\b\b\b\b\b\b\b\b\b\b\b\b\b\b\b\b\r220\/989 [=====>........................] - ETA: 1s - loss: 0.2807 - auc: 0.8878\b\b\b\b\b\b\b\b\b\b\b\b\b\b\b\b\b\b\b\b\b\b\b\b\b\b\b\b\b\b\b\b\b\b\b\b\b\b\b\b\b\b\b\b\b\b\b\b\b\b\b\b\b\b\b\b\b\b\b\b\b\b\b\b\b\b\b\b\b\b\b\b\b\b\b\b\b\b\b\r252\/989 [======>.......................] - ETA: 1s - loss: 0.2812 - auc: 0.8861\b\b\b\b\b\b\b\b\b\b\b\b\b\b\b\b\b\b\b\b\b\b\b\b\b\b\b\b\b\b\b\b\b\b\b\b\b\b\b\b\b\b\b\b\b\b\b\b\b\b\b\b\b\b\b\b\b\b\b\b\b\b\b\b\b\b\b\b\b\b\b\b\b\b\b\b\b\b\b\r284\/989 [=======>......................] - ETA: 1s - loss: 0.2801 - auc: 0.8861\b\b\b\b\b\b\b\b\b\b\b\b\b\b\b\b\b\b\b\b\b\b\b\b\b\b\b\b\b\b\b\b\b\b\b\b\b\b\b\b\b\b\b\b\b\b\b\b\b\b\b\b\b\b\b\b\b\b\b\b\b\b\b\b\b\b\b\b\b\b\b\b\b\b\b\b\b\b\b\r314\/989 [========>.....................] - ETA: 1s - loss: 0.2810 - auc: 0.8860\b\b\b\b\b\b\b\b\b\b\b\b\b\b\b\b\b\b\b\b\b\b\b\b\b\b\b\b\b\b\b\b\b\b\b\b\b\b\b\b\b\b\b\b\b\b\b\b\b\b\b\b\b\b\b\b\b\b\b\b\b\b\b\b\b\b\b\b\b\b\b\b\b\b\b\b\b\b\b\r346\/989 [=========>....................] - ETA: 1s - loss: 0.2820 - auc: 0.8843\b\b\b\b\b\b\b\b\b\b\b\b\b\b\b\b\b\b\b\b\b\b\b\b\b\b\b\b\b\b\b\b\b\b\b\b\b\b\b\b\b\b\b\b\b\b\b\b\b\b\b\b\b\b\b\b\b\b\b\b\b\b\b\b\b\b\b\b\b\b\b\b\b\b\b\b\b\b\b\r378\/989 [==========>...................] - ETA: 0s - loss: 0.2835 - auc: 0.8824\b\b\b\b\b\b\b\b\b\b\b\b\b\b\b\b\b\b\b\b\b\b\b\b\b\b\b\b\b\b\b\b\b\b\b\b\b\b\b\b\b\b\b\b\b\b\b\b\b\b\b\b\b\b\b\b\b\b\b\b\b\b\b\b\b\b\b\b\b\b\b\b\b\b\b\b\b\b\b\r410\/989 [===========>..................] - ETA: 0s - loss: 0.2812 - auc: 0.8850\b\b\b\b\b\b\b\b\b\b\b\b\b\b\b\b\b\b\b\b\b\b\b\b\b\b\b\b\b\b\b\b\b\b\b\b\b\b\b\b\b\b\b\b\b\b\b\b\b\b\b\b\b\b\b\b\b\b\b\b\b\b\b\b\b\b\b\b\b\b\b\b\b\b\b\b\b\b\b\r440\/989 [============>.................] - ETA: 0s - loss: 0.2801 - auc: 0.8855\b\b\b\b\b\b\b\b\b\b\b\b\b\b\b\b\b\b\b\b\b\b\b\b\b\b\b\b\b\b\b\b\b\b\b\b\b\b\b\b\b\b\b\b\b\b\b\b\b\b\b\b\b\b\b\b\b\b\b\b\b\b\b\b\b\b\b\b\b\b\b\b\b\b\b\b\b\b\b\r471\/989 [=============>................] - ETA: 0s - loss: 0.2800 - auc: 0.8851\b\b\b\b\b\b\b\b\b\b\b\b\b\b\b\b\b\b\b\b\b\b\b\b\b\b\b\b\b\b\b\b\b\b\b\b\b\b\b\b\b\b\b\b\b\b\b\b\b\b\b\b\b\b\b\b\b\b\b\b\b\b\b\b\b\b\b\b\b\b\b\b\b\b\b\b\b\b\b\r500\/989 [==============>...............] - ETA: 0s - loss: 0.2803 - auc: 0.8851\b\b\b\b\b\b\b\b\b\b\b\b\b\b\b\b\b\b\b\b\b\b\b\b\b\b\b\b\b\b\b\b\b\b\b\b\b\b\b\b\b\b\b\b\b\b\b\b\b\b\b\b\b\b\b\b\b\b\b\b\b\b\b\b\b\b\b\b\b\b\b\b\b\b\b\b\b\b\b\r532\/989 [===============>..............] - ETA: 0s - loss: 0.2782 - auc: 0.8867\b\b\b\b\b\b\b\b\b\b\b\b\b\b\b\b\b\b\b\b\b\b\b\b\b\b\b\b\b\b\b\b\b\b\b\b\b\b\b\b\b\b\b\b\b\b\b\b\b\b\b\b\b\b\b\b\b\b\b\b\b\b\b\b\b\b\b\b\b\b\b\b\b\b\b\b\b\b\b\r561\/989 [================>.............] - ETA: 0s - loss: 0.2790 - auc: 0.8870\b\b\b\b\b\b\b\b\b\b\b\b\b\b\b\b\b\b\b\b\b\b\b\b\b\b\b\b\b\b\b\b\b\b\b\b\b\b\b\b\b\b\b\b\b\b\b\b\b\b\b\b\b\b\b\b\b\b\b\b\b\b\b\b\b\b\b\b\b\b\b\b\b\b\b\b\b\b\b\r593\/989 [================>.............] - ETA: 0s - loss: 0.2796 - auc: 0.8861\b\b\b\b\b\b\b\b\b\b\b\b\b\b\b\b\b\b\b\b\b\b\b\b\b\b\b\b\b\b\b\b\b\b\b\b\b\b\b\b\b\b\b\b\b\b\b\b\b\b\b\b\b\b\b\b\b\b\b\b\b\b\b\b\b\b\b\b\b\b\b\b\b\b\b\b\b\b\b\r624\/989 [=================>............] - ETA: 0s - loss: 0.2811 - auc: 0.8856\b\b\b\b\b\b\b\b\b\b\b\b\b\b\b\b\b\b\b\b\b\b\b\b\b\b\b\b\b\b\b\b\b\b\b\b\b\b\b\b\b\b\b\b\b\b\b\b\b\b\b\b\b\b\b\b\b\b\b\b\b\b\b\b\b\b\b\b\b\b\b\b\b\b\b\b\b\b\b\r656\/989 [==================>...........] - ETA: 0s - loss: 0.2808 - auc: 0.8858\b\b\b\b\b\b\b\b\b\b\b\b\b\b\b\b\b\b\b\b\b\b\b\b\b\b\b\b\b\b\b\b\b\b\b\b\b\b\b\b\b\b\b\b\b\b\b\b\b\b\b\b\b\b\b\b\b\b\b\b\b\b\b\b\b\b\b\b\b\b\b\b\b\b\b\b\b\b\b\r686\/989 [===================>..........] - ETA: 0s - loss: 0.2818 - auc: 0.8857\b\b\b\b\b\b\b\b\b\b\b\b\b\b\b\b\b\b\b\b\b\b\b\b\b\b\b\b\b\b\b\b\b\b\b\b\b\b\b\b\b\b\b\b\b\b\b\b\b\b\b\b\b\b\b\b\b\b\b\b\b\b\b\b\b\b\b\b\b\b\b\b\b\b\b\b\b\b\b\r718\/989 [====================>.........] - ETA: 0s - loss: 0.2821 - auc: 0.8854\b\b\b\b\b\b\b\b\b\b\b\b\b\b\b\b\b\b\b\b\b\b\b\b\b\b\b\b\b\b\b\b\b\b\b\b\b\b\b\b\b\b\b\b\b\b\b\b\b\b\b\b\b\b\b\b\b\b\b\b\b\b\b\b\b\b\b\b\b\b\b\b\b\b\b\b\b\b\b\r747\/989 [=====================>........] - ETA: 0s - loss: 0.2821 - auc: 0.8852\b\b\b\b\b\b\b\b\b\b\b\b\b\b\b\b\b\b\b\b\b\b\b\b\b\b\b\b\b\b\b\b\b\b\b\b\b\b\b\b\b\b\b\b\b\b\b\b\b\b\b\b\b\b\b\b\b\b\b\b\b\b\b\b\b\b\b\b\b\b\b\b\b\b\b\b\b\b\b\r780\/989 [======================>.......] - ETA: 0s - loss: 0.2811 - auc: 0.8859\b\b\b\b\b\b\b\b\b\b\b\b\b\b\b\b\b\b\b\b\b\b\b\b\b\b\b\b\b\b\b\b\b\b\b\b\b\b\b\b\b\b\b\b\b\b\b\b\b\b\b\b\b\b\b\b\b\b\b\b\b\b\b\b\b\b\b\b\b\b\b\b\b\b\b\b\b\b\b\r811\/989 [=======================>......] - ETA: 0s - loss: 0.2816 - auc: 0.8857\b\b\b\b\b\b\b\b\b\b\b\b\b\b\b\b\b\b\b\b\b\b\b\b\b\b\b\b\b\b\b\b\b\b\b\b\b\b\b\b\b\b\b\b\b\b\b\b\b\b\b\b\b\b\b\b\b\b\b\b\b\b\b\b\b\b\b\b\b\b\b\b\b\b\b\b\b\b\b\r844\/989 [========================>.....] - ETA: 0s - loss: 0.2818 - auc: 0.8850\b\b\b\b\b\b\b\b\b\b\b\b\b\b\b\b\b\b\b\b\b\b\b\b\b\b\b\b\b\b\b\b\b\b\b\b\b\b\b\b\b\b\b\b\b\b\b\b\b\b\b\b\b\b\b\b\b\b\b\b\b\b\b\b\b\b\b\b\b\b\b\b\b\b\b\b\b\b\b\r875\/989 [=========================>....] - ETA: 0s - loss: 0.2812 - auc: 0.8856\b\b\b\b\b\b\b\b\b\b\b\b\b\b\b\b\b\b\b\b\b\b\b\b\b\b\b\b\b\b\b\b\b\b\b\b\b\b\b\b\b\b\b\b\b\b\b\b\b\b\b\b\b\b\b\b\b\b\b\b\b\b\b\b\b\b\b\b\b\b\b\b\b\b\b\b\b\b\b\r907\/989 [==========================>...] - ETA: 0s - loss: 0.2805 - auc: 0.8862\b\b\b\b\b\b\b\b\b\b\b\b\b\b\b\b\b\b\b\b\b\b\b\b\b\b\b\b\b\b\b\b\b\b\b\b\b\b\b\b\b\b\b\b\b\b\b\b\b\b\b\b\b\b\b\b\b\b\b\b\b\b\b\b\b\b\b\b\b\b\b\b\b\b\b\b\b\b\b\r938\/989 [===========================>..] - ETA: 0s - loss: 0.2810 - auc: 0.8859\b\b\b\b\b\b\b\b\b\b\b\b\b\b\b\b\b\b\b\b\b\b\b\b\b\b\b\b\b\b\b\b\b\b\b\b\b\b\b\b\b\b\b\b\b\b\b\b\b\b\b\b\b\b\b\b\b\b\b\b\b\b\b\b\b\b\b\b\b\b\b\b\b\b\b\b\b\b\b\r970\/989 [============================>.] - ETA: 0s - loss: 0.2811 - auc: 0.8858\b\b\b\b\b\b\b\b\b\b\b\b\b\b\b\b\b\b\b\b\b\b\b\b\b\b\b\b\b\b\b\b\b\b\b\b\b\b\b\b\b\b\b\b\b\b\b\b\b\b\b\b\b\b\b\b\b\b\b\b\b\b\b\b\b\b\b\b\b\b\b\b\b\b\b\b\b\b\b\r989\/989 [==============================] - 2s 2ms\/step - loss: 0.2815 - auc: 0.8857 - val_loss: 0.2831 - val_auc: 0.8864\n"
     ],
     "output_type":"stream"
    },
    {
     "data":{
      "text\/plain":[
       "<keras.callbacks.History at 0x7fea13723790>"
      ]
     },
     "metadata":{
      
     },
     "output_type":"display_data"
    }
   ],
   "metadata":{
    "datalore":{
     "node_id":"NnRbaLzvRsN0UNvpyfLDfR",
     "type":"CODE",
     "hide_input_from_viewers":false,
     "hide_output_from_viewers":false,
     "report_properties":{
      "rowId":"qgbn4qSlO9LR7gE2xqBcuS"
     }
    }
   }
  },
  {
   "cell_type":"code",
   "source":[
    
   ],
   "execution_count":0,
   "outputs":[
    
   ],
   "metadata":{
    "datalore":{
     "node_id":"UYAGqRbS5TlLC66lqypkIh",
     "type":"CODE",
     "hide_input_from_viewers":false,
     "hide_output_from_viewers":false,
     "report_properties":{
      "rowId":"GAvJBE9nkvYPEWnrgqoxC3"
     }
    }
   }
  },
  {
   "cell_type":"markdown",
   "source":[
    "**TASK: OPTIONAL: Save your model.**"
   ],
   "attachments":{
    
   },
   "metadata":{
    "datalore":{
     "node_id":"6z1ONot5T7U6cI6E2xTc05",
     "type":"MD",
     "hide_input_from_viewers":false,
     "hide_output_from_viewers":false,
     "report_properties":{
      "rowId":"jYfBBSkscbecRBUrvkEuLg"
     }
    }
   }
  },
  {
   "cell_type":"code",
   "source":[
    "from tensorflow.keras.models import load_model"
   ],
   "execution_count":89,
   "outputs":[
    
   ],
   "metadata":{
    "datalore":{
     "node_id":"htMHweNij2rN4DSdHyJQ4q",
     "type":"CODE",
     "hide_input_from_viewers":false,
     "hide_output_from_viewers":false,
     "report_properties":{
      "rowId":"wHeH1ja0WHH8j7iFu2UTrS"
     }
    }
   }
  },
  {
   "cell_type":"code",
   "source":[
    "model.save('my_model.h5')"
   ],
   "execution_count":90,
   "outputs":[
    
   ],
   "metadata":{
    "datalore":{
     "node_id":"ZgUTRAXNMxpexluntdR6rV",
     "type":"CODE",
     "hide_input_from_viewers":true,
     "hide_output_from_viewers":true
    }
   }
  },
  {
   "cell_type":"markdown",
   "source":[
    "# Section 3: Evaluating Model Performance.\n",
    "\n",
    "**TASK: Plot out the validation loss versus the training loss.**"
   ],
   "attachments":{
    
   },
   "metadata":{
    "datalore":{
     "node_id":"66B8kV9Cimz7OBL6BLGM1k",
     "type":"MD",
     "hide_input_from_viewers":false,
     "hide_output_from_viewers":false,
     "report_properties":{
      "rowId":"C4FjcAPxaYWMVpX2gttnPr"
     }
    }
   }
  },
  {
   "cell_type":"code",
   "source":[
    "model_loss = pd.DataFrame(model.history.history['val_loss'])\n",
    "model_loss.plot()"
   ],
   "execution_count":91,
   "outputs":[
    {
     "data":{
      "text\/plain":[
       "<Axes: >"
      ]
     },
     "metadata":{
      
     },
     "output_type":"display_data"
    },
    {
     "data":{
      "image\/png":"[encoded data removed]"
     },
     "metadata":{
      "image\/png":{
       
      }
     },
     "output_type":"display_data"
    }
   ],
   "metadata":{
    "datalore":{
     "node_id":"cIqgldLumsPTFyXLuH7G8B",
     "type":"CODE",
     "hide_input_from_viewers":false,
     "hide_output_from_viewers":false,
     "report_properties":{
      "rowId":"iZdXAVSXqClwGaFAL4AAzF"
     }
    }
   }
  },
  {
   "cell_type":"code",
   "source":[
    
   ],
   "execution_count":0,
   "outputs":[
    
   ],
   "metadata":{
    "datalore":{
     "node_id":"0XzT6r3ByuY52Zh6YtAuvG",
     "type":"CODE",
     "hide_input_from_viewers":false,
     "hide_output_from_viewers":false,
     "report_properties":{
      "rowId":"BNvqxUWnFMCr8gXP4BggWm"
     }
    }
   }
  },
  {
   "cell_type":"markdown",
   "source":[
    "**TASK: Create predictions from the X_test set and display a classification report and confusion matrix for the X_test set.**"
   ],
   "attachments":{
    
   },
   "metadata":{
    "datalore":{
     "node_id":"5kFCPEbiSPuE5SX0be0LSb",
     "type":"MD",
     "hide_input_from_viewers":false,
     "hide_output_from_viewers":false,
     "report_properties":{
      "rowId":"kvEHNJ9o9rwrSSfHUevYIt"
     }
    }
   }
  },
  {
   "cell_type":"code",
   "source":[
    "y_pred = model.predict(X_test_scaled)"
   ],
   "execution_count":92,
   "outputs":[
    {
     "name":"stdout",
     "text":[
      "\r  1\/248 [..............................] - ETA: 25s\b\b\b\b\b\b\b\b\b\b\b\b\b\b\b\b\b\b\b\b\b\b\b\b\b\b\b\b\b\b\b\b\b\b\b\b\b\b\b\b\b\b\b\b\b\b\b\b\b\b\b\r 49\/248 [====>.........................] - ETA: 0s \b\b\b\b\b\b\b\b\b\b\b\b\b\b\b\b\b\b\b\b\b\b\b\b\b\b\b\b\b\b\b\b\b\b\b\b\b\b\b\b\b\b\b\b\b\b\b\b\b\b\r 96\/248 [==========>...................] - ETA: 0s\b\b\b\b\b\b\b\b\b\b\b\b\b\b\b\b\b\b\b\b\b\b\b\b\b\b\b\b\b\b\b\b\b\b\b\b\b\b\b\b\b\b\b\b\b\b\b\b\b\b\r145\/248 [================>.............] - ETA: 0s\b\b\b\b\b\b\b\b\b\b\b\b\b\b\b\b\b\b\b\b\b\b\b\b\b\b\b\b\b\b\b\b\b\b\b\b\b\b\b\b\b\b\b\b\b\b\b\b\b\b\r192\/248 [======================>.......] - ETA: 0s\b\b\b\b\b\b\b\b\b\b\b\b\b\b\b\b\b\b\b\b\b\b\b\b\b\b\b\b\b\b\b\b\b\b\b\b\b\b\b\b\b\b\b\b\b\b\b\b\b\b\r241\/248 [============================>.] - ETA: 0s\b\b\b\b\b\b\b\b\b\b\b\b\b\b\b\b\b\b\b\b\b\b\b\b\b\b\b\b\b\b\b\b\b\b\b\b\b\b\b\b\b\b\b\b\b\b\b\b\b\b\r248\/248 [==============================] - 0s 1ms\/step\n"
     ],
     "output_type":"stream"
    }
   ],
   "metadata":{
    "datalore":{
     "node_id":"sy2JtyVH2ZuK0qVjUDSRJU",
     "type":"CODE",
     "hide_input_from_viewers":false,
     "hide_output_from_viewers":false,
     "report_properties":{
      "rowId":"439EKUzwQDqqNDAzfRgEul"
     }
    }
   }
  },
  {
   "cell_type":"code",
   "source":[
    "# model.predict_classes is no longer supported, therefore I wrode the code below\n",
    "y_pred[y_pred <= 0.5] = 0.\n",
    "y_pred[y_pred > 0.5] = 1."
   ],
   "execution_count":93,
   "outputs":[
    
   ],
   "metadata":{
    "datalore":{
     "node_id":"M8ESndq57L7HB9uRyexdf2",
     "type":"CODE",
     "hide_input_from_viewers":true,
     "hide_output_from_viewers":true
    }
   }
  },
  {
   "cell_type":"code",
   "source":[
    "from sklearn.metrics import classification_report, confusion_matrix"
   ],
   "execution_count":94,
   "outputs":[
    
   ],
   "metadata":{
    "datalore":{
     "node_id":"wJvIXa3DtnKd7DDQl3PYFp",
     "type":"CODE",
     "hide_input_from_viewers":true,
     "hide_output_from_viewers":true
    }
   }
  },
  {
   "cell_type":"code",
   "source":[
    "print(classification_report(y_test, y_pred))"
   ],
   "execution_count":95,
   "outputs":[
    {
     "name":"stdout",
     "text":[
      "              precision    recall  f1-score   support\n",
      "\n",
      "           0       0.99      0.42      0.59      1570\n",
      "           1       0.87      1.00      0.93      6335\n",
      "\n",
      "    accuracy                           0.88      7905\n",
      "   macro avg       0.93      0.71      0.76      7905\n",
      "weighted avg       0.90      0.88      0.86      7905\n",
      "\n"
     ],
     "output_type":"stream"
    }
   ],
   "metadata":{
    "datalore":{
     "node_id":"lLZQepZ74fiW1m6qdpp9Nh",
     "type":"CODE",
     "hide_input_from_viewers":true,
     "hide_output_from_viewers":true
    }
   }
  },
  {
   "cell_type":"code",
   "source":[
    "print(confusion_matrix(y_test, y_pred))"
   ],
   "execution_count":96,
   "outputs":[
    {
     "name":"stdout",
     "text":[
      "[[ 657  913]\n",
      " [   6 6329]]\n"
     ],
     "output_type":"stream"
    }
   ],
   "metadata":{
    "datalore":{
     "node_id":"YwPfcQMT5VqjOg9nxB04Ea",
     "type":"CODE",
     "hide_input_from_viewers":false,
     "hide_output_from_viewers":false,
     "report_properties":{
      "rowId":"SI9gjYiZlLraD7XHMxDRgP"
     }
    }
   }
  },
  {
   "cell_type":"markdown",
   "source":[
    "**TASK: Given the customer below, would you offer this person a loan?**"
   ],
   "attachments":{
    
   },
   "metadata":{
    "datalore":{
     "node_id":"3DH0vs8LK3BVPnq27Z7gkb",
     "type":"MD",
     "hide_input_from_viewers":false,
     "hide_output_from_viewers":false,
     "report_properties":{
      "rowId":"nvb2CD9Y4CZ04C4RGQCDqU"
     }
    }
   }
  },
  {
   "cell_type":"code",
   "source":[
    "import random\n",
    "random.seed(101)\n",
    "random_ind = random.randint(0,len(df))\n",
    "\n",
    "new_customer = df.drop('loan_repaid',axis=1).iloc[random_ind]\n",
    "new_customer = new_customer.values.reshape(1,78)\n",
    "new_customer"
   ],
   "execution_count":97,
   "outputs":[
    {
     "data":{
      "text\/html":[
       "<pre>array([[25000.0, 60, 18.24, 638.11, 61665.0, 30.11, 16.0, 0.0, 27778.0,\n",
       "        65.5, 46.0, 0.0, 0.0, 0, 0, 0, 0, 0, 0, 0, 0, 0, 0, 0, 0, 0, 0,\n",
       "        0, 0, 0, 0, 1, 0, 0, 0, 0, 0, 0, 0, 0, 0, 0, 0, 0, 0, 0, 0, 0, 1,\n",
       "        1, 0, 0, 0, 1, 0, 0, 0, 0, 0, 0, 0, 0, 0, 0, 0, 0, 0, 1, 0, 0, 0,\n",
       "        0, 1, 0, 0, 0, 0, '1996']], dtype=object)<\/pre>"
      ]
     },
     "metadata":{
      
     },
     "output_type":"display_data"
    }
   ],
   "metadata":{
    "datalore":{
     "node_id":"g01RlrniZ9W9XHTLRfuF1k",
     "type":"CODE",
     "hide_input_from_viewers":false,
     "hide_output_from_viewers":false,
     "report_properties":{
      "rowId":"5TIBry67PNOr7ND6Er4YZP"
     }
    }
   }
  },
  {
   "cell_type":"code",
   "source":[
    "new_customer_scaled = scaler.transform(new_customer)"
   ],
   "execution_count":98,
   "outputs":[
    
   ],
   "metadata":{
    "datalore":{
     "node_id":"4W8BR1GQJafeheT8yeaVWC",
     "type":"CODE",
     "hide_input_from_viewers":true,
     "hide_output_from_viewers":true
    }
   }
  },
  {
   "cell_type":"code",
   "source":[
    "new_customer_prediction = model.predict(new_customer_scaled)\n",
    "new_customer_prediction[new_customer_prediction <= 0.5] = 0.\n",
    "new_customer_prediction[new_customer_prediction > 0.5] = 1.\n",
    "new_customer_prediction"
   ],
   "execution_count":99,
   "outputs":[
    {
     "name":"stdout",
     "text":[
      "\r1\/1 [==============================] - ETA: 0s\b\b\b\b\b\b\b\b\b\b\b\b\b\b\b\b\b\b\b\b\b\b\b\b\b\b\b\b\b\b\b\b\b\b\b\b\b\b\b\b\b\b\b\b\b\b\r1\/1 [==============================] - 0s 21ms\/step\n"
     ],
     "output_type":"stream"
    },
    {
     "data":{
      "text\/html":[
       "<pre>array([[1.]], dtype=float32)<\/pre>"
      ]
     },
     "metadata":{
      
     },
     "output_type":"display_data"
    }
   ],
   "metadata":{
    "datalore":{
     "node_id":"Q8YJEaqmwt51UA2CWTZ7PK",
     "type":"CODE",
     "hide_input_from_viewers":false,
     "hide_output_from_viewers":false,
     "report_properties":{
      "rowId":"JND6Fwsp86Sj06P6HbcnUx"
     }
    }
   }
  },
  {
   "cell_type":"markdown",
   "source":[
    "**TASK: Now check, did this person actually end up paying back their loan?**"
   ],
   "attachments":{
    
   },
   "metadata":{
    "datalore":{
     "node_id":"52mvqTlTHwcoyVVkaiNRyF",
     "type":"MD",
     "hide_input_from_viewers":false,
     "hide_output_from_viewers":false,
     "report_properties":{
      "rowId":"Vq4fk8gIvotsKncqJC1TQq"
     }
    }
   }
  },
  {
   "cell_type":"code",
   "source":[
    "# Result 1.0 mean the loan was fully paid"
   ],
   "execution_count":100,
   "outputs":[
    
   ],
   "metadata":{
    "datalore":{
     "node_id":"cYgH7o51kmCokKfE83KMS5",
     "type":"CODE",
     "hide_input_from_viewers":false,
     "hide_output_from_viewers":false,
     "report_properties":{
      "rowId":"vZNyNrXKA1Vy9J34gqVfGV"
     }
    }
   }
  },
  {
   "cell_type":"markdown",
   "source":[
    "# GREAT JOB!"
   ],
   "attachments":{
    
   },
   "metadata":{
    "datalore":{
     "node_id":"sLF09Y8x71v3eFiniFBV93",
     "type":"MD",
     "hide_input_from_viewers":false,
     "hide_output_from_viewers":false,
     "report_properties":{
      "rowId":"yTndoHmdKufoJRisTmgw42"
     }
    }
   }
  }
 ],
 "metadata":{
  "kernelspec":{
   "display_name":"Python",
   "language":"python",
   "name":"python"
  },
  "datalore":{
   "computation_mode":"JUPYTER",
   "package_manager":"pip",
   "base_environment":"default",
   "packages":[
    
   ],
   "report_row_ids":[
    "qTY5tUKDlr18I5Db74HkSh",
    "9NDuJiLQ2zLJFeNjALM0t0",
    "PyriTMDwr6rXis3Od0PQVF",
    "QRKJjzsYPMK2YjsP9M9Mde",
    "ScVjBQcPT9TwTiWIWf9E2X",
    "kI7Jx5KLI4hcydlBRYDCT2",
    "r7TWxZ6FY04F0hTA4mxouN",
    "KOJsheX9adRQuHeVsUn7b9",
    "0q93mzA5TMhBcY1sEVmTq7",
    "vyBjPEdT6bMDueOsceXkAK",
    "xCy1QgAw94o7e9jVLGX35l",
    "SyVb9WZyQqC91NjZqFjrug",
    "azEfGTyX2F4MGweFVgtFBj",
    "rG3IZkWz1kmy4c0mX644Jp",
    "snmKxIRsd3d6RC7D1QHt0n",
    "OiOT56jmJSjlE2EN7S7yub",
    "TVhS7lAfuhvzJrCVPKV8Gf",
    "yeq8ipGRn1EF2sG6ZlZ25A",
    "IMgnPVefH3MOaduEeP8iI8",
    "doPpGNNn9awA57qLEEy9B3",
    "NLKF5qh8fKFvikObQeqN23",
    "lgddx74NBpbXCCESvqRHJe",
    "WIUnQwMo8XJjMp2fQa9bFk",
    "UC896hNC5oIvq3H6DpkQcQ",
    "rPdAzXqSjUSxpAnoJ2QTfw",
    "8Gb91GfclkJqyYo74lbLtq",
    "UrOMk4nIJmEs7xpztBDt1m",
    "Oa3Pe7yuhEQrWcMAtZs5X6",
    "7qBEzJXDVxTucMKcBt1863",
    "9euG4jhiN6Kk2phVEu2HLl",
    "l6DPBVz4blOOyOWKyN1zpF",
    "6nMJQMTBSO7xbMJhpfAEsg",
    "EO9TnV3GTR20yXrJIjt3mF",
    "MfodQg1wjgGBrMnwZi9clQ",
    "JRIrg98yWIREmaAGSSUmyg",
    "jqE8UvjnGRcDvVuSE5mlMX",
    "8JAltxIX2Eqxi7ESfZh1v1",
    "CQYHAXiSUMFU8BzrVBkfRB",
    "YrrWGBQSRSrvMEntEp43Ls",
    "iDvtra0vK0G9PiutOaTNmv",
    "Z3Xxo5ovt56jsCvbFlcuhC",
    "1K6GOCq79LNlk2f9uFaZC6",
    "WoiiaCAz2I8GE5EUib1NZt",
    "k3oot1LLWRDLx167pCDTGe",
    "nRRKm7gFshubvdCe9e1LFY",
    "LvTQzKUWRmhRshp3f5HWUY",
    "Ma2UGA25Rjyw448gVppS8m",
    "a966C5kdUJbOBcKI38JexW",
    "tu7ynHf9YPCUfmnTDyzgrY",
    "n3OiLiu9PAX06g35pyoiCP",
    "d7MnsMBlyUJbBSY06ULOtd",
    "9hKZGqc5tqhl07XRu2hnfk",
    "V6HT13HBVuhXovaebeuBzd",
    "YUUYm5W4zuyuODncWyqJep",
    "SdYLgiwpnritZGeoKYLY4L",
    "dKRtRQekunDwA9Sly2xxir",
    "MJuMSaAKNEm8W1qBqzPPAI",
    "AkYa60vy9EiKfRwfYX3RRI",
    "s3QeP5wlj6OXNDNBY985uz",
    "ZflI3UXnnrauKgZXpjzaZJ",
    "nDtDMeYBw253IDsAG58ZRv",
    "UUU9mrPzTWeMgTdOu64wfh",
    "j62dA3RPNJdHx6jXQuCAHn",
    "LpfeP5oPNyq9tqmfdwnBoB",
    "3s4mtkiJt8rwOF0bKwLShJ",
    "IeW8qtVYPpnOi0OHLwprz0",
    "wHcRm1caoHgl9sQlGAw7Bx",
    "K0RsfgL1aPumGTPcOzAzSa",
    "0UHeHTuYmfizdk4Q0amWyv",
    "xFGnAi0rZZTv2gqouArb2v",
    "iRrgXKCO5bM5JQ01q3rars",
    "VOlDhfZ2Slrnb0NpVs639E",
    "4sHINhsWKZY1YEhntLwr5v",
    "9FHDbtePLGmHs0uEESCiOv",
    "kixyQpbcAmNZ7zzaTrySTq",
    "e1w5DTEe5kBlZDLltgQRBV",
    "Avp0DtI3fbh47dviCF05mv",
    "bE7jnfl4ERTKI1p22bW0D1",
    "2S1z2TQao9cwfPJqsfcMn0",
    "Dm4c1GzHZhkenrxRRMh5fp",
    "7P1xTsb1M6Hh1qE2FvfF6s",
    "E7x4xSYW9eV8rHIlRNCKsb",
    "Xp3p2x3qUCNblgYW5GKLkT",
    "3ixzlHXrC5209HbkXwnAIO",
    "qQLuGTuRnXxMHMZ9wJbtyQ",
    "tDnJRVpHl3pYFQrALk8tM6",
    "ST6sGyo6weQ9iPdp12LAie",
    "EFboWlA7OQ16H8IIXApusW",
    "33etTAOOY7bNHj4jGEyC9z",
    "asKQmzroueT813djDXaW0g",
    "ndVST2v0yzsUd9OPgyjqVS",
    "EQKPWbvmnk1p1ykGhzbDkz",
    "qCU6dOfpOCemCmn6z4PVm7",
    "iNlr322SFtna7zNrZqWDIM",
    "3UGvPx8avwbwvKMqqSvfKN",
    "yGiMbNRu0yPcaC76eD3smN",
    "mkZhAJLhrNvquuRvAJtGj2",
    "49agNyPXwrYcaMmiSV6uLs",
    "PW06x1MPzYL1AvybITA5eE",
    "aDZIzrkVKqp3BjwIp7JAcj",
    "4FzVgY6CWq5rfHHKRsNGOG",
    "VEiCXeIdxWTgpCGQz5BDv5",
    "6YS6N82z2iX4asO6BIQ1WR",
    "I3tYn5mzvsh9knpkeLscJj",
    "Zv2BDdKhOAqUMIU8n2baxu",
    "2WspSVC04ApjmOBcSB8ldd",
    "qdJhD0Ws2mmo0LxKcdnxUt",
    "IkiEe3hi55E0RB6gmEoEWV",
    "otAOIS30vTFyaNQ18BVabV",
    "ScP1buOJUAgd7IkW7LVr2z",
    "sb2lly31bLkiUxO5pju8EZ",
    "htSB8VQet5hslkMD8uBTdc",
    "tpCruMEOYwp1eNG0g95vN5",
    "UOIU1C9Y8J38Ab93hb3Wzl",
    "tDWn1jipLBByh4gulbsVe9",
    "47retd9M4Qx9cCsBHPWlRx",
    "XXsDkTAQl1Y1724DT5VwjV",
    "UIHRCdrZG4nppac9JYGJlY",
    "DFbJJZiyNbBEIcCsIzq31T",
    "kL20rt1OW335xqmTCUkr2z",
    "ZUECkkHcoGZGJmCGmdHmA3",
    "1owIdYtmPmuUbEA9N20Brk",
    "hYZI41OI4xgCA4FNVjO1d1",
    "XoOBFVpb3xVayXrXLjU9Ff",
    "V1VNYPy002hiIY3FXUFj4q",
    "vEuGPzG0lBzMZmMsrtJpSm",
    "ggR11r6nXMTC6qqzl302UX",
    "Cjjmmsw1Fn7VeoiYYVAYHc",
    "95j8XdlXzjG3nxGtUnh0bM",
    "FRCW7caHiL3RZGSG4dklmj",
    "eGbo078Vh1NOuiKfvSMCU6",
    "NDZoINsuk4ser8tLemmYhT",
    "ZbvNVnGQfrd7uJCvPAV8Ce",
    "STCeXm5c9iMBAPEnFzj6mS",
    "EXGsja1EinNv4v34ZbUM1g",
    "NnxBukXWchqb7ATtqrk8yy",
    "gtqoJ2r59d9dsalDUg3wLw",
    "GWgFqpZKmUBJcnnKmTTHXm",
    "OkUz8lbqyh6bUKQRxRy1U8",
    "T5jk7ctfYT5vC7v2rxYMVB",
    "qui2JotRGmfLTq0Z717L9Y",
    "TCmHu33pryBuEBjASjhgIX",
    "B7DqKkekmilEhzpI9jDLvC",
    "hfdriWgCaxI44DpGWX4LMc",
    "73RlL8yY6mKhj7CkUc4s62",
    "hoD509Fi8JymvM1UNMyEd3",
    "shHCec7SBMfnA7QbnnoPIY",
    "jIlNCe0cDm7uik9MkYx3sV",
    "6NwcTzhOOfpGGQ18Q1mm9K",
    "FqxbuPbknpJMBrrFyMZ2r1",
    "OzVcoWjmgcMB3X5Nmxd4VI",
    "mB22KJRw1GRWAfMX99x1mr",
    "4B9Hx3XJAjkHepOFzmDutB",
    "jLpnrOeR8aXJaFaDotIuXX",
    "NyO0sc7pQcQEJrAPb07drT",
    "IBAUV8Q2vOYDo5PtUeMzhR",
    "qE9Eu3bWeqXJyoUHxhBQsG",
    "DvGSePATupEN8YZtFuaT9h",
    "vjZrWCJolVAj2yqGsTddLh",
    "4LxkTLTWqXs5XfpmiQxCuj",
    "4Eeo8YbbKNz3sdfW7EuCvy",
    "CIXRLPLJ7XzA5ltrA2llhU",
    "qgbn4qSlO9LR7gE2xqBcuS",
    "GAvJBE9nkvYPEWnrgqoxC3",
    "jYfBBSkscbecRBUrvkEuLg",
    "wHeH1ja0WHH8j7iFu2UTrS",
    "C4FjcAPxaYWMVpX2gttnPr",
    "iZdXAVSXqClwGaFAL4AAzF",
    "BNvqxUWnFMCr8gXP4BggWm",
    "kvEHNJ9o9rwrSSfHUevYIt",
    "439EKUzwQDqqNDAzfRgEul",
    "SI9gjYiZlLraD7XHMxDRgP",
    "kyBmKcgAPnG2RePRQn6IIQ",
    "nvb2CD9Y4CZ04C4RGQCDqU",
    "5TIBry67PNOr7ND6Er4YZP",
    "KK0A4nvM60JCPPClLaSkrX",
    "JND6Fwsp86Sj06P6HbcnUx",
    "Vq4fk8gIvotsKncqJC1TQq",
    "vZNyNrXKA1Vy9J34gqVfGV",
    "UdmVtvRkaQAx0Ca9Dzb8U5",
    "yTndoHmdKufoJRisTmgw42"
   ],
   "version":3
  }
 },
 "nbformat":4,
 "nbformat_minor":4
}